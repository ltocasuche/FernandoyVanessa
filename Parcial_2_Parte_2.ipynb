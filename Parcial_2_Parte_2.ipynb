{
  "nbformat": 4,
  "nbformat_minor": 0,
  "metadata": {
    "colab": {
      "provenance": [],
      "authorship_tag": "ABX9TyPPi3G9aHptxHuunG7Dle4j",
      "include_colab_link": true
    },
    "kernelspec": {
      "name": "python3",
      "display_name": "Python 3"
    },
    "language_info": {
      "name": "python"
    }
  },
  "cells": [
    {
      "cell_type": "markdown",
      "metadata": {
        "id": "view-in-github",
        "colab_type": "text"
      },
      "source": [
        "<a href=\"https://colab.research.google.com/github/ltocasuche/Metodos1_Fernando_Bareno_Y_Laura_Tocasuche/blob/main/Parcial_2_Parte_2.ipynb\" target=\"_parent\"><img src=\"https://colab.research.google.com/assets/colab-badge.svg\" alt=\"Open In Colab\"/></a>"
      ]
    },
    {
      "cell_type": "code",
      "source": [
        "import numpy as np\n",
        "import matplotlib.pyplot as plt"
      ],
      "metadata": {
        "id": "2MG1yuSfcCt0"
      },
      "execution_count": null,
      "outputs": []
    },
    {
      "cell_type": "markdown",
      "source": [
        "26. Considera la función $f(x) = x^3$ en el intervalo $[0,2]$. Utiliza la suma de Riemann con $n$ subintervalos para apoximar la integral de $f(x)$ en este intervalo.\n",
        "\n",
        "$$\n",
        "  \\int^{2}_{0} x^3 dx\n",
        "$$"
      ],
      "metadata": {
        "id": "RfxC5ggGMKUP"
      }
    },
    {
      "cell_type": "markdown",
      "source": [
        "(a) (**teórico**) Calcule el ancho de cada subintervalo $(\\Delta x = \\frac{b-a}{n})$"
      ],
      "metadata": {
        "id": "IVoD3gweSKat"
      }
    },
    {
      "cell_type": "markdown",
      "source": [
        "La suma de Riemann se construye como la suma de los cuadrados formados con base en los subintervalos de una partición uniforme, esto quiere decir que el intervalo se divide en $n$ partes iguales. El tamaño de cada intervalo $\\Delta x$ es el mismo y se puede calcular como la longitud del intervalo $\\ell = b-a$ sobre el numero de subintervalos de la partición: $\\Delta x = \\frac{\\ell}{n} = \\frac{b-a}{n}$"
      ],
      "metadata": {
        "id": "iBePHlpj4J_X"
      }
    },
    {
      "cell_type": "code",
      "source": [
        "def delta_x(a, b, n=10):\n",
        "    return (b - a) / n"
      ],
      "metadata": {
        "id": "S5gMGf9OagHv"
      },
      "execution_count": null,
      "outputs": []
    },
    {
      "cell_type": "code",
      "source": [
        "delta_x(0, 2)"
      ],
      "metadata": {
        "colab": {
          "base_uri": "https://localhost:8080/"
        },
        "id": "Ot-Td6JzbgfA",
        "outputId": "759fd207-7d91-44cb-c0e3-04f0313739ae"
      },
      "execution_count": null,
      "outputs": [
        {
          "output_type": "execute_result",
          "data": {
            "text/plain": [
              "0.2"
            ]
          },
          "metadata": {},
          "execution_count": 5
        }
      ]
    },
    {
      "cell_type": "markdown",
      "source": [
        "(b) Escriba los valores nodales $x_i = a + i\\Delta x$ para $i = 0,1,2,\\ldots,n-1$, que dividen el intervalo $[0,2]$"
      ],
      "metadata": {
        "id": "YxFSM-JaSitE"
      }
    },
    {
      "cell_type": "code",
      "source": [
        "def nodal_values (a, b, n=10):\n",
        "    delta_x_ = delta_x(a, b, n)\n",
        "    x_i = np.array([a + i * delta_x_ for i in range(n)])\n",
        "    return x_i"
      ],
      "metadata": {
        "id": "cCNkxPG9b323"
      },
      "execution_count": null,
      "outputs": []
    },
    {
      "cell_type": "code",
      "source": [
        "nodal_values(0, 2)"
      ],
      "metadata": {
        "colab": {
          "base_uri": "https://localhost:8080/"
        },
        "id": "rsaOzbQ9cQFg",
        "outputId": "10950d18-0e93-4eff-e341-34079674c3c0"
      },
      "execution_count": null,
      "outputs": [
        {
          "output_type": "execute_result",
          "data": {
            "text/plain": [
              "array([0. , 0.2, 0.4, 0.6, 0.8, 1. , 1.2, 1.4, 1.6, 1.8])"
            ]
          },
          "metadata": {},
          "execution_count": 7
        }
      ]
    },
    {
      "cell_type": "markdown",
      "source": [
        "(c) Escriba los valores de la funcion $f(x_i) = x_i^3$ en los puntos nodales obtenidos en el apartado (b)."
      ],
      "metadata": {
        "id": "inU1kCHpT6TU"
      }
    },
    {
      "cell_type": "code",
      "source": [
        "def f_nodal_values(x_i):\n",
        "    return x_i ** 3"
      ],
      "metadata": {
        "id": "s9DmXGD5co0V"
      },
      "execution_count": null,
      "outputs": []
    },
    {
      "cell_type": "code",
      "source": [
        "f_nodal_values(nodal_values(0, 2))"
      ],
      "metadata": {
        "colab": {
          "base_uri": "https://localhost:8080/"
        },
        "id": "AcmnaqxBctSR",
        "outputId": "10d52c94-b6e3-4abd-e1d7-205fc704c68a"
      },
      "execution_count": null,
      "outputs": [
        {
          "output_type": "execute_result",
          "data": {
            "text/plain": [
              "array([0.   , 0.008, 0.064, 0.216, 0.512, 1.   , 1.728, 2.744, 4.096,\n",
              "       5.832])"
            ]
          },
          "metadata": {},
          "execution_count": 9
        }
      ]
    },
    {
      "cell_type": "markdown",
      "source": [
        "(d) Muestre que la suma de Riemann es:\n",
        "\n",
        "$$\n",
        "  I \\approx \\sum_{i=0}^{n-1} f(x_i)\\Delta x = 4(1-\\frac{2}{n} + \\frac{1}{n^2})\n",
        "$$\n",
        "\n",
        "La siguiente suma es útil:\n",
        "\n",
        "$$\n",
        "  \\sum_{i=0}^{n-1} i^3 = \\frac{ (n(n-1))^2 }{4}\n",
        "$$"
      ],
      "metadata": {
        "id": "6lrQA-EdUHdc"
      }
    },
    {
      "cell_type": "markdown",
      "source": [
        "Demostracion algebraica:\n",
        "\\begin{equation}\n",
        "\\begin{split}\n",
        "  \\sum_{i=0}^{n-1} f(x_i)\\Delta x &= \\sum_{i=0}^{n-1} (a + i\\Delta x)^3\\Delta x\\\\\n",
        "  &= \\sum_{i=0}^{n-1} (a^3 + 3a^2 i\\Delta x + 3a i^2\\Delta x^2 + i^3\\Delta x^3)\\Delta x\\\\\n",
        "  para: a = 0, b = 2, \\Delta x = \\frac{b-a}{n} = \\frac{2}{n}\\\\\n",
        "  &= \\sum_{i=0}^{n-1} i^3 \\left( \\frac{2}{n} \\right)^4\\\\\n",
        "  &= \\frac{16}{n^4}\\sum_{i=0}^{n-1} i^3\\\\\n",
        "  &=\\frac{16}{n^4} \\frac{ (n(n-1))^2 }{4}\\\\\n",
        "  &=\\frac{4(n-1)^2}{n^2}\\\\\n",
        "  &=\\frac{4(n^2 - 2n + 1)}{n^2}\\\\\n",
        "  \\sum_{i=0}^{n-1} f(x_i)\\Delta x &= 4( 1 - \\frac{2}{n} + \\frac{1}{n^2})\n",
        "\\end{split}\n",
        "\\end{equation}"
      ],
      "metadata": {
        "id": "X-IgIzaekiZf"
      }
    },
    {
      "cell_type": "code",
      "source": [
        "def int_sumatoria(a=0, b=2, n=10):\n",
        "    return (f_nodal_values(nodal_values(a, b, n)) * delta_x(a, b, n)).sum()"
      ],
      "metadata": {
        "id": "_BNqfiaAybZh"
      },
      "execution_count": null,
      "outputs": []
    },
    {
      "cell_type": "code",
      "source": [
        "def int_ecuacion (n=10):\n",
        "    return 4 * (1 - 2/n + 1/n**2)"
      ],
      "metadata": {
        "id": "3anm9vfiyQfH"
      },
      "execution_count": null,
      "outputs": []
    },
    {
      "cell_type": "markdown",
      "source": [
        "(e) **(computacional)** Escriba un código para encontrar la aproximación de la integral para $n = 30$."
      ],
      "metadata": {
        "id": "cXtVBMry7069"
      }
    },
    {
      "cell_type": "code",
      "source": [
        "# Demostración numérica:\n",
        "\n",
        "def suma_riemann (n=10):\n",
        "    int_real = 4 # x^4 /4|0,2 = (2)^4 /4 - (0)^4 /4 = 4\n",
        "    int_suma = np.zeros(n)\n",
        "    int_calculada = np.zeros(n)\n",
        "    for i in range(1,n):\n",
        "        int_suma[i] = int_sumatoria(n=i)\n",
        "        int_calculada[i] = int_ecuacion(n=i)\n",
        "    plt.plot(int_suma, color = 'r', label = \"Suma de Riemann por iteración\")\n",
        "    plt.plot(int_calculada, color = 'b', linestyle = (0,(5,5)), label = \"Suma de Riemann con ecuación\")\n",
        "    plt.axhline(int_real, color = \"g\", linewidth = 1, linestyle = \"dashed\", label = \"Valor Real de la Itegral\");\n",
        "    plt.legend()\n",
        "    plt.xlabel('Limite de la sumatoria (n)')\n",
        "    plt.ylabel('Valor de la integral (I)')\n",
        "    return int_suma[-1], int_calculada[-1], int_real"
      ],
      "metadata": {
        "id": "16J_4LKNr-qG"
      },
      "execution_count": null,
      "outputs": []
    },
    {
      "cell_type": "code",
      "source": [
        "suma_riemann(30)"
      ],
      "metadata": {
        "colab": {
          "base_uri": "https://localhost:8080/",
          "height": 467
        },
        "id": "pfJDzsklw2j6",
        "outputId": "4f930b89-a8f9-4fc5-83e4-d0b17f9d27ff"
      },
      "execution_count": null,
      "outputs": [
        {
          "output_type": "execute_result",
          "data": {
            "text/plain": [
              "(3.728894173602854, 3.728894173602854, 4)"
            ]
          },
          "metadata": {},
          "execution_count": 13
        },
        {
          "output_type": "display_data",
          "data": {
            "text/plain": [
              "<Figure size 640x480 with 1 Axes>"
            ],
            "image/png": "[encoded data removed]"
          },
          "metadata": {}
        }
      ]
    },
    {
      "cell_type": "markdown",
      "source": [
        "(f) Dibuje el error de la estimación $\\epsilon = |I_{exacta} - I_{estimada}|$ como unafunción de $n$. Use un array *np.linspace(30,400,100, endpoint = False)*."
      ],
      "metadata": {
        "id": "cENKmKLa8Kpo"
      }
    },
    {
      "cell_type": "code",
      "source": [
        "def graf_error ():\n",
        "    n = np.linspace(30,400,100, endpoint = False)\n",
        "    error = np.zeros_like(n)\n",
        "    for i in range(len(n)):\n",
        "        error[i] = np.abs(4 - int_ecuacion(n=i+1))\n",
        "    plt.plot(n, error)\n",
        "    plt.xlabel('Limite de la sumatoria (n)')\n",
        "    plt.ylabel('Error (ϵ)')\n",
        "    return error[-1]\n"
      ],
      "metadata": {
        "id": "8FRk1qou8KQ5"
      },
      "execution_count": null,
      "outputs": []
    },
    {
      "cell_type": "code",
      "source": [
        "graf_error()"
      ],
      "metadata": {
        "colab": {
          "base_uri": "https://localhost:8080/",
          "height": 467
        },
        "id": "1J8mTYXy9cte",
        "outputId": "58eafc86-da55-48cf-b4b6-4b1fb53ac73a"
      },
      "execution_count": null,
      "outputs": [
        {
          "output_type": "execute_result",
          "data": {
            "text/plain": [
              "0.07960000000000012"
            ]
          },
          "metadata": {},
          "execution_count": 15
        },
        {
          "output_type": "display_data",
          "data": {
            "text/plain": [
              "<Figure size 640x480 with 1 Axes>"
            ],
            "image/png": "[encoded data removed]"
          },
          "metadata": {}
        }
      ]
    },
    {
      "cell_type": "markdown",
      "source": [
        "(g) Es la suma de Riemann una buena estrategía para estimar integrales? Justifique su respuesta con lo aprendido en cuadratura de Gauss."
      ],
      "metadata": {
        "id": "HXWdJ4kpQFhZ"
      }
    },
    {
      "cell_type": "markdown",
      "source": [
        "No, la suma de Riemann es una mala estrategia puesto que si nos damos cuenta el error es del orden de $n$\n",
        "$$\n",
        "  \\epsilon = |I_{exacta} - I_{estimada}|; I_estimada \\propto n \\\\\n",
        "  \\Rightarrow \\epsilon \\propto n$\n",
        "$$"
      ],
      "metadata": {
        "id": "5smTqH3LQN02"
      }
    },
    {
      "cell_type": "markdown",
      "source": [
        "27. En este problema, va a encontrar la regla de cuadratura de 4 puntos usando la definición formal y la base polinomial canónica: $x^0, x^1, \\ldots, x^n$."
      ],
      "metadata": {
        "id": "vJw7ECTD-76Z"
      }
    },
    {
      "cell_type": "markdown",
      "source": [
        "(a) La definición de regla de cuadratura de Gauss está dada por:\n",
        "\n",
        "$$\n",
        "  \\int_{-1}^{1} x^k dx = \\sum_{i=0}^{3} w_i(x_i)^k,\\;\\;\\;\\; k = 0, 1, \\ldots, N\n",
        "$$\n",
        "\n",
        "Para la regla de 4 puntos, necesitamos $N = 8$ ecuaciones no-lienales para encontrar las 8 constantes.\n",
        "\n",
        "\\begin{equation}\n",
        "\\begin{split}\n",
        "  \\int_{-1}^{1} x^0 dx &= w_0 + w_1 + w_2 + w_3\\\\\n",
        "  \\int_{-1}^{1} x^1 dx &= w_0x_0 + w_1x_1 + w_2x_2 + w_3x_3\\\\\n",
        "  \\vdots \\;\\;\\;\\; &= \\;\\;\\;\\; \\vdots\n",
        "\\end{split}\n",
        "\\end{equation}\n",
        "\n",
        "Escriba las ocho ecuaciones e implemente usando la tupla usada en clase:"
      ],
      "metadata": {
        "id": "OKoguCJJ_Owz"
      }
    },
    {
      "cell_type": "code",
      "source": [
        "G=(lambda w_0,w_1,w_2,w_3,  x_0,x_1,x_2,x_3:    w_0*(x_0**0) + w_1*(x_1**0) + w_2*(x_2**0) + w_3*(x_3**0) - 2., \\\n",
        "   lambda w_0,w_1,w_2,w_3,  x_0,x_1,x_2,x_3:    w_0*(x_0**1) + w_1*(x_1**1) + w_2*(x_2**1) + w_3*(x_3**1) - 0., \\\n",
        "   lambda w_0,w_1,w_2,w_3,  x_0,x_1,x_2,x_3:    w_0*(x_0**2) + w_1*(x_1**2) + w_2*(x_2**2) + w_3*(x_3**2) - (2./3.), \\\n",
        "   lambda w_0,w_1,w_2,w_3,  x_0,x_1,x_2,x_3:    w_0*(x_0**3) + w_1*(x_1**3) + w_2*(x_2**3) + w_3*(x_3**3) - 0., \\\n",
        "   lambda w_0,w_1,w_2,w_3,  x_0,x_1,x_2,x_3:    w_0*(x_0**4) + w_1*(x_1**4) + w_2*(x_2**4) + w_3*(x_3**4) - (2./5.), \\\n",
        "   lambda w_0,w_1,w_2,w_3,  x_0,x_1,x_2,x_3:    w_0*(x_0**5) + w_1*(x_1**5) + w_2*(x_2**5) + w_3*(x_3**5) - 0., \\\n",
        "   lambda w_0,w_1,w_2,w_3,  x_0,x_1,x_2,x_3:    w_0*(x_0**6) + w_1*(x_1**6) + w_2*(x_2**6) + w_3*(x_3**6) - (2./7.), \\\n",
        "   lambda w_0,w_1,w_2,w_3,  x_0,x_1,x_2,x_3:    w_0*(x_0**7) + w_1*(x_1**7) + w_2*(x_2**7) + w_3*(x_3**7) - 0.)"
      ],
      "metadata": {
        "id": "l_KQMeRGBXxP"
      },
      "execution_count": null,
      "outputs": []
    },
    {
      "cell_type": "markdown",
      "source": [
        "(b) Modifique el código para que la función vectorial $\\vec{F}(x)$ reciba las ocho variables."
      ],
      "metadata": {
        "id": "iGeQicDIDaLj"
      }
    },
    {
      "cell_type": "code",
      "source": [
        "def F(G,*r):\n",
        "\n",
        "  n = len(G)\n",
        "  v = np.zeros_like(G)\n",
        "  for i in range(n):\n",
        "    v[i] = G[i](*r) # vector columna de funciones evaluadas\n",
        "\n",
        "  return v"
      ],
      "metadata": {
        "id": "QJrJp47_DZt6"
      },
      "execution_count": null,
      "outputs": []
    },
    {
      "cell_type": "code",
      "source": [
        "r =np.array([0,1,2,3,0,1,2,3])\n",
        "F(G,*r)"
      ],
      "metadata": {
        "colab": {
          "base_uri": "https://localhost:8080/"
        },
        "id": "YsWG-A_UQz08",
        "outputId": "1d5f38a1-0661-4601-8647-780da3874103"
      },
      "execution_count": null,
      "outputs": [
        {
          "output_type": "execute_result",
          "data": {
            "text/plain": [
              "array([6, 14, 36, 98, 276, 794, 2316, 6818], dtype=object)"
            ]
          },
          "metadata": {},
          "execution_count": 43
        }
      ]
    },
    {
      "cell_type": "markdown",
      "source": [
        "(c) Modifique el código para calcular las 64 componentes que definen el *Jacobiano*."
      ],
      "metadata": {
        "id": "VbAaXFBuUiGR"
      }
    },
    {
      "cell_type": "code",
      "source": [
        "def Jacobian(F, G, *r, h=1e-10):\n",
        "  n = len(r)\n",
        "  J = np.zeros((n,n))\n",
        "  for j in range(n):\n",
        "    ant = np.copy(r)\n",
        "    pos = np.copy(r)\n",
        "    ant[j] -= h\n",
        "    pos[j] += h\n",
        "    diff_parcial = (F(G, *pos) - F(G, *ant)) / (2 * h)\n",
        "    J[:,j] = diff_parcial\n",
        "  return J"
      ],
      "metadata": {
        "id": "mqByIxmoTaOV"
      },
      "execution_count": null,
      "outputs": []
    },
    {
      "cell_type": "code",
      "source": [
        "r =np.array([0,1,2,3,0,1,2,3])\n",
        "Jacobian(F,G,*r)"
      ],
      "metadata": {
        "colab": {
          "base_uri": "https://localhost:8080/"
        },
        "id": "bd8MUtqzagXq",
        "outputId": "e11c5855-da6e-441b-f250-fccc60d78460"
      },
      "execution_count": null,
      "outputs": [
        {
          "output_type": "execute_result",
          "data": {
            "text/plain": [
              "array([[0.0000e+00, 5.0000e+09, 5.0000e+09, 5.0000e+09, 0.0000e+00,\n",
              "        0.0000e+00, 0.0000e+00, 0.0000e+00],\n",
              "       [0.0000e+00, 5.0000e+09, 1.0000e+10, 1.5000e+10, 0.0000e+00,\n",
              "        5.0000e+09, 1.0000e+10, 1.5000e+10],\n",
              "       [0.0000e+00, 5.0000e+09, 2.0000e+10, 4.5000e+10, 0.0000e+00,\n",
              "        5.0000e+09, 3.0000e+10, 7.5000e+10],\n",
              "       [0.0000e+00, 5.0000e+09, 4.0000e+10, 1.3500e+11, 0.0000e+00,\n",
              "        5.0000e+09, 7.0000e+10, 2.8500e+11],\n",
              "       [0.0000e+00, 5.0000e+09, 8.0000e+10, 4.0500e+11, 0.0000e+00,\n",
              "        5.0000e+09, 1.5000e+11, 9.7500e+11],\n",
              "       [0.0000e+00, 5.0000e+09, 1.6000e+11, 1.2150e+12, 0.0000e+00,\n",
              "        5.0000e+09, 3.1000e+11, 3.1650e+12],\n",
              "       [0.0000e+00, 5.0000e+09, 3.2000e+11, 3.6450e+12, 0.0000e+00,\n",
              "        5.0000e+09, 6.3000e+11, 9.9750e+12],\n",
              "       [0.0000e+00, 5.0000e+09, 6.4000e+11, 1.0935e+13, 0.0000e+00,\n",
              "        5.0000e+09, 1.2700e+12, 3.0885e+13]])"
            ]
          },
          "metadata": {},
          "execution_count": 45
        }
      ]
    },
    {
      "cell_type": "markdown",
      "source": [
        "(d) Use el método del descenso del gradiente para estimar los 4 pesos $(wi)$ y los 4 puntos de Gauss $(xi)$. Tenga en cuenta que la semilla debe ser un vector aleatorio en el intervalo $[-1,1]$, i.e, *r_0 = np.random.uniform(-1.,1.,size=8)*."
      ],
      "metadata": {
        "id": "XEupNTC2cTy7"
      }
    },
    {
      "cell_type": "code",
      "source": [
        "def Metric(G,*r):\n",
        "  return 0.5*np.linalg.norm(F(G,*r))**2"
      ],
      "metadata": {
        "id": "0M6iWKpvhmY8"
      },
      "execution_count": null,
      "outputs": []
    },
    {
      "cell_type": "code",
      "source": [
        "def Minimizer(F, G, r, gamma=0.01, epochs=int(1e4), error=1e-10):\n",
        "\n",
        "  metric = 1\n",
        "  it = 0\n",
        "\n",
        "  while metric > error and it < epochs:\n",
        "\n",
        "    J = Jacobian(F, G,*r)\n",
        "    Vector = F(G,*r)\n",
        "    r = r - gamma*np.dot(J,Vector)\n",
        "\n",
        "    metric = Metric(G,*r)\n",
        "    it += 1\n",
        "    if metric < 0.005:\n",
        "        gamma = 0.001\n",
        "\n",
        "  return r,it, metric"
      ],
      "metadata": {
        "id": "PQy9TXZafhm4"
      },
      "execution_count": null,
      "outputs": []
    },
    {
      "cell_type": "code",
      "source": [
        "r= np.random.uniform(-1.,1.,size=8)\n",
        "Minimizer(F, G, r)"
      ],
      "metadata": {
        "colab": {
          "base_uri": "https://localhost:8080/"
        },
        "id": "rY-FnstgiB8W",
        "outputId": "7cec08dd-a72d-4e20-e6a8-ed8dec95beee"
      },
      "execution_count": null,
      "outputs": [
        {
          "output_type": "execute_result",
          "data": {
            "text/plain": [
              "(array([0.28375167001325596, -0.03991646217376766, 0.6584787223861944,\n",
              "        -0.8363674340145527, -0.08666123528468005, -0.8470937381516856,\n",
              "        0.5001146902841597, 0.40571050069417064], dtype=object),\n",
              " 1000,\n",
              " 0.004035442514497433)"
            ]
          },
          "metadata": {},
          "execution_count": 68
        }
      ]
    },
    {
      "cell_type": "markdown",
      "source": [
        "(f) Use la regla encontrada para estimar la integral:\n",
        "\n",
        "$$\n",
        "  \\int_{-1}^{1} cos(x) dx = \\sum w_i f(x_i) \\approx 1.68294168\n",
        "$$\n",
        "\n",
        "su regla debe estimar la integral al menos con dos chifras de precisión"
      ],
      "metadata": {
        "id": "1x0a9jVhvipY"
      }
    },
    {
      "cell_type": "code",
      "source": [
        "def estimacion_cos (F, G, r):\n",
        "    w,_,_ = Minimizer(F, G, r)\n",
        "    return w[0]*np.cos(w[4]) + w[1]*np.cos(w[5]) + w[2]*np.cos(w[6]) + w[3]*np.cos(w[7])"
      ],
      "metadata": {
        "id": "L0vc8rCjwrkk"
      },
      "execution_count": null,
      "outputs": []
    },
    {
      "cell_type": "code",
      "source": [
        "r= np.random.uniform(-1.,1.,size=8)\n",
        "r"
      ],
      "metadata": {
        "colab": {
          "base_uri": "https://localhost:8080/"
        },
        "id": "a0Bgr0Lj0lxt",
        "outputId": "404a9ebf-4879-44bc-db9c-339525a6552e"
      },
      "execution_count": null,
      "outputs": [
        {
          "output_type": "execute_result",
          "data": {
            "text/plain": [
              "array([-0.6522769 , -0.40924149, -0.82303061,  0.31767953, -0.41820626,\n",
              "        0.9845116 , -0.7399403 ,  0.91232175])"
            ]
          },
          "metadata": {},
          "execution_count": 123
        }
      ]
    },
    {
      "cell_type": "code",
      "source": [
        "# mejor r encontrador = array([-0.43835311, -0.49374854,  0.38062243,  0.04182098,  0.83846713, 0.44829663,  0.04338191,  0.67963616])\n",
        "# el problema parece ser muy dependiente de los parametros iniciales\n",
        "estimacion_cos(F, G, r)"
      ],
      "metadata": {
        "colab": {
          "base_uri": "https://localhost:8080/"
        },
        "id": "sOPN0WfnxZwe",
        "outputId": "94b28729-b336-45bf-fb22-2b0527be1ecf"
      },
      "execution_count": null,
      "outputs": [
        {
          "output_type": "execute_result",
          "data": {
            "text/plain": [
              "1.726908997895898"
            ]
          },
          "metadata": {},
          "execution_count": 124
        }
      ]
    },
    {
      "cell_type": "markdown",
      "source": [
        "(g) ¿Cuál es la razón de que esta estimación sea tan poco precisa?"
      ],
      "metadata": {
        "id": "ti791hGFOs3F"
      }
    },
    {
      "cell_type": "markdown",
      "source": [
        "Esto se debe a que el error es del orden de $N$ siendo este mismo el numero de iteraciones en el calculo del desenso del gradiente. Podemos dejar como conclsuion que el desenso del jacobiano es más lento que otros metdos para calcular los pesos."
      ],
      "metadata": {
        "id": "h2VAVcsqOwPw"
      }
    }
  ]
}