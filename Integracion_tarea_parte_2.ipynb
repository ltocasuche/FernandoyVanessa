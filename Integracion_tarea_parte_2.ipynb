{
  "nbformat": 4,
  "nbformat_minor": 0,
  "metadata": {
    "colab": {
      "provenance": []
    },
    "kernelspec": {
      "name": "python3",
      "display_name": "Python 3"
    },
    "language_info": {
      "name": "python"
    }
  },
  "cells": [
    {
      "cell_type": "code",
      "source": [
        "import numpy as np\n",
        "import matplotlib.pyplot as plt\n",
        "import sympy as sym"
      ],
      "metadata": {
        "id": "SzJFP0GLi0FO"
      },
      "execution_count": 506,
      "outputs": []
    },
    {
      "cell_type": "markdown",
      "source": [
        "10. **(Sympy)** Muestre que el error asociado a la regla de Simpson 3/8 simple está dado por:\n",
        "\n",
        "\\begin{align}\n",
        "        E = \\frac{f^{(4)}(ξ)}{4!}\\int_{a}^{b} (x-x_0)(x-x_1)(x-x_2)(x-x_3) dx = -\\frac{3}{80}h^5f^{(4)}(ξ)\n",
        "\\end{align}\n",
        "\n",
        "*Hint:* Considere la siguiente integral\n",
        "\n",
        "\\begin{align}\n",
        "        I = \\int_{3h}^{0} (x)(x-h)(x-2h)(x-3h) dx\n",
        "\\end{align}"
      ],
      "metadata": {
        "id": "DPSRwTNXabwz"
      }
    },
    {
      "cell_type": "markdown",
      "source": [
        "veamos que\n",
        "\\begin{align}\n",
        "        I &= \\int_{3h}^{0} (x)(x-h)(x-2h)(x-3h) dx \\\\\n",
        "        &=\\int_{3h}^{0} x^4-6hx^3+11h^2x^2-6h^3x \\\\\n",
        "        &=0-(\\frac{(3h)^5}{5}-\\frac{6h(3h)^4}{4}+\\frac{11h^2(3h)^3}{3}-\\frac{6h^3(3h)^2}{2}) \\\\\n",
        "        I &=-\\frac{72h^5}{80}\n",
        "\\end{align}\n",
        "\n",
        "si vemos la ecuacion\n",
        "\\begin{align}\n",
        "      E = \\frac{f^{(4)}(ξ)}{4!}\\int_{a}^{b} (x-x_0)(x-x_1)(x-x_2)(x-x_3) dx\n",
        "\\end{align}\n",
        "\n",
        "y asumimos que $x_n = nh$. Entonces\n",
        "\n",
        "\\begin{align}\n",
        "      E = \\frac{f^{(4)}(ξ)}{4!}I\n",
        "\\end{align}\n",
        "\n",
        "por ende\n",
        "\n",
        "\\begin{align}\n",
        "      E = -\\frac{72}{4!80}h^5f^{(4)}(ξ)= -\\frac{3}{80}h^5f^{(4)}(ξ)\n",
        "\\end{align}"
      ],
      "metadata": {
        "id": "5rUPKpGyyD-o"
      }
    },
    {
      "cell_type": "markdown",
      "source": [
        "15. **(sympy)** Dada la aproximación de cuadratrua gausiana:\n",
        "\\begin{align}\n",
        "        ∫_{-1}^1 f(x) = \\sum_{k=0}^{n} w_k f(x_k),\n",
        "\\end{align}\n",
        "donde $w_0, w_1, \\ldots, w_n$ son los coeficientes ponderados ó pesos.\n",
        "\n",
        "(a) Halle los ceros de los primeros 20 polinomios de Legendre\n",
        "\n",
        "(b) Halle los pesos de ponderación para los primeros 20 polinomios de Legendre."
      ],
      "metadata": {
        "id": "MwjcItHD_UU5"
      }
    },
    {
      "cell_type": "code",
      "source": [
        "def p_n (x, n):\n",
        "    poly = (1/((2**n) * sym.factorial(n))) * sym.diff(((x**2 - 1)**n), x, n)\n",
        "    return poly"
      ],
      "metadata": {
        "id": "xgTXEzps_Vzz"
      },
      "execution_count": 507,
      "outputs": []
    },
    {
      "cell_type": "code",
      "source": [
        "def zeros_legendre (coef):\n",
        "    return np.roots(coef)"
      ],
      "metadata": {
        "id": "XiZCgcwcP1Ba"
      },
      "execution_count": 508,
      "outputs": []
    },
    {
      "cell_type": "code",
      "source": [
        "def weight_legendre (poly, x_k, x):\n",
        "    diff = sym.lambdify(x, sym.diff(poly, x))\n",
        "    return (2)/( (1 - (x_k**2)) * (diff(x_k)**2) )"
      ],
      "metadata": {
        "id": "iZ2pNt1hOWFy"
      },
      "execution_count": 509,
      "outputs": []
    },
    {
      "cell_type": "code",
      "source": [
        "def ej_15 (x, max):\n",
        "    Z = np.array([])\n",
        "    W = np.array([])\n",
        "    for n in range (0, max+1):\n",
        "        poly = p_n(x, n)\n",
        "        #print(poly)\n",
        "        coef = np.array(sym.Poly(poly, x).all_coeffs())\n",
        "        #print(coef)\n",
        "        Z_n = zeros_legendre(coef)\n",
        "        #print(Z_n)\n",
        "        Z = np.append(Z, Z_n)\n",
        "        #print(Z)\n",
        "        W_n = weight_legendre(poly, Z_n, x)\n",
        "        #print(W_n)\n",
        "        W = np.append(W, W_n)\n",
        "        #print(W)\n",
        "        print(f'n = {n}, \\n roots = {Z_n}, \\n weights = {W_n} \\n')\n",
        "\n",
        "    return Z, W"
      ],
      "metadata": {
        "id": "tRbZrOwJPAfS"
      },
      "execution_count": 510,
      "outputs": []
    },
    {
      "cell_type": "code",
      "source": [
        "x = sym.Symbol('x')\n",
        "ej_15(x, 20)"
      ],
      "metadata": {
        "colab": {
          "base_uri": "https://localhost:8080/"
        },
        "id": "OdREmd72UY2I",
        "outputId": "37a17fde-9c77-4ccc-c34c-d9d83345e242"
      },
      "execution_count": 511,
      "outputs": [
        {
          "output_type": "stream",
          "name": "stdout",
          "text": [
            "n = 0, \n",
            " roots = [], \n",
            " weights = [] \n",
            "\n",
            "n = 1, \n",
            " roots = [0.], \n",
            " weights = [2.] \n",
            "\n",
            "n = 2, \n",
            " roots = [-0.57735027  0.57735027], \n",
            " weights = [1. 1.] \n",
            "\n",
            "n = 3, \n",
            " roots = [-0.77459667  0.77459667  0.        ], \n",
            " weights = [0.55555556 0.55555556 0.88888889] \n",
            "\n",
            "n = 4, \n",
            " roots = [-0.86113631  0.86113631 -0.33998104  0.33998104], \n",
            " weights = [0.34785485 0.34785485 0.65214515 0.65214515] \n",
            "\n",
            "n = 5, \n",
            " roots = [-0.90617985 -0.53846931  0.90617985  0.53846931  0.        ], \n",
            " weights = [0.23692689 0.47862867 0.23692689 0.47862867 0.56888889] \n",
            "\n",
            "n = 6, \n",
            " roots = [-0.93246951 -0.66120939  0.93246951  0.66120939 -0.23861919  0.23861919], \n",
            " weights = [0.17132449 0.36076157 0.17132449 0.36076157 0.46791393 0.46791393] \n",
            "\n",
            "n = 7, \n",
            " roots = [-0.94910791 -0.74153119 -0.40584515  0.94910791  0.74153119  0.40584515\n",
            "  0.        ], \n",
            " weights = [0.12948497 0.27970539 0.38183005 0.12948497 0.27970539 0.38183005\n",
            " 0.41795918] \n",
            "\n",
            "n = 8, \n",
            " roots = [-0.96028986 -0.79666648  0.96028986  0.79666648 -0.52553241  0.52553241\n",
            " -0.18343464  0.18343464], \n",
            " weights = [0.10122854 0.22238103 0.10122854 0.22238103 0.31370665 0.31370665\n",
            " 0.36268378 0.36268378] \n",
            "\n",
            "n = 9, \n",
            " roots = [-0.96816024 -0.83603111 -0.61337143 -0.32425342  0.96816024  0.83603111\n",
            "  0.61337143  0.32425342  0.        ], \n",
            " weights = [0.08127439 0.18064816 0.2606107  0.31234708 0.08127439 0.18064816\n",
            " 0.2606107  0.31234708 0.33023936] \n",
            "\n",
            "n = 10, \n",
            " roots = [-0.97390653 -0.86506337 -0.67940957  0.97390653  0.86506337  0.67940957\n",
            " -0.43339539  0.43339539 -0.14887434  0.14887434], \n",
            " weights = [0.06667134 0.14945135 0.21908636 0.06667134 0.14945135 0.21908636\n",
            " 0.26926672 0.26926672 0.29552422 0.29552422] \n",
            "\n",
            "n = 11, \n",
            " roots = [-0.97822866 -0.8870626  -0.73015201 -0.51909613 -0.26954316  0.97822866\n",
            "  0.8870626   0.73015201  0.51909613  0.26954316  0.        ], \n",
            " weights = [0.05566857 0.12558037 0.18629021 0.23319376 0.26280454 0.05566857\n",
            " 0.12558037 0.18629021 0.23319376 0.26280454 0.27292509] \n",
            "\n",
            "n = 12, \n",
            " roots = [-0.98156063 -0.90411726 -0.76990267  0.98156063  0.90411726  0.76990267\n",
            " -0.58731795  0.58731795 -0.3678315   0.3678315  -0.12523341  0.12523341], \n",
            " weights = [0.04717534 0.10693933 0.16007833 0.04717534 0.10693933 0.16007833\n",
            " 0.20316743 0.20316743 0.23349254 0.23349254 0.24914705 0.24914705] \n",
            "\n",
            "n = 13, \n",
            " roots = [-0.98418305 -0.9175984  -0.80157809 -0.64234934 -0.44849275  0.98418305\n",
            "  0.9175984   0.80157809  0.64234934 -0.23045832  0.44849275  0.23045832\n",
            "  0.        ], \n",
            " weights = [0.040484   0.0921215  0.13887351 0.17814598 0.20781605 0.040484\n",
            " 0.0921215  0.13887351 0.17814598 0.22628318 0.20781605 0.22628318\n",
            " 0.23255155] \n",
            "\n",
            "n = 14, \n",
            " roots = [-0.98628381 -0.92843488 -0.82720132 -0.6872929   0.98628381  0.92843488\n",
            "  0.82720132  0.6872929  -0.51524864  0.51524864 -0.31911237  0.31911237\n",
            " -0.10805495  0.10805495], \n",
            " weights = [0.03511946 0.08015809 0.12151857 0.15720317 0.03511946 0.08015809\n",
            " 0.12151857 0.15720317 0.1855384  0.1855384  0.20519846 0.20519846\n",
            " 0.21526385 0.21526385] \n",
            "\n",
            "n = 15, \n",
            " roots = [-0.98799252 -0.93727339 -0.84820658 -0.72441773 -0.57097217 -0.39415135\n",
            "  0.98799252  0.93727339  0.84820658  0.72441773  0.57097217 -0.20119409\n",
            "  0.39415135  0.20119409  0.        ], \n",
            " weights = [0.03075324 0.07036605 0.10715922 0.13957068 0.16626921 0.186161\n",
            " 0.03075324 0.07036605 0.10715922 0.13957068 0.16626921 0.19843149\n",
            " 0.186161   0.19843149 0.20257824] \n",
            "\n",
            "n = 16, \n",
            " roots = [-0.98940093 -0.94457502 -0.8656312  -0.75540441 -0.61787624  0.98940093\n",
            "  0.94457502  0.8656312   0.75540441  0.61787624 -0.45801678  0.45801678\n",
            " -0.28160355  0.28160355 -0.09501251  0.09501251], \n",
            " weights = [0.02715246 0.06225352 0.09515851 0.12462897 0.14959599 0.02715246\n",
            " 0.06225352 0.09515851 0.12462897 0.14959599 0.16915652 0.16915652\n",
            " 0.18260342 0.18260342 0.18945061 0.18945061] \n",
            "\n",
            "n = 17, \n",
            " roots = [-0.99057548 -0.95067552 -0.88023915 -0.781514   -0.65767116 -0.51269054\n",
            " -0.35123176  0.99057548  0.95067552  0.88023915  0.781514    0.65767116\n",
            "  0.51269054 -0.17848418  0.35123176  0.17848418  0.        ], \n",
            " weights = [0.0241483  0.05545953 0.08503615 0.11188385 0.13513637 0.15404576\n",
            " 0.1680041  0.0241483  0.05545953 0.08503615 0.11188385 0.13513637\n",
            " 0.15404576 0.17656271 0.1680041  0.17656271 0.17944647] \n",
            "\n",
            "n = 18, \n",
            " roots = [-0.99156517 -0.95582395 -0.89260247 -0.80370496 -0.69168704  0.99156517\n",
            "  0.95582395  0.89260247  0.80370496  0.69168704 -0.55977083  0.55977083\n",
            " -0.41175116  0.41175116 -0.25188623  0.25188623 -0.08477501  0.08477501], \n",
            " weights = [0.02161601 0.04971455 0.07642573 0.10094204 0.12255521 0.02161601\n",
            " 0.04971455 0.07642573 0.10094204 0.12255521 0.14064291 0.14064291\n",
            " 0.15468468 0.15468468 0.16427648 0.16427648 0.16914238 0.16914238] \n",
            "\n",
            "n = 19, \n",
            " roots = [-0.99240684 -0.96020815 -0.9031559  -0.82271466 -0.72096618 -0.6005453\n",
            " -0.46457074  0.99240684  0.96020815  0.9031559   0.82271466  0.72096618\n",
            "  0.6005453  -0.3165641   0.46457074 -0.16035865  0.3165641   0.16035865\n",
            "  0.        ], \n",
            " weights = [0.01946179 0.04481423 0.06904454 0.09149002 0.11156665 0.12875396\n",
            " 0.1426067  0.01946179 0.04481423 0.06904454 0.09149002 0.11156665\n",
            " 0.12875396 0.15276604 0.1426067  0.15896884 0.15276604 0.15896884\n",
            " 0.16105445] \n",
            "\n",
            "n = 20, \n",
            " roots = [-0.9931286  -0.96397193 -0.91223443 -0.83911697 -0.74633191 -0.63605368\n",
            "  0.9931286   0.96397193  0.91223443  0.83911697  0.74633191  0.63605368\n",
            " -0.510867    0.510867   -0.37370609  0.37370609 -0.22778585  0.22778585\n",
            " -0.07652652  0.07652652], \n",
            " weights = [0.01761401 0.04060143 0.06267205 0.08327674 0.10193012 0.11819453\n",
            " 0.01761401 0.04060143 0.06267205 0.08327674 0.10193012 0.11819453\n",
            " 0.13168864 0.13168864 0.14209611 0.14209611 0.14917299 0.14917299\n",
            " 0.15275339 0.15275339] \n",
            "\n"
          ]
        },
        {
          "output_type": "execute_result",
          "data": {
            "text/plain": [
              "(array([ 0.        , -0.57735027,  0.57735027, -0.77459667,  0.77459667,\n",
              "         0.        , -0.86113631,  0.86113631, -0.33998104,  0.33998104,\n",
              "        -0.90617985, -0.53846931,  0.90617985,  0.53846931,  0.        ,\n",
              "        -0.93246951, -0.66120939,  0.93246951,  0.66120939, -0.23861919,\n",
              "         0.23861919, -0.94910791, -0.74153119, -0.40584515,  0.94910791,\n",
              "         0.74153119,  0.40584515,  0.        , -0.96028986, -0.79666648,\n",
              "         0.96028986,  0.79666648, -0.52553241,  0.52553241, -0.18343464,\n",
              "         0.18343464, -0.96816024, -0.83603111, -0.61337143, -0.32425342,\n",
              "         0.96816024,  0.83603111,  0.61337143,  0.32425342,  0.        ,\n",
              "        -0.97390653, -0.86506337, -0.67940957,  0.97390653,  0.86506337,\n",
              "         0.67940957, -0.43339539,  0.43339539, -0.14887434,  0.14887434,\n",
              "        -0.97822866, -0.8870626 , -0.73015201, -0.51909613, -0.26954316,\n",
              "         0.97822866,  0.8870626 ,  0.73015201,  0.51909613,  0.26954316,\n",
              "         0.        , -0.98156063, -0.90411726, -0.76990267,  0.98156063,\n",
              "         0.90411726,  0.76990267, -0.58731795,  0.58731795, -0.3678315 ,\n",
              "         0.3678315 , -0.12523341,  0.12523341, -0.98418305, -0.9175984 ,\n",
              "        -0.80157809, -0.64234934, -0.44849275,  0.98418305,  0.9175984 ,\n",
              "         0.80157809,  0.64234934, -0.23045832,  0.44849275,  0.23045832,\n",
              "         0.        , -0.98628381, -0.92843488, -0.82720132, -0.6872929 ,\n",
              "         0.98628381,  0.92843488,  0.82720132,  0.6872929 , -0.51524864,\n",
              "         0.51524864, -0.31911237,  0.31911237, -0.10805495,  0.10805495,\n",
              "        -0.98799252, -0.93727339, -0.84820658, -0.72441773, -0.57097217,\n",
              "        -0.39415135,  0.98799252,  0.93727339,  0.84820658,  0.72441773,\n",
              "         0.57097217, -0.20119409,  0.39415135,  0.20119409,  0.        ,\n",
              "        -0.98940093, -0.94457502, -0.8656312 , -0.75540441, -0.61787624,\n",
              "         0.98940093,  0.94457502,  0.8656312 ,  0.75540441,  0.61787624,\n",
              "        -0.45801678,  0.45801678, -0.28160355,  0.28160355, -0.09501251,\n",
              "         0.09501251, -0.99057548, -0.95067552, -0.88023915, -0.781514  ,\n",
              "        -0.65767116, -0.51269054, -0.35123176,  0.99057548,  0.95067552,\n",
              "         0.88023915,  0.781514  ,  0.65767116,  0.51269054, -0.17848418,\n",
              "         0.35123176,  0.17848418,  0.        , -0.99156517, -0.95582395,\n",
              "        -0.89260247, -0.80370496, -0.69168704,  0.99156517,  0.95582395,\n",
              "         0.89260247,  0.80370496,  0.69168704, -0.55977083,  0.55977083,\n",
              "        -0.41175116,  0.41175116, -0.25188623,  0.25188623, -0.08477501,\n",
              "         0.08477501, -0.99240684, -0.96020815, -0.9031559 , -0.82271466,\n",
              "        -0.72096618, -0.6005453 , -0.46457074,  0.99240684,  0.96020815,\n",
              "         0.9031559 ,  0.82271466,  0.72096618,  0.6005453 , -0.3165641 ,\n",
              "         0.46457074, -0.16035865,  0.3165641 ,  0.16035865,  0.        ,\n",
              "        -0.9931286 , -0.96397193, -0.91223443, -0.83911697, -0.74633191,\n",
              "        -0.63605368,  0.9931286 ,  0.96397193,  0.91223443,  0.83911697,\n",
              "         0.74633191,  0.63605368, -0.510867  ,  0.510867  , -0.37370609,\n",
              "         0.37370609, -0.22778585,  0.22778585, -0.07652652,  0.07652652]),\n",
              " array([2.        , 1.        , 1.        , 0.55555556, 0.55555556,\n",
              "        0.88888889, 0.34785485, 0.34785485, 0.65214515, 0.65214515,\n",
              "        0.23692689, 0.47862867, 0.23692689, 0.47862867, 0.56888889,\n",
              "        0.17132449, 0.36076157, 0.17132449, 0.36076157, 0.46791393,\n",
              "        0.46791393, 0.12948497, 0.27970539, 0.38183005, 0.12948497,\n",
              "        0.27970539, 0.38183005, 0.41795918, 0.10122854, 0.22238103,\n",
              "        0.10122854, 0.22238103, 0.31370665, 0.31370665, 0.36268378,\n",
              "        0.36268378, 0.08127439, 0.18064816, 0.2606107 , 0.31234708,\n",
              "        0.08127439, 0.18064816, 0.2606107 , 0.31234708, 0.33023936,\n",
              "        0.06667134, 0.14945135, 0.21908636, 0.06667134, 0.14945135,\n",
              "        0.21908636, 0.26926672, 0.26926672, 0.29552422, 0.29552422,\n",
              "        0.05566857, 0.12558037, 0.18629021, 0.23319376, 0.26280454,\n",
              "        0.05566857, 0.12558037, 0.18629021, 0.23319376, 0.26280454,\n",
              "        0.27292509, 0.04717534, 0.10693933, 0.16007833, 0.04717534,\n",
              "        0.10693933, 0.16007833, 0.20316743, 0.20316743, 0.23349254,\n",
              "        0.23349254, 0.24914705, 0.24914705, 0.040484  , 0.0921215 ,\n",
              "        0.13887351, 0.17814598, 0.20781605, 0.040484  , 0.0921215 ,\n",
              "        0.13887351, 0.17814598, 0.22628318, 0.20781605, 0.22628318,\n",
              "        0.23255155, 0.03511946, 0.08015809, 0.12151857, 0.15720317,\n",
              "        0.03511946, 0.08015809, 0.12151857, 0.15720317, 0.1855384 ,\n",
              "        0.1855384 , 0.20519846, 0.20519846, 0.21526385, 0.21526385,\n",
              "        0.03075324, 0.07036605, 0.10715922, 0.13957068, 0.16626921,\n",
              "        0.186161  , 0.03075324, 0.07036605, 0.10715922, 0.13957068,\n",
              "        0.16626921, 0.19843149, 0.186161  , 0.19843149, 0.20257824,\n",
              "        0.02715246, 0.06225352, 0.09515851, 0.12462897, 0.14959599,\n",
              "        0.02715246, 0.06225352, 0.09515851, 0.12462897, 0.14959599,\n",
              "        0.16915652, 0.16915652, 0.18260342, 0.18260342, 0.18945061,\n",
              "        0.18945061, 0.0241483 , 0.05545953, 0.08503615, 0.11188385,\n",
              "        0.13513637, 0.15404576, 0.1680041 , 0.0241483 , 0.05545953,\n",
              "        0.08503615, 0.11188385, 0.13513637, 0.15404576, 0.17656271,\n",
              "        0.1680041 , 0.17656271, 0.17944647, 0.02161601, 0.04971455,\n",
              "        0.07642573, 0.10094204, 0.12255521, 0.02161601, 0.04971455,\n",
              "        0.07642573, 0.10094204, 0.12255521, 0.14064291, 0.14064291,\n",
              "        0.15468468, 0.15468468, 0.16427648, 0.16427648, 0.16914238,\n",
              "        0.16914238, 0.01946179, 0.04481423, 0.06904454, 0.09149002,\n",
              "        0.11156665, 0.12875396, 0.1426067 , 0.01946179, 0.04481423,\n",
              "        0.06904454, 0.09149002, 0.11156665, 0.12875396, 0.15276604,\n",
              "        0.1426067 , 0.15896884, 0.15276604, 0.15896884, 0.16105445,\n",
              "        0.01761401, 0.04060143, 0.06267205, 0.08327674, 0.10193012,\n",
              "        0.11819453, 0.01761401, 0.04060143, 0.06267205, 0.08327674,\n",
              "        0.10193012, 0.11819453, 0.13168864, 0.13168864, 0.14209611,\n",
              "        0.14209611, 0.14917299, 0.14917299, 0.15275339, 0.15275339]))"
            ]
          },
          "metadata": {},
          "execution_count": 511
        }
      ]
    },
    {
      "cell_type": "markdown",
      "source": [
        "16. Estime la siguiente integral usando el método de cuadratura de Gaus-Legendre:\n",
        "\n",
        "\\begin{align}\n",
        "        ∫_{0}^\\infty \\frac{1}{x^4 + 1} ≈ 1.110721\n",
        "\\end{align}\n",
        "\n",
        "*Hint:* Dividir la integral para tener dos integrales con límites $[-1,1]$ y $[0,1]$."
      ],
      "metadata": {
        "id": "lS9QpL0yrJbW"
      }
    },
    {
      "cell_type": "code",
      "source": [
        "def ej_16_parte (x, n, f, a=0, b=1):\n",
        "    #f = sym.lambdify(x, (x**2/(x**4 + x)))\n",
        "    poly = p_n(x, n)\n",
        "    coef = np.array(sym.Poly(poly, x).all_coeffs())\n",
        "    roots = zeros_legendre(coef)\n",
        "    weights = weight_legendre(poly, roots, x)\n",
        "    roots = 0.5 * (b - a) * roots + 0.5 * (b + a)\n",
        "    weights = 0.5 * (b - a) * weights\n",
        "    return weights @ f(roots)"
      ],
      "metadata": {
        "id": "7JqZI3xprpZq"
      },
      "execution_count": 512,
      "outputs": []
    },
    {
      "cell_type": "code",
      "source": [
        "def ej_16_2 (x, n, f):\n",
        "    poly = p_n(x, n)\n",
        "    coef = np.array(sym.Poly(poly, x).all_coeffs())\n",
        "    roots = zeros_legendre(coef)\n",
        "    weights = weight_legendre(poly, roots, x)\n",
        "    return weights @ f(roots)"
      ],
      "metadata": {
        "id": "cIRDlv-lQhTi"
      },
      "execution_count": 513,
      "outputs": []
    },
    {
      "cell_type": "code",
      "source": [
        "def ej_16 (x, n, f, f2):\n",
        "    return ej_16_parte(x, n, f) + ej_16_parte (x, n, f2)"
      ],
      "metadata": {
        "id": "OK7W_pejPKNh"
      },
      "execution_count": 514,
      "outputs": []
    },
    {
      "cell_type": "code",
      "source": [
        "x = sym.Symbol('x')\n",
        "f_16 = 1/(x**4 + 1)\n",
        "f_16 = sym.lambdify(x, f_16)\n",
        "f_16_cambio = x**2/(x**4 + 1)\n",
        "f_16_cambio = sym.lambdify(x, f_16_cambio)\n",
        "ej_16(x, 20, f_16, f_16_cambio)"
      ],
      "metadata": {
        "colab": {
          "base_uri": "https://localhost:8080/"
        },
        "id": "RpVCF1ioLYXo",
        "outputId": "7141c1a4-5277-4ff0-b88d-1dae8c037e6b"
      },
      "execution_count": 515,
      "outputs": [
        {
          "output_type": "execute_result",
          "data": {
            "text/plain": [
              "1.1107207345423264"
            ]
          },
          "metadata": {},
          "execution_count": 515
        }
      ]
    },
    {
      "cell_type": "markdown",
      "source": [
        "In the black-body radiation problem the following integral appears:\n",
        "\n",
        "\\begin{align}\n",
        "        ∫_{0}^\\infty \\frac{x^3}{e^x - 1} dx ≈ \\frac{\\pi^4}{15}.\n",
        "\\end{align}\n",
        "\n",
        "a) Compute this integral using the Gauss-Laguerre quadrature method for $n=3$ evaluation\n",
        "points.\n",
        "\n",
        "b) For this estimation, plot the relative error $(ϵ_r(n) = I_{estimated}(n)/I_{exact})$ as a function\n",
        "of the evaluation points, with $n = [2, 3, ..., 10]$."
      ],
      "metadata": {
        "id": "TfqvjHLhrtvL"
      }
    },
    {
      "cell_type": "code",
      "source": [
        "I_exact = (np.pi**4)/15"
      ],
      "metadata": {
        "id": "mFbvGkx3smC7"
      },
      "execution_count": 519,
      "outputs": []
    },
    {
      "cell_type": "code",
      "source": [
        "def p_n (x, n):\n",
        "    poly = (1/((2**n) * sym.factorial(n))) * sym.diff(((x**2 - 1)**n), x, n)\n",
        "    return poly"
      ],
      "metadata": {
        "id": "GoGOhKz77ZCg"
      },
      "execution_count": 528,
      "outputs": []
    },
    {
      "cell_type": "code",
      "source": [
        "def ej_17 (x, n, f):\n",
        "    poly = p_n(x, n)\n",
        "    coef = np.array(sym.Poly(poly, x).all_coeffs())\n",
        "    roots = zeros_legendre(coef)\n",
        "    weights = weight_legendre(poly, roots, x)\n",
        "    #print(f'{poly}\\n {coef} \\n {roots} \\n {weights}')\n",
        "    root =\n",
        "    return weights @ f(roots)"
      ],
      "metadata": {
        "id": "ZohxPFSrgPZk"
      },
      "execution_count": 533,
      "outputs": []
    },
    {
      "cell_type": "code",
      "source": [
        "X = np.linspace(0, 9, 9)\n",
        "f = x**3/(sym.exp(x) - 1)\n",
        "fe = (((1-x)/(1+x))**3/(sym.exp((1-x)/(1+x)) - 1)) * (2/((1+x)**2))\n",
        "fe = sym.lambdify(x, fe)\n",
        "E = np.zeros(9)\n",
        "n3 = ej_17(x, 3, fe)\n",
        "print(n3)\n",
        "print(I_exact)\n",
        "e = n3/I_exact\n",
        "print(e)\n",
        "for n in range (2, 11):\n",
        "    I_estimated = ej_17(x, n, fe)\n",
        "    e = I_estimated/I_exact\n",
        "    #print(I_estimated)\n",
        "    #print(I_exact)\n",
        "    E[n-2] = e\n",
        "plt.plot(X, E)"
      ],
      "metadata": {
        "colab": {
          "base_uri": "https://localhost:8080/",
          "height": 504
        },
        "id": "scUs7gwnhcoN",
        "outputId": "50f82208-88c3-461b-eeeb-b44a08b2ba7e"
      },
      "execution_count": 542,
      "outputs": [
        {
          "output_type": "stream",
          "name": "stdout",
          "text": [
            "5.106522428445981\n",
            "6.493939402266828\n",
            "0.7863520295036102\n"
          ]
        },
        {
          "output_type": "execute_result",
          "data": {
            "text/plain": [
              "[<matplotlib.lines.Line2D at 0x7de6d55d6260>]"
            ]
          },
          "metadata": {},
          "execution_count": 542
        },
        {
          "output_type": "display_data",
          "data": {
            "text/plain": [
              "<Figure size 640x480 with 1 Axes>"
            ],
            "image/png": "[encoded data removed]"
          },
          "metadata": {}
        }
      ]
    },
    {
      "cell_type": "code",
      "source": [
        "x = sym.Symbol('x')\n",
        "f_17 = sym.Piecewise(\n",
        "    (x**3 / (sym.exp(x) - 1), x > 0),\n",
        "    (x**2 / 2, x == 0)\n",
        ")\n",
        "f_17 = sym.lambdify(x, f_17)\n",
        "ej_17(x, 3, f_17)"
      ],
      "metadata": {
        "id": "Q5ieJa8YfvNE"
      },
      "execution_count": null,
      "outputs": []
    },
    {
      "cell_type": "markdown",
      "source": [
        "21. Una función se puede representar como una combinación lineal de $N + 1$ polinomios de\n",
        "Legendre $P_n(x), n = 0, 1, \\ldots ,N$.\n",
        "\n",
        "\\begin{align}\n",
        "        f(x) = \\sum_{n = 0}^{N} c_n P_n(x)\n",
        "\\end{align}\n",
        "\n",
        "El problema computacional requiere la estimación de los coeficientes de la expansión. Sea la función signo:\n",
        "\n",
        "\\begin{align}\n",
        "        sgn(x) = \\left\\{ \\begin{array}{lcc} -1 & x < 0 \\\\ \\\\\n",
        "                                            0 & x = 0 \\\\ \\\\\n",
        "                                            +1 & x > 0\n",
        "                                            \\end{array} \\right.\n",
        "\\end{align}\n",
        "\n",
        "(a) **(Theoretical)** Usando las relaciones de ortogonalidad de los polinomios de Legendre, muestre que los coeficientes están dados por:\n",
        "\n",
        "\\begin{align}\n",
        "        c_n = \\frac{2n + 1}{2} \\int_{-1}^{1} f(x)P_n(x) dx , n = 0, 1, \\ldots, N\n",
        "\\end{align}\n",
        "\n",
        "(b) Implemente la función sgn(x).\n",
        "\n",
        "(c) Vectorice y dibuje la función.\n",
        "\n",
        "(d) Defina los puntos y los pesos de Gauss- Legendre al grado $n = 15$.\n",
        "\n",
        "(e) Cree y guarde los polinomios de Legendre al grado $N = 20$.\n",
        "\n",
        "(f) Cree una función que calcule los $N + 1$ coeficientes en un array de numpy\n",
        "\n",
        "(g) Calcule la combinación lineal para cada valor del dominio que uso para dibujar la función original.\n",
        "\n",
        "(h) Dibuje la representaci´on en la base de Legendre para obtener:"
      ],
      "metadata": {
        "id": "hnrH8-s5snGh"
      }
    },
    {
      "cell_type": "markdown",
      "source": [
        "Teniendo:\n",
        "\\begin{align}\n",
        "        f(x) = \\sum_{n = 0}^{N} c_n P_n(x)\n",
        "\\end{align}\n",
        "\n",
        "por la ortogonalidad de P_n sabemos que\n",
        "\n",
        "\\begin{align}\n",
        "        \\int_{-1}^{1} f(x)P_n(x) dx = \\int_{-1}^{1} \\sum_{m=0}^{N} c_n P_m(x)P_n(x) dx = c_n\\int_{-1}^{1} P_mP_n = c_n\\frac{2}{2n+1}\n",
        "\\end{align}"
      ],
      "metadata": {
        "id": "yMkIyNwKjGUg"
      }
    },
    {
      "cell_type": "code",
      "source": [
        "def sgn(x):\n",
        "    return np.where(x < 0, -1, np.where(x > 0, 1, 0))"
      ],
      "metadata": {
        "id": "WJe9uOF0lMOo"
      },
      "execution_count": null,
      "outputs": []
    },
    {
      "cell_type": "code",
      "source": [
        "X = np.linspace(-1, 1, 100)\n",
        "Y = sgn(X)"
      ],
      "metadata": {
        "id": "FZw-se1kmIUQ"
      },
      "execution_count": null,
      "outputs": []
    },
    {
      "cell_type": "code",
      "source": [
        "plt.plot(X, Y)"
      ],
      "metadata": {
        "id": "jxcrM4ljg-QS"
      },
      "execution_count": null,
      "outputs": []
    },
    {
      "cell_type": "code",
      "source": [
        "def poly (x, n):\n",
        "    poly = 1/( ((2**n) * sym.factorial(n)) ) * (sym.diff(((x**2 - 1)**n), x, n))\n",
        "    return poly"
      ],
      "metadata": {
        "id": "FKPEiNTTpdXy"
      },
      "execution_count": null,
      "outputs": []
    },
    {
      "cell_type": "code",
      "source": [
        "def roots (x, poly):\n",
        "    return np.roots(np.array(sym.Poly(poly, x).all_coeffs()))"
      ],
      "metadata": {
        "id": "RD7pjZC6r8Te"
      },
      "execution_count": null,
      "outputs": []
    },
    {
      "cell_type": "code",
      "source": [
        "def weight_legendre (poly, x_k, x):\n",
        "    diff = sym.lambdify(x, sym.diff(poly, x))\n",
        "    return (2)/( (1 - (x_k**2)) * (diff(x_k)**2) )"
      ],
      "metadata": {
        "id": "yoSfYUIHsYMz"
      },
      "execution_count": null,
      "outputs": []
    },
    {
      "cell_type": "code",
      "source": [
        "def d_21 (x, n):\n",
        "    poly_d = poly(x, n)\n",
        "    puntos = roots(x, poly_d)\n",
        "    weight = weight_legendre(poly_d, puntos, x)\n",
        "    return puntos, weight"
      ],
      "metadata": {
        "id": "507UbTuxpuZc"
      },
      "execution_count": null,
      "outputs": []
    },
    {
      "cell_type": "code",
      "source": [
        "x = sym.Symbol('x')\n",
        "d_21(x, 15)"
      ],
      "metadata": {
        "id": "xC7EkEIgqVaB"
      },
      "execution_count": null,
      "outputs": []
    },
    {
      "cell_type": "code",
      "source": [
        "def e_21 (N, x,X):\n",
        "    P = np.zeros(N)\n",
        "    for n in range (0, N):\n",
        "        poly_e = sym.lambdify(x, poly(x, n))\n",
        "        #print(poly_e(x))\n",
        "        P[n] = poly_e(X[n])\n",
        "    return P"
      ],
      "metadata": {
        "id": "G1LkqWxT3JEv"
      },
      "execution_count": null,
      "outputs": []
    },
    {
      "cell_type": "code",
      "source": [
        "def f_21 (N, x, f, X, P):\n",
        "    Cn = np.zeros(N)\n",
        "    sgm_n = sym.Piecewise((-1, x < 0), (0, x == 0), (1, x > 0))\n",
        "    for n in range (0, N):\n",
        "        puntos, weight = d_21(x, n)\n",
        "        #print(weight)\n",
        "        Cn[n] = ((2*n + 1)/2) * np.sum(weight * f(puntos) * P(puntos))\n",
        "        #print(weight * f(puntos) * poly_f(X[n-1]))\n",
        "        #print(f(X[n-1]))\n",
        "    return Cn"
      ],
      "metadata": {
        "id": "24mddbsB4NEu"
      },
      "execution_count": null,
      "outputs": []
    },
    {
      "cell_type": "code",
      "source": [
        "def C_lineal (N, Cn, X, P):\n",
        "    L = np.zeros_like(X)\n",
        "    for n in range(N):\n",
        "        #print(P)\n",
        "        L += Cn[n] * P[n]\n",
        "    return L"
      ],
      "metadata": {
        "id": "_I6wmKCfR_6e"
      },
      "execution_count": null,
      "outputs": []
    },
    {
      "cell_type": "code",
      "source": [
        "P = e_21(20, x, X)\n",
        "f = np.vectorize(sgn)\n",
        "Cp = f_21(20, x, f, X, P)\n",
        "L = C_lineal (20, Cp, X, P)\n",
        "#print(Cp)\n",
        "Cp"
      ],
      "metadata": {
        "collapsed": true,
        "id": "uJ-3-bYb8DoI"
      },
      "execution_count": null,
      "outputs": []
    },
    {
      "cell_type": "code",
      "source": [
        "plt.plot(X, Y)\n",
        "plt.plot(X, L, 'r')"
      ],
      "metadata": {
        "id": "y16dNWdWl_G8"
      },
      "execution_count": null,
      "outputs": []
    }
  ]
}