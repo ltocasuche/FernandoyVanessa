{
  "nbformat": 4,
  "nbformat_minor": 0,
  "metadata": {
    "colab": {
      "provenance": []
    },
    "kernelspec": {
      "name": "python3",
      "display_name": "Python 3"
    },
    "language_info": {
      "name": "python"
    }
  },
  "cells": [
    {
      "cell_type": "code",
      "source": [
        "import numpy as np\n",
        "import matplotlib.pyplot as plt"
      ],
      "metadata": {
        "id": "07Wn59AZAmXf"
      },
      "execution_count": 62,
      "outputs": []
    },
    {
      "cell_type": "markdown",
      "source": [
        "Utilice el método **curve fit** de ***Python*** para obtener los dos ajustes. Compare con los\n",
        "resultados anteriores."
      ],
      "metadata": {
        "id": "oRb6qfZVneNH"
      }
    },
    {
      "cell_type": "code",
      "source": [
        "from scipy.optimize import curve_fit"
      ],
      "metadata": {
        "id": "TGmkI_P5nent"
      },
      "execution_count": 63,
      "outputs": []
    },
    {
      "cell_type": "code",
      "source": [
        "x2,y2 = np.loadtxt('/content/MinimosLineal.txt').T\n",
        "x2,y2"
      ],
      "metadata": {
        "colab": {
          "base_uri": "https://localhost:8080/"
        },
        "id": "STFbaurQ7Z3Y",
        "outputId": "26949b6d-f1db-4e20-a933-5adc730f6936"
      },
      "execution_count": 64,
      "outputs": [
        {
          "output_type": "execute_result",
          "data": {
            "text/plain": [
              "(array([ 0.      ,  1.052632,  2.105263,  3.157895,  4.210526,  5.263158,\n",
              "         6.315789,  7.368421,  8.421053,  9.473684, 10.52632 , 11.57895 ,\n",
              "        12.63158 , 13.68421 , 14.73684 , 15.78947 , 16.84211 , 17.89474 ,\n",
              "        18.94737 , 20.      ]),\n",
              " array([-4.786585 , -4.06587  ,  0.1796494,  2.719807 ,  2.878523 ,\n",
              "         4.527426 ,  8.827734 , 10.97722  , 11.79944  , 14.52931  ,\n",
              "        17.22463  , 21.0981   , 20.79109  , 26.08018  , 26.00302  ,\n",
              "        30.14533  , 29.14247  , 33.28434  , 34.50524  , 36.56262  ]))"
            ]
          },
          "metadata": {},
          "execution_count": 64
        }
      ]
    },
    {
      "cell_type": "code",
      "source": [
        "def f_2(x, a0, a1):\n",
        "  return a0 + a1*x"
      ],
      "metadata": {
        "id": "QQjSEfvV78He"
      },
      "execution_count": 65,
      "outputs": []
    },
    {
      "cell_type": "code",
      "source": [
        "popt2, pcov2 = curve_fit(f_2, x2, y2, p0=[1, 1])\n",
        "plt.scatter(x2, y2, label=\"Datos\", color=\"blue\")\n",
        "plt.plot(x2, f_2(x2, *popt2), label=\"Ajuste\", color=\"red\")\n",
        "plt.legend()\n",
        "plt.title(\"ajuste - ejercicio 2\")\n",
        "plt.show()"
      ],
      "metadata": {
        "colab": {
          "base_uri": "https://localhost:8080/",
          "height": 452
        },
        "id": "ukhOQH9i8INw",
        "outputId": "ab3e09d8-07aa-4709-b9c9-709e7749d7ad"
      },
      "execution_count": 66,
      "outputs": [
        {
          "output_type": "display_data",
          "data": {
            "text/plain": [
              "<Figure size 640x480 with 1 Axes>"
            ],
            "image/png": "[encoded data removed]"
          },
          "metadata": {}
        }
      ]
    },
    {
      "cell_type": "code",
      "source": [
        "x3,y3 = np.loadtxt('/content/MinimosCuadratico.txt').T\n",
        "x3,y3"
      ],
      "metadata": {
        "colab": {
          "base_uri": "https://localhost:8080/"
        },
        "id": "_LmZkyJB83U9",
        "outputId": "5b20536e-18f0-429c-c54f-b263692acd35"
      },
      "execution_count": 67,
      "outputs": [
        {
          "output_type": "execute_result",
          "data": {
            "text/plain": [
              "(array([ 0.       ,  0.5263158,  1.052632 ,  1.578947 ,  2.105263 ,\n",
              "         2.631579 ,  3.157895 ,  3.684211 ,  4.210526 ,  4.736842 ,\n",
              "         5.263158 ,  5.789474 ,  6.315789 ,  6.842105 ,  7.368421 ,\n",
              "         7.894737 ,  8.421053 ,  8.947368 ,  9.473684 , 10.       ]),\n",
              " array([ -3.348886,  10.779   ,  13.12721 ,  21.20879 ,  20.63223 ,\n",
              "         34.11089 ,  60.66644 ,  55.07888 ,  81.89598 ,  96.83438 ,\n",
              "        117.5549  , 130.5394  , 147.7079  , 185.1728  , 210.7779  ,\n",
              "        235.0856  , 266.336   , 297.0943  , 322.7923  , 352.3838  ]))"
            ]
          },
          "metadata": {},
          "execution_count": 67
        }
      ]
    },
    {
      "cell_type": "code",
      "source": [
        "def f_3(x, a0, a1, a2):\n",
        "  return a0 + a1*x + a2*x**2"
      ],
      "metadata": {
        "id": "bVS6WQlF8-oO"
      },
      "execution_count": 68,
      "outputs": []
    },
    {
      "cell_type": "code",
      "source": [
        "popt3, pcov3 = curve_fit(f_3, x3, y3, p0=[1, 1, 1])\n",
        "plt.scatter(x3, y3, label=\"Datos\", color=\"blue\")\n",
        "plt.plot(x3, f_3(x3, *popt3), label=\"Ajuste\", color=\"red\")\n",
        "plt.legend()\n",
        "plt.title(\"ajuste - ejercicio 2\")\n",
        "plt.show()"
      ],
      "metadata": {
        "colab": {
          "base_uri": "https://localhost:8080/",
          "height": 452
        },
        "id": "wuR7LZtj9BO7",
        "outputId": "95a1421c-5765-4ef0-8e2a-bdff22db6231"
      },
      "execution_count": 69,
      "outputs": [
        {
          "output_type": "display_data",
          "data": {
            "text/plain": [
              "<Figure size 640x480 with 1 Axes>"
            ],
            "image/png": "[encoded data removed]"
          },
          "metadata": {}
        }
      ]
    },
    {
      "cell_type": "markdown",
      "source": [
        "Al compara el el ajuste de curve fit, parece dar el mismo resultado que el de minimos cuadrados"
      ],
      "metadata": {
        "id": "HXytXmCInBID"
      }
    },
    {
      "cell_type": "markdown",
      "source": [
        "6. En el caso de ajustes, es posible definir funciones de costo que midan la distancia entre\n",
        "los puntos muestrales y el modelo de ajuste. En el caso de mínimos cuadrados la función\n",
        "es $\\chi^2$. Para $n$ puntos y un modelo lineal la función de costo es:\n",
        "\n",
        "$$\n",
        "    \\chi^2(a_0,a_1) = \\sum_{i=1}^{n} (y_i-(a_0 + a_1x_i))^2\n",
        "$$\n",
        "Si hablamos en terminos *Bayesianos*, $\\Omega = \\{a_0, a_1\\}$ define el conjunto de modelos\n",
        "lineales que pueden explicar los $n$ puntos muestrales. Al minimizar $\\chi^2(a_0, a_1)$ muestre\n",
        "(analíticamente) que los parámetros están dados por\n",
        "\n",
        "$$\n",
        "    a_0 = \\overline{y}-a_1\\overline{x}\n",
        "$$\n",
        "$$\n",
        "    a_1 = \\frac{\\sum xy - \\frac{\\sum x \\sum y}{n}}{\\sum x^2 - \\frac{(\\sum x)^2}{n}}\n",
        "$$\n",
        "donde $\\overline{x}$ y $\\overline{y}$ son los valores medios de puntos y sus imágenes. Para $n$ puntos y un modelo cuadratico la función de costo es:\n",
        "\n",
        "$$\n",
        "    \\chi^2(a_0,a_1,a_2) = \\sum_{i=1}^{n} (y_i - (a_0-a_1x_i + a_2x_i^2))^2\n",
        "$$"
      ],
      "metadata": {
        "id": "Lgqy9Wp3PekI"
      }
    },
    {
      "cell_type": "markdown",
      "source": [
        "Parte 1: Si se tiene que:\n",
        "$$\n",
        "    \\chi^2(a_0,a_1) = \\sum_{i=1}^{n} (y_i-(a_0 + a_1x_i))^2\n",
        "$$\n",
        "podemos derivar con respecto a $a_0$ y con respecto a $a_1$, teniendo como resultado:\n",
        "$$\n",
        "    \\frac{\\partial\\chi^2}{\\partial a_0} = -2\\sum_{i=1}^{n}(y_i-(a_0 + a_1x_i)) = 0\n",
        "$$\n",
        "$$\n",
        "    \\frac{\\partial\\chi^2}{\\partial a_1} = -2\\sum_{i=1}^{n}x_i(y_i-(a_0 + a_1x_i)) = 0\n",
        "$$\n",
        "\n",
        "por definición $\\overline{x} = \\frac{1}{n}\\sum x_i,\\; \\overline{y} = \\frac{1}{n}\\sum y_i$ por lo cual se puede rescribir las ecuaciones para encontrar $a_0$ y $a_1$:\n",
        "\n",
        "$\"a_0\":$\n",
        "\\begin{align*}\n",
        "     &\\rightarrow n\\overline{y}-na_0+na_1\\overline{x} = 0\\\\\n",
        "     &\\Rightarrow a_0= \\overline{y} - a_1\\overline{x}\n",
        "\\end{align*}\n",
        "$\"a_1\":$\n",
        "\\begin{align*}\n",
        "     &\\rightarrow \\sum_{i=1}^{n}x_iy_i - a_0\\sum_{i=1}^{n}x_i - a_1\\sum_{i=1}^{n}x_i^2= 0\\\\\n",
        "     &\\Rightarrow a_1\\sum_{i=1}^{n}x_i^2 = \\sum_{i=1}^{n}x_iy_i - a_0\\sum_{i=1}^{n}x_i\\\\\n",
        "     &\\Rightarrow a_1\\sum_{i=1}^{n}x_i^2 = \\sum_{i=1}^{n}x_iy_i - (\\frac{1}{n}\\sum_{i=1}^{n}y_i - \\frac{a_1}{n}\\sum_{i=1}^{n}x_i)\\sum_{i=1}^{n}x_i\\\\\n",
        "     &\\Rightarrow a_1\\sum_{i=1}^{n}x_i^2 = \\sum_{i=1}^{n}x_iy_i - \\frac{1}{n}\\sum_{i=1}^{n}y_i\\sum_{i=1}^{n}x_i + \\frac{a_1}{n}\\left(\\sum_{i=1}^{n}x_i\\right)^2\\\\\n",
        "     &\\Rightarrow a_1\\left[\\sum_{i=1}^{n}x_i^2 - \\frac{1}{n}\\left(\\sum_{i=1}^{n}x_i\\right)^2\\right]= \\sum_{i=1}^{n}x_iy_i - \\frac{1}{n}\\sum_{i=1}^{n}y_i\\sum_{i=1}^{n}x_i\\\\\n",
        "     &\\Rightarrow a_1= \\frac{\\sum_{i=1}^{n}x_iy_i - \\frac{\\sum_{i=1}^{n}y_i\\sum_{i=1}^{n}x_i}{n}}{\\sum_{i=1}^{n}x_i^2 - \\frac{\\left(\\sum_{i=1}^{n}x_i\\right)^2}{n}}\n",
        "\\end{align*}"
      ],
      "metadata": {
        "id": "5RvgIpUjrKIJ"
      }
    },
    {
      "cell_type": "code",
      "source": [],
      "metadata": {
        "id": "-2AoD7znrGmT"
      },
      "execution_count": 69,
      "outputs": []
    },
    {
      "cell_type": "markdown",
      "source": [
        "Al expandir la función de costo, obtenemos:\n",
        "\n",
        "\\begin{align*}\n",
        "\\chi^2(a_0, a_1, a_2) &= \\sum_{i=1}^{n} \\left( y_i^2 - 2y_i(a_0 + a_1 x_i + a_2 x_i^2) + (a_0 + a_1 x_i + a_2 x_i^2)^2 \\right) \\\\\n",
        "&= \\sum_{i=1}^{n} y_i^2 - 2 \\sum_{i=1}^{n} y_i(a_0 + a_1 x_i + a_2 x_i^2) + \\sum_{i=1}^{n} (a_0 + a_1 x_i + a_2 x_i^2)^2\n",
        "\\end{align*}\n",
        "\n",
        "derivando con respecto a $a_0, a_1, a_2$\n",
        "\n",
        "**$a_0$**\n",
        "\\begin{equation}\n",
        "\\frac{\\partial \\chi^2}{\\partial a_0} = -2 \\sum_{i=1}^{n} (y_i - (a_0 + a_1 x_i + a_2 x_i^2)) = 0\n",
        "\\end{equation}\n",
        "\n",
        "\\begin{equation}\n",
        "\\sum_{i=1}^{n} y_i = n a_0 + a_1 \\sum_{i=1}^{n} x_i + a_2 \\sum_{i=1}^{n} x_i^2\n",
        "\\end{equation}\n",
        "\n",
        "\\begin{equation}\n",
        "a_0 = \\frac{1}{n} \\sum_{i=1}^{n} y_i - \\frac{a_1}{n} \\sum_{i=1}^{n} x_i - \\frac{a_2}{n} \\sum_{i=1}^{n} x_i^2\n",
        "\\end{equation}\n",
        "\n",
        "**$a_1$**\n",
        "\\begin{equation}\n",
        "\\frac{\\partial \\chi^2}{\\partial a_1} = -2 \\sum_{i=1}^{n} x_i (y_i - (a_0 + a_1 x_i + a_2 x_i^2)) = 0\n",
        "\\end{equation}\n",
        "\n",
        "\\begin{equation}\n",
        "\\sum_{i=1}^{n} x_i y_i = a_0 \\sum_{i=1}^{n} x_i + a_1 \\sum_{i=1}^{n} x_i^2 + a_2 \\sum_{i=1}^{n} x_i^3\n",
        "\\end{equation}\n",
        "\n",
        "\\begin{equation}\n",
        "\\sum_{i=1}^{n} x_i y_i = n \\bar{y} \\bar{x} - n a_1 \\bar{x}^2 - n a_2 \\bar{x} \\bar{x^2} + a_1 \\sum_{i=1}^{n} x_i^2 + a_2 \\sum_{i=1}^{n} x_i^3\n",
        "\\end{equation}\n",
        "\n",
        "**$a_2$**\n",
        "\\begin{equation}\n",
        "\\frac{\\partial \\chi^2}{\\partial a_2} = -2 \\sum_{i=1}^{n} x_i^2 (y_i - (a_0 + a_1 x_i + a_2 x_i^2)) = 0\n",
        "\\end{equation}\n",
        "\n",
        "\\begin{equation}\n",
        "\\sum_{i=1}^{n} x_i^2 y_i = a_0 \\sum_{i=1}^{n} x_i^2 + a_1 \\sum_{i=1}^{n} x_i^3 + a_2 \\sum_{i=1}^{n} x_i^4\n",
        "\\end{equation}\n",
        "\n",
        "Resolviendo el sistema de ecuaciones\n",
        "\n",
        "\\begin{equation}\n",
        "A \\begin{pmatrix}\n",
        "a_0 \\\\\n",
        "a_1 \\\\\n",
        "a_2\n",
        "\\end{pmatrix} = \\begin{pmatrix}\n",
        "\\sum_{i=1}^{n} y_i \\\\\n",
        "\\sum_{i=1}^{n} x_i y_i \\\\\n",
        "\\sum_{i=1}^{n} x_i^2 y_i\n",
        "\\end{pmatrix}\n",
        "\\end{equation}\n",
        "\n",
        "Donde:\n",
        "$$\n",
        "A = \\begin{pmatrix}\n",
        "n & \\sum x_i & \\sum x_i^2 \\\\\n",
        "\\sum x_i & \\sum x_i^2 & \\sum x_i^3 \\\\\n",
        "\\sum x_i^2 & \\sum x_i^3 & \\sum x_i^4\n",
        "\\end{pmatrix}\n",
        "$$"
      ],
      "metadata": {
        "id": "EVqXGBKyohZW"
      }
    },
    {
      "cell_type": "code",
      "source": [
        "def minimize (x, y):\n",
        "    n = len(x)\n",
        "    Sum_x = np.sum(x)\n",
        "    Sum_y = np.sum(y)\n",
        "    Sum_x2 = np.sum(x**2)\n",
        "    Sum_x3 = np.sum(x**3)\n",
        "    Sum_x4 = np.sum(x**4)\n",
        "    Sum_xy = np.sum(x * y)\n",
        "    Sum_x2y = np.sum(x**2 * y)\n",
        "\n",
        "\n",
        "    A = np.array([[n, Sum_x, Sum_x2],\n",
        "                [Sum_x, Sum_x2, Sum_x3],\n",
        "                [Sum_x2, Sum_x3, Sum_x4]])\n",
        "\n",
        "    b = np.array([Sum_y, Sum_xy, Sum_x2y])\n",
        "\n",
        "    return np.linalg.solve(A, b)"
      ],
      "metadata": {
        "id": "8kR0IEM6puKy"
      },
      "execution_count": 112,
      "outputs": []
    },
    {
      "cell_type": "code",
      "source": [
        "a0, a1, a2 = minimize(x2, y2)\n",
        "a0, a1, a2"
      ],
      "metadata": {
        "colab": {
          "base_uri": "https://localhost:8080/"
        },
        "id": "lnOPAjHAqm8A",
        "outputId": "ce0b9cc7-4c16-47ef-8ee9-09fc0f69d1a6"
      },
      "execution_count": 114,
      "outputs": [
        {
          "output_type": "execute_result",
          "data": {
            "text/plain": [
              "(-5.452822324643682, 2.2275217886094345, -0.005124248749379709)"
            ]
          },
          "metadata": {},
          "execution_count": 114
        }
      ]
    },
    {
      "cell_type": "code",
      "source": [
        "a0, a1, a2 = minimize(x3, y3)\n",
        "a0, a1, a2"
      ],
      "metadata": {
        "colab": {
          "base_uri": "https://localhost:8080/"
        },
        "id": "SXSqKvsRqhkp",
        "outputId": "77fc8bbb-3c5e-47e5-a61c-9905a9351025"
      },
      "execution_count": 113,
      "outputs": [
        {
          "output_type": "execute_result",
          "data": {
            "text/plain": [
              "(1.2213205361704154, 6.090752046362295, 2.9565874017738634)"
            ]
          },
          "metadata": {},
          "execution_count": 113
        }
      ]
    },
    {
      "cell_type": "markdown",
      "source": [
        "7.  Calcule  la  proyección  ortogonal  del  vector $\\vec{b}=  (-3,-3,8,9)$  sobre  el  sub-espacio $W$ generado por los vectores:\n",
        "\n",
        "$$\n",
        "    \\vec{u}_1 = (3,1,0,1)\n",
        "$$\n",
        "$$\n",
        "    \\vec{u}_2 = (1,2,1,1)\n",
        "$$\n",
        "$$\n",
        "    \\vec{u}_3 = (-1,0,2,-1)\n",
        "$$"
      ],
      "metadata": {
        "id": "aKoPcJIu5xo5"
      }
    },
    {
      "cell_type": "code",
      "execution_count": 70,
      "metadata": {
        "id": "KKoVvfxAvNUV",
        "colab": {
          "base_uri": "https://localhost:8080/"
        },
        "outputId": "a49337fc-252e-414a-801b-4d89f7d5170d"
      },
      "outputs": [
        {
          "output_type": "execute_result",
          "data": {
            "text/plain": [
              "array([[ 3,  1, -1],\n",
              "       [ 1,  2,  0],\n",
              "       [ 0,  1,  2],\n",
              "       [ 1,  1, -1]])"
            ]
          },
          "metadata": {},
          "execution_count": 70
        }
      ],
      "source": [
        "b = np.array([-3,-3,8,9]).T\n",
        "u1 = np.array([3,1,0,1])\n",
        "u2 = np.array([1,2,1,1])\n",
        "u3 = np.array([-1,0,2,-1])\n",
        "A=np.array([u1,u2,u3]).T\n",
        "A"
      ]
    },
    {
      "cell_type": "markdown",
      "source": [
        "a) Usando mínimos cuadrados matriciales. La proyección ortogonal es $p_W(\\vec{b}) = A\\vec{x}$, donde las columnas de $A$ son los vectores base y $\\vec{x}$ es la solución de mínimos cuadrados."
      ],
      "metadata": {
        "id": "8CQQtkiZ7sNZ"
      }
    },
    {
      "cell_type": "code",
      "source": [
        "def proy(A,b):\n",
        "\n",
        "  AT = np.dot(A.T,A)\n",
        "  bT = np.dot(A.T,b)\n",
        "\n",
        "  x = np.linalg.solve(AT,bT)\n",
        "\n",
        "  return np.dot(A,x)"
      ],
      "metadata": {
        "id": "GGUiaPimBJlN"
      },
      "execution_count": 71,
      "outputs": []
    },
    {
      "cell_type": "code",
      "source": [
        "proy(A,b)"
      ],
      "metadata": {
        "colab": {
          "base_uri": "https://localhost:8080/"
        },
        "id": "32LJO-7EDqYR",
        "outputId": "0f304ddf-81d6-40df-8e6d-2e42101531f2"
      },
      "execution_count": 72,
      "outputs": [
        {
          "output_type": "execute_result",
          "data": {
            "text/plain": [
              "array([-2.0000000e+00,  3.0000000e+00,  4.0000000e+00, -4.4408921e-16])"
            ]
          },
          "metadata": {},
          "execution_count": 72
        }
      ]
    },
    {
      "cell_type": "markdown",
      "source": [
        "\n",
        "b) Con el proceso de *Grand-Schmidt* obtener una base ortonormal $(v_1, v_2, v_3)$ y luego calcular la proyección sobre dicha base: $p_W(b) = c_1v_1 + c_2v_2 + c_3v_3$, donde $c_i = <b,v_i>$ para $1,2,3$. Respuesta: $p_W(b) = (-2,3,4,0)$\n",
        "\n",
        "Recuerde que el procedimiento de *Grand-Schimidt* es:\n",
        "\n",
        "$$\n",
        "    u_k = v_k - \\sum_{j=1}^{k-1}\\frac{<v_k,u_j>}{<u_j,u_j>}u_j.\n",
        "$$"
      ],
      "metadata": {
        "id": "YD6vN8fx8tq9"
      }
    },
    {
      "cell_type": "code",
      "source": [
        "import numpy as np\n",
        "\n",
        "def GramSchmidt(A, n=3):\n",
        "    base_ortogonal = np.zeros_like(A, dtype=float)\n",
        "\n",
        "    u_1 = A.T[0].copy()\n",
        "    norma_u1 = np.linalg.norm(u_1)\n",
        "\n",
        "    if norma_u1 != 0:\n",
        "        base_ortogonal.T[0] = u_1 / norma_u1\n",
        "    else:\n",
        "        raise ValueError(\"division por 0\")\n",
        "\n",
        "\n",
        "    for k in range(1, n):\n",
        "        suma = 0\n",
        "        for j in range(k):\n",
        "            denominador = np.dot(base_ortogonal.T[j], base_ortogonal.T[j])\n",
        "            if denominador != 0:\n",
        "                suma += (np.dot(A.T[k], base_ortogonal.T[j]) / denominador) * base_ortogonal.T[j]\n",
        "\n",
        "        u_k = A.T[k] - suma\n",
        "        norma_u_k = np.linalg.norm(u_k)\n",
        "\n",
        "        if norma_u_k != 0:\n",
        "            base_ortogonal.T[k] = u_k / norma_u_k\n",
        "        else:\n",
        "            raise ValueError(\"division por 0\")\n",
        "\n",
        "    return base_ortogonal\n"
      ],
      "metadata": {
        "id": "a9D8wYfu_LPy"
      },
      "execution_count": 73,
      "outputs": []
    },
    {
      "cell_type": "code",
      "source": [
        "V = GramSchmidt(A)"
      ],
      "metadata": {
        "id": "gw8aYQPrGgyQ"
      },
      "execution_count": 74,
      "outputs": []
    },
    {
      "cell_type": "code",
      "source": [
        "proy = np.zeros(4)\n",
        "v1 = V.T[0]\n",
        "v2 = V.T[1]\n",
        "v3 = V.T[2]\n",
        "\n",
        "c1 = np.dot(b, v1)\n",
        "c2 = np.dot(b, v2)\n",
        "c3 = np.dot(b, v3)\n",
        "\n",
        "proy = c1*v1 + c2*v2 + c3*v3\n",
        "proy\n"
      ],
      "metadata": {
        "colab": {
          "base_uri": "https://localhost:8080/"
        },
        "id": "MU3r0B-fLcFQ",
        "outputId": "e0a9ec56-820b-47e4-8684-69b3050ead54"
      },
      "execution_count": 75,
      "outputs": [
        {
          "output_type": "execute_result",
          "data": {
            "text/plain": [
              "array([-2.00000000e+00,  3.00000000e+00,  4.00000000e+00,  3.33066907e-16])"
            ]
          },
          "metadata": {},
          "execution_count": 75
        }
      ]
    },
    {
      "cell_type": "markdown",
      "source": [
        "Extra:\n",
        "\n",
        "Encontrar la configuración que adopta un sistema de $N=50$ partículas que interacutan con un potencial de **lennar Jonnes**. Use el algoritmo genético para minimizar la energía total del sistema: Use la siguiente definición de potencial y de energía: (Estos no son métodos de clase , Cuidado!)"
      ],
      "metadata": {
        "id": "ZQM1mmu21Yp5"
      }
    },
    {
      "cell_type": "code",
      "source": [
        "def LennardJones(r, epsilon=1, sigma=1):\n",
        "    \"\"\"\n",
        "    Potencial de Lennard-Jones para dos partículas a una distancia r.\n",
        "    \"\"\"\n",
        "    return 4 * epsilon * ((sigma / r)**12 - (sigma / r)**6)\n",
        "\n",
        "def TotalEnergy(positions, H = 0, epsilon=1, sigma=1):\n",
        "    \"\"\"\n",
        "    Calcula la energía total de un sistema de partículas en posiciones dadas.\n",
        "    \"\"\"\n",
        "    N = len(positions)\n",
        "    energy = 0\n",
        "    for i in range(N):\n",
        "        for j in range(i + 1, N):\n",
        "            ra = np.linalg.norm(positions[i].GetR() - positions[j].GetR())  # Distancia entre partículas\n",
        "            if r != 0:\n",
        "                energy += LennardJones(ra, epsilon, sigma)\n",
        "    return energy"
      ],
      "metadata": {
        "id": "dIjOF-tF1ovc"
      },
      "execution_count": 76,
      "outputs": []
    },
    {
      "cell_type": "code",
      "source": [
        "from IPython.display import clear_output\n",
        "import time\n",
        "import copy"
      ],
      "metadata": {
        "id": "w0EiTKr5PXFb"
      },
      "execution_count": 77,
      "outputs": []
    },
    {
      "cell_type": "code",
      "source": [
        "class Robot:\n",
        "\n",
        "  def __init__(self, f, Id=0):\n",
        "\n",
        "    self.Id = Id\n",
        "    self.f = f\n",
        "\n",
        "    self.r = np.random.uniform(-10,10, size=3)\n",
        "\n",
        "  # Getter de clase: Me da la posicion del robot\n",
        "  def GetR(self):\n",
        "    return self.r\n",
        "\n",
        "  # Buscamos la posibilidad de mejorar (Mutar)\n",
        "  def Mutate(self):\n",
        "    # Cambiar el lugar donde estoy aleatoriamente\n",
        "    #self.r += np.random.uniform(-0.001,0.001)\n",
        "    self.r += np.random.normal(loc=0,scale=1., size=3)\n",
        "\n",
        "  def SetFitness(self, positions, epsilon=1, sigma=1):\n",
        "        h = 1e-2\n",
        "        energia_actual = TotalEnergy(positions, epsilon, sigma)\n",
        "        posiciones_adelante = positions.copy()\n",
        "        posiciones_atras = positions.copy()\n",
        "\n",
        "        posiciones_adelante[self.Id].r = self.r + h\n",
        "        posiciones_atras[self.Id].r = self.r - h\n",
        "\n",
        "        energia_adelante = TotalEnergy(posiciones_adelante, epsilon, sigma)\n",
        "        energia_atras = TotalEnergy(posiciones_atras, epsilon, sigma)\n",
        "\n",
        "        derivada = (energia_adelante - energia_atras) / (2 * h)\n",
        "        self.fitness = np.abs(derivada) + 0.1\n",
        "\n",
        "  @property\n",
        "  def Fitness(self):\n",
        "    return self.fitness\n",
        "\n",
        "  def __repr__(self):\n",
        "    return f\"Robot {self.Id}\""
      ],
      "metadata": {
        "id": "ti1wd8e5OwEM"
      },
      "execution_count": 104,
      "outputs": []
    },
    {
      "cell_type": "code",
      "source": [
        "robot_prueba = Robot(TotalEnergy)\n",
        "print(robot_prueba.GetR())\n",
        "robot_prueba.Mutate()\n",
        "print(robot_prueba.GetR())"
      ],
      "metadata": {
        "colab": {
          "base_uri": "https://localhost:8080/"
        },
        "id": "qxczTCAYW2if",
        "outputId": "3ac24673-eb33-4dab-bd5b-8bfd62f506b2"
      },
      "execution_count": 105,
      "outputs": [
        {
          "output_type": "stream",
          "name": "stdout",
          "text": [
            "[-1.22351158  3.93836112 -5.68986582]\n",
            "[-1.62975497  5.41818028 -6.3594438 ]\n"
          ]
        }
      ]
    },
    {
      "cell_type": "code",
      "source": [
        "def GetRobots(N):\n",
        "\n",
        "  Robots = []\n",
        "\n",
        "  for i in range(N):\n",
        "    r = Robot(TotalEnergy,i)\n",
        "    Robots.append(r)\n",
        "\n",
        "  return Robots"
      ],
      "metadata": {
        "id": "QgTpzc5wRR_3"
      },
      "execution_count": 106,
      "outputs": []
    },
    {
      "cell_type": "code",
      "source": [
        "Robots = GetRobots(50)\n",
        "for r in Robots:\n",
        "  print(r.GetR())"
      ],
      "metadata": {
        "colab": {
          "base_uri": "https://localhost:8080/"
        },
        "id": "Bt3sEnalWlLK",
        "outputId": "fade12fa-5900-463b-e5e8-54f4ad22d251"
      },
      "execution_count": 107,
      "outputs": [
        {
          "output_type": "stream",
          "name": "stdout",
          "text": [
            "[-8.78812704  7.70978511  3.96771314]\n",
            "[ 5.54197261 -6.22682203 -4.59264932]\n",
            "[-4.55066793 -0.86590292 -4.13551838]\n",
            "[-4.73140618 -9.34083211 -3.14791154]\n",
            "[-6.7935345   4.14927309 -5.20962886]\n",
            "[ 5.5191854  -1.07490658 -3.82016726]\n",
            "[ 2.52773863  5.24081016 -7.03591358]\n",
            "[-9.60112123  0.65027928 -0.02448126]\n",
            "[-3.86117175  1.777935    6.09680889]\n",
            "[-7.14283288 -2.21240582  7.1375506 ]\n",
            "[ 7.2240284  -3.15443735  7.05746266]\n",
            "[-7.7041045   2.01056904 -1.85253024]\n",
            "[ 4.72888718 -1.64075216 -1.3479018 ]\n",
            "[ 9.40491501 -7.75084611 -3.38677794]\n",
            "[-3.35472967 -3.41187188  8.35979284]\n",
            "[-1.1620924  -9.36098308  3.44661719]\n",
            "[-0.74893435  5.99616273 -1.5033722 ]\n",
            "[-8.34125069  7.52922408  3.44735564]\n",
            "[-5.54011072 -0.49470094  4.17983275]\n",
            "[ 1.83802443 -0.01172307 -0.06651331]\n",
            "[-4.04718752  7.85438945 -3.58788697]\n",
            "[-5.53834661  5.99019861  9.94199529]\n",
            "[-7.6910663  -5.15303136  8.03980064]\n",
            "[-0.24725071  2.25192785  6.62676554]\n",
            "[5.23981739 4.51591918 6.62265672]\n",
            "[ 7.41245677  9.89810771 -2.0235844 ]\n",
            "[ 2.85659844 -5.97682346 -9.36679535]\n",
            "[-0.92588398 -8.76625016  2.08674787]\n",
            "[ 1.58534762 -1.28264123 -3.64860179]\n",
            "[-0.99462313 -8.14320915  2.32450942]\n",
            "[0.78930371 1.90449489 8.14303261]\n",
            "[-3.64456544 -1.95574455 -2.41381295]\n",
            "[-9.56818328  8.10983521 -3.06249975]\n",
            "[-9.25643456 -8.55750021 -4.27081238]\n",
            "[-7.35730474 -9.18434873  3.88544466]\n",
            "[8.01436905 3.35307171 3.03357692]\n",
            "[-8.15653623  9.35790061 -1.88236204]\n",
            "[ 2.63360622 -3.3773087   4.21979243]\n",
            "[ 6.00026272  3.76382378 -2.6684605 ]\n",
            "[ 4.86229275 -8.50010211 -0.06451265]\n",
            "[ 6.5855154  -0.29521682 -6.55487806]\n",
            "[-0.96463291 -7.59752549 -3.3132945 ]\n",
            "[4.18579882 9.0787295  4.6429237 ]\n",
            "[ 2.29849141  5.57132625 -5.34353949]\n",
            "[ 3.93002286 -9.70074032  1.65331196]\n",
            "[-5.50452159  8.79128956  1.689261  ]\n",
            "[7.1405076  7.24145387 3.5592685 ]\n",
            "[2.14538074 4.16583351 1.02818052]\n",
            "[-8.41720018 -7.40537489  9.03696935]\n",
            "[-0.14990405 -4.44587903 -6.99642276]\n"
          ]
        }
      ]
    },
    {
      "cell_type": "code",
      "source": [
        "from mpl_toolkits.mplot3d import Axes3D"
      ],
      "metadata": {
        "id": "BGR6Op0uaJh4"
      },
      "execution_count": 108,
      "outputs": []
    },
    {
      "cell_type": "code",
      "source": [
        "def Scatter(e, positions):\n",
        "    fig, ax = plt.subplots(subplot_kw={\"projection\": \"3d\"}, figsize=(5, 5))\n",
        "    ax.set_title('Epoch: {:.0f}'.format(e), fontsize=10)\n",
        "\n",
        "    for robot in positions:\n",
        "        pos = robot.GetR()\n",
        "        ax.scatter(pos[0], pos[1], pos[2], s=50)\n",
        "\n",
        "    ax.set_xlabel('X')\n",
        "    ax.set_ylabel('Y')\n",
        "    ax.set_zlabel('Z')\n",
        "\n",
        "    plt.show()\n",
        "    return fig, ax"
      ],
      "metadata": {
        "id": "WV8oQE0yQx-I"
      },
      "execution_count": 109,
      "outputs": []
    },
    {
      "cell_type": "code",
      "source": [
        "def Genetic(Robots, epochs=30):\n",
        "    N = int(0.9 * len(Robots))\n",
        "\n",
        "    for e in range(epochs):\n",
        "        clear_output(wait=True)\n",
        "        _, ax = Scatter(e, Robots)\n",
        "\n",
        "        # Mutar y calcular fitness\n",
        "        for p in Robots:\n",
        "            p.Mutate()\n",
        "            p.SetFitness(positions=Robots)\n",
        "\n",
        "        # Medir fitness\n",
        "        score = [(p.Fitness, p) for p in Robots]\n",
        "        score = sorted(score, key=lambda x: x[0], reverse=False)\n",
        "\n",
        "        Temp = [r[1] for i, r in enumerate(score) if i < N]\n",
        "\n",
        "        # Reintroducción aleatoria\n",
        "        for i in range(int(0.1 * len(Robots))):\n",
        "            Robots[i] = Robot(TotalEnergy, i)\n",
        "\n",
        "        # Reemplazo de robots más aptos\n",
        "        for i, r in enumerate(Robots):\n",
        "            j = i % N\n",
        "            Robots[i] = copy.deepcopy(Temp[j])\n",
        "\n",
        "        # Pintar los robots\n",
        "        for p in Robots:\n",
        "            pos = p.GetR()  # Obtener la posición\n",
        "            ax.scatter(*pos, marker='o', s=50)\n",
        "\n",
        "        plt.show()"
      ],
      "metadata": {
        "id": "ytFolQbyhr50"
      },
      "execution_count": 110,
      "outputs": []
    },
    {
      "cell_type": "code",
      "source": [
        "Genetic(Robots, epochs=1000)"
      ],
      "metadata": {
        "colab": {
          "base_uri": "https://localhost:8080/",
          "height": 722
        },
        "id": "i-jnhTe6RC0Y",
        "outputId": "ffa4e6df-bf56-43a7-c57e-c9d7331dfbfe"
      },
      "execution_count": 111,
      "outputs": [
        {
          "output_type": "display_data",
          "data": {
            "text/plain": [
              "<Figure size 500x500 with 1 Axes>"
            ],
            "image/png": "[encoded data removed]"
          },
          "metadata": {}
        },
        {
          "output_type": "error",
          "ename": "KeyboardInterrupt",
          "evalue": "",
          "traceback": [
            "\u001b[0;31m---------------------------------------------------------------------------\u001b[0m",
            "\u001b[0;31mKeyboardInterrupt\u001b[0m                         Traceback (most recent call last)",
            "\u001b[0;32m<ipython-input-111-82b18c232204>\u001b[0m in \u001b[0;36m<cell line: 1>\u001b[0;34m()\u001b[0m\n\u001b[0;32m----> 1\u001b[0;31m \u001b[0mGenetic\u001b[0m\u001b[0;34m(\u001b[0m\u001b[0mRobots\u001b[0m\u001b[0;34m,\u001b[0m \u001b[0mepochs\u001b[0m\u001b[0;34m=\u001b[0m\u001b[0;36m1000\u001b[0m\u001b[0;34m)\u001b[0m\u001b[0;34m\u001b[0m\u001b[0;34m\u001b[0m\u001b[0m\n\u001b[0m",
            "\u001b[0;32m<ipython-input-110-f872cd801c39>\u001b[0m in \u001b[0;36mGenetic\u001b[0;34m(Robots, epochs)\u001b[0m\n\u001b[1;32m      9\u001b[0m         \u001b[0;32mfor\u001b[0m \u001b[0mp\u001b[0m \u001b[0;32min\u001b[0m \u001b[0mRobots\u001b[0m\u001b[0;34m:\u001b[0m\u001b[0;34m\u001b[0m\u001b[0;34m\u001b[0m\u001b[0m\n\u001b[1;32m     10\u001b[0m             \u001b[0mp\u001b[0m\u001b[0;34m.\u001b[0m\u001b[0mMutate\u001b[0m\u001b[0;34m(\u001b[0m\u001b[0;34m)\u001b[0m\u001b[0;34m\u001b[0m\u001b[0;34m\u001b[0m\u001b[0m\n\u001b[0;32m---> 11\u001b[0;31m             \u001b[0mp\u001b[0m\u001b[0;34m.\u001b[0m\u001b[0mSetFitness\u001b[0m\u001b[0;34m(\u001b[0m\u001b[0mpositions\u001b[0m\u001b[0;34m=\u001b[0m\u001b[0mRobots\u001b[0m\u001b[0;34m)\u001b[0m\u001b[0;34m\u001b[0m\u001b[0;34m\u001b[0m\u001b[0m\n\u001b[0m\u001b[1;32m     12\u001b[0m \u001b[0;34m\u001b[0m\u001b[0m\n\u001b[1;32m     13\u001b[0m         \u001b[0;31m# Medir fitness\u001b[0m\u001b[0;34m\u001b[0m\u001b[0;34m\u001b[0m\u001b[0m\n",
            "\u001b[0;32m<ipython-input-104-7800ec588762>\u001b[0m in \u001b[0;36mSetFitness\u001b[0;34m(self, positions, epsilon, sigma)\u001b[0m\n\u001b[1;32m     20\u001b[0m   \u001b[0;32mdef\u001b[0m \u001b[0mSetFitness\u001b[0m\u001b[0;34m(\u001b[0m\u001b[0mself\u001b[0m\u001b[0;34m,\u001b[0m \u001b[0mpositions\u001b[0m\u001b[0;34m,\u001b[0m \u001b[0mepsilon\u001b[0m\u001b[0;34m=\u001b[0m\u001b[0;36m1\u001b[0m\u001b[0;34m,\u001b[0m \u001b[0msigma\u001b[0m\u001b[0;34m=\u001b[0m\u001b[0;36m1\u001b[0m\u001b[0;34m)\u001b[0m\u001b[0;34m:\u001b[0m\u001b[0;34m\u001b[0m\u001b[0;34m\u001b[0m\u001b[0m\n\u001b[1;32m     21\u001b[0m         \u001b[0mh\u001b[0m \u001b[0;34m=\u001b[0m \u001b[0;36m1e-2\u001b[0m\u001b[0;34m\u001b[0m\u001b[0;34m\u001b[0m\u001b[0m\n\u001b[0;32m---> 22\u001b[0;31m         \u001b[0menergia_actual\u001b[0m \u001b[0;34m=\u001b[0m \u001b[0mTotalEnergy\u001b[0m\u001b[0;34m(\u001b[0m\u001b[0mpositions\u001b[0m\u001b[0;34m,\u001b[0m \u001b[0mepsilon\u001b[0m\u001b[0;34m,\u001b[0m \u001b[0msigma\u001b[0m\u001b[0;34m)\u001b[0m\u001b[0;34m\u001b[0m\u001b[0;34m\u001b[0m\u001b[0m\n\u001b[0m\u001b[1;32m     23\u001b[0m         \u001b[0mposiciones_adelante\u001b[0m \u001b[0;34m=\u001b[0m \u001b[0mpositions\u001b[0m\u001b[0;34m.\u001b[0m\u001b[0mcopy\u001b[0m\u001b[0;34m(\u001b[0m\u001b[0;34m)\u001b[0m\u001b[0;34m\u001b[0m\u001b[0;34m\u001b[0m\u001b[0m\n\u001b[1;32m     24\u001b[0m         \u001b[0mposiciones_atras\u001b[0m \u001b[0;34m=\u001b[0m \u001b[0mpositions\u001b[0m\u001b[0;34m.\u001b[0m\u001b[0mcopy\u001b[0m\u001b[0;34m(\u001b[0m\u001b[0;34m)\u001b[0m\u001b[0;34m\u001b[0m\u001b[0;34m\u001b[0m\u001b[0m\n",
            "\u001b[0;32m<ipython-input-76-b9dde7b8af4a>\u001b[0m in \u001b[0;36mTotalEnergy\u001b[0;34m(positions, H, epsilon, sigma)\u001b[0m\n\u001b[1;32m     13\u001b[0m     \u001b[0;32mfor\u001b[0m \u001b[0mi\u001b[0m \u001b[0;32min\u001b[0m \u001b[0mrange\u001b[0m\u001b[0;34m(\u001b[0m\u001b[0mN\u001b[0m\u001b[0;34m)\u001b[0m\u001b[0;34m:\u001b[0m\u001b[0;34m\u001b[0m\u001b[0;34m\u001b[0m\u001b[0m\n\u001b[1;32m     14\u001b[0m         \u001b[0;32mfor\u001b[0m \u001b[0mj\u001b[0m \u001b[0;32min\u001b[0m \u001b[0mrange\u001b[0m\u001b[0;34m(\u001b[0m\u001b[0mi\u001b[0m \u001b[0;34m+\u001b[0m \u001b[0;36m1\u001b[0m\u001b[0;34m,\u001b[0m \u001b[0mN\u001b[0m\u001b[0;34m)\u001b[0m\u001b[0;34m:\u001b[0m\u001b[0;34m\u001b[0m\u001b[0;34m\u001b[0m\u001b[0m\n\u001b[0;32m---> 15\u001b[0;31m             \u001b[0mra\u001b[0m \u001b[0;34m=\u001b[0m \u001b[0mnp\u001b[0m\u001b[0;34m.\u001b[0m\u001b[0mlinalg\u001b[0m\u001b[0;34m.\u001b[0m\u001b[0mnorm\u001b[0m\u001b[0;34m(\u001b[0m\u001b[0mpositions\u001b[0m\u001b[0;34m[\u001b[0m\u001b[0mi\u001b[0m\u001b[0;34m]\u001b[0m\u001b[0;34m.\u001b[0m\u001b[0mGetR\u001b[0m\u001b[0;34m(\u001b[0m\u001b[0;34m)\u001b[0m \u001b[0;34m-\u001b[0m \u001b[0mpositions\u001b[0m\u001b[0;34m[\u001b[0m\u001b[0mj\u001b[0m\u001b[0;34m]\u001b[0m\u001b[0;34m.\u001b[0m\u001b[0mGetR\u001b[0m\u001b[0;34m(\u001b[0m\u001b[0;34m)\u001b[0m\u001b[0;34m)\u001b[0m  \u001b[0;31m# Distancia entre partículas\u001b[0m\u001b[0;34m\u001b[0m\u001b[0;34m\u001b[0m\u001b[0m\n\u001b[0m\u001b[1;32m     16\u001b[0m             \u001b[0;32mif\u001b[0m \u001b[0mr\u001b[0m \u001b[0;34m!=\u001b[0m \u001b[0;36m0\u001b[0m\u001b[0;34m:\u001b[0m\u001b[0;34m\u001b[0m\u001b[0;34m\u001b[0m\u001b[0m\n\u001b[1;32m     17\u001b[0m                 \u001b[0menergy\u001b[0m \u001b[0;34m+=\u001b[0m \u001b[0mLennardJones\u001b[0m\u001b[0;34m(\u001b[0m\u001b[0mra\u001b[0m\u001b[0;34m,\u001b[0m \u001b[0mepsilon\u001b[0m\u001b[0;34m,\u001b[0m \u001b[0msigma\u001b[0m\u001b[0;34m)\u001b[0m\u001b[0;34m\u001b[0m\u001b[0;34m\u001b[0m\u001b[0m\n",
            "\u001b[0;32m/usr/local/lib/python3.10/dist-packages/numpy/linalg/linalg.py\u001b[0m in \u001b[0;36mnorm\u001b[0;34m(x, ord, axis, keepdims)\u001b[0m\n\u001b[1;32m   2545\u001b[0m \u001b[0;34m\u001b[0m\u001b[0m\n\u001b[1;32m   2546\u001b[0m             \u001b[0mx\u001b[0m \u001b[0;34m=\u001b[0m \u001b[0mx\u001b[0m\u001b[0;34m.\u001b[0m\u001b[0mravel\u001b[0m\u001b[0;34m(\u001b[0m\u001b[0morder\u001b[0m\u001b[0;34m=\u001b[0m\u001b[0;34m'K'\u001b[0m\u001b[0;34m)\u001b[0m\u001b[0;34m\u001b[0m\u001b[0;34m\u001b[0m\u001b[0m\n\u001b[0;32m-> 2547\u001b[0;31m             \u001b[0;32mif\u001b[0m \u001b[0misComplexType\u001b[0m\u001b[0;34m(\u001b[0m\u001b[0mx\u001b[0m\u001b[0;34m.\u001b[0m\u001b[0mdtype\u001b[0m\u001b[0;34m.\u001b[0m\u001b[0mtype\u001b[0m\u001b[0;34m)\u001b[0m\u001b[0;34m:\u001b[0m\u001b[0;34m\u001b[0m\u001b[0;34m\u001b[0m\u001b[0m\n\u001b[0m\u001b[1;32m   2548\u001b[0m                 \u001b[0mx_real\u001b[0m \u001b[0;34m=\u001b[0m \u001b[0mx\u001b[0m\u001b[0;34m.\u001b[0m\u001b[0mreal\u001b[0m\u001b[0;34m\u001b[0m\u001b[0;34m\u001b[0m\u001b[0m\n\u001b[1;32m   2549\u001b[0m                 \u001b[0mx_imag\u001b[0m \u001b[0;34m=\u001b[0m \u001b[0mx\u001b[0m\u001b[0;34m.\u001b[0m\u001b[0mimag\u001b[0m\u001b[0;34m\u001b[0m\u001b[0;34m\u001b[0m\u001b[0m\n",
            "\u001b[0;32m/usr/local/lib/python3.10/dist-packages/numpy/linalg/linalg.py\u001b[0m in \u001b[0;36misComplexType\u001b[0;34m(t)\u001b[0m\n\u001b[1;32m    138\u001b[0m     \u001b[0;32mreturn\u001b[0m \u001b[0mnew\u001b[0m\u001b[0;34m,\u001b[0m \u001b[0mwrap\u001b[0m\u001b[0;34m\u001b[0m\u001b[0;34m\u001b[0m\u001b[0m\n\u001b[1;32m    139\u001b[0m \u001b[0;34m\u001b[0m\u001b[0m\n\u001b[0;32m--> 140\u001b[0;31m \u001b[0;32mdef\u001b[0m \u001b[0misComplexType\u001b[0m\u001b[0;34m(\u001b[0m\u001b[0mt\u001b[0m\u001b[0;34m)\u001b[0m\u001b[0;34m:\u001b[0m\u001b[0;34m\u001b[0m\u001b[0;34m\u001b[0m\u001b[0m\n\u001b[0m\u001b[1;32m    141\u001b[0m     \u001b[0;32mreturn\u001b[0m \u001b[0missubclass\u001b[0m\u001b[0;34m(\u001b[0m\u001b[0mt\u001b[0m\u001b[0;34m,\u001b[0m \u001b[0mcomplexfloating\u001b[0m\u001b[0;34m)\u001b[0m\u001b[0;34m\u001b[0m\u001b[0;34m\u001b[0m\u001b[0m\n\u001b[1;32m    142\u001b[0m \u001b[0;34m\u001b[0m\u001b[0m\n",
            "\u001b[0;31mKeyboardInterrupt\u001b[0m: "
          ]
        }
      ]
    }
  ]
}