{
  "nbformat": 4,
  "nbformat_minor": 0,
  "metadata": {
    "colab": {
      "provenance": [],
      "toc_visible": true
    },
    "kernelspec": {
      "name": "python3",
      "display_name": "Python 3"
    },
    "language_info": {
      "name": "python"
    }
  },
  "cells": [
    {
      "cell_type": "code",
      "source": [
        "import numpy as np\n",
        "import matplotlib.pyplot as plt\n",
        "import sympy as sym\n",
        "import scipy.optimize as spo"
      ],
      "metadata": {
        "id": "HpwpwbKHhjH5"
      },
      "execution_count": 113,
      "outputs": []
    },
    {
      "cell_type": "markdown",
      "source": [
        "# Ejercicios Probabilidad condicional y total"
      ],
      "metadata": {
        "id": "7Jnof6rHDj65"
      }
    },
    {
      "cell_type": "markdown",
      "source": [
        "##1\n",
        "En una conferencia hay 1000 participantes distribuidos del siguiente modo: 185 hombres usan gafas, 415 hombres no usan gafas, 115 mujeres que usan gafas: determina la probabilidad de:\n",
        "\n",
        "\\begin{array}{llll}\n",
        "\\hline\n",
        "             & Hombres & Mujeres & Totales \\\\ \\hline\n",
        "Usa\\:\\:\\:gafas & 185     & 115     & 300     \\\\\n",
        "No\\:\\:\\:usa\\:\\:\\:gafas & 415     & 285     & 700     \\\\ \\hline\n",
        "Totales      & 600     & 400     & 1000    \\\\ \\hline\n",
        "\\end{array}\n",
        "\n"
      ],
      "metadata": {
        "id": "yq4RGDT1DwTx"
      }
    },
    {
      "cell_type": "markdown",
      "source": [
        "###a\n",
        "Ser hombre $\"\\mathbb{P}(H)=3/5\"$"
      ],
      "metadata": {
        "id": "llrfOI2ZEtQ9"
      }
    },
    {
      "cell_type": "markdown",
      "source": [
        "Diremos que la probablidad de ser hombre esta dada por la siguiente formula:\n",
        "\\begin{equation}\n",
        "    \\mathbb{P}(H) = \\frac{\\# hombres}{\\# personas\\:\\;totales}\n",
        "\\end{equation}\n",
        "\\begin{equation}\n",
        "    \\mathbb{P}(H) = \\frac{600}{1000}\n",
        "\\end{equation}\n",
        "\\begin{equation}\n",
        "    \\mathbb{P}(H) = \\frac{3}{5}\n",
        "\\end{equation}"
      ],
      "metadata": {
        "id": "13Uo7JmNIrZx"
      }
    },
    {
      "cell_type": "markdown",
      "source": [
        "###b\n",
        "Ser mujer $\"\\mathbb{P}(M)=2/5\"$"
      ],
      "metadata": {
        "id": "c7ULbzkAFNzP"
      }
    },
    {
      "cell_type": "markdown",
      "source": [
        "Diremos que la probablidad de ser mujer esta dada por la siguiente formula:\n",
        "\\begin{equation}\n",
        "    \\mathbb{P}(M) = \\frac{\\# mujeres}{\\# personas\\:\\;totales}\n",
        "\\end{equation}\n",
        "\\begin{equation}\n",
        "    \\mathbb{P}(M) = \\frac{400}{1000}\n",
        "\\end{equation}\n",
        "\\begin{equation}\n",
        "    \\mathbb{P}(M) = \\frac{2}{5}\n",
        "\\end{equation}"
      ],
      "metadata": {
        "id": "PUU_VLOaJ72q"
      }
    },
    {
      "cell_type": "markdown",
      "source": [
        "###c\n",
        "Usar gafas $\"\\mathbb{P}(G)=3/10\"$"
      ],
      "metadata": {
        "id": "HJywPtfeFgKp"
      }
    },
    {
      "cell_type": "markdown",
      "source": [
        "Diremos que la probablidad de usar gafas esta dada por la siguiente formula:\n",
        "\\begin{equation}\n",
        "    \\mathbb{P}(G) = \\frac{\\# personas\\:\\;con\\:\\;gafas}{\\# personas\\:\\;totales}\n",
        "\\end{equation}\n",
        "\\begin{equation}\n",
        "    \\mathbb{P}(G) = \\frac{300}{1000}\n",
        "\\end{equation}\n",
        "\\begin{equation}\n",
        "    \\mathbb{P}(G) = \\frac{3}{10}\n",
        "\\end{equation}"
      ],
      "metadata": {
        "id": "f-4DSdUSKSRB"
      }
    },
    {
      "cell_type": "markdown",
      "source": [
        "###d\n",
        "Que lleve gafas si sabemos que es mujer $\\mathbb{P}(G/M)=\\frac{\\mathbb{P}(G \\cap M)}{\\mathbb{P}(M)} = 23/80$"
      ],
      "metadata": {
        "id": "5G0BRHcGFoK_"
      }
    },
    {
      "cell_type": "markdown",
      "source": [
        "Diremos que la probablidad de que lleve gafas sabiendo que es mujer esta dada por la siguiente formula:\n",
        "\\begin{equation}\n",
        "    \\mathbb{P}(G/M) = \\frac{\\mathbb{P}(G \\cap M)}{\\mathbb{P}(M)}\n",
        "\\end{equation}\n",
        "____________________________________________________________________\n",
        "\\begin{equation}\n",
        "    \\mathbb{P}(M\\cap G) = \\frac{\\#mujeres\\:\\;con\\:\\:gafas}{\\#personas}\n",
        "\\end{equation}\n",
        "\\begin{equation}\n",
        "    \\mathbb{P}(M\\cap G) = \\frac{115}{1000} = \\frac{23}{200}\n",
        "\\end{equation}\n",
        "____________________________________________________________________\n",
        "\\begin{equation}\n",
        "    \\Rightarrow\\mathbb{P}(G/M) = \\frac{\\frac{23}{200}}{\\frac{2}{5}}\n",
        "\\end{equation}\n",
        "\\begin{equation}\n",
        "    \\mathbb{P}(G/M) = \\frac{23}{80}\n",
        "\\end{equation}"
      ],
      "metadata": {
        "id": "WxQKDrvZK2uk"
      }
    },
    {
      "cell_type": "markdown",
      "source": [
        "##2\n",
        "Lanzamos un dado de 6 caras. Si sale 1 o 2 extraemos una bola de la urna 1. Si sale 3,4,5,6 extremos una bola de la urna 2. En la urna 1 tenemos 3 bolas rojas, 1 negra y 6 verdes, y en la urna 2 tenemos 6 bolas rojas, 2 negras y 2 verdes. Calcular la probabilidad de que la bola obtenida:"
      ],
      "metadata": {
        "id": "Gpxpt7u1Rr2G"
      }
    },
    {
      "cell_type": "markdown",
      "source": [
        "###a\n",
        "Sea roja: $\"\\mathbb{P}(R)=1/2\"$"
      ],
      "metadata": {
        "id": "H9gkV8MmTIvm"
      }
    },
    {
      "cell_type": "markdown",
      "source": [
        "Diremos que la probabilidad de que la bola sea roja esta dada por la formula:\n",
        "\n",
        "\\begin{equation}\n",
        "    \\mathbb{P}(R)=\\mathbb{P}(R/U_1)\\cdot\\mathbb{P}(U_1)+\\mathbb{P}(R/U_2)\\cdot\\mathbb{P}(U_2)\n",
        "\\end{equation}\n",
        "\n",
        "\\begin{equation}\n",
        "    \\mathbb{P}(R)=\\frac{3}{10}\\cdot\\frac{2}{6}+\\frac{6}{10}\\cdot\\frac{4}{6}\n",
        "\\end{equation}\n",
        "\\begin{equation}\n",
        "    \\mathbb{P}(R)=\\frac{1}{2}\n",
        "\\end{equation}"
      ],
      "metadata": {
        "id": "9Lwg9nQGTcnb"
      }
    },
    {
      "cell_type": "markdown",
      "source": [
        "###b\n",
        "Sea negra: $\"\\mathbb{P}(N)=1/6\"$"
      ],
      "metadata": {
        "id": "z0X5MQVdVgxS"
      }
    },
    {
      "cell_type": "markdown",
      "source": [
        "Diremos que la probabilidad de que la bola sea negra esta dada por la formula:\n",
        "\n",
        "\\begin{equation}\n",
        "    \\mathbb{P}(N)=\\mathbb{P}(N/U_1)\\cdot\\mathbb{P}(U_1)+\\mathbb{P}(N/U_2)\\cdot\\mathbb{P}(U_2)\n",
        "\\end{equation}\n",
        "\n",
        "\\begin{equation}\n",
        "    \\mathbb{P}(N)=\\frac{1}{10}\\cdot\\frac{2}{6}+\\frac{2}{10}\\cdot\\frac{4}{6}\n",
        "\\end{equation}\n",
        "\\begin{equation}\n",
        "    \\mathbb{P}(N)=\\frac{1}{6}\n",
        "\\end{equation}"
      ],
      "metadata": {
        "id": "s8TPYNaUV1nY"
      }
    },
    {
      "cell_type": "markdown",
      "source": [
        "###c\n",
        "Sea de la urna 1 si se ha obtenido una bola negra $\"\\mathbb{P}(U_1/N)=1/5\"$"
      ],
      "metadata": {
        "id": "OAGc7Sh8WlIj"
      }
    },
    {
      "cell_type": "markdown",
      "source": [
        "Diremos que la probabilidad de que la bola sea de la urna 1 dado que es negra esta dada por la formula:\n",
        "\n",
        "\\begin{equation}\n",
        "    \\mathbb{P}(U_1/N) = \\frac{\\mathbb{P}(N/U_1)\\cdot\\mathbb{P}(U_1)}{\\mathbb{P}(N)}\n",
        "\\end{equation}\n",
        "\\begin{equation}\n",
        "    \\mathbb{P}(U_1/ N)=\\frac{\\frac{1}{10}\\cdot\\frac{2}{6}}{\\frac{1}{6}}\n",
        "\\end{equation}\n",
        "\\begin{equation}\n",
        "    \\mathbb{P}(U_1/ N)=\\frac{1}{5}\n",
        "\\end{equation}\n"
      ],
      "metadata": {
        "id": "9REtBpAXW1oB"
      }
    },
    {
      "cell_type": "markdown",
      "source": [
        "###d\n",
        "Sea de la urna 2 si se ha obtenido una bola negra $\"\\mathbb{P}(U_2/N)=4/5\"$"
      ],
      "metadata": {
        "id": "t-bpWHeuZ9Sa"
      }
    },
    {
      "cell_type": "markdown",
      "source": [
        "Diremos que la probabilidad de que la bola sea de la urna 2 dado que es negra esta dada por la formula:\n",
        "\n",
        "\\begin{equation}\n",
        "    \\mathbb{P}(U_2/N) = \\frac{\\mathbb{P}(N/U_2)\\cdot\\mathbb{P}(U_2)}{\\mathbb{P}(N)}\n",
        "\\end{equation}\n",
        "\\begin{equation}\n",
        "    \\mathbb{P}(U_1/ N)=\\frac{\\frac{2}{10}\\cdot\\frac{4}{6}}{\\frac{1}{6}}\n",
        "\\end{equation}\n",
        "\\begin{equation}\n",
        "    \\mathbb{P}(U_1/ N)=\\frac{4}{5}\n",
        "\\end{equation}\n"
      ],
      "metadata": {
        "id": "Epp4U5NMZ-kh"
      }
    },
    {
      "cell_type": "markdown",
      "source": [
        "##3\n",
        "Tengo una bolsa con dos dulces de limón y tres de fresa. Si me como un dulce y despúes otro, ¿cuál es la probabilidad de que ambos hayan sido de fresa? $\"\\mathbb{P}(F\\cap F)=3/10\"$"
      ],
      "metadata": {
        "id": "blNv2_V6aeqQ"
      }
    },
    {
      "cell_type": "markdown",
      "source": [
        "Diremos que la probabilidad de qeu ambos hayan sido de fresa esta dada por la formula:\n",
        "\n",
        "\\begin{equation}\n",
        "    \\mathbb{P}(F\\cap F) = \\mathbb{P}(F/F)\\cdot \\mathbb{P}(F)\n",
        "\\end{equation}\n",
        "\\begin{equation}\n",
        "    \\mathbb{P}(F\\cap F) = \\frac{2}{4}\\cdot \\frac{3}{5}\n",
        "\\end{equation}\n",
        "\\begin{equation}\n",
        "    \\mathbb{P}(F\\cap F) = \\frac{3}{10}\n",
        "\\end{equation}"
      ],
      "metadata": {
        "id": "v6On630ca77g"
      }
    },
    {
      "cell_type": "markdown",
      "source": [
        "#Teorema de Bayes"
      ],
      "metadata": {
        "id": "NOwExn5icB_9"
      }
    },
    {
      "cell_type": "markdown",
      "source": [
        "##3\n",
        "En el prombema anterior, imagine que en el primer intervalo de tiempo el número obsrvado de estudiantes es $x_1=4$, en el siguiente intervalo de tiempo el número de estudiantes es $x_1=5$. Realice todos los pasos anterior del a) al f) teniendo en cuenta el likelihood conjunto."
      ],
      "metadata": {
        "id": "M2YaWhrScOBx"
      }
    },
    {
      "cell_type": "code",
      "source": [
        "priori = np.array([0.4,0.3,0.2,0.1])\n",
        "lamb = np.array([1,2,3,4])\n",
        "x1, x2 = 4, 5"
      ],
      "metadata": {
        "id": "BQbyARqLfXhi"
      },
      "execution_count": 39,
      "outputs": []
    },
    {
      "cell_type": "code",
      "source": [
        "priori@lamb #a"
      ],
      "metadata": {
        "colab": {
          "base_uri": "https://localhost:8080/"
        },
        "id": "QxBRmRVWjPYM",
        "outputId": "e5850aaa-2cd7-449e-8564-1a704430e99f"
      },
      "execution_count": 40,
      "outputs": [
        {
          "output_type": "execute_result",
          "data": {
            "text/plain": [
              "2.0"
            ]
          },
          "metadata": {},
          "execution_count": 40
        }
      ]
    },
    {
      "cell_type": "code",
      "source": [
        "from math import factorial"
      ],
      "metadata": {
        "id": "EhNML1Q6lqOB"
      },
      "execution_count": 41,
      "outputs": []
    },
    {
      "cell_type": "code",
      "source": [
        "def likelihood_conjunto(x1, x2, lamb):\n",
        "    return (lamb**x1 * np.exp(-lamb) / factorial(x1)) * \\\n",
        "           (lamb**x2 * np.exp(-lamb) / factorial(x2))"
      ],
      "metadata": {
        "id": "Xi-tzLtDiWns"
      },
      "execution_count": 42,
      "outputs": []
    },
    {
      "cell_type": "code",
      "source": [
        "likelihoods = np.array([likelihood_conjunto(x1, x2, l) for l in lamb])\n",
        "likelihoods #b"
      ],
      "metadata": {
        "colab": {
          "base_uri": "https://localhost:8080/"
        },
        "id": "qnJpytPEkGuo",
        "outputId": "f3fffef9-3796-43ab-cd87-bbdcf1b7bd80"
      },
      "execution_count": 43,
      "outputs": [
        {
          "output_type": "execute_result",
          "data": {
            "text/plain": [
              "array([4.69914178e-05, 3.25611358e-03, 1.69407219e-02, 3.05345539e-02])"
            ]
          },
          "metadata": {},
          "execution_count": 43
        }
      ]
    },
    {
      "cell_type": "code",
      "source": [
        "posterior = likelihoods * priori\n",
        "posterior #c"
      ],
      "metadata": {
        "colab": {
          "base_uri": "https://localhost:8080/"
        },
        "id": "ucHMKZYdlx2W",
        "outputId": "066c6047-23a0-4b07-b41a-06159d353108"
      },
      "execution_count": 44,
      "outputs": [
        {
          "output_type": "execute_result",
          "data": {
            "text/plain": [
              "array([1.87965671e-05, 9.76834074e-04, 3.38814438e-03, 3.05345539e-03])"
            ]
          },
          "metadata": {},
          "execution_count": 44
        }
      ]
    },
    {
      "cell_type": "code",
      "source": [
        "posterior_norm = posterior / posterior.sum()\n",
        "posterior_norm.sum() #d"
      ],
      "metadata": {
        "colab": {
          "base_uri": "https://localhost:8080/"
        },
        "id": "KFUofIMcmJAi",
        "outputId": "94bf14ff-c13a-43f3-8202-ed1485305d18"
      },
      "execution_count": 45,
      "outputs": [
        {
          "output_type": "execute_result",
          "data": {
            "text/plain": [
              "1.0"
            ]
          },
          "metadata": {},
          "execution_count": 45
        }
      ]
    },
    {
      "cell_type": "code",
      "source": [
        "lamb_sombrero = np.sum(lamb * posterior_norm)\n",
        "lamb_sombrero #e"
      ],
      "metadata": {
        "colab": {
          "base_uri": "https://localhost:8080/"
        },
        "id": "fTXe2H3lmczs",
        "outputId": "3ba93c31-84ab-4a06-d3bd-913a8c509340"
      },
      "execution_count": 46,
      "outputs": [
        {
          "output_type": "execute_result",
          "data": {
            "text/plain": [
              "3.274164986959538"
            ]
          },
          "metadata": {},
          "execution_count": 46
        }
      ]
    },
    {
      "cell_type": "markdown",
      "source": [
        "##4\n",
        "Un haz de particulas compuesto por electrones, protones y particulas $\\alpha$, atraviesa un detector de partículas, que tiene un efeciencia de detección de $90\\%,$ $60\\%$ y $20\\%$ respectivamente. El flujo de electrones es el doble que el de portones y particulas $\\alpha$."
      ],
      "metadata": {
        "id": "dgMP4El8nMNJ"
      }
    },
    {
      "cell_type": "markdown",
      "source": [
        "###a\n",
        "Escriba la densidad de probabilidad a priori $\\prod(D/p),$ donde $p =$ electron, proton, $\\alpha$."
      ],
      "metadata": {
        "id": "J-iNBeaOoYxo"
      }
    },
    {
      "cell_type": "code",
      "source": [
        "prior = np.array([0.5,0.25,0.25]) #se tiene estos valores electron = 0.5, proton=0.25, alpha = 0.25. Porque el electron tiene el doble de flujo que las otras 2"
      ],
      "metadata": {
        "id": "gq-ogLkIovPM"
      },
      "execution_count": 47,
      "outputs": []
    },
    {
      "cell_type": "markdown",
      "source": [
        "###b\n",
        "Si se elije una partícula al azar, ¿cuál es la probabilidad de que sea detectada?. $\"\\mathbb{P}(D)=0.65\"$"
      ],
      "metadata": {
        "id": "zwD2lcH2ppXp"
      }
    },
    {
      "cell_type": "markdown",
      "source": [
        "$$\n",
        "    \\mathbb{P}(D) = \\mathbb{P}(D_e) + \\mathbb{P}(D_p) + \\mathbb{P}(D_\\alpha)\n",
        "$$\n",
        "$$\n",
        "    \\mathbb{P}(D) = \\prod(D/e)P(d/e) + \\prod(D/p)P(D/p) + \\prod(D/\\alpha)P(D/\\alpha)\n",
        "$$"
      ],
      "metadata": {
        "id": "RCvbb6KaqDCg"
      }
    },
    {
      "cell_type": "code",
      "source": [
        "deteccion = np.array([0.9,0.6,0.2])"
      ],
      "metadata": {
        "id": "X7KJO_uiq5hA"
      },
      "execution_count": 48,
      "outputs": []
    },
    {
      "cell_type": "code",
      "source": [
        "dect_prob = deteccion@prior\n",
        "dect_prob"
      ],
      "metadata": {
        "colab": {
          "base_uri": "https://localhost:8080/"
        },
        "id": "ZoBB2HfyqAgs",
        "outputId": "9eeb83b4-ebc8-4a5d-9a64-5e59c5818766"
      },
      "execution_count": 49,
      "outputs": [
        {
          "output_type": "execute_result",
          "data": {
            "text/plain": [
              "0.65"
            ]
          },
          "metadata": {},
          "execution_count": 49
        }
      ]
    },
    {
      "cell_type": "markdown",
      "source": [
        "###c\n",
        "Dibuje la función de probabilidad posterior usando **plt.stem(Posterior)**"
      ],
      "metadata": {
        "id": "DPzxvsMjrdI-"
      }
    },
    {
      "cell_type": "code",
      "source": [
        "posterior = (prior * deteccion)/dect_prob\n",
        "posterior"
      ],
      "metadata": {
        "colab": {
          "base_uri": "https://localhost:8080/"
        },
        "id": "3nPQG43orcfZ",
        "outputId": "b0536a35-17af-4f28-fac0-690769d7f8bd"
      },
      "execution_count": 50,
      "outputs": [
        {
          "output_type": "execute_result",
          "data": {
            "text/plain": [
              "array([0.69230769, 0.23076923, 0.07692308])"
            ]
          },
          "metadata": {},
          "execution_count": 50
        }
      ]
    },
    {
      "cell_type": "code",
      "source": [
        "etiq = np.array([\"electron\",\"proton\",\"alpha\"])\n",
        "plt.stem(etiq,posterior)\n",
        "plt.ylabel(\"probabilidad posterior\")\n",
        "plt.xlabel(\"partícula\")\n",
        "plt.show()"
      ],
      "metadata": {
        "colab": {
          "base_uri": "https://localhost:8080/",
          "height": 0
        },
        "id": "jTPySvTtrbNr",
        "outputId": "e4aa0eeb-c2d4-4e65-80e4-04d2ebe13d14"
      },
      "execution_count": 51,
      "outputs": [
        {
          "output_type": "display_data",
          "data": {
            "text/plain": [
              "<Figure size 640x480 with 1 Axes>"
            ],
            "image/png": "[encoded data removed]"
          },
          "metadata": {}
        }
      ]
    },
    {
      "cell_type": "markdown",
      "source": [
        "###d\n",
        "Si para una partícula dada el detector da señal, ¿cuál es la probabilidad de que sea cada una de las partículas?."
      ],
      "metadata": {
        "id": "62zHBLhVsaXJ"
      }
    },
    {
      "cell_type": "code",
      "source": [
        "posterior"
      ],
      "metadata": {
        "colab": {
          "base_uri": "https://localhost:8080/"
        },
        "id": "xcMdYqJbsv5I",
        "outputId": "71fcb0dc-1143-45ea-d6f3-9ef668cf91ab"
      },
      "execution_count": 52,
      "outputs": [
        {
          "output_type": "execute_result",
          "data": {
            "text/plain": [
              "array([0.69230769, 0.23076923, 0.07692308])"
            ]
          },
          "metadata": {},
          "execution_count": 52
        }
      ]
    },
    {
      "cell_type": "markdown",
      "source": [
        "#Técnicas de Conteo"
      ],
      "metadata": {
        "id": "3W8YPR_ys4Ro"
      }
    },
    {
      "cell_type": "markdown",
      "source": [
        "##11\n",
        "En un curso de 10 estudiantes de sesea escoger presidente, vicepresidente y secretario. ¿De cuántas formas se pueden seleccionar los 3 estudiantes? $R=720$"
      ],
      "metadata": {
        "id": "o8S1hHcStJE7"
      }
    },
    {
      "cell_type": "code",
      "source": [
        "factorial(10)/factorial(10-3)"
      ],
      "metadata": {
        "colab": {
          "base_uri": "https://localhost:8080/"
        },
        "id": "tNo6blL_tHPo",
        "outputId": "381cbb7a-b58b-4d10-cafb-b9004e706044"
      },
      "execution_count": 53,
      "outputs": [
        {
          "output_type": "execute_result",
          "data": {
            "text/plain": [
              "720.0"
            ]
          },
          "metadata": {},
          "execution_count": 53
        }
      ]
    },
    {
      "cell_type": "markdown",
      "source": [
        "##12\n",
        "En un campeonato compiten 8 equipos ¿de cuántas maneras diferentes se pdrían ganar los premios de campeón y sub-campeóon? $R=56$"
      ],
      "metadata": {
        "id": "6WNxK543t0L0"
      }
    },
    {
      "cell_type": "code",
      "source": [
        "factorial(8)/factorial(8-2)"
      ],
      "metadata": {
        "colab": {
          "base_uri": "https://localhost:8080/"
        },
        "id": "nQ3wayd0tyIZ",
        "outputId": "98020f75-534a-47ab-b78d-1fb451eaa3e8"
      },
      "execution_count": 54,
      "outputs": [
        {
          "output_type": "execute_result",
          "data": {
            "text/plain": [
              "56.0"
            ]
          },
          "metadata": {},
          "execution_count": 54
        }
      ]
    },
    {
      "cell_type": "markdown",
      "source": [
        "##13\n",
        "¿Cuántos números de 3 cifras distintas se pueden formar con los dígitos del 1 al 7? $R=210$"
      ],
      "metadata": {
        "id": "xEB3pGZl0est"
      }
    },
    {
      "cell_type": "code",
      "source": [
        "# asumiendo que no se pueden repetir\n",
        "factorial(7)/factorial(7-3)"
      ],
      "metadata": {
        "colab": {
          "base_uri": "https://localhost:8080/"
        },
        "id": "0zMwHRZC0v5_",
        "outputId": "938c5b22-d26d-4f21-f5a3-bdd022af4614"
      },
      "execution_count": 55,
      "outputs": [
        {
          "output_type": "execute_result",
          "data": {
            "text/plain": [
              "210.0"
            ]
          },
          "metadata": {},
          "execution_count": 55
        }
      ]
    },
    {
      "cell_type": "markdown",
      "source": [
        "##14\n",
        "¿Cuántos números de 3 cifras se pueden formar con con los dígitos del 1 al 7? $R=343$"
      ],
      "metadata": {
        "id": "t-IJRTR80stp"
      }
    },
    {
      "cell_type": "code",
      "source": [
        "# asumiendo que se pueden repetir\n",
        "7**3"
      ],
      "metadata": {
        "colab": {
          "base_uri": "https://localhost:8080/"
        },
        "id": "62tLBEfz1c57",
        "outputId": "0ef4ba36-bd00-42fd-97d4-69551e9c60de"
      },
      "execution_count": 56,
      "outputs": [
        {
          "output_type": "execute_result",
          "data": {
            "text/plain": [
              "343"
            ]
          },
          "metadata": {},
          "execution_count": 56
        }
      ]
    },
    {
      "cell_type": "markdown",
      "source": [
        "##15\n",
        "De un grupo de 10 estudiantes se quiere seleccionar un comité al azar de 3 estudiantes. ¿De cuántas maneras diferentes se puede seleccionar el comité $R=120$"
      ],
      "metadata": {
        "id": "fGL_3Oso1nn-"
      }
    },
    {
      "cell_type": "code",
      "source": [
        "factorial(10)/(factorial(10-3) * factorial(3))"
      ],
      "metadata": {
        "colab": {
          "base_uri": "https://localhost:8080/"
        },
        "id": "Vfd8hFVj1-9R",
        "outputId": "808de054-2d63-455b-fe89-bff41fb31a36"
      },
      "execution_count": 57,
      "outputs": [
        {
          "output_type": "execute_result",
          "data": {
            "text/plain": [
              "120.0"
            ]
          },
          "metadata": {},
          "execution_count": 57
        }
      ]
    },
    {
      "cell_type": "markdown",
      "source": [
        "##16\n",
        "¿Cuántas placas diferentes se pueden hacer con 3 letras y 3 dígitos? $R=17.576.000$"
      ],
      "metadata": {
        "id": "pz8kbJHF170h"
      }
    },
    {
      "cell_type": "code",
      "source": [
        "(26**3)*(10**3)"
      ],
      "metadata": {
        "colab": {
          "base_uri": "https://localhost:8080/"
        },
        "id": "zJkmOq3R22Pg",
        "outputId": "3224e975-5a8e-400d-e464-95ad5ede8028"
      },
      "execution_count": 58,
      "outputs": [
        {
          "output_type": "execute_result",
          "data": {
            "text/plain": [
              "17576000"
            ]
          },
          "metadata": {},
          "execution_count": 58
        }
      ]
    },
    {
      "cell_type": "markdown",
      "source": [
        "##17\n",
        "$n$ personas van a jugar cartar alrededor de una mesa, ¿de cuántas maneras diferentes se pueden sentar? $R=(n-1)!$"
      ],
      "metadata": {
        "id": "M4-uCz2b21j6"
      }
    },
    {
      "cell_type": "code",
      "source": [
        "n = sym.symbols('n', integer=True)"
      ],
      "metadata": {
        "id": "x6Pbb71n3tLD"
      },
      "execution_count": 59,
      "outputs": []
    },
    {
      "cell_type": "code",
      "source": [
        "formula_17 = sym.factorial(n)/n"
      ],
      "metadata": {
        "id": "3gMY54CX4oFj"
      },
      "execution_count": 60,
      "outputs": []
    },
    {
      "cell_type": "code",
      "source": [
        "res_17 = sym.simplify(formula_17)\n",
        "res_17"
      ],
      "metadata": {
        "colab": {
          "base_uri": "https://localhost:8080/",
          "height": 38
        },
        "id": "00DtiKgy4d2A",
        "outputId": "a35cb6a1-a1cb-4c5f-d60d-35cb6b9ac516"
      },
      "execution_count": 61,
      "outputs": [
        {
          "output_type": "execute_result",
          "data": {
            "text/plain": [
              "factorial(n - 1)"
            ],
            "text/latex": "$\\displaystyle \\left(n - 1\\right)!$"
          },
          "metadata": {},
          "execution_count": 61
        }
      ]
    },
    {
      "cell_type": "markdown",
      "source": [
        "##18\n",
        "En una heladería ofrecen 7 distintos sabores, ¿cuántas combinaciones de helado de 3 sabores se pueden hacer? $R=84$"
      ],
      "metadata": {
        "id": "rDN0OUBB47th"
      }
    },
    {
      "cell_type": "code",
      "source": [
        "factorial(7+3-1)/(factorial(3)*factorial(7-1))"
      ],
      "metadata": {
        "colab": {
          "base_uri": "https://localhost:8080/"
        },
        "id": "mvdbQTT75i72",
        "outputId": "6a495ab5-0417-4d39-9717-794347a8c1ce"
      },
      "execution_count": 62,
      "outputs": [
        {
          "output_type": "execute_result",
          "data": {
            "text/plain": [
              "84.0"
            ]
          },
          "metadata": {},
          "execution_count": 62
        }
      ]
    },
    {
      "cell_type": "markdown",
      "source": [
        "##19\n",
        "En un almacén venden 6 diferentes sabores de gaseosas, ¿de cuántas formas diferentes se pueden seleccionar 3 gaseosas?. ¿De cuántas formas diferentes se pueden seleccionar 3 gaseosas? $R=56\\:\\;R=20$"
      ],
      "metadata": {
        "id": "pLSoMWZ57Azs"
      }
    },
    {
      "cell_type": "code",
      "source": [
        "factorial(6+3-1)/(factorial(3)*factorial(6-1))"
      ],
      "metadata": {
        "colab": {
          "base_uri": "https://localhost:8080/"
        },
        "id": "LiTeLP606-lq",
        "outputId": "c5c39189-b59c-436b-feae-28498b74ccac"
      },
      "execution_count": 63,
      "outputs": [
        {
          "output_type": "execute_result",
          "data": {
            "text/plain": [
              "56.0"
            ]
          },
          "metadata": {},
          "execution_count": 63
        }
      ]
    },
    {
      "cell_type": "code",
      "source": [
        "factorial(6)/(factorial(6-3)*factorial(3))"
      ],
      "metadata": {
        "colab": {
          "base_uri": "https://localhost:8080/"
        },
        "id": "m83YMGjb7iho",
        "outputId": "4c2cfd3a-4a2b-4bbe-bfa7-0d60cf4aca65"
      },
      "execution_count": 64,
      "outputs": [
        {
          "output_type": "execute_result",
          "data": {
            "text/plain": [
              "20.0"
            ]
          },
          "metadata": {},
          "execution_count": 64
        }
      ]
    },
    {
      "cell_type": "markdown",
      "source": [
        "##20\n",
        "Demostrar la formula de combinaciones con repetición\n",
        "\\begin{equation}\n",
        "    C_r^n= \\binom{n + r - 1}{r}\n",
        "\\end{equation}"
      ],
      "metadata": {
        "id": "_KL34KkX7xkv"
      }
    },
    {
      "cell_type": "markdown",
      "source": [
        "digamos que queremos formar C conjuntos con $r$ elementos que pueden ser de $n$ tipos de elementos. Vease que para el primer elemento de cualquier conjunto tenemos $n$ opciones, tambien, podemos poner ese objeto en la primera posición o en cualquier posicion hasta $r$, por esto tenemos $n+r-1$ formas de poner el primer elemento.\n",
        "\n",
        "\n",
        "Diremos que hay $n+r-1$ familias de conjuntos que corresponden a los $n+r-1$ formas de formar un conjunto con $r$ posiciones y $1$ elemento con $n$ opciones. Cada familia forma un subconjunto de familias con conjunto de $r$ posiciones y $2$ elementos cada uno con $n$ opciones, por esto podemos repetir el argumento anterior con un ligero cambio, como ya hay una casilla ocupada ahora tenemos $r-1-1$ opciones para elegir. Con esto en cuenta nos queda que el numero de familias con $2$ elementos esta dado por $(n+r-1)\\cdot(n+r-2)$.\n",
        "Nosotros podemos seguir este argumento de manera iterativa hasta que la $n-esima$ familia de conjuntos sea un singleton. Esto quedaria $(n+r-1)\\cdot(n+r-2)\\cdot\\ldots\\cdot 2\\cdot 1$, esto por definicion es $(n+r-1)!$.\n",
        "\n",
        "Por ultimo, hay que tener en cuenta dos cosas. Primero, no podemos desglozar las familias de familia indefinidamente solo podemos hacerlo maximo $r$ veces que corresponden al numero de elementos de nuestros conjuntos, por esto todas las familias que calcula el factorial extra deben ser obiadas, esto se puede lograr dividiendo la expresion sobre $r!$. Segundo, como el orden no importa existen $(n-1)!$ conjuntos iguales, por lo que tambien hay que dividir en este valor.\n",
        "\n",
        "Lo anterior queda como:\n",
        "Demostrar la formula de combinaciones con repetición\n",
        "\\begin{equation}\n",
        "    C=\\frac{(n+r-1)!}{r!(n-1)!}=\\binom{n + r - 1}{r}=C_r^n\n",
        "\\end{equation}"
      ],
      "metadata": {
        "id": "4HuXgpq5StTB"
      }
    },
    {
      "cell_type": "markdown",
      "source": [
        "#Generales de Probabilidad"
      ],
      "metadata": {
        "id": "DO4Brmbh85lS"
      }
    },
    {
      "cell_type": "markdown",
      "source": [
        "##5\n",
        "Se lanzan dos dados equi-probables y se observan los siguientes eventos:\n",
        "\n",
        "- a) La suma es 8: $\\mathbb{P}(A) = \\frac{5}{36}$\n",
        "- b) El segundo dado es impar: $\\mathbb{P}(B) = \\frac{1}{2}$\n",
        "\n",
        "Calcule $\\mathbb{P}(A \\cap B)$ y $\\mathbb{P}(A)\\cdot\\mathbb{P}(B)$. ¿Que podría concluir?"
      ],
      "metadata": {
        "id": "Kj7yVUCh9IQw"
      }
    },
    {
      "cell_type": "markdown",
      "source": [
        "Podemos calcular $\\mathbb{P}(A \\cap B)$ como:\n",
        "\\begin{equation}\n",
        "    \\mathbb{P}(A \\cap B)=\\mathbb{P}(A|B)\\cdot\\mathbb{P}(B)=\\frac{2}{6\\cdot 3}\\cdot\\frac{1}{2}=\\frac{1}{18},\n",
        "\\end{equation}\n",
        "por otro lado:\n",
        "\\begin{equation}\n",
        "\\mathbb{P}(A)\\cdot\\mathbb{P}(B)=\\frac{5}{36}\\cdot\\frac{1}{2}=\\frac{5}{72}.\n",
        "\\end{equation}\n",
        "Por lo anterior $\\mathbb{P}(A \\cap B)\\neq\\mathbb{P}(A)\\cdot\\mathbb{P}(B)$, por lo cual, $A$ y $B$ son eventos dependientes."
      ],
      "metadata": {
        "id": "_o3wvWLAE3Ko"
      }
    },
    {
      "cell_type": "markdown",
      "source": [
        "##6\n",
        "Se lanza simultáneamente 3 dados de 6 caras. ¿Cuál es la probabilidad de obtener 1 par? $\\mathbb{P}(A)= \\frac{5}{12}$. Realice el cálculo de esta probabilidad usando un experimento virtual con $N=10^5$ eventos"
      ],
      "metadata": {
        "id": "AxNJyY3GL1kt"
      }
    },
    {
      "cell_type": "code",
      "source": [
        "N = np.array([10**i for i in range(1,7)])\n",
        "valor_teorico = 5/12"
      ],
      "metadata": {
        "id": "ShYgRFUJMUjC"
      },
      "execution_count": 178,
      "outputs": []
    },
    {
      "cell_type": "code",
      "source": [
        "def tirar_dados_par(N):\n",
        "    dados = np.random.randint(1, 7, (N, 3))\n",
        "    par = (dados % 2 == 0)\n",
        "    cantidad_pares = np.sum(par, axis=1)\n",
        "    casos_favorables = np.sum(cantidad_pares == 1)\n",
        "\n",
        "    return casos_favorables / N"
      ],
      "metadata": {
        "id": "PvwaXU6FM5Mr"
      },
      "execution_count": 183,
      "outputs": []
    },
    {
      "cell_type": "code",
      "source": [
        "print(tirar_dados_par(N[-1]))\n",
        "print(valor_teorico)\n",
        "plt.plot(N, [tirar_dados_par(int(n)) for n in N])\n",
        "plt.axhline(y=valor_teorico, color='r', linestyle='-')\n"
      ],
      "metadata": {
        "colab": {
          "base_uri": "https://localhost:8080/",
          "height": 500
        },
        "id": "66-2Ms_ONNIw",
        "outputId": "d6228240-c580-43ff-f8ce-1f06b00c30b9"
      },
      "execution_count": 187,
      "outputs": [
        {
          "output_type": "stream",
          "name": "stdout",
          "text": [
            "0.374915\n",
            "0.4166666666666667\n"
          ]
        },
        {
          "output_type": "execute_result",
          "data": {
            "text/plain": [
              "<matplotlib.lines.Line2D at 0x7d88151abe50>"
            ]
          },
          "metadata": {},
          "execution_count": 187
        },
        {
          "output_type": "display_data",
          "data": {
            "text/plain": [
              "<Figure size 640x480 with 1 Axes>"
            ],
            "image/png": "[encoded data removed]"
          },
          "metadata": {}
        }
      ]
    },
    {
      "cell_type": "markdown",
      "source": [
        "##7\n",
        "Se lanza simultáneamente 5 dados de 6 caras. ¿cuál es la probabilidad de obtener?:\n",
        "\n"
      ],
      "metadata": {
        "id": "TiXJ-P-RTBIt"
      }
    },
    {
      "cell_type": "markdown",
      "source": [
        "###a\n",
        "1 par $\\mathbb{P}(A)=\\frac{25}{54}$"
      ],
      "metadata": {
        "id": "BzGjAvLamuF3"
      }
    },
    {
      "cell_type": "code",
      "source": [
        "valor_teorico_pares = 25/54"
      ],
      "metadata": {
        "id": "jX5NXbsgqcua"
      },
      "execution_count": 68,
      "outputs": []
    },
    {
      "cell_type": "code",
      "source": [
        "def tirar_dados_7_pares(N):\n",
        "    dados = np.random.randint(1, 7, (N, 5))\n",
        "    par = (dados % 2 == 0)\n",
        "    cantidad_pares = np.sum(par, axis=1)\n",
        "    casos_favorables = np.sum(cantidad_pares == 1)\n",
        "\n",
        "    return casos_favorables / N"
      ],
      "metadata": {
        "id": "ZQ20GiyeS_n5"
      },
      "execution_count": 69,
      "outputs": []
    },
    {
      "cell_type": "code",
      "source": [
        "print(tirar_dados_par(N[-1]))\n",
        "plt.plot(N, [tirar_dados_par(int(n)) for n in N])\n",
        "plt.axhline(y=valor_teorico_pares, color='r', linestyle='-')"
      ],
      "metadata": {
        "colab": {
          "base_uri": "https://localhost:8080/",
          "height": 483
        },
        "id": "L7SaGURxmo3f",
        "outputId": "d56f3bf4-c81c-436b-cd68-ec703c98f7e0"
      },
      "execution_count": 70,
      "outputs": [
        {
          "output_type": "stream",
          "name": "stdout",
          "text": [
            "0.375393\n"
          ]
        },
        {
          "output_type": "execute_result",
          "data": {
            "text/plain": [
              "<matplotlib.lines.Line2D at 0x7d88641c61d0>"
            ]
          },
          "metadata": {},
          "execution_count": 70
        },
        {
          "output_type": "display_data",
          "data": {
            "text/plain": [
              "<Figure size 640x480 with 1 Axes>"
            ],
            "image/png": "[encoded data removed]"
          },
          "metadata": {}
        }
      ]
    },
    {
      "cell_type": "markdown",
      "source": [
        "###b\n",
        "2 pares distintos $\\mathbb{P}(A)=\\frac{25}{54}$"
      ],
      "metadata": {
        "id": "5UVNTIjhqqvP"
      }
    },
    {
      "cell_type": "code",
      "source": [
        "def tirar_dados_7_2pares(N):\n",
        "    dados = np.random.randint(1, 7, (N, 5))\n",
        "    par = (dados % 2 == 0)\n",
        "    cantidad_pares = np.sum(par, axis=1)\n",
        "    casos_favorables = np.sum(cantidad_pares == 1)\n",
        "\n",
        "    return casos_favorables / N"
      ],
      "metadata": {
        "id": "3IsgoZcJm3uV"
      },
      "execution_count": 71,
      "outputs": []
    },
    {
      "cell_type": "markdown",
      "source": [
        "###c\n",
        "4 de la misma cara $\\mathbb{P}(C) = \\frac{25}{1296}$"
      ],
      "metadata": {
        "id": "dwKu5szhp6xa"
      }
    },
    {
      "cell_type": "code",
      "source": [
        "valor_teorico = 25/1296"
      ],
      "metadata": {
        "id": "sBCfuv4AorVP"
      },
      "execution_count": 72,
      "outputs": []
    },
    {
      "cell_type": "code",
      "source": [
        "def tirar_dados_7_4caras(N):\n",
        "    casos_favorables = 0\n",
        "    dados = np.random.randint(1, 7, (N, 5))\n",
        "    for n in range(N):\n",
        "        conteo = np.bincount(dados[n], minlength=7)\n",
        "        if 4 in conteo:\n",
        "            casos_favorables += 1\n",
        "    return casos_favorables / N"
      ],
      "metadata": {
        "id": "c1gGsU6gnSga"
      },
      "execution_count": 73,
      "outputs": []
    },
    {
      "cell_type": "code",
      "source": [
        "tirar_dados_7_4caras(N[-1])\n",
        "plt.plot(N, [tirar_dados_par(int(n)) for n in N])\n",
        "plt.axhline(y=valor_teorico, color='r', linestyle='-')"
      ],
      "metadata": {
        "colab": {
          "base_uri": "https://localhost:8080/",
          "height": 465
        },
        "id": "E0ugW85-nj0l",
        "outputId": "175cfbc3-9cbc-4e7f-da03-7c4c29c84e7f"
      },
      "execution_count": 74,
      "outputs": [
        {
          "output_type": "execute_result",
          "data": {
            "text/plain": [
              "<matplotlib.lines.Line2D at 0x7d883a517d00>"
            ]
          },
          "metadata": {},
          "execution_count": 74
        },
        {
          "output_type": "display_data",
          "data": {
            "text/plain": [
              "<Figure size 640x480 with 1 Axes>"
            ],
            "image/png": "[encoded data removed]"
          },
          "metadata": {}
        }
      ]
    },
    {
      "cell_type": "markdown",
      "source": [
        "# Ejercicios Muestreo"
      ],
      "metadata": {
        "id": "vKOWG-w8rO4a"
      }
    },
    {
      "cell_type": "markdown",
      "source": [
        "##10\n",
        "Un avión vuela $d_1, d_2, d_3$ millas a velocidades $v_1, v_2, v_3\\frac{mi}{h}$, respectivamente. Demuestre que su velocidad media es $V$, dada por:\n",
        "\\begin{equation}\n",
        "    \\frac{d_1+d_2+d_3}{V} = \\frac{d_1}{v_1} + \\frac{d_2}{v_2} + \\frac{d_3}{v_3}\n",
        "\\end{equation}\n",
        "es una media armónica ponderada."
      ],
      "metadata": {
        "id": "umP5osCIrYQD"
      }
    },
    {
      "cell_type": "markdown",
      "source": [
        "La ecuacion de una media armónica $H$ es:\n",
        "\\begin{equation}\n",
        "    H=\\frac{n}{\\sum_{i=1}^{n}\\frac{1}{x_i}}\n",
        "\\end{equation}\n",
        "donde en este caso $x_i$ corresponden a las velocidades $v_i$. No obstante, esta formula solo se puede usar en el caso donde todas las distancias son iguales, en el caso contrario hay que asignarle un peso $w_i$. Con lo cual la formula queda.\n",
        "\\begin{equation}\n",
        "    H_P=\\frac{\\sum_{i=1}^{n}w_i}{\\sum_{i=1}^{n}\\frac{w_i}{x_i}}\n",
        "\\end{equation}\n",
        "Si despejamos $V$ de la ecuación inicial podemos ver que queda en la forma de nuestra armonica ponderada, donde los pesos son $w_i=d_i$.\n",
        "\\begin{equation}\n",
        "    V=\\frac{d_1+d_2+d_3}{\\frac{d_1}{V_1}+\\frac{d_2}{v_2}+\\frac{d_3}{v_3}}=\\frac{\\sum_{i=1}^{3}d_i}{\\sum_{i=1}^{3}\\frac{d_i}{v_i}}=H_P\n",
        "\\end{equation}"
      ],
      "metadata": {
        "id": "P2vYhZe-UE3i"
      }
    },
    {
      "cell_type": "markdown",
      "source": [
        "##11\n",
        "Conseidere la variable aleatoria definida por una combinación lineal de otras variables aleatorias: $X = a_1X_1 + a_2X_2 + \\ldots + a_nX_n$, donde las variables aleatorias $(X_i)$ no son necesariamente idénticamente distribuidas, y las componentes $[a_1,a_2,\\ldots,a_n]\\in\\mathbb{R}$. La variable aleatoria $X$ puede ser escrita como: $X = a^T\\vec{X}$ con la definición usual de producto interno entre vectores. El primer y segundo momento de la variable $X$ queda entonces expreados por:\n",
        "\\begin{equation}\n",
        "    E(X) = E(a^T\\vec{X}) = a^TE(\\vec{X})\n",
        "\\end{equation}\n",
        "\\begin{equation}\n",
        "    Var(X) = Var(a^T\\vec{X}) = a^TCov(\\vec{X})a\\:\\:\\:\\:\\:\\:\\:\\:\\:\\:7.32\n",
        "\\end{equation}\n",
        "\n",
        "Donde $Cov(\\vec{X})$ es la matriz de covarianza de $\\vec{X}$. Sea $X_1 \\sim \\Gamma(2,3), X_2 \\sim N(5,2)$ y $X_3\\sim U(0,10)$. Genere $N=10^4$ eventos (que estabilice el valor de los momentos) para obtener la distribución de $X = X_1+2X_2-X_3$. Calcule el primer y segundo momento de $X$ a través de dos estrategias:"
      ],
      "metadata": {
        "id": "HknQFUA-skgl"
      }
    },
    {
      "cell_type": "markdown",
      "source": [],
      "metadata": {
        "id": "OJbo0fNPeWud"
      }
    },
    {
      "cell_type": "markdown",
      "source": [
        "###a\n",
        "Usando directamente el array de $X$."
      ],
      "metadata": {
        "id": "oU3Nj-k2wtHu"
      }
    },
    {
      "cell_type": "code",
      "source": [
        "N = int(10e4)\n",
        "\n",
        "X1 = np.random.gamma(2, 3, size=N)\n",
        "X2 = np.random.normal(5, 2, size=N)\n",
        "X3 = np.random.uniform(0, 10, size=N)\n",
        "\n",
        "X = X1 + 2*X2 - X3\n",
        "mean_X = np.mean(X)\n",
        "var_X = np.var(X)\n",
        "\n",
        "\n",
        "print(\"Primer momento (media):\", mean_X)\n",
        "print(\"Segundo momento (varianza):\", var_X)\n"
      ],
      "metadata": {
        "colab": {
          "base_uri": "https://localhost:8080/"
        },
        "id": "RSdVb4ukwzHY",
        "outputId": "c1e87e61-361c-40a8-aa4b-1db0984d06f7"
      },
      "execution_count": 189,
      "outputs": [
        {
          "output_type": "stream",
          "name": "stdout",
          "text": [
            "Primer momento (media): 11.030459436959205\n",
            "Segundo momento (varianza): 42.20904835652835\n"
          ]
        }
      ]
    },
    {
      "cell_type": "markdown",
      "source": [
        "###b - pendiente\n",
        "Usando las definiciones generales dadas en la Ecuación $(7.32)$"
      ],
      "metadata": {
        "id": "V1M4AAz_w6PW"
      }
    },
    {
      "cell_type": "markdown",
      "source": [
        "###C-pendiente\n",
        "Calcule el coeficiente de correlación de Pearson para las tres variables."
      ],
      "metadata": {
        "id": "aGmGWuTfxHke"
      }
    },
    {
      "cell_type": "markdown",
      "source": [
        "###d\n",
        "Demuestre que la formula de la varianza de la media se puede escribir escalarmente como:\n",
        "\\begin{equation}\n",
        "    Var\\left(\\frac{1}{N}\\sum_{i=1}^{N}X_i\\right)=\\frac{1}{N^2}\\sum_{i=1}^{N}Var(X_i) + \\frac{2}{N^2}\\sum_{i=1}^{N}\\sum_{j=i+1}^{N}Cov(X_i,X_j)\n",
        "\\end{equation}\n",
        "*Hint:* Encuentre el resultado para $N=2$ y use la intuición adquirida para el caso general."
      ],
      "metadata": {
        "id": "FUQ4bBa7xPWc"
      }
    },
    {
      "cell_type": "markdown",
      "source": [
        "para $N=2$:\n",
        "\\begin{equation}\n",
        "    Var\\left(\\frac{1}{N}\\sum_{i=1}^{2}X_i\\right)=\\frac{1}{N^2}\\left(Var\\sum_{i=1}^{2}X_i\\right)\n",
        "\\end{equation}\n",
        "\\begin{equation}\n",
        "    \\frac{1}{N^2}\\left(Var\\sum_{i=1}^{2}X_i\\right)=\\frac{1}{N^2}\\left(Var(X_1)+Var(X_2) + 2Cov(X_1,X_2)\\right)\n",
        "\\end{equation}\n",
        "podemos repetir este proceso de manera inductiva de la siguiente manera:\n",
        "\\begin{equation}\n",
        "    Var(X_1+(X_2+\\ldots+X_N))=Var(X_1)+Var(X_2+(X_3\\ldots+X_N)) + 2\\sum_{j=2}^{N}Cov(X_1,X_j)\n",
        "\\end{equation}\n",
        "\n",
        "Por lo cual\n",
        "\\begin{equation}\n",
        "    Var\\left(\\frac{1}{N}\\sum_{i=1}^{N}X_i\\right)=\\frac{1}{N^2}\\sum_{i=1}^{N}Var(X_i) + \\frac{2}{N^2}\\sum_{i=1}^{N}\\sum_{j=i+1}^{N}Cov(X_i,X_j)\n",
        "\\end{equation}"
      ],
      "metadata": {
        "id": "_bUaGWNNJTrO"
      }
    },
    {
      "cell_type": "markdown",
      "source": [
        "# Ejercicios Método de MonteCarlo"
      ],
      "metadata": {
        "id": "5Gkm3oFJyl49"
      }
    },
    {
      "cell_type": "markdown",
      "source": [
        "##9\n",
        "La distribución Beta está dada por:\n",
        "\\begin{equation}\n",
        "    f(x;\\:\\alpha,\\beta)=\\frac{\\Gamma(\\alpha+\\beta)}{\\Gamma(\\alpha)\\Gamma(\\beta)}x^{\\alpha-1}(1-x)^{\\beta-1},\\:\\:\\:\\:\\:\\:\\:\\:\\:\\:\\:\\:\\:0\\leq x\\leq 1\n",
        "\\end{equation}\n",
        "donde $\\Gamma(n) = (n-1)!$. Para $f(x;\\:2,4)$, halle el área bajo la curva usando el método de aceptación y rechazo con incertidumbre del $1\\%$."
      ],
      "metadata": {
        "id": "UYhh5-WgyuTL"
      }
    },
    {
      "cell_type": "code",
      "source": [
        "x = np.linspace(0,1,1000)"
      ],
      "metadata": {
        "id": "OCzWeBwHhrRl"
      },
      "execution_count": 83,
      "outputs": []
    },
    {
      "cell_type": "code",
      "source": [
        "def f (x, alpha=2, beta=4):\n",
        "    def Gamma(n):\n",
        "        return factorial(n-1)\n",
        "    return ( Gamma(alpha+beta)/(Gamma(alpha)*Gamma(beta)) ) * ( x ** (alpha - 1) ) * ( (1 - x) ** (beta - 1) )"
      ],
      "metadata": {
        "id": "L6QkBlboiFDt"
      },
      "execution_count": 80,
      "outputs": []
    },
    {
      "cell_type": "markdown",
      "source": [
        "Si remplazamos $\\alpha=2,\\beta=4$ la integral queda:\n",
        "\\begin{equation}\n",
        "    \\int_0^1 20x(1-x)^3dx = 1\n",
        "\\end{equation}"
      ],
      "metadata": {
        "id": "pRgxqRBPzH_a"
      }
    },
    {
      "cell_type": "code",
      "source": [
        "valor_teorico = 1."
      ],
      "metadata": {
        "id": "jtBwk-di0lD0"
      },
      "execution_count": 172,
      "outputs": []
    },
    {
      "cell_type": "code",
      "source": [
        "def f_opt (x):\n",
        "    return -f(x)"
      ],
      "metadata": {
        "id": "UlACDf7J8J9f"
      },
      "execution_count": 116,
      "outputs": []
    },
    {
      "cell_type": "code",
      "source": [
        "maximo = spo.minimize(f_opt, x0=0.3, options={\"disp\":False}).x[0]\n",
        "maximo"
      ],
      "metadata": {
        "colab": {
          "base_uri": "https://localhost:8080/"
        },
        "id": "3fjvwWo55WCw",
        "outputId": "7e5123e9-f078-4252-a8dc-29777f6bb8aa"
      },
      "execution_count": 148,
      "outputs": [
        {
          "output_type": "execute_result",
          "data": {
            "text/plain": [
              "0.2499997759278976"
            ]
          },
          "metadata": {},
          "execution_count": 148
        }
      ]
    },
    {
      "cell_type": "code",
      "source": [
        "plt.plot(x, f(x), color ='k')\n",
        "plt.hlines(y=f(maximo),xmin=0,xmax=1, color='b')"
      ],
      "metadata": {
        "colab": {
          "base_uri": "https://localhost:8080/",
          "height": 447
        },
        "id": "CjRuHjc6zCkD",
        "outputId": "6c063d53-484c-4835-aa40-a8bb2f9e80d0"
      },
      "execution_count": 137,
      "outputs": [
        {
          "output_type": "execute_result",
          "data": {
            "text/plain": [
              "<matplotlib.collections.LineCollection at 0x7d8815aab520>"
            ]
          },
          "metadata": {},
          "execution_count": 137
        },
        {
          "output_type": "display_data",
          "data": {
            "text/plain": [
              "<Figure size 640x480 with 1 Axes>"
            ],
            "image/png": "[encoded data removed]"
          },
          "metadata": {}
        }
      ]
    },
    {
      "cell_type": "markdown",
      "source": [
        "\\begin{equation}\n",
        "    incertidumbre = \\frac{1}{\\sqrt{N}}\\Longrightarrow N = \\frac{1}{(incertidumbre)^2}\n",
        "\\end{equation}"
      ],
      "metadata": {
        "id": "6c3NTueKCRh7"
      }
    },
    {
      "cell_type": "code",
      "source": [
        "valor_incertidumbre = 0.01"
      ],
      "metadata": {
        "id": "W_3fprNe_6SH"
      },
      "execution_count": 150,
      "outputs": []
    },
    {
      "cell_type": "code",
      "source": [
        "N = int(valor_incertidumbre**-2)\n",
        "M = f(maximo)"
      ],
      "metadata": {
        "id": "e-S-5IDB2un4"
      },
      "execution_count": 155,
      "outputs": []
    },
    {
      "cell_type": "code",
      "source": [
        "def montecarlo_AR (N, M, f):\n",
        "    #np.random.seed(42)  # para pruebas\n",
        "    X = np.random.uniform(0, 1, N)\n",
        "    Y = np.random.uniform(0, M, N)\n",
        "    prueba = np.where(Y <= f(X), True, False)\n",
        "    return (np.sum(prueba)/N)*M, X,Y,prueba"
      ],
      "metadata": {
        "id": "jTMZnva504eZ"
      },
      "execution_count": 173,
      "outputs": []
    },
    {
      "cell_type": "code",
      "source": [
        "A, X, Y, Prueba = montecarlo_AR(N, M, f)"
      ],
      "metadata": {
        "id": "H8qw3_Wf18Ii"
      },
      "execution_count": 175,
      "outputs": []
    },
    {
      "cell_type": "code",
      "source": [
        "print(f\"el  valor de la integral es: {A}\")\n",
        "print(f\"el  valor de la incertidumbre: {abs(A-valor_teorico)*100}%\")\n",
        "plt.plot(x, f(x), color ='k')\n",
        "plt.scatter(X[Prueba], Y[Prueba], s=1, color='g')\n",
        "plt.scatter(X[~Prueba], Y[~Prueba], s=1, color='r')\n",
        "plt.hlines(y=f(maximo),xmin=0,xmax=1, color='b')"
      ],
      "metadata": {
        "colab": {
          "base_uri": "https://localhost:8080/",
          "height": 482
        },
        "id": "04Obgt6q5iXS",
        "outputId": "e096a7bb-aa8d-431a-b359-07172937beb1"
      },
      "execution_count": 176,
      "outputs": [
        {
          "output_type": "stream",
          "name": "stdout",
          "text": [
            "el  valor de la integral es: 1.0135546874994574\n",
            "el  valor de la incertidumbre: 1.355468749945743%\n"
          ]
        },
        {
          "output_type": "execute_result",
          "data": {
            "text/plain": [
              "<matplotlib.collections.LineCollection at 0x7d881dfba530>"
            ]
          },
          "metadata": {},
          "execution_count": 176
        },
        {
          "output_type": "display_data",
          "data": {
            "text/plain": [
              "<Figure size 640x480 with 1 Axes>"
            ],
            "image/png": "[encoded data removed]"
          },
          "metadata": {}
        }
      ]
    }
  ]
}