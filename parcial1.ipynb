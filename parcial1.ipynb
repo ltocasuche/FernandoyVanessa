{
  "nbformat": 4,
  "nbformat_minor": 0,
  "metadata": {
    "colab": {
      "provenance": [],
      "authorship_tag": "ABX9TyOKzkDVZCDQqV4kRqpFhE63",
      "include_colab_link": true
    },
    "kernelspec": {
      "name": "python3",
      "display_name": "Python 3"
    },
    "language_info": {
      "name": "python"
    }
  },
  "cells": [
    {
      "cell_type": "markdown",
      "metadata": {
        "id": "view-in-github",
        "colab_type": "text"
      },
      "source": [
        "<a href=\"https://colab.research.google.com/github/ltocasuche/Metodos1_Fernando_Bareno_Y_Laura_Tocasuche/blob/main/parcial1.ipynb\" target=\"_parent\"><img src=\"https://colab.research.google.com/assets/colab-badge.svg\" alt=\"Open In Colab\"/></a>"
      ]
    },
    {
      "cell_type": "code",
      "execution_count": 22,
      "metadata": {
        "colab": {
          "base_uri": "https://localhost:8080/"
        },
        "id": "NhokzoUIT8tX",
        "outputId": "debe9640-7d3f-48e6-a12f-8fecd571bec0"
      },
      "outputs": [
        {
          "output_type": "stream",
          "name": "stdout",
          "text": [
            "Raices del polinomio de grado 1: [1]\n",
            "Raices del polinomio de grado 2: [0.585784313725490]\n",
            "Raices del polinomio de grado 3: [0.415774413863399]\n",
            "Raices del polinomio de grado 4: [4.53662029951519]\n",
            "Raices del polinomio de grado 5: [1.41340309771934]\n"
          ]
        }
      ],
      "source": [
        "import numpy as np\n",
        "import matplotlib.pyplot as plt\n",
        "import sympy as sym\n",
        "\n",
        "x = sym.Symbol('x',real=True)\n",
        "\n",
        "def polinomio(n):\n",
        "  p = (sym.exp(x) / sym.factorial(n)) * sym.diff((sym.exp(-x) * x**n), x, n)\n",
        "  return sym.simplify(p)\n",
        "\n",
        "def derivada(p):\n",
        "  return sym.diff(p,x)\n",
        "\n",
        "def raices_reales(f, df, x0,max_iters=50,tol=1e-5):\n",
        "  xn = x0\n",
        "  for i in range(max_iters):\n",
        "        funcion = f.evalf(subs={x: xn})\n",
        "        derivada = df.evalf(subs={x: xn})\n",
        "        if abs(funcion) < tol:\n",
        "            return xn\n",
        "        if derivada == 0:\n",
        "          print('error')\n",
        "        xn -= funcion / derivada\n",
        "  return xn\n",
        "\n",
        "def encontrar(n):\n",
        "  Polinomio = polinomio(n)\n",
        "  derivada_Polinomio = derivada(Polinomio)\n",
        "  puntos = np.linspace(0, n+5, n*10)\n",
        "  raices = []\n",
        "  #for x0 in puntos:\n",
        "  raiz_real = raices_reales(Polinomio, derivada_Polinomio, 1)\n",
        "  raices.append(raiz_real)\n",
        "  return raices\n",
        "\n",
        "  #prueba\n",
        "\n",
        "for i in range(1,6):\n",
        "  raices = encontrar(i)\n",
        "  print(f'Raices del polinomio de grado {i}: {raices}')\n",
        "\n"
      ]
    },
    {
      "cell_type": "code",
      "source": [
        "def funcion(x):\n",
        "  return np.sin(x)\n",
        "\n",
        "x = sym.Symbol(\"x\",real=True)\n",
        "X = np.array([\n",
        "    [0, np.sin(0)],\n",
        "    [np.pi/3, np.sin(np.pi/3)],\n",
        "    [np.pi/2, np.sin(np.pi/2)]\n",
        "])\n",
        "Y = np.array(funcion(X))\n",
        "\n",
        "\n",
        "def Lagrange(x,X,i):\n",
        "  L = 1\n",
        "  for j in range(len(X)):\n",
        "    if i != j:\n",
        "      L *= (x - X[j]) / (X[i] - X[j])\n",
        "  return L\n",
        "def Interpolar(x,X,Y):\n",
        "  polinomio = 0\n",
        "  for i in range(len(X)):\n",
        "    polinomio += Y[i]*Lagrange(x,X,i)\n",
        "  return polinomio\n",
        "\n",
        "conjunto_soporte = plt.scatter(X,Y)\n",
        "conjunto_soporte\n",
        "polinomio_interpolador = Interpolar(x,X,Y)\n",
        "Y_evaluado =\n",
        "\n"
      ],
      "metadata": {
        "colab": {
          "base_uri": "https://localhost:8080/",
          "height": 482
        },
        "id": "TEwl4iQweMnT",
        "outputId": "181892a4-ae73-473c-a576-2a083155b16d"
      },
      "execution_count": 37,
      "outputs": [
        {
          "output_type": "execute_result",
          "data": {
            "text/plain": [
              "array([0.826993343132688*x*(3.0 - 1.90985931710274*x) + 0.636619772367581*x*(1.90985931710274*x - 2.0),\n",
              "       0.879604660657158*x*(7.46410161513775 - 7.46410161513775*x) + 0.841470984807897*x*(7.46410161513775*x - 6.46410161513775)],\n",
              "      dtype=object)"
            ]
          },
          "metadata": {},
          "execution_count": 37
        },
        {
          "output_type": "display_data",
          "data": {
            "text/plain": [
              "<Figure size 640x480 with 1 Axes>"
            ],
            "image/png": "[encoded data removed]"
          },
          "metadata": {}
        }
      ]
    },
    {
      "cell_type": "code",
      "source": [],
      "metadata": {
        "id": "FPzMycYlgEOL"
      },
      "execution_count": null,
      "outputs": []
    },
    {
      "cell_type": "code",
      "source": [],
      "metadata": {
        "id": "vZvAbF1zgDH6"
      },
      "execution_count": null,
      "outputs": []
    }
  ]
}