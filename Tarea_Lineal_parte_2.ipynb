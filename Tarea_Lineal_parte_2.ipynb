{
  "nbformat": 4,
  "nbformat_minor": 0,
  "metadata": {
    "colab": {
      "provenance": []
    },
    "kernelspec": {
      "name": "python3",
      "display_name": "Python 3"
    },
    "language_info": {
      "name": "python"
    }
  },
  "cells": [
    {
      "cell_type": "markdown",
      "source": [
        "Ejercisio 10"
      ],
      "metadata": {
        "id": "KDDbpnpclo9M"
      }
    },
    {
      "cell_type": "code",
      "execution_count": 82,
      "metadata": {
        "id": "3ArXYbDTeqLj"
      },
      "outputs": [],
      "source": [
        "import numpy as np"
      ]
    },
    {
      "cell_type": "code",
      "source": [
        "A = np.array(([[4,1,1],\n",
        "              [1,3,2],\n",
        "              [1,2,5]]))"
      ],
      "metadata": {
        "id": "i-Bmoz0cBtuk"
      },
      "execution_count": 83,
      "outputs": []
    },
    {
      "cell_type": "code",
      "source": [
        "np.linalg.eig(A)"
      ],
      "metadata": {
        "colab": {
          "base_uri": "https://localhost:8080/"
        },
        "id": "ayKvyAoUCUKd",
        "outputId": "882679d3-1c57-45b8-a14b-fb1808d2487e"
      },
      "execution_count": 84,
      "outputs": [
        {
          "output_type": "execute_result",
          "data": {
            "text/plain": [
              "EigResult(eigenvalues=array([6.89510652, 3.39729507, 1.70759841]), eigenvectors=array([[ 0.43170413,  0.88573564,  0.17059871],\n",
              "       [ 0.49725362, -0.07589338, -0.86427949],\n",
              "       [ 0.75257583, -0.45794385,  0.47319874]]))"
            ]
          },
          "metadata": {},
          "execution_count": 84
        }
      ]
    },
    {
      "cell_type": "code",
      "source": [
        "def Rotacion (A, iter_max, tol = 1e-10):\n",
        "\n",
        "  iter = 0\n",
        "  n = len(A)\n",
        "  V = np.eye(n)\n",
        "  while iter < iter_max:\n",
        "    iter += 1\n",
        "\n",
        "    max_val = 0\n",
        "    p, q = 0, 0\n",
        "    for i in range(n):\n",
        "        for j in range(i + 1, n):\n",
        "            if abs(A[i][j]) > max_val:\n",
        "                max_val = abs(A[i][j])\n",
        "                p, q = i, j\n",
        "\n",
        "    if max_val < tol:\n",
        "            break\n",
        "    if A[p][p] != A[q][q]:\n",
        "      delta = 0.5 * np.arctan(2*A[p][q]/(A[p][p] - A[q][q]))\n",
        "    else:\n",
        "      delta = np.pi/4\n",
        "    R = np.eye(n)\n",
        "    R[p][p] = R[q][q] = np.cos(delta)\n",
        "    R[p][q] = -np.sin(delta)\n",
        "    R[q][p] = np.sin(delta)\n",
        "\n",
        "    A = R.T @ A @ R\n",
        "    V = V @ R\n",
        "  A = np.diag(A)\n",
        "  return A, V"
      ],
      "metadata": {
        "id": "SayekRJaCuu1"
      },
      "execution_count": 85,
      "outputs": []
    },
    {
      "cell_type": "code",
      "source": [
        "R = Rotacion(A, 1000)\n",
        "R"
      ],
      "metadata": {
        "colab": {
          "base_uri": "https://localhost:8080/"
        },
        "id": "8BoT6pK4HRON",
        "outputId": "f131618e-9665-49e3-8b7e-265089a9f594"
      },
      "execution_count": 86,
      "outputs": [
        {
          "output_type": "execute_result",
          "data": {
            "text/plain": [
              "(array([3.39729507, 1.70759841, 6.89510652]),\n",
              " array([[ 0.88573564, -0.17059871,  0.43170413],\n",
              "        [-0.07589338,  0.86427949,  0.49725362],\n",
              "        [-0.45794385, -0.47319874,  0.75257583]]))"
            ]
          },
          "metadata": {},
          "execution_count": 86
        }
      ]
    },
    {
      "cell_type": "markdown",
      "source": [
        "ejercisio 12"
      ],
      "metadata": {
        "id": "CEFgOhfJRRN6"
      }
    },
    {
      "cell_type": "code",
      "source": [
        "G1=(lambda x1,x2: np.log( x1**2 + x2**2 ) - np.sin(x1*x2), \\\n",
        "    lambda x1,x2: np.exp(x1-x2) + np.cos(x1*x2))"
      ],
      "metadata": {
        "id": "JxtPYSv0Mend"
      },
      "execution_count": 87,
      "outputs": []
    },
    {
      "cell_type": "code",
      "source": [
        "G2=(lambda x1,x2,x3: 6*x1 - 2*np.cos(x2*x3) - 1., \\\n",
        "    lambda x1,x2,x3: 9*x2 + np.sqrt( x1**2 + np.sin(x3) + 1.06 ) + 0.9, \\\n",
        "    lambda x1,x2,x3: 60*x3 + 3*np.exp(-x1*x2) + 10*np.pi - 3.)"
      ],
      "metadata": {
        "id": "pAzaEsZdRLV4"
      },
      "execution_count": 88,
      "outputs": []
    },
    {
      "cell_type": "code",
      "source": [
        "def GetJacobian_1(f,r,h=1e-3):\n",
        "\n",
        "  n = r.shape[0]\n",
        "\n",
        "  J = np.zeros((n,n))\n",
        "\n",
        "  for i in range(n):\n",
        "    for j in range(n):\n",
        "\n",
        "      rf = r.copy()\n",
        "      rb = r.copy()\n",
        "\n",
        "      rf[j] = rf[j] + h\n",
        "      rb[j] = rb[j] - h\n",
        "\n",
        "      J[i,j] = (f[i](rf[0],rf[1]) - f[i](rb[0],rb[1]))/(2*h)\n",
        "\n",
        "  return J"
      ],
      "metadata": {
        "id": "v-0ZW7T-Ui68"
      },
      "execution_count": 89,
      "outputs": []
    },
    {
      "cell_type": "code",
      "source": [
        "def GetJacobian_2(f,r,h=1e-3):\n",
        "\n",
        "  n = r.shape[0]\n",
        "\n",
        "  J = np.zeros((n,n))\n",
        "\n",
        "  for i in range(n):\n",
        "    for j in range(n):\n",
        "\n",
        "      rf = r.copy()\n",
        "      rb = r.copy()\n",
        "\n",
        "      rf[j] = rf[j] + h\n",
        "      rb[j] = rb[j] - h\n",
        "\n",
        "      J[i,j] = (f[i](rf[0],rf[1],rf[2]) - f[i](rb[0],rb[1],rb[2]))/(2*h)\n",
        "\n",
        "  return J"
      ],
      "metadata": {
        "id": "XO5rRnqSOLrF"
      },
      "execution_count": 90,
      "outputs": []
    },
    {
      "cell_type": "code",
      "source": [
        "Dx = lambda x1,x2,h=1e-5: (GetJacobian_1(x1+h,x2)-GetJacobian_1(x1-h,x2))/(2*h)\n",
        "Dy = lambda x1,x2,h=1e-5: (GetJacobian_1(x1,x2+h)-GetJacobian_1(x1,x2-h))/(2*h)\n",
        "Gradient_1 = lambda x,y: np.array([Dx(x,y),Dy(x,y)])"
      ],
      "metadata": {
        "id": "48UK0UM3RG4z"
      },
      "execution_count": 107,
      "outputs": []
    },
    {
      "cell_type": "code",
      "source": [
        "Dx = lambda x1,x2,x3,h=1e-5: (GetJacobian_2(x1+h,x2,x3)-GetJacobian_2(x1-h,x2,x3))/(2*h)\n",
        "Dy = lambda x1,x2,x3,h=1e-5: (GetJacobian_2(x1,x2+h,x3)-GetJacobian_2(x1,x2-h,x3))/(2*h)\n",
        "Dz = lambda x1,x2,x3,h=1e-5: (GetJacobian_2(x1,x2,x3+h)-GetJacobian_2(x1,x2,x3-h))/(2*h)\n",
        "Gradient_2 = lambda x,y: np.array([Dx(x,y),Dy(x,y), Dz])"
      ],
      "metadata": {
        "id": "GhEqY_6-Xm27"
      },
      "execution_count": 108,
      "outputs": []
    },
    {
      "cell_type": "code",
      "source": [
        "def NormaJ(J):\n",
        "    return np.sqrt(np.sum(J**2))"
      ],
      "metadata": {
        "id": "rEw1_Y8TTPHR"
      },
      "execution_count": 109,
      "outputs": []
    },
    {
      "cell_type": "code",
      "source": [
        "def Minimizer_1(f, r0, N=1000, gamma=0.01):\n",
        "    r = np.zeros((N, 2))\n",
        "    r[0] = r0\n",
        "\n",
        "    Norm = np.zeros(N)\n",
        "    J = GetJacobian_1(f, r[0])\n",
        "    Norm[0] = NormaJ(J)\n",
        "\n",
        "    for i in range(1, N):\n",
        "        J = GetJacobian_1(f, r[i-1])\n",
        "        grad = np.zeros(2)\n",
        "\n",
        "        for j in range(2):\n",
        "            rf = r[i-1].copy()\n",
        "            rf[j] += 1e-3\n",
        "            J_forward = GetJacobian_1(f, rf)\n",
        "            norm_forward = NormaJ(J_forward)\n",
        "\n",
        "            rb = r[i-1].copy()\n",
        "            rb[j] -= 1e-3\n",
        "            J_backward = GetJacobian_1(f, rb)\n",
        "            norm_backward = NormaJ(J_backward)\n",
        "\n",
        "            grad[j] = (norm_forward - norm_backward) / (2 * 1e-3)\n",
        "\n",
        "\n",
        "        r[i] = r[i-1] - gamma * grad\n",
        "\n",
        "\n",
        "        J = GetJacobian_1(f, r[i])\n",
        "        Norm[i] = NormaJ(J)\n",
        "\n",
        "\n",
        "        if np.abs(Norm[i] - Norm[i-1]) < 1e-6:\n",
        "            break\n",
        "\n",
        "    return r[i]"
      ],
      "metadata": {
        "id": "fC1_yEPyQUE3"
      },
      "execution_count": 110,
      "outputs": []
    },
    {
      "cell_type": "code",
      "source": [
        "Minimizer_1(G1, np.array([2,2]), N=1000, gamma=0.01)"
      ],
      "metadata": {
        "colab": {
          "base_uri": "https://localhost:8080/"
        },
        "id": "w1xWQzPNTbF3",
        "outputId": "f5706d36-034b-4717-aedc-7870f6a3878f"
      },
      "execution_count": 111,
      "outputs": [
        {
          "output_type": "execute_result",
          "data": {
            "text/plain": [
              "array([2.2024868 , 2.68999517])"
            ]
          },
          "metadata": {},
          "execution_count": 111
        }
      ]
    },
    {
      "cell_type": "code",
      "source": [
        "def Minimizer_2(f, r0, N=1000, gamma=0.01):\n",
        "    r = np.zeros((N, 3))\n",
        "    r[0] = r0\n",
        "\n",
        "    Norm = np.zeros(N)\n",
        "    J = GetJacobian_2(f, r[0])\n",
        "    Norm[0] = NormaJ(J)\n",
        "\n",
        "    for i in range(1, N):\n",
        "        J = GetJacobian_2(f, r[i-1])\n",
        "        grad = np.zeros(3)\n",
        "\n",
        "        for j in range(3):\n",
        "            rf = r[i-1].copy()\n",
        "            rf[j] += 1e-3\n",
        "            J_forward = GetJacobian_2(f, rf)\n",
        "            norm_forward = NormaJ(J_forward)\n",
        "\n",
        "            rb = r[i-1].copy()\n",
        "            rb[j] -= 1e-3\n",
        "            J_backward = GetJacobian_2(f, rb)\n",
        "            norm_backward = NormaJ(J_backward)\n",
        "\n",
        "            grad[j] = (norm_forward - norm_backward) / (2 * 1e-3)\n",
        "\n",
        "\n",
        "        r[i] = r[i-1] - gamma * grad\n",
        "\n",
        "\n",
        "        J = GetJacobian_2(f, r[i])\n",
        "        Norm[i] = NormaJ(J)\n",
        "\n",
        "\n",
        "        if np.abs(Norm[i] - Norm[i-1]) < 1e-6:\n",
        "            break\n",
        "\n",
        "    return r[i]"
      ],
      "metadata": {
        "id": "AuHJDwPtYI8e"
      },
      "execution_count": 112,
      "outputs": []
    },
    {
      "cell_type": "code",
      "source": [
        "Minimizer_2(G2, np.array([0,0,0]), N=1000, gamma=0.01)"
      ],
      "metadata": {
        "colab": {
          "base_uri": "https://localhost:8080/"
        },
        "id": "tDgJIVbNZJro",
        "outputId": "f8b32295-296a-48cc-9b60-6bef860e74d4"
      },
      "execution_count": 113,
      "outputs": [
        {
          "output_type": "execute_result",
          "data": {
            "text/plain": [
              "array([ 0.00000000e+00, -1.77635684e-13,  1.82468554e-05])"
            ]
          },
          "metadata": {},
          "execution_count": 113
        }
      ]
    },
    {
      "cell_type": "markdown",
      "source": [
        "ejercisio 13"
      ],
      "metadata": {
        "id": "yMLVt6QzZ3Qn"
      }
    },
    {
      "cell_type": "code",
      "source": [
        "def Jacobiano_sigma4 (f,r,h=0.01):\n",
        "\n",
        "    n = r.shape[0]\n",
        "    J = np.zeros((n,n))\n",
        "\n",
        "    for i in range(n):\n",
        "      for j in range(n):\n",
        "\n",
        "        r1 = r.copy()\n",
        "        r2 = r.copy()\n",
        "        r3 = r.copy()\n",
        "        r4 = r.copy()\n",
        "\n",
        "        r1[j] += 2*h\n",
        "        r2[j] += h\n",
        "        r3[j] -= h\n",
        "        r4[j] -= 2*h\n",
        "        J[i,j] = (-f[i](r1[0],r1[1],r1[2]) + 8*f[i](r2[0],r[1],r2[2]) - 8*f[i](r3[0],r3[1],r3[2]) + f[i](r4[0],r4[1],r4[2]))/(12*h)\n",
        "\n",
        "    return J"
      ],
      "metadata": {
        "id": "f2YtOlbZZzLR"
      },
      "execution_count": 116,
      "outputs": []
    },
    {
      "cell_type": "code",
      "source": [
        "def Jacobiano_sigma2(f,r,h=0.01):\n",
        "\n",
        "  n = r.shape[0]\n",
        "\n",
        "  J = np.zeros((n,n))\n",
        "\n",
        "  for i in range(n):\n",
        "    for j in range(n):\n",
        "\n",
        "      rf = r.copy()\n",
        "      rb = r.copy()\n",
        "\n",
        "      rf[j] = rf[j] + h\n",
        "      rb[j] = rb[j] - h\n",
        "\n",
        "      J[i,j] = (f[i](rf[0],rf[1],rf[2]) - f[i](rb[0],rb[1],rb[2]))/(2*h)\n",
        "\n",
        "  return J"
      ],
      "metadata": {
        "id": "xNME-s6HcVRk"
      },
      "execution_count": 119,
      "outputs": []
    },
    {
      "cell_type": "code",
      "source": [
        "a = Jacobiano_sigma4(G2, np.array([0,0,0]))\n",
        "b = Jacobiano_sigma2(G2, np.array([0,0,0]))\n",
        "c = Jacobiano_sigma2(G2, np.array([0,0,0]), h=0.01**2)\n",
        "\n",
        "print(a-b)\n",
        "print(b-c)"
      ],
      "metadata": {
        "colab": {
          "base_uri": "https://localhost:8080/"
        },
        "id": "h-jwsFayeBiT",
        "outputId": "f56e5bbf-a6e8-4c57-d38a-30044657961f"
      },
      "execution_count": 123,
      "outputs": [
        {
          "output_type": "stream",
          "name": "stdout",
          "text": [
            "[[ 0.00000000e+00  0.00000000e+00  0.00000000e+00]\n",
            " [-7.40148683e-15 -7.40148683e-15 -7.40148683e-15]\n",
            " [-5.92118946e-14 -5.92118946e-14 -5.92118946e-14]]\n",
            "[[0. 0. 0.]\n",
            " [0. 0. 0.]\n",
            " [0. 0. 0.]]\n"
          ]
        }
      ]
    },
    {
      "cell_type": "markdown",
      "source": [
        "ejercisio 14"
      ],
      "metadata": {
        "id": "2vI9WdQkfZF1"
      }
    },
    {
      "cell_type": "code",
      "source": [
        "import sympy as sp\n",
        "\n",
        "J_x = sp.Matrix([[0, 0, 0],\n",
        "                  [0, 0, -1],\n",
        "                  [0, 1, 0]])\n",
        "\n",
        "J_y = sp.Matrix([[0, 0, 1],\n",
        "                  [0, 0, 0],\n",
        "                  [-1, 0, 0]])\n",
        "\n",
        "J_z = sp.Matrix([[0, -1, 0],\n",
        "                  [1, 0, 0],\n",
        "                  [0, 0, 0]])\n",
        "\n",
        "\n",
        "def commutator(A, B):\n",
        "    return A*B - B*A\n",
        "\n",
        "\n",
        "commutator_xy = commutator(J_x, J_y)\n",
        "commutator_xz = commutator(J_x, J_z)\n",
        "commutator_yz = commutator(J_y, J_z)\n",
        "\n",
        "Rcommutator_xy = np.zeros((3,3))\n",
        "Rcommutator_xz = np.zeros((3,3))\n",
        "Rcommutator_yz = np.zeros((3,3))\n",
        "\n",
        "\n",
        "commutator_xy, commutator_xz, commutator_yz"
      ],
      "metadata": {
        "colab": {
          "base_uri": "https://localhost:8080/"
        },
        "id": "FtgY0IrHfYlI",
        "outputId": "07cc2048-f058-40ec-b229-c8cb7b6df904"
      },
      "execution_count": 126,
      "outputs": [
        {
          "output_type": "execute_result",
          "data": {
            "text/plain": [
              "(Matrix([\n",
              " [0, -1, 0],\n",
              " [1,  0, 0],\n",
              " [0,  0, 0]]),\n",
              " Matrix([\n",
              " [0, 0, -1],\n",
              " [0, 0,  0],\n",
              " [1, 0,  0]]),\n",
              " Matrix([\n",
              " [0, 0,  0],\n",
              " [0, 0, -1],\n",
              " [0, 1,  0]]),\n",
              " array([[ 0., -1.,  0.],\n",
              "        [ 1.,  0.,  0.],\n",
              "        [ 0.,  0.,  0.]]),\n",
              " array([[0., 0., 0.],\n",
              "        [0., 0., 0.],\n",
              "        [0., 0., 0.]]),\n",
              " array([[0., 0., 0.],\n",
              "        [0., 0., 0.],\n",
              "        [0., 0., 0.]]))"
            ]
          },
          "metadata": {},
          "execution_count": 126
        }
      ]
    },
    {
      "cell_type": "markdown",
      "source": [
        "Es posible evidenciar que:\n",
        "\n",
        "$\n",
        "  [J_x,J_y] = J_z\\\\\n",
        "  [J_y,J_z] = J_x\\\\\n",
        "  [J_z,J_x] = J_y\n",
        "$\n",
        "\n",
        "Y lo anterior solo se cumple si el algebra de conjuntos esta dada por\n",
        "$[J_i, J_j ] = ϵ_{ijk}J_k,$"
      ],
      "metadata": {
        "id": "SEUU_ab6hMAz"
      }
    }
  ]
}