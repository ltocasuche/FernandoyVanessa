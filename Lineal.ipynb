{
  "nbformat": 4,
  "nbformat_minor": 0,
  "metadata": {
    "colab": {
      "provenance": [],
      "authorship_tag": "ABX9TyNGbWRvuy8sx1VUpOXDjWES",
      "include_colab_link": true
    },
    "kernelspec": {
      "name": "python3",
      "display_name": "Python 3"
    },
    "language_info": {
      "name": "python"
    }
  },
  "cells": [
    {
      "cell_type": "markdown",
      "metadata": {
        "id": "view-in-github",
        "colab_type": "text"
      },
      "source": [
        "<a href=\"https://colab.research.google.com/github/ltocasuche/Metodos1_Fernando_Bareno_Y_Laura_Tocasuche/blob/main/Lineal.ipynb\" target=\"_parent\"><img src=\"https://colab.research.google.com/assets/colab-badge.svg\" alt=\"Open In Colab\"/></a>"
      ]
    },
    {
      "cell_type": "code",
      "execution_count": null,
      "metadata": {
        "id": "PuE85TF83c7r"
      },
      "outputs": [],
      "source": [
        "#PUNTO 1 (TEORICO)"
      ]
    },
    {
      "cell_type": "markdown",
      "source": [
        "- Relacion 1:                  \n",
        "\n",
        "  Xn+1 = 4Xn - Xn^2,\n",
        "  X0 = 4sin^2(theta)\n",
        "\n",
        "  Solución general: Xn+1 = 4sin^2(2^(n+1)(theta))\n",
        "\n",
        "- Relacion 2:\n",
        "\n",
        "  Xn+1 = 4Xn - 4Xn^2,\n",
        "  X0 = sin^2(theta)\n",
        "\n",
        "  Solución general: Xn+1 = sin^2(2^(n+1)(theta))\n",
        "\n",
        "*Demostrar que la solución general se cumple para cada relación:*\n",
        "\n",
        "**Relación 1:**\n",
        "\n",
        "*se cumple para n = 0?*\n",
        "\n",
        "X0+1 = 4X0 - X0^2\n",
        "\n",
        "X1 = 4(4sin^2(theta)) - (4sin^2(theta))^2\n",
        "\n",
        "= 16sin^2(theta) - 16sin^4(theta)\n",
        "= 16sin^2(theta)(1-sin^2(theta))\n",
        "= 16sin^2(theta)cos^2(theta)\n",
        "\n",
        "= 4(2sin(theta)cos(theta))^2\n",
        "= 4sin^2(2(theta))\n",
        "\n",
        "*probar la solución general:* X0+1 = 4sin^2(2^(0+1)(theta)) = 4sin^2(2(theta))\n",
        "\n",
        "*si se cumple, ahora suponemos que la formula es cierta para un n arbitrario.*\n",
        "Xn = 4sin^2(2^(n)(theta)), *demostrar si esta es cierta para n+1.*\n",
        "\n",
        "Xn+1 = 4(4sin^2(2^n(theta))) - (4sin^2(2^n(theta)))^2\n",
        "\n",
        "= 16sin^2(2^n(theta)) - 16sin^4(2^n(theta))\n",
        "= 16sin^2(2^n(theta))(1-sin^2(2^n(theta)))\n",
        "= 16sin^2(2^n(theta))cos^2(2^n(theta))\n",
        "\n",
        "= 4(2sin(2^n(theta))cos(2^n(theta)))^2\n",
        "= 4sin^2(2^(n+1)(theta))\n",
        "\n",
        "**si se cumple.**\n",
        "\n",
        "**Relación 2:**\n",
        "\n",
        "*se cumple para n = 0?*\n",
        "\n",
        "X0+1 = 4X0 - 4X0^2\n",
        "\n",
        "X1 = 4sin^2(theta) - 4(sin^2(theta))^2\n",
        "=  4sin^2(theta) - 4sin^4(theta)\n",
        "\n",
        "= 4sin^2(theta)(1-sin^2(theta))\n",
        "= 4sin^2(theta)cos^2(theta)\n",
        "\n",
        "= (2sin(theta)cos(theta))^2\n",
        "= sin^2(2(theta))\n",
        "\n",
        "*probar la solución general:* X0+1 = sin^2(2^(0+1)(theta)) = sin^2(2(theta))\n",
        "\n",
        "*si se cumple, ahora suponemos que la formula es cierta para un n arbitrario.*\n",
        "Xn = sin^2(2^n(theta)), *demostrar si esta es cierta para n+1.*\n",
        "\n",
        "Xn+1 = 4(sin^2(2^n(theta))) - 4(sin^2(2^n(theta)))^2\n",
        "\n",
        "= 4sin^2(2^n(theta)) - 4sin^4(2^n(theta))\n",
        "= 4sin^2(2^n(theta))(1-sin^2(2^n(theta)))\n",
        "= 4sin^2(2^n(theta))cos^2(2^n(theta))\n",
        "\n",
        "= (2sin(2^n(theta))cos(2^n(theta)))^2\n",
        "= sin^2(2^(n+1)(theta))\n",
        "\n",
        "**si se cumple.**"
      ],
      "metadata": {
        "id": "js2ngdrWEXSf"
      }
    },
    {
      "cell_type": "code",
      "source": [
        "#PUNTO 2"
      ],
      "metadata": {
        "id": "DxudaBBfEYtG"
      },
      "execution_count": null,
      "outputs": []
    },
    {
      "cell_type": "code",
      "source": [
        "import numpy as np"
      ],
      "metadata": {
        "id": "Ro08Xv9BLgLa"
      },
      "execution_count": null,
      "outputs": []
    },
    {
      "cell_type": "code",
      "source": [
        "A = np.array([[3.,-1.,-1.],[-1.,3.,1.],[2.,1.,4.]])\n",
        "A"
      ],
      "metadata": {
        "colab": {
          "base_uri": "https://localhost:8080/"
        },
        "id": "ob5V0isJL6br",
        "outputId": "39884fd9-76d7-4be7-9846-bda53a645e7b"
      },
      "execution_count": null,
      "outputs": [
        {
          "output_type": "execute_result",
          "data": {
            "text/plain": [
              "array([[ 3., -1., -1.],\n",
              "       [-1.,  3.,  1.],\n",
              "       [ 2.,  1.,  4.]])"
            ]
          },
          "metadata": {},
          "execution_count": 3
        }
      ]
    },
    {
      "cell_type": "code",
      "source": [
        "b = np.array([1.,3.,7.])\n",
        "b"
      ],
      "metadata": {
        "colab": {
          "base_uri": "https://localhost:8080/"
        },
        "id": "FldLAa0qMHuG",
        "outputId": "de43e901-c30c-4504-8f6a-1b7800d992af"
      },
      "execution_count": null,
      "outputs": [
        {
          "output_type": "execute_result",
          "data": {
            "text/plain": [
              "array([1., 3., 7.])"
            ]
          },
          "metadata": {},
          "execution_count": 4
        }
      ]
    },
    {
      "cell_type": "code",
      "source": [
        "np.linalg.solve(A,b)"
      ],
      "metadata": {
        "colab": {
          "base_uri": "https://localhost:8080/"
        },
        "id": "rUr1gnwvMIxd",
        "outputId": "c54f4ba3-0e54-4359-f1df-a4609327fac0"
      },
      "execution_count": null,
      "outputs": [
        {
          "output_type": "execute_result",
          "data": {
            "text/plain": [
              "array([1., 1., 1.])"
            ]
          },
          "metadata": {},
          "execution_count": 5
        }
      ]
    },
    {
      "cell_type": "code",
      "source": [
        "#implementar gaus-seidel\n",
        "\n",
        "def Gauss_Seidel(A,b,x0, itmax = 100, tolerancia = 1e-16):\n",
        "\n",
        "  x = x0.copy()\n",
        "  it = 0\n",
        "  for it in range(itmax):\n",
        "\n",
        "    x_new = np.copy(x)\n",
        "\n",
        "    for i in range(A.shape[0]):\n",
        "      suma = 0.\n",
        "      for j in range(A.shape[1]):\n",
        "        if i != j:\n",
        "          suma += A[i,j]*x_new[j]\n",
        "          x_new[i] = (b[i] - suma)/A[i,i]\n",
        "\n",
        "    if np.linalg.norm( np.dot(A,x_new)-b) < tolerancia:\n",
        "      break\n",
        "\n",
        "    x = np.copy(x_new)\n",
        "    it += 1\n",
        "\n",
        "  print(it)\n",
        "  return x,it"
      ],
      "metadata": {
        "id": "rJ0a8XXAL7DC"
      },
      "execution_count": null,
      "outputs": []
    },
    {
      "cell_type": "code",
      "source": [
        "x0 = np.array([0.,0.,0.])\n",
        "x,_ = Gauss_Seidel(A,b,x0)\n",
        "print(x)"
      ],
      "metadata": {
        "colab": {
          "base_uri": "https://localhost:8080/"
        },
        "id": "MelMBPSAMWve",
        "outputId": "956002e6-8219-4dac-ffb6-d072af9203e4"
      },
      "execution_count": null,
      "outputs": [
        {
          "output_type": "stream",
          "name": "stdout",
          "text": [
            "25\n",
            "[1. 1. 1.]\n"
          ]
        }
      ]
    },
    {
      "cell_type": "code",
      "source": [
        "#PUNTO 3"
      ],
      "metadata": {
        "id": "8hrd4uZNa4Ft"
      },
      "execution_count": null,
      "outputs": []
    },
    {
      "cell_type": "code",
      "source": [
        "class Solucionador:\n",
        "\n",
        "    def __init__(self, A, b, tolerancia=1e-16, it_max =100):\n",
        "\n",
        "        self.A = A\n",
        "        self.b = b\n",
        "        self.tolerancia = tolerancia\n",
        "        self.it_max = it_max\n",
        "\n",
        "    def jacobi(self):\n",
        "\n",
        "        x = x0.copy()\n",
        "        iter = 0\n",
        "\n",
        "        for it in range(self.it_max):\n",
        "          x_new = np.copy(x)\n",
        "\n",
        "          for i in range(self.A.shape[0]):\n",
        "            suma = 0.\n",
        "            for j in range(self.A.shape[1]):\n",
        "              if i != j:\n",
        "                suma += self.A[i,j]*x[j]\n",
        "                x_new[i] = (self.b[i] - suma)/self.A[i,i]\n",
        "\n",
        "\n",
        "          if np.linalg.norm( np.dot(self.A,x_new)-b) < self.tolerancia:\n",
        "             break\n",
        "\n",
        "          x = np.copy(x_new)\n",
        "          iter += 1\n",
        "\n",
        "        print(x,iter)\n",
        "\n",
        "        return x, iter\n",
        "\n",
        "    def gauss_seidel(self):\n",
        "\n",
        "        x = x0.copy()\n",
        "        iter = 0\n",
        "\n",
        "        for it in range(self.it_max):\n",
        "          x_new = np.copy(x)\n",
        "\n",
        "          for i in range(self.A.shape[0]):\n",
        "            suma = 0.\n",
        "            for j in range(self.A.shape[1]):\n",
        "              if i != j:\n",
        "                suma += self.A[i,j]*x_new[j]\n",
        "                x_new[i] = (self.b[i] - suma)/self.A[i,i]\n",
        "\n",
        "          if np.linalg.norm( np.dot(self.A,x_new)-b) < self.tolerancia:\n",
        "            break\n",
        "\n",
        "          x = np.copy(x_new)\n",
        "          iter += 1\n",
        "\n",
        "        print(x,iter)\n",
        "        return x,iter"
      ],
      "metadata": {
        "id": "pD6sfc0Ma7F0"
      },
      "execution_count": null,
      "outputs": []
    },
    {
      "cell_type": "code",
      "source": [
        "A = np.array([[3.,-1.,-1.],[-1.,3.,1.],[2.,1.,4.]])\n",
        "b = np.array([1.,3.,7.])\n",
        "x0 = np.array([0.,0.,0.])\n",
        "clase = Solucionador(A, b)\n",
        "x_jacobi = clase.jacobi()\n",
        "x_gauss_seidel = clase.gauss_seidel()\n"
      ],
      "metadata": {
        "colab": {
          "base_uri": "https://localhost:8080/"
        },
        "id": "pPI0Tg2KhaHy",
        "outputId": "213ce14e-609b-4aaa-be6f-84496b76f286"
      },
      "execution_count": null,
      "outputs": [
        {
          "output_type": "stream",
          "name": "stdout",
          "text": [
            "[1. 1. 1.] 34\n",
            "[1. 1. 1.] 25\n"
          ]
        }
      ]
    },
    {
      "cell_type": "code",
      "source": [
        "#PUNTO 4"
      ],
      "metadata": {
        "id": "rwlsXjbBlBfy"
      },
      "execution_count": null,
      "outputs": []
    },
    {
      "cell_type": "code",
      "source": [
        "def multiplicar_matrices(A,B):\n",
        "\n",
        "  if A.shape[1] != B.shape[0]:\n",
        "        raise ValueError(\"Las matrices no pueden ser multiplicadas.\")\n",
        "\n",
        "  C = np.zeros_like(A)\n",
        "\n",
        "  for i in range(A.shape[0]):\n",
        "        for j in range(B.shape[1]):\n",
        "            for k in range(A.shape[1]):\n",
        "                C[i][j] += A[i][k] * B[k][j]\n",
        "\n",
        "  return C"
      ],
      "metadata": {
        "id": "l49Gb2EInCpE"
      },
      "execution_count": null,
      "outputs": []
    },
    {
      "cell_type": "code",
      "source": [
        "A = np.array([[1.,0.,0.],[5.,1.,0.],[-2.,3.,1.]])\n",
        "B = np.array([[4.,-2.,1.],[0.,3.,7.],[0.,0.,2.]])\n",
        "\n",
        "multiplicación = multiplicar_matrices(A,B)\n",
        "print(multiplicación)"
      ],
      "metadata": {
        "colab": {
          "base_uri": "https://localhost:8080/"
        },
        "id": "eH3IL7sHolay",
        "outputId": "1d79c14e-e1a2-40c3-d625-fcb12cd1685d"
      },
      "execution_count": null,
      "outputs": [
        {
          "output_type": "stream",
          "name": "stdout",
          "text": [
            "[[ 4. -2.  1.]\n",
            " [20. -7. 12.]\n",
            " [-8. 13. 21.]]\n"
          ]
        }
      ]
    },
    {
      "cell_type": "code",
      "source": [
        "#PUNTO 5 (TEORICO)"
      ],
      "metadata": {
        "id": "t897K4IoDO5X"
      },
      "execution_count": null,
      "outputs": []
    },
    {
      "cell_type": "markdown",
      "source": [
        "A partir del sistema de ecuaciones Ax = b donde A es una matriz triangular inferior, x es un vector y b un vector de terminos independientes.\n",
        "\n",
        "Para cada fila i, la ecuación se puede expresar como:\n",
        "\n",
        "Ai1x1 + Ai2x2 + ..... + Aiixi = bi\n",
        "\n",
        "donde se cumple:\n",
        "\n",
        "A11x1 = b1\n",
        "A21x1 + A22x2 = b2\n",
        "\n",
        "A partir de dicha ecuación, es posible despejar xi:\n",
        "\n",
        "xi = (bi - sumatoria de j = 1 a i-1 de Aijxj) / Aii"
      ],
      "metadata": {
        "id": "pxR-xuQGDTj-"
      }
    },
    {
      "cell_type": "code",
      "source": [
        "#PUNTO 6 (TEORICO)"
      ],
      "metadata": {
        "id": "TBK9-s8yFXpl"
      },
      "execution_count": null,
      "outputs": []
    },
    {
      "cell_type": "markdown",
      "source": [
        "Nuevamente partiendo desde el mismo sistema Ax = b pero en este caso, A es un matriz diagonal superior.\n",
        "\n",
        "Cada dila del sistema tiene la forma: Ai,ixi + Ai,i+1xi+1 + .... + Ai,nxn = bi\n",
        "\n",
        "Reordenando la ecuación obtenemos:\n",
        "\n",
        "Aiixi = bi - sumatoria de j = i+1 hasta n de Aijxj\n",
        "\n",
        "despejando xi:\n",
        "\n",
        "xi = (bi - sumatoria de j = i+1 hasta n de Aijxj)/Aii"
      ],
      "metadata": {
        "id": "TcR0lFfeGqUp"
      }
    },
    {
      "cell_type": "code",
      "source": [
        "#PUNTO 8"
      ],
      "metadata": {
        "id": "Eggx8q98qWqw"
      },
      "execution_count": null,
      "outputs": []
    },
    {
      "cell_type": "code",
      "source": [
        "def descomposicion_LU(A):\n",
        "\n",
        "    n = A.shape[0]\n",
        "    L = np.eye(n)\n",
        "    U = A.copy()\n",
        "\n",
        "    for i in range(n):\n",
        "        for j in range(i+1, n):\n",
        "            coeficiente = U[j, i] / U[i, i]\n",
        "            L[j, i] = coeficiente\n",
        "            U[j, :] = U[j, :] - coeficiente * U[i, :]\n",
        "\n",
        "    return L, U\n",
        "\n",
        "A = np.array([[4., -2., 1.],\n",
        "              [20., -7., 12.],\n",
        "              [-8., 13., 21.]])\n",
        "\n",
        "L, U = descomposicion_LU(A)\n",
        "L, U"
      ],
      "metadata": {
        "colab": {
          "base_uri": "https://localhost:8080/"
        },
        "id": "nqerTwwbqZnE",
        "outputId": "077e3d73-90d8-48f6-fe3b-8576a437e327"
      },
      "execution_count": null,
      "outputs": [
        {
          "output_type": "execute_result",
          "data": {
            "text/plain": [
              "(array([[ 1.,  0.,  0.],\n",
              "        [ 5.,  1.,  0.],\n",
              "        [-2.,  3.,  1.]]),\n",
              " array([[ 4., -2.,  1.],\n",
              "        [ 0.,  3.,  7.],\n",
              "        [ 0.,  0.,  2.]]))"
            ]
          },
          "metadata": {},
          "execution_count": 60
        }
      ]
    }
  ]
}