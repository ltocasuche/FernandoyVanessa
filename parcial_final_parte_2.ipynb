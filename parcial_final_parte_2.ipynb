{
  "nbformat": 4,
  "nbformat_minor": 0,
  "metadata": {
    "colab": {
      "provenance": [],
      "toc_visible": true
    },
    "kernelspec": {
      "name": "python3",
      "display_name": "Python 3"
    },
    "language_info": {
      "name": "python"
    }
  },
  "cells": [
    {
      "cell_type": "code",
      "source": [
        "import numpy as np\n",
        "import matplotlib.pyplot as plt\n",
        "import random\n",
        "import scipy.optimize as spo\n",
        "from scipy import integrate\n",
        "from scipy.stats import poisson\n",
        "from scipy.special import factorial\n",
        "from mpl_toolkits.mplot3d import Axes3D\n",
        "from scipy.stats import exponweib\n",
        "import pandas as pd"
      ],
      "metadata": {
        "id": "lNO23CkJHovg"
      },
      "execution_count": 235,
      "outputs": []
    },
    {
      "cell_type": "markdown",
      "source": [
        "#Procesos de Markov"
      ],
      "metadata": {
        "id": "7LBeEJuGP6Zn"
      }
    },
    {
      "cell_type": "markdown",
      "source": [
        "##Problema 3\n",
        "En una cadena de producción existen dos estaciones: la estación de producción y la estación de empaque. En la estación de producción, hay una probabilidad del $90\\%$ de que el producto avance a la estación de empaque y una probabilidad del $10\\%$ de que el producto tenga un defecto, lo que hace que permanezca en la etapa de producción. Una vez que el producto llega a la estación de empaque, tiene una probabilidad del $95\\%$ de ser enviado al mercado y una probabilidad del $5\\%$ de quedarse en la estación de empaque. Resuelva el problema anterior suponiendo que el $2\\%$ de la veces el cliente regresa el\n",
        "producto y va directamente a producción."
      ],
      "metadata": {
        "id": "--yNW0j-QKF3"
      }
    },
    {
      "cell_type": "markdown",
      "source": [
        "###(a)\n",
        "Describa las variables observables del problema.\n"
      ],
      "metadata": {
        "id": "zDoVoIt9R1sf"
      }
    },
    {
      "cell_type": "markdown",
      "source": [
        "El producto puede estar en tres estados: En estado de producción, en estado de empaque o entregado en el mercado."
      ],
      "metadata": {
        "id": "N4R-TDt3SDh3"
      }
    },
    {
      "cell_type": "markdown",
      "source": [
        "###(b)\n",
        "Defina el conjunto de estados $S = \\{S_1, S_2, S_1\\}$."
      ],
      "metadata": {
        "id": "8hcHX8sPVGLH"
      }
    },
    {
      "cell_type": "markdown",
      "source": [
        "* $S_1 =$ Producción.\n",
        "* $S_2 =$ Empaquetado.\n",
        "* $S_3 =$ Mercado."
      ],
      "metadata": {
        "id": "EWfV8F9tZ1YU"
      }
    },
    {
      "cell_type": "code",
      "source": [],
      "metadata": {
        "id": "h_ISYzqT4jgk"
      },
      "execution_count": 235,
      "outputs": []
    },
    {
      "cell_type": "markdown",
      "source": [
        "###(c)\n",
        "Construya la matriz de transición de este proceso estocástico."
      ],
      "metadata": {
        "id": "G6Mtw_YuVc5M"
      }
    },
    {
      "cell_type": "markdown",
      "source": [
        "\\begin{equation}\n",
        "T=\n",
        "\\begin{pmatrix}\n",
        "    & \\mathbb{P}_{*1}& \\mathbb{P}_{*2}& \\mathbb{P}_{*3}\\\\\n",
        "    S_1 & 0.1 & 0.9 & 0\\\\\n",
        "    S_2 & 0 & 0.05 & 0.95\\\\\n",
        "    S_3 & 0.02 & 0 & 0.98\n",
        "\\end{pmatrix}\n",
        "\\end{equation}"
      ],
      "metadata": {
        "id": "cVW0gUcWaUvv"
      }
    },
    {
      "cell_type": "code",
      "source": [
        "S_1 = np.array([0.1,0.9,0])\n",
        "S_2 = np.array([0,0.05,0.95])\n",
        "S_3 = np.array([0.02,0,0.98])\n",
        "T = np.array([S_1,S_2,S_3])\n",
        "T"
      ],
      "metadata": {
        "colab": {
          "base_uri": "https://localhost:8080/"
        },
        "id": "QEv4u5xeSDBf",
        "outputId": "b58efc8a-296c-4fa1-a725-0522f79244f2"
      },
      "execution_count": 236,
      "outputs": [
        {
          "output_type": "execute_result",
          "data": {
            "text/plain": [
              "array([[0.1 , 0.9 , 0.  ],\n",
              "       [0.  , 0.05, 0.95],\n",
              "       [0.02, 0.  , 0.98]])"
            ]
          },
          "metadata": {},
          "execution_count": 236
        }
      ]
    },
    {
      "cell_type": "markdown",
      "source": [
        "###(d)\n",
        "Encuentre el estado estable tanto algebraicamente como numéricamente. Recuerde\n",
        "$\\pi\\mathbb{P}=\\pi$ para el estado estable. ¿Qué interpretación le da al estado estable?"
      ],
      "metadata": {
        "id": "wUF-ph5AVtdJ"
      }
    },
    {
      "cell_type": "markdown",
      "source": [
        "\\begin{equation}\n",
        "    \\pi\\cdot T=\\pi\\\\\n",
        "\\end{equation}\n",
        "\n",
        "\\begin{equation}\n",
        "\\Rightarrow(\\pi_1,\\pi_2,\\pi_3)\n",
        "\\begin{pmatrix}\n",
        "    & \\mathbb{P}_{*1}& \\mathbb{P}_{*2}& \\mathbb{P}_{*3}\\\\\n",
        "    S_1 & 0.1 & 0.9 & 0\\\\\n",
        "    S_2 & 0 & 0.05 & 0.95\\\\\n",
        "    S_3 & 0.02 & 0 & 0.98\n",
        "\\end{pmatrix}\n",
        "=(\\pi_1,\\pi_2,\\pi_3)\\\\\n",
        "\\end{equation}\n",
        "\n",
        "\\begin{equation}\n",
        "\\begin{aligned}\n",
        "0.1\\pi_1 + 0\\pi_2 + 0.2\\pi_3 &= \\pi_1\\\\\n",
        "0.9\\pi_1 + 0.05\\pi_2 + 0\\pi_3 &= \\pi_2\\\\\n",
        "0\\pi_1 + 0.95\\pi_2 + 0.98\\pi_3 &= \\pi_3\\\\\n",
        "\\\\\n",
        "\\frac{\\pi_1-0.1\\pi_1}{0.2}&=\\pi_3\\\\\n",
        "\\frac{\\pi_2-0.05\\pi_2}{0.9} &= \\pi_1\\\\\n",
        "\\frac{\\pi_3-0.98\\pi_3}{0.95} &= \\pi_2\\\\\n",
        "\\\\\n",
        "4.5\\pi_1&=\\pi_3\\\\\n",
        "1.055\\pi_2 &= \\pi_1\\\\\n",
        "0.021\\pi_3 &= \\pi_2\\\\\n",
        "\\\\\n",
        "\\pi_3=4.5\\cdot1.055\\sind\n",
        "\\end{aligned}\n",
        "\\end{equation}"
      ],
      "metadata": {
        "id": "fnL_lmlc72Dh"
      }
    },
    {
      "cell_type": "code",
      "source": [
        "def Get_estado_estable (pi, T):\n",
        "    pi_nuevo = np.dot(pi,T)\n",
        "    while abs(pi-pi_nuevo).any()>1e-15:\n",
        "        pi = pi_nuevo\n",
        "        pi_nuevo = np.dot(pi,T)\n",
        "    return pi"
      ],
      "metadata": {
        "id": "b51T09r_R0qh"
      },
      "execution_count": 237,
      "outputs": []
    },
    {
      "cell_type": "code",
      "source": [
        "pi = Get_estado_estable(np.array([1,0,0]),T)\n",
        "pi"
      ],
      "metadata": {
        "colab": {
          "base_uri": "https://localhost:8080/"
        },
        "id": "yRTW3ejrWR47",
        "outputId": "8ccdc189-7ea1-49a7-afe5-89500251a901"
      },
      "execution_count": 238,
      "outputs": [
        {
          "output_type": "execute_result",
          "data": {
            "text/plain": [
              "array([0.02130045, 0.02017937, 0.95852018])"
            ]
          },
          "metadata": {},
          "execution_count": 238
        }
      ]
    },
    {
      "cell_type": "markdown",
      "source": [
        "El estado estable nos dice que"
      ],
      "metadata": {
        "id": "yujNRYPZQhG_"
      }
    },
    {
      "cell_type": "markdown",
      "source": [
        "###(e)\n",
        "Determine la probabilidad en estado estable de que ambas estaciones estén ocupadas al mismo tiempo."
      ],
      "metadata": {
        "id": "gMsB2bMwWJso"
      }
    },
    {
      "cell_type": "code",
      "source": [
        "prob_ambas_ocupadas = round(pi[0] * pi[1] * 100, 3)\n",
        "print(f\"La probabilidad de que ambas estaciones esten ocupadas al mismo tiempo es del {prob_ambas_ocupadas}%\")"
      ],
      "metadata": {
        "colab": {
          "base_uri": "https://localhost:8080/"
        },
        "id": "FUmaEf7kSCwf",
        "outputId": "0cae42d2-fe03-4ae3-be55-813fff5268bc"
      },
      "execution_count": 239,
      "outputs": [
        {
          "output_type": "stream",
          "name": "stdout",
          "text": [
            "La probabilidad de que ambas estaciones esten ocupadas al mismo tiempo es del 0.043%\n"
          ]
        }
      ]
    },
    {
      "cell_type": "markdown",
      "source": [
        "###(f)\n",
        "Determine la probabilidad en estado estable de que al menos una estación esté ocupada."
      ],
      "metadata": {
        "id": "AeGM804rWUQO"
      }
    },
    {
      "cell_type": "code",
      "source": [
        "prob_al_menos_una_ocupada = round((1 - pi[2]) * 100, 2)\n",
        "print(f\"La probabilidad de que al menos una estación esté ocupada es del {prob_al_menos_una_ocupada}%\")"
      ],
      "metadata": {
        "colab": {
          "base_uri": "https://localhost:8080/"
        },
        "id": "xPv8WXP9Wk1R",
        "outputId": "86f8be66-2ee5-4d59-a77a-e1069b00f986"
      },
      "execution_count": 240,
      "outputs": [
        {
          "output_type": "stream",
          "name": "stdout",
          "text": [
            "La probabilidad de que al menos una estación esté ocupada es del 4.15%\n"
          ]
        }
      ]
    },
    {
      "cell_type": "markdown",
      "source": [
        "###(g)\n",
        "Determine la probabilidad en estado estable de que la estación de producción esté vacía."
      ],
      "metadata": {
        "id": "RRAf73-9WkXX"
      }
    },
    {
      "cell_type": "code",
      "source": [
        "prob_produccion_vacia = round((pi[1] + pi[2])*100,2)\n",
        "print(f\"La probabilidad de que la estación de producción esté vacía es del {prob_produccion_vacia}%\")"
      ],
      "metadata": {
        "colab": {
          "base_uri": "https://localhost:8080/"
        },
        "id": "7Kvn-64qSylx",
        "outputId": "e5d93625-de89-48ec-9a06-65a0513b815d"
      },
      "execution_count": 241,
      "outputs": [
        {
          "output_type": "stream",
          "name": "stdout",
          "text": [
            "La probabilidad de que la estación de producción esté vacía es del 97.87%\n"
          ]
        }
      ]
    },
    {
      "cell_type": "markdown",
      "source": [
        "#Ejercicios estimación de parámetros"
      ],
      "metadata": {
        "id": "xBYnTAT-UNlQ"
      }
    },
    {
      "cell_type": "markdown",
      "source": [
        "##Problema 10 - Higgs boson discovery\n",
        "Imagine que se encuentra en el laboratorio **CERN** y está colaborando en el descubrimiento de una nueva partícula. Una de sus tareas es realizar la estimación de parámetros de la nueva partícula, la cuál está caracterizada por su masa y su ancho. Para realizar esta tarea se sugiere la siguiente estrategía:"
      ],
      "metadata": {
        "id": "DmPrZn1uUpZm"
      }
    },
    {
      "cell_type": "markdown",
      "source": [
        "###(a)\n",
        "Descargue los datos de la masa invariante de dos fotones *Higgs dataset*. Estamos\n",
        "estudiando el canal de Higgs a dos fotones $(H\\rightarrow\\gamma\\gamma)$."
      ],
      "metadata": {
        "id": "mUgBPD-hF7bA"
      }
    },
    {
      "cell_type": "code",
      "source": [
        "url = \"https://raw.githubusercontent.com/asegura4488/Database/main/MetodosComputacionalesReforma/HiggsFitting.csv\""
      ],
      "metadata": {
        "id": "YdfdFxlmUmNV"
      },
      "execution_count": 242,
      "outputs": []
    },
    {
      "cell_type": "code",
      "source": [
        "df = pd.read_csv(url)\n",
        "df"
      ],
      "metadata": {
        "colab": {
          "base_uri": "https://localhost:8080/",
          "height": 424
        },
        "id": "jtJAMrjwGyLJ",
        "outputId": "f0b25e3f-e06b-4d73-c117-d7d9c12dd925"
      },
      "execution_count": 243,
      "outputs": [
        {
          "output_type": "execute_result",
          "data": {
            "text/plain": [
              "           Higgs\n",
              "0     110.788333\n",
              "1     104.852170\n",
              "2     104.306032\n",
              "3     135.544092\n",
              "4     109.723066\n",
              "...          ...\n",
              "2245  121.914791\n",
              "2246  125.824833\n",
              "2247  123.052246\n",
              "2248  125.467228\n",
              "2249  124.844680\n",
              "\n",
              "[2250 rows x 1 columns]"
            ],
            "text/html": [
              "\n",
              "  <div id=\"df-00c58c45-daaf-4de6-9cdc-53506aada163\" class=\"colab-df-container\">\n",
              "    <div>\n",
              "<style scoped>\n",
              "    .dataframe tbody tr th:only-of-type {\n",
              "        vertical-align: middle;\n",
              "    }\n",
              "\n",
              "    .dataframe tbody tr th {\n",
              "        vertical-align: top;\n",
              "    }\n",
              "\n",
              "    .dataframe thead th {\n",
              "        text-align: right;\n",
              "    }\n",
              "</style>\n",
              "<table border=\"1\" class=\"dataframe\">\n",
              "  <thead>\n",
              "    <tr style=\"text-align: right;\">\n",
              "      <th></th>\n",
              "      <th>Higgs</th>\n",
              "    </tr>\n",
              "  </thead>\n",
              "  <tbody>\n",
              "    <tr>\n",
              "      <th>0</th>\n",
              "      <td>110.788333</td>\n",
              "    </tr>\n",
              "    <tr>\n",
              "      <th>1</th>\n",
              "      <td>104.852170</td>\n",
              "    </tr>\n",
              "    <tr>\n",
              "      <th>2</th>\n",
              "      <td>104.306032</td>\n",
              "    </tr>\n",
              "    <tr>\n",
              "      <th>3</th>\n",
              "      <td>135.544092</td>\n",
              "    </tr>\n",
              "    <tr>\n",
              "      <th>4</th>\n",
              "      <td>109.723066</td>\n",
              "    </tr>\n",
              "    <tr>\n",
              "      <th>...</th>\n",
              "      <td>...</td>\n",
              "    </tr>\n",
              "    <tr>\n",
              "      <th>2245</th>\n",
              "      <td>121.914791</td>\n",
              "    </tr>\n",
              "    <tr>\n",
              "      <th>2246</th>\n",
              "      <td>125.824833</td>\n",
              "    </tr>\n",
              "    <tr>\n",
              "      <th>2247</th>\n",
              "      <td>123.052246</td>\n",
              "    </tr>\n",
              "    <tr>\n",
              "      <th>2248</th>\n",
              "      <td>125.467228</td>\n",
              "    </tr>\n",
              "    <tr>\n",
              "      <th>2249</th>\n",
              "      <td>124.844680</td>\n",
              "    </tr>\n",
              "  </tbody>\n",
              "</table>\n",
              "<p>2250 rows × 1 columns</p>\n",
              "</div>\n",
              "    <div class=\"colab-df-buttons\">\n",
              "\n",
              "  <div class=\"colab-df-container\">\n",
              "    <button class=\"colab-df-convert\" onclick=\"convertToInteractive('df-00c58c45-daaf-4de6-9cdc-53506aada163')\"\n",
              "            title=\"Convert this dataframe to an interactive table.\"\n",
              "            style=\"display:none;\">\n",
              "\n",
              "  <svg xmlns=\"http://www.w3.org/2000/svg\" height=\"24px\" viewBox=\"0 -960 960 960\">\n",
              "    <path d=\"M120-120v-720h720v720H120Zm60-500h600v-160H180v160Zm220 220h160v-160H400v160Zm0 220h160v-160H400v160ZM180-400h160v-160H180v160Zm440 0h160v-160H620v160ZM180-180h160v-160H180v160Zm440 0h160v-160H620v160Z\"/>\n",
              "  </svg>\n",
              "    </button>\n",
              "\n",
              "  <style>\n",
              "    .colab-df-container {\n",
              "      display:flex;\n",
              "      gap: 12px;\n",
              "    }\n",
              "\n",
              "    .colab-df-convert {\n",
              "      background-color: #E8F0FE;\n",
              "      border: none;\n",
              "      border-radius: 50%;\n",
              "      cursor: pointer;\n",
              "      display: none;\n",
              "      fill: #1967D2;\n",
              "      height: 32px;\n",
              "      padding: 0 0 0 0;\n",
              "      width: 32px;\n",
              "    }\n",
              "\n",
              "    .colab-df-convert:hover {\n",
              "      background-color: #E2EBFA;\n",
              "      box-shadow: 0px 1px 2px rgba(60, 64, 67, 0.3), 0px 1px 3px 1px rgba(60, 64, 67, 0.15);\n",
              "      fill: #174EA6;\n",
              "    }\n",
              "\n",
              "    .colab-df-buttons div {\n",
              "      margin-bottom: 4px;\n",
              "    }\n",
              "\n",
              "    [theme=dark] .colab-df-convert {\n",
              "      background-color: #3B4455;\n",
              "      fill: #D2E3FC;\n",
              "    }\n",
              "\n",
              "    [theme=dark] .colab-df-convert:hover {\n",
              "      background-color: #434B5C;\n",
              "      box-shadow: 0px 1px 3px 1px rgba(0, 0, 0, 0.15);\n",
              "      filter: drop-shadow(0px 1px 2px rgba(0, 0, 0, 0.3));\n",
              "      fill: #FFFFFF;\n",
              "    }\n",
              "  </style>\n",
              "\n",
              "    <script>\n",
              "      const buttonEl =\n",
              "        document.querySelector('#df-00c58c45-daaf-4de6-9cdc-53506aada163 button.colab-df-convert');\n",
              "      buttonEl.style.display =\n",
              "        google.colab.kernel.accessAllowed ? 'block' : 'none';\n",
              "\n",
              "      async function convertToInteractive(key) {\n",
              "        const element = document.querySelector('#df-00c58c45-daaf-4de6-9cdc-53506aada163');\n",
              "        const dataTable =\n",
              "          await google.colab.kernel.invokeFunction('convertToInteractive',\n",
              "                                                    [key], {});\n",
              "        if (!dataTable) return;\n",
              "\n",
              "        const docLinkHtml = 'Like what you see? Visit the ' +\n",
              "          '<a target=\"_blank\" href=https://colab.research.google.com/notebooks/data_table.ipynb>data table notebook</a>'\n",
              "          + ' to learn more about interactive tables.';\n",
              "        element.innerHTML = '';\n",
              "        dataTable['output_type'] = 'display_data';\n",
              "        await google.colab.output.renderOutput(dataTable, element);\n",
              "        const docLink = document.createElement('div');\n",
              "        docLink.innerHTML = docLinkHtml;\n",
              "        element.appendChild(docLink);\n",
              "      }\n",
              "    </script>\n",
              "  </div>\n",
              "\n",
              "\n",
              "<div id=\"df-ab94d485-89bd-4d57-be00-ac22b00394e0\">\n",
              "  <button class=\"colab-df-quickchart\" onclick=\"quickchart('df-ab94d485-89bd-4d57-be00-ac22b00394e0')\"\n",
              "            title=\"Suggest charts\"\n",
              "            style=\"display:none;\">\n",
              "\n",
              "<svg xmlns=\"http://www.w3.org/2000/svg\" height=\"24px\"viewBox=\"0 0 24 24\"\n",
              "     width=\"24px\">\n",
              "    <g>\n",
              "        <path d=\"M19 3H5c-1.1 0-2 .9-2 2v14c0 1.1.9 2 2 2h14c1.1 0 2-.9 2-2V5c0-1.1-.9-2-2-2zM9 17H7v-7h2v7zm4 0h-2V7h2v10zm4 0h-2v-4h2v4z\"/>\n",
              "    </g>\n",
              "</svg>\n",
              "  </button>\n",
              "\n",
              "<style>\n",
              "  .colab-df-quickchart {\n",
              "      --bg-color: #E8F0FE;\n",
              "      --fill-color: #1967D2;\n",
              "      --hover-bg-color: #E2EBFA;\n",
              "      --hover-fill-color: #174EA6;\n",
              "      --disabled-fill-color: #AAA;\n",
              "      --disabled-bg-color: #DDD;\n",
              "  }\n",
              "\n",
              "  [theme=dark] .colab-df-quickchart {\n",
              "      --bg-color: #3B4455;\n",
              "      --fill-color: #D2E3FC;\n",
              "      --hover-bg-color: #434B5C;\n",
              "      --hover-fill-color: #FFFFFF;\n",
              "      --disabled-bg-color: #3B4455;\n",
              "      --disabled-fill-color: #666;\n",
              "  }\n",
              "\n",
              "  .colab-df-quickchart {\n",
              "    background-color: var(--bg-color);\n",
              "    border: none;\n",
              "    border-radius: 50%;\n",
              "    cursor: pointer;\n",
              "    display: none;\n",
              "    fill: var(--fill-color);\n",
              "    height: 32px;\n",
              "    padding: 0;\n",
              "    width: 32px;\n",
              "  }\n",
              "\n",
              "  .colab-df-quickchart:hover {\n",
              "    background-color: var(--hover-bg-color);\n",
              "    box-shadow: 0 1px 2px rgba(60, 64, 67, 0.3), 0 1px 3px 1px rgba(60, 64, 67, 0.15);\n",
              "    fill: var(--button-hover-fill-color);\n",
              "  }\n",
              "\n",
              "  .colab-df-quickchart-complete:disabled,\n",
              "  .colab-df-quickchart-complete:disabled:hover {\n",
              "    background-color: var(--disabled-bg-color);\n",
              "    fill: var(--disabled-fill-color);\n",
              "    box-shadow: none;\n",
              "  }\n",
              "\n",
              "  .colab-df-spinner {\n",
              "    border: 2px solid var(--fill-color);\n",
              "    border-color: transparent;\n",
              "    border-bottom-color: var(--fill-color);\n",
              "    animation:\n",
              "      spin 1s steps(1) infinite;\n",
              "  }\n",
              "\n",
              "  @keyframes spin {\n",
              "    0% {\n",
              "      border-color: transparent;\n",
              "      border-bottom-color: var(--fill-color);\n",
              "      border-left-color: var(--fill-color);\n",
              "    }\n",
              "    20% {\n",
              "      border-color: transparent;\n",
              "      border-left-color: var(--fill-color);\n",
              "      border-top-color: var(--fill-color);\n",
              "    }\n",
              "    30% {\n",
              "      border-color: transparent;\n",
              "      border-left-color: var(--fill-color);\n",
              "      border-top-color: var(--fill-color);\n",
              "      border-right-color: var(--fill-color);\n",
              "    }\n",
              "    40% {\n",
              "      border-color: transparent;\n",
              "      border-right-color: var(--fill-color);\n",
              "      border-top-color: var(--fill-color);\n",
              "    }\n",
              "    60% {\n",
              "      border-color: transparent;\n",
              "      border-right-color: var(--fill-color);\n",
              "    }\n",
              "    80% {\n",
              "      border-color: transparent;\n",
              "      border-right-color: var(--fill-color);\n",
              "      border-bottom-color: var(--fill-color);\n",
              "    }\n",
              "    90% {\n",
              "      border-color: transparent;\n",
              "      border-bottom-color: var(--fill-color);\n",
              "    }\n",
              "  }\n",
              "</style>\n",
              "\n",
              "  <script>\n",
              "    async function quickchart(key) {\n",
              "      const quickchartButtonEl =\n",
              "        document.querySelector('#' + key + ' button');\n",
              "      quickchartButtonEl.disabled = true;  // To prevent multiple clicks.\n",
              "      quickchartButtonEl.classList.add('colab-df-spinner');\n",
              "      try {\n",
              "        const charts = await google.colab.kernel.invokeFunction(\n",
              "            'suggestCharts', [key], {});\n",
              "      } catch (error) {\n",
              "        console.error('Error during call to suggestCharts:', error);\n",
              "      }\n",
              "      quickchartButtonEl.classList.remove('colab-df-spinner');\n",
              "      quickchartButtonEl.classList.add('colab-df-quickchart-complete');\n",
              "    }\n",
              "    (() => {\n",
              "      let quickchartButtonEl =\n",
              "        document.querySelector('#df-ab94d485-89bd-4d57-be00-ac22b00394e0 button');\n",
              "      quickchartButtonEl.style.display =\n",
              "        google.colab.kernel.accessAllowed ? 'block' : 'none';\n",
              "    })();\n",
              "  </script>\n",
              "</div>\n",
              "\n",
              "  <div id=\"id_d44a91c1-b28f-4794-a255-3b221ed6f7a4\">\n",
              "    <style>\n",
              "      .colab-df-generate {\n",
              "        background-color: #E8F0FE;\n",
              "        border: none;\n",
              "        border-radius: 50%;\n",
              "        cursor: pointer;\n",
              "        display: none;\n",
              "        fill: #1967D2;\n",
              "        height: 32px;\n",
              "        padding: 0 0 0 0;\n",
              "        width: 32px;\n",
              "      }\n",
              "\n",
              "      .colab-df-generate:hover {\n",
              "        background-color: #E2EBFA;\n",
              "        box-shadow: 0px 1px 2px rgba(60, 64, 67, 0.3), 0px 1px 3px 1px rgba(60, 64, 67, 0.15);\n",
              "        fill: #174EA6;\n",
              "      }\n",
              "\n",
              "      [theme=dark] .colab-df-generate {\n",
              "        background-color: #3B4455;\n",
              "        fill: #D2E3FC;\n",
              "      }\n",
              "\n",
              "      [theme=dark] .colab-df-generate:hover {\n",
              "        background-color: #434B5C;\n",
              "        box-shadow: 0px 1px 3px 1px rgba(0, 0, 0, 0.15);\n",
              "        filter: drop-shadow(0px 1px 2px rgba(0, 0, 0, 0.3));\n",
              "        fill: #FFFFFF;\n",
              "      }\n",
              "    </style>\n",
              "    <button class=\"colab-df-generate\" onclick=\"generateWithVariable('df')\"\n",
              "            title=\"Generate code using this dataframe.\"\n",
              "            style=\"display:none;\">\n",
              "\n",
              "  <svg xmlns=\"http://www.w3.org/2000/svg\" height=\"24px\"viewBox=\"0 0 24 24\"\n",
              "       width=\"24px\">\n",
              "    <path d=\"M7,19H8.4L18.45,9,17,7.55,7,17.6ZM5,21V16.75L18.45,3.32a2,2,0,0,1,2.83,0l1.4,1.43a1.91,1.91,0,0,1,.58,1.4,1.91,1.91,0,0,1-.58,1.4L9.25,21ZM18.45,9,17,7.55Zm-12,3A5.31,5.31,0,0,0,4.9,8.1,5.31,5.31,0,0,0,1,6.5,5.31,5.31,0,0,0,4.9,4.9,5.31,5.31,0,0,0,6.5,1,5.31,5.31,0,0,0,8.1,4.9,5.31,5.31,0,0,0,12,6.5,5.46,5.46,0,0,0,6.5,12Z\"/>\n",
              "  </svg>\n",
              "    </button>\n",
              "    <script>\n",
              "      (() => {\n",
              "      const buttonEl =\n",
              "        document.querySelector('#id_d44a91c1-b28f-4794-a255-3b221ed6f7a4 button.colab-df-generate');\n",
              "      buttonEl.style.display =\n",
              "        google.colab.kernel.accessAllowed ? 'block' : 'none';\n",
              "\n",
              "      buttonEl.onclick = () => {\n",
              "        google.colab.notebook.generateWithVariable('df');\n",
              "      }\n",
              "      })();\n",
              "    </script>\n",
              "  </div>\n",
              "\n",
              "    </div>\n",
              "  </div>\n"
            ],
            "application/vnd.google.colaboratory.intrinsic+json": {
              "type": "dataframe",
              "variable_name": "df",
              "summary": "{\n  \"name\": \"df\",\n  \"rows\": 2250,\n  \"fields\": [\n    {\n      \"column\": \"Higgs\",\n      \"properties\": {\n        \"dtype\": \"number\",\n        \"std\": 13.319720410891655,\n        \"min\": 100.00055097540134,\n        \"max\": 159.80052153286513,\n        \"num_unique_values\": 2145,\n        \"samples\": [\n          101.12022011587908,\n          121.46366830938786,\n          106.59938216135878\n        ],\n        \"semantic_type\": \"\",\n        \"description\": \"\"\n      }\n    }\n  ]\n}"
            }
          },
          "metadata": {},
          "execution_count": 243
        }
      ]
    },
    {
      "cell_type": "markdown",
      "source": [
        "###(b)\n",
        "Dibuje la distribución de frecuencia de los datos entre $100$ y $160 GeV$, en 30 bines.\n",
        "El dibujo debería tener la barra de error del histograma. Use el siguiente código: **plt.errorbar(m,HSignalBkg, yerr=0.5*np.sqrt(HSignalBkg), fmt='none',ecolor='k',capsize=5)**"
      ],
      "metadata": {
        "id": "T21HMuWIHBEG"
      }
    },
    {
      "cell_type": "code",
      "source": [
        "url = \"https://raw.githubusercontent.com/asegura4488/Database/main/MetodosComputacionalesReforma/HiggsFitting.csv\"\n",
        "df = pd.read_csv(url)\n",
        "df\n",
        "\n",
        "data = df[(df['Higgs'] >= 100) & (df['Higgs'] <= 160)]['Higgs']\n",
        "\n",
        "HSignalBkg, bin_edges = np.histogram(data, bins=30, range=(100, 160), density=False)\n",
        "\n",
        "yerr = 0.5 * np.sqrt(HSignalBkg)\n",
        "m = 0.5 * (bin_edges[:-1] + bin_edges[1:])\n",
        "\n",
        "plt.bar(m, HSignalBkg, width=(bin_edges[1] - bin_edges[0]), alpha=0.7, edgecolor=\"k\", label=\"Datos\")\n",
        "plt.errorbar(m, HSignalBkg, yerr=yerr, fmt='none', ecolor='k', capsize=5)\n",
        "\n",
        "plt.title(\"Distribución de Frecuencia Normalizada (100-160 GeV)\")\n",
        "plt.xlabel(\"Masa invariante [GeV]\")\n",
        "plt.ylabel(\"Frecuencia Normalizada\")\n",
        "plt.legend()\n",
        "plt.show()"
      ],
      "metadata": {
        "colab": {
          "base_uri": "https://localhost:8080/",
          "height": 472
        },
        "id": "hVQ6lizR1k2W",
        "outputId": "fd0c9c27-981b-4013-b041-366df9845375"
      },
      "execution_count": 244,
      "outputs": [
        {
          "output_type": "display_data",
          "data": {
            "text/plain": [
              "<Figure size 640x480 with 1 Axes>"
            ],
            "image/png": "[encoded data removed]"
          },
          "metadata": {}
        }
      ]
    },
    {
      "cell_type": "markdown",
      "source": [
        "###(c)\n",
        "Defina el modelo para la hipótesis nula, es decir el escenario donde no existe el bosón de Higgs:\n",
        "\\begin{equation}\n",
        "    \\mathcal{L}(\\alpha,x)=\\frac{1}{\\alpha}e^{-\\frac{x-100}{\\alpha}}\n",
        "\\end{equation}\n",
        "Donde $\\alpha$ es el parámetro a ser determinado."
      ],
      "metadata": {
        "id": "c6ba5sVTJH3f"
      }
    },
    {
      "cell_type": "code",
      "source": [
        "def HipotesisNula(alpha,x):\n",
        "    return (1/alpha) * np.exp(-(x-100)/alpha)"
      ],
      "metadata": {
        "id": "QTnx1ZBqJHa4"
      },
      "execution_count": 245,
      "outputs": []
    },
    {
      "cell_type": "markdown",
      "source": [
        "###(d)\n",
        "Defina la función de minimizar, en este caso es el negativo de la función conjunta de\n",
        "verosimilud:\n",
        "\\begin{equation}\n",
        "    \\mathcal{L}(\\alpha,x)=-\\sum_{i=1}^{n}\\ln(\\mathcal{L}(\\alpha,x_i)).\n",
        "\\end{equation}"
      ],
      "metadata": {
        "id": "zq1dZyhSKVWY"
      }
    },
    {
      "cell_type": "code",
      "source": [
        "def funcion_minimizar(alpha,x):\n",
        "    return -np.sum(np.log(HipotesisNula(alpha,x)))"
      ],
      "metadata": {
        "id": "W6xI6R92K39r"
      },
      "execution_count": 246,
      "outputs": []
    },
    {
      "cell_type": "markdown",
      "source": [
        "###(e)\n",
        "Use el paquete **optimize** para encontrar el parámetro de la hipótesis nula. Use el siguiente límite del parámetro: **bounds = ( (0,50), )**."
      ],
      "metadata": {
        "id": "CG5XxDxWT-LL"
      }
    },
    {
      "cell_type": "code",
      "source": [
        "x_data = data.values\n",
        "alpha_inicial = [10.]\n",
        "\n",
        "alpha = spo.minimize(funcion_minimizar, alpha_inicial, args=(x_data,), bounds=[(0, 50)]).x[0]\n",
        "alpha"
      ],
      "metadata": {
        "colab": {
          "base_uri": "https://localhost:8080/"
        },
        "id": "jJ-KfUjVUWib",
        "outputId": "32a6424e-76e7-4320-f381-61cb534df1f8"
      },
      "execution_count": 247,
      "outputs": [
        {
          "output_type": "execute_result",
          "data": {
            "text/plain": [
              "17.61888053628762"
            ]
          },
          "metadata": {},
          "execution_count": 247
        }
      ]
    },
    {
      "cell_type": "markdown",
      "source": [
        "###(f)\n",
        "Dibuje los datos y el modelo. Debería encontrar algo como:\n",
        "![image.png](data:image/png;base64,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)"
      ],
      "metadata": {
        "id": "i1zHwW5nYE8X"
      }
    },
    {
      "cell_type": "code",
      "source": [
        "total_events = np.sum(HSignalBkg)\n",
        "HSignalBkg_normalized = HSignalBkg / total_events\n",
        "error_normalized = 0.5 * np.sqrt(HSignalBkg) / total_events\n",
        "\n",
        "plt.errorbar(m, HSignalBkg_normalized, yerr=error_normalized, fmt='none', ecolor='k', capsize=5)\n",
        "model_null_vals = HipotesisNula(alpha, m)\n",
        "model_null_vals_normalized = model_null_vals / np.sum(model_null_vals)\n",
        "plt.plot(m, model_null_vals_normalized, 'b--', label='b best-fit')"
      ],
      "metadata": {
        "colab": {
          "base_uri": "https://localhost:8080/",
          "height": 447
        },
        "id": "5pyhYQP6X-My",
        "outputId": "5e469195-3f42-4317-96dc-b59e0d7792c4"
      },
      "execution_count": 248,
      "outputs": [
        {
          "output_type": "execute_result",
          "data": {
            "text/plain": [
              "[<matplotlib.lines.Line2D at 0x7a3bebacc4c0>]"
            ]
          },
          "metadata": {},
          "execution_count": 248
        },
        {
          "output_type": "display_data",
          "data": {
            "text/plain": [
              "<Figure size 640x480 with 1 Axes>"
            ],
            "image/png": "[encoded data removed]"
          },
          "metadata": {}
        }
      ]
    },
    {
      "cell_type": "markdown",
      "source": [
        "###(g)\n",
        "Defina el modelo para la hipótesis alternativa, es decir el escenario donde si existe el bosón de Hisggs:\n",
        "\\begin{equation}\n",
        "    \\mathcal{L}(A,\\mu,\\sigma,\\alpha,x)=(A)\\frac{1}{\\sqrt{2\\pi\\sigma^2}}e^{-\\frac{(x-\\mu)^2}{2\\sigma^2}}+(1-A)\\frac{1}{\\alpha}e^{-\\frac{x-100}{\\alpha}}\n",
        "\\end{equation}\n",
        "Donde $A,\\mu,\\sigma,\\alpha$ son los parámetros a ser determinados. $A$ es la proporción de eventos de señal respecto al ruido experimental, $\\mu$ es la masa de la resonancia, $\\sigma$ es el ancho de la resonancia, y $\\alpha$ es la constante de decaimiento de background."
      ],
      "metadata": {
        "id": "V1pwEQ_9x8Z7"
      }
    },
    {
      "cell_type": "code",
      "source": [
        "def HipotesisAlternativa(params, x):\n",
        "    A,mu,sigma,alpha = params\n",
        "    signal = A * (1/np.sqrt(2*np.pi*(sigma**2)))  *  np.exp(-(x-mu)**2 / (2*sigma**2))\n",
        "    background =(1 - A) * (1/alpha) * np.exp(-(x-100)/alpha)\n",
        "    return signal + background"
      ],
      "metadata": {
        "id": "KmakJJ0s6nni"
      },
      "execution_count": 249,
      "outputs": []
    },
    {
      "cell_type": "markdown",
      "source": [
        "###(h)\n",
        "Defina la función de minimizar, en este caso es el negativo de la función conjunta de\n",
        "verosimilud:\n",
        "\\begin{equation}\n",
        "    \\mathcal{L}(A,\\mu,\\sigma,\\alpha,x)=-\\sum_{i=1}^{n}\\ln(\\mathcal{L}(A,\\mu,\\sigma,\\alpha,x_i)).\n",
        "\\end{equation}"
      ],
      "metadata": {
        "id": "Vp0IycSa7INO"
      }
    },
    {
      "cell_type": "code",
      "source": [
        "def funcion_minimizar_alternativa(params,x=data):\n",
        "    return -np.sum(np.log(HipotesisAlternativa(params,x)))"
      ],
      "metadata": {
        "id": "eWDvNqI-7gdq"
      },
      "execution_count": 250,
      "outputs": []
    },
    {
      "cell_type": "markdown",
      "source": [
        "###(i)\n",
        "Use el paquete ***optimize*** para encontrar el parámetro de la hipótesis nula. Use el\n",
        "siguiente límite del parámetro: **bounds = ( (0,1),(50,500),(1,100), (1,100)\n",
        ")**."
      ],
      "metadata": {
        "id": "pBWu_ew5SFUs"
      }
    },
    {
      "cell_type": "code",
      "source": [
        "bounds_alt = [(0, 1), (100, 150), (1, 10), (1, 50)]\n",
        "result_alt = spo.minimize(funcion_minimizar_alternativa, x0=[0.5, 125, 5, 10], bounds=bounds_alt)\n",
        "A_best, mu_best, sigma_best, alpha_best_alt = result_alt.x"
      ],
      "metadata": {
        "collapsed": true,
        "id": "8YYYzlEP7_Go"
      },
      "execution_count": 251,
      "outputs": []
    },
    {
      "cell_type": "markdown",
      "source": [
        "###(j)\n",
        "Encuentre el mejor ajuste de la hipótesis alternativa y dibuje ambos ajustes:\n",
        "![image.png](data:image/png;base64,iVBORw0KGgoAAAANSUhEUgAABG0AAAG2CAYAAADFr3uMAAAAAXNSR0IArs4c6QAAAARnQU1BAACxjwv8YQUAAAAJcEhZcwAADsMAAA7DAcdvqGQAAKfMSURBVHhe7N0HfBP1+wfwT1GUlqEsla0iG0QElKWAYpnKVEFZKksZisgQUBxsEJG9VUTh/2MjKBQUUJZsVGQroyxZUqBlaL//e2601zRpkzSF9Pp5v17X3F1yaXK5XL558nyfb4jSgIiIiIiIiIiIgkoG85KIiIiIiIiIiIIIgzZEREREREREREGIQRsiIiIiIiIioiDEoA0RERERERERURBi0IaIiIiIiIiIKAgxaENEREREREREFIQYtCEiIiIiIiIiCkIhSmPOExE5SkhIiDlHRERE6RG/6hBRWsegDRE5lgRteIojIiJKn9gOICInYPcoIiIiIiIiIqIgxKANEREREREREVEQYtCGiIiIiIiIiCgIsaYNETkW+7ITEaV9N27cwMWLF80lonh33XUXMmbMaC4lxnYAETkBgzZE5FhsrBERpW0SsDlw4ABuv/123HnnneZaIuDatWv4999/UaRIEY+BG7YDiMgJGLQhIsdiY42IKG07ceIE/vnnHxQrVgy33XabuZYI+O+//3Do0CFkzpwZ+fLlM9cmxHYAETkBa9oQERERUVCSTBv5Us6ADbmSY0Kyr9h1joicjkEbIiIiIiIiIqIgxKANEREREVEq6Nevnz75wp9t/LF27Vps27bNXEpadHQ0pkyZgmbNmuldjubMmZPocfpyf0RE5D0GbYiIiIiIUsn58+fNOe/5s42vIiIiMG3aNHMpaXv27EHHjh0xcOBAvUZM8+bN0aRJE4SHh5u38O3+iIjIewzaEBERERGlIslSef311/VJMlLOnTtnXuNZcttI9otkvMj1kv0iWTCyjawXkvUycuRIfb1MkhVjZcLIdqtXr8auXbviMmbkf7gjtx0yZIg+/9VXX8Vl18h9nTx5Up/35f6IiMg3DNoQEfkhJgbYudOYiIjo5goJ8W1y5e42nqaUmjRpEqKiotCuXTs9Q6VGjRro37+/ea173mwza9YstGjRQr9eMmG6du2qZ8PIegnwVKhQQb+dZMfIJJkxUtRZVKlSBWXLlkXevHnRqlUrfSpdurR+nSu5rZVRY91WHDlyJC4w48v9ERGRbxi0ISLy0f79QFgYUK4c0KGDEcAhIiLy5I033kD58uVRvXp1bN26VQ/KHD161LzWvaS2kWyaL774Ap06ddKzXWToa7mUZQnchIaGonLlyti0aRN++uknfZsSJUqgePHi+nzBggWRI0cOfSh1WWet37t3r/4/5NLK7JHbZsuWTZ+331bIfQh395czZ079OiIiShkGbYiIfFS0KNCwoTG/ZQswd64xT0RE5EqCJ2ES6Xfx119/mXOJJbfN2bNnsXHjRn0+a9asuHTpkn4pAZ6lS5ciJiYG3377LV555RU9Y+fVV1/Vs2yWLVumb2Ox1875/fff9e5P0hVKLmXZIvftjmvtnZtRi4eIKL1h0IaIyA89e5ozmjZtpKFqLhARUapTyrfJlbvbeJpSSoIrVjciyZCR2i8SlJEAiyfJbSOZLX379sWZM2dQpkwZvYtU/fr19cvChQvrmTZC1r3zzjvYsGEDmjZtqgd0LNmzZ9e3t8h9Dxo0CBMnTtQv7Y9PgkLuWJk2wvX+iIgoMBi0ISLyQ9Wq8dk24ptvzBkiIiIbCZa8++67et0XyXaRLktjx441r3XPm22kG5QoVKgQpBCxFP+VS8mqkS5OuXLliitALOvnz5+PN998U99GNGjQQF8n18nkmoVj502mjS/3R0RE3gtRMm4fEZEDSaMxNU9xUtumWDFzQSPd/20/OhIRUQpJsVshgYm0TmrEXLlyRc+S8ZY329jr3OTOnTuulowsSzcquZSuVhLEcdflKi2T40P2T8mSJc01CaV2O4CI6GZg0IaIHOtmNNZ69QJGjDDmBw0C+vY15omIKOWcFLShwGPQhojSA3aPIiJKgXbtzBlNv35AZKS5QERERERElEIM2hARpYCMJLViBbBundE9Kn9+8woiIiIiIqIUYtCGiCiFwsONwsSsZ0NERERERIHEoA0RUYBJgWIiIiIiIqKUYtCGiChABg8GHnvMGFFq/XpzJRERERERkZ8YtCEiCpDixYEtW4x5GVEqJsaYJyIiSql+/frpk6/83c4Xa9euxbZt28ylpMkQ5FOmTEGzZs300Z3mzJmT6DH6cn9ERE7HoA0RUYDUrQtUrGjML14MfP+9MU9ERJQcCVJIsCIp58+fN+d84+923oqIiMC0adPMpaTt2bMHHTt2xMCBA/XhuJs3b44mTZogXArEmXy5PyIipwvRTpbKnCcichT5Be9mn+K0diZq1zbmJYAj7e/QUGOZiIh8c+TIEf2yUKFC+mVaI4GY1atXY9OmTfpysWLF9ABF+fLl9WU7K9Nk0KBB+qUruV6CL+XKlcOOHTv0dRLwKF26NHLmzKkvu+PNdpL9smTJEj1oNGnSJDRt2lQPorRs2RJhYWH6bTw9lwMHDmDMmDH6upo1a+qXsm316tX1eTvJqpk3bx7mz5+Pvn376uvk+UrmTbZs2fTHJbfx9v7k+Lhy5QpKlixprknoVrQDiIgCjZk2REQBJD8UNmxozEtXqenTjXkiIgoQ7Yv4LZ28dO7cOVSoUEGfl6wSmSTIkTlzZn2dO8llxEhAJSoqCu3atdMDHDVq1ED//v3Naz1LbrtZs2ahRYsW+nWSCdO1a1c9G0bWi6SeS5UqVVC2bFnkzZsXrVq10icJCLkjt7UyaqzbCgm+WFlGvtwfEVF6wEwbInKsW/ULmxQhrlbNXNBobV0OB05E5Ae3mTY+BE5ShZefK5K9UqtWLT34IIGKJ598EgULFozLXJEghXQDskgWi7CyS0SZMmX0QIqQjJnBgwfrmSX27BcJpsh+kvt2J7ntcuXKpT9OCZRINkvWrFlx6dKluKwb2U4k9VzcZQlJoOfMmTP6bWRf5M6dW8/skUwaCRDZP59dt3d3f+4w04aI0gNm2hARBVjVqkDPnuaCRmvzEhFROiPBim+//RavvPKKnuXy6quv6pkpy5Yt06+X7BErk0Qm1+wSmSTrxK5y5cpxgRK7v/76y5xzL6ntzp49i40bN+rLVsBGLiWAs3TpUsTExCT7XIRrltDvv/+Or776CkOGDNEvZVnIfbvjun1yWUdEROkFgzZERKmgXTsjcLNiBdC6tbmSiIhSTjInbuXkJckuEfXr18c777yDDRs26LViJBAiJOukePHicVOOHDn0OjH2da7ZMxJcsboRyf1Ldo4EZNzVe7FLajv5H1JfRrJirMweecxyWbhwYf1xJvdcsmfPrm9vJ/ctmTITJ07UL63HKEEhd+T5W9zdHxFResWgDRGRP+QXQElr9zCud9GiwPDhRo2b/PnNlURElG4cPXpU73okQ1tLdx/pqiMFeN98803zFokll10igZJ3331Xz8CRTBcpCjx27FjzWs+S207q1wjphiaP03q8klEjknsuDRo00JdlvUz2DBxX3mTa+HJ/REROx5o2RORY0tBLlVNc+/aANRSp1qhEkybGfDIkvsORpIiIvOe2pk0aIhkq0v1ILqWLkQQ+3HVT8pXUi5FaLp7q2HiS3HYSnBHyeK0aNJbUei4pwZo2RJQeMGhDRI6Vao01H8b1lh8OJXt8wQLgxAkOAU5E5Iu0HrSh1MWgDRGlB+weRUTkK9dxvefONebdkADNuHHA4sXGTb//3ryCiIiIiIgoGQzaEBH5wz48VJs2RkqNGxK0+fRTc0HTtKnHmxIRERERESXAoA0RkT9kXG8ZIsryzTfmTGKuN+UQ4ERE3rtx44Y5R5TQf//9hzvuuMNcIiJyJta0ISLHSvW+7Pv3A8WKmQuaY8c8DhXletN9+4wRpoiIyLOLFy/i+PHjuO+++5ApUyZzLRFw9epVnDp1Cvny5cNdd91lrk2INW2IyAkYtCEix7opjbVevYARI4x56TIl43x7MHgw0K+fMS+ZN1OnGvNERORZZGQkoqKizCWieNmyZUN+Dz+WCAZtiMgJGLQhIse6KY01H1JopJaNbfRUrFhh1DQmIqLkSTcpdpUikTFjRn1KDoM2ROQEDNoQkd+2bduGBTKWtalJkyYoX768ueRZctutXbsWETKstouOHTuiYMGC5lLyblpjzZ5Ck0y2jTxtGUHqiSeAp57y2JuKiIiIUohBGyJyAhYiJiK/LFu2DBUqVMC+fftQpUoVfZ0sz5kzR5/3xJvtLl++jMGDB+vXlylTJu4yc+bM5i2CTKdO5oxGukrt3GkuJNakidEtqnVrBmyIiIiIiChpzLQhIr9IIKVs2bKYOHGiuQaYMmWKng1z9uxZ5LT3A7LxZjsJ4LRo0SLFv47d1F/Yxo0DunY15hs2BBYtMuaJiIjolmCmDRE5ATNtiMhnR48excaNG1G9enVzjUFGcBBnzpzRL115u13WrFn1S2lsWdPIkSMRHR2trw9Kr70GVKxozC9eDLjp3mUn9W2kq1T79kYtYyIiIiIiIlcM2hCR36zgiqVw4cL6ZVhYmH7pSXLbVapUSc+6kV/Hjhw5gsmTJ6Nnz55YsmSJfr079gCPNd1UoaFAnz7mgqZ/fyAmxlxITOJPTZsC06YZParWrzevICIiIiIiMjFoQ0Q+y5Url365Z88e/dKy06zl4ikjxtvtpIuU1b1KCg936NABlStXxpgxY/R17kiAx3W66erWNbpGiS1bjIrDHkg9my+/NBc03bsnGeMhIiIiIqJ0iEEbIvKZZMT07dtXHwFKRnoSe/fuxbx589C0aVMUL148bp0UHj537py+7Mt2dnJb6VbVtm1bc02QkmwbGT3KIqk00g/Kg+efj+9RJTGeuXONeSIiIiIiIsGgDRH5RQoH582bFzVq1NC7IpUoUUJfP2rUKP1SHDp0CA0aNEhQ48ab7WSdXCdFi+VSbitBnZYtW5q3CGJVqwLt2pkLmm++MWcSkxjPp5+aC5o2bYDISHOBiIiIiIjSPY4eRUQpIsWFLdKVyVvJbSfXS3cpyc6Rob49jUaVFAn43JJT3P79QLFi5oJm3z6gaFFzITEpRCx1bYQk6gwfbswTERGR/25ZO4CIKIAYtCEix7qljTUfIjGSXVOggLmgWbfOSNghIiIi/zFoQ0ROwKANETnWLW2sSS0be3ZQMpEYGf576FCgdWsgPDzJxBwiIiLyAoM2ROQEDNoQkWPd8sbazJlGoRoho0rNnm0UsiEiIqJUx6ANETkBCxETEaUW+/BQixcnOQQ4ERERERGRK2baEJFjBcUvbBERQO3axrwEcJYvB3LkMJbdiIkBfv4ZWLUKuHABmDrVvIKIiIh8wkwbInICBm2IyLGCprHWqJGRaSPGjgW6dDHm3ZBSOHXqAFu2GMvz5wNNmhjzRERE5D0GbYjICRi0ISLHCprGmo9DgEtR4qZNjXkvknOIiIjIDQZtiMgJWNOGiCi1SYBm0CBzQWMNBe6BZNa0a2fMS8aNjCpFRERERETpDzNtiMixguoXNh+HAHdNztmxA3jkEXOBiIiIksVMGyJyAmbaEBHdDNK/SQrUWLp3N6oOeyDJOV9+aS5oOnRI8uZERERERORADNoQEd0sdevGDwEu/Z7mzjXmPZARwxs2NObl5tOnG/NERERERJQ+sHsUETlWUKZFr18PVKtmLmiOHQPy5zcXEtu5EyhXziiJU716kj2qiIiIyIbdo4jICRi0ISLHCtrGWq9e8cWIe/YEhg835omIiChgGLQhIidg0IaIHCtoG2uRkUCBAuaCJpmixEREROQ7Bm2IyAlY04aI6GaT7lD2KsPJFCW2SM+qwYOlEWrEfYiIiIiIyNkYtCEiuhWkyrAPRYnF4sVAv37G/IcfGpdERERERORc7B5FRI6V2mnRcv/+0h+Xj0WJz58H6tQxYjxCRhBv0sSYJyIiooTYPYqInICZNkREt4rUsZFCxJYxY8wZ93LkAAYONBc0TZuymxQRERERkZMxaENE5Cf59c7dZOfuepnidOtmzmhkRKmICHPBvfDwhHEedpMiIiIiInIudo8iIse6VWnR9m5TXv3/BQuMtBkhdW7WrgVCQ41lN6SbVM6c5oKG3aSIiIgSY/coInICZtoQEd1qdesCDRsa81Kw5tNPjXkPpJuUBGos7CZFRERERORMzLQhIsdKM5k2Yv9+oFgxc0Gzbx9QtKi54F779sZl27bAo48mmZxDRESU7jDThoicgEEbInKsNBW0EYMHx4/pLZk3s2czEkNEROQnBm2IyAnYPYqIKFh0727UtBGLFwPff2/M+0Dq3RARERERkTMwaENEFCwkq8aPMb0lUDNuHPDYY0Dv3uZKIiIiIiJK8xi0ISIKJq5jeo8ZY84kbeZMo4bxtGnGYFRERERERJT2saYNETlWmqtpY5HsmgIFzAXNihVGMCcJERFA7drmgubYMSB/fnOBiIgoHWJNGyJyAmbaEBEFG4m22Mf07t8/2WI1rgk6XboAMTHmAhERERERpUkM2hARBaMmTYB27Yx56fc0dKgxn4QPP0xYx3juXGOeiIiIiIjSJnaPIiLHCvbuUfbbudNLm4YZs7oh2tTXmPV4vzt3AuXKmQuaHTuARx4xF4iIiNIRdo8iIidgpg0RUZAark0rjVldd2163Jj1SAI0Y8eaC5oOHdhNioiIiIgorWLQhojoFpFf/9xNds9ERwMNG+rzmbRp06BBiW7j6rXXAO1melmc5cuNkcSJiIiIiCjtYfcoInKsYO8e5Umi7ffvB4oVM9do2OeJiIgoWeweRUROwEwbIqJgV7Qo8OWX5oLGjz5PMoq4TERERERElHYwaENElBY8/3xcNyl9NKlPPzXmkyFJOo0aAQUKGKNLERERERFR2sHuUUTkWI7pHmXxo5vU+fNAnTpGnEdIwk7r1sY8ERGRk7F7FBE5ATNtiIj8JI1Bd5Odu+tl8osf3aRy5EiYlNOmjTEsOBERERERBT9m2hCR37Zt24YFCxaYS0CTJk1Qvnx5c8kzX7Y7d+4cRo0apc8PkiGRfCDBkdQ8xfkdfNEk9bjs95vodhKkadECWLzYWJZ90revMZ+EwYOBfv2M+YoVgbVrOaoUERE5W2q3A4iIbgZm2hCRX5YtW4YKFSpg3759qFKlir5OlufMmaPPe+LLdkePHkWuXLkwePBgfQo20hD0d/KbRFqGDzcXNBKJ8SJ1pnv3hCVxBgww5omIiIiIKHgx04aI/CIBl7Jly2LixInmGmDKlCno2LEjzp49i5w5c5prE/J2O8mwefbZZ9G2bVscOXJED9r4erpKq7+wJZlpY5k50+jrJLxMnZHRo6QgsWX+fMlyMheIiIgchpk2ROQEzLQhIp9JBszGjRtRvXp1c40hX758+uWZM2f0S1febhcdHa0HcWrWrIkOUreFEnMdTcqL1Jn8+Y1AjUXiPj6OHE5ERERERDcRgzZE5LesWbOac4bChQvrl2FhYfqlJ0ltJwGbHj16IHfu3OhnFWHxgvya5jo5mms3qREjgIgIc8EzyaxZsQLYtw9YtIh1bYiIiIiIghmDNkTkM6kzI/bs2aNfWnaatVUk8OKON9stWbIEkyZN0rNupPDw66+/jtWrV+vXSxBnrXQDckPSn10nx5PRpOypM/37G2N8JyM83NiUiIiIiIiCG2vaEJFfJIAiwZQhQ4bo3Z327t2L/hI00MybN0+/lHWHDh1CpUqV4mrVJLedBG6kG5WVdSOXclsJ5Eiwp2DBgslm8lgk2yYtnuLsWUKeHr/9NpHaZHQwA45rU35jNknW/UqMZ80aIEsWI5hDRETkFGm1HUBEZMdMGyLyi9ScyZs3L2rUqKE3ikqUKKGvt4bnFhKwadCgQYIaN8ltJwGZ4sWL68EZ6zJHjhz6dbLsbcAmPfnQvBQSvIkfTD1pkuAksbSmTYHatYH9+80riIiIiIgoKDDThohSRLJiLBJg8Za/2/kirf7CZs+i8frxSz0bibyYpHzzVG1KbvtevYxyOMLLQaiIiIjSBGbaEJETMGhDRI6VroI2whaBkco29bRpUzLby+hRMpiXDEAlevZMWN+YiIgorWLQhoicgEEbInKsdBe0iYnB1bAwZDIXN2hTFS+2j4wEChQwFzRS21hGmSIiIkrLGLQhIidgTRsioltEGpPuJjt318vkVmgoPjVnRRX5s369Pp+U/PmNYcAtUuPGHNCLiIiIiIhuIQZtiIgcpK82rTRmDd27ez0M+Nix5oKmQwevNiMiIiIiolTEoA0R0S0iKdv+Tkl5T5tk6G+dFKvp3dtcSNprrwHt2hkFiVu3NlcSEREREdEtw5o2RORY0o0ovZ3irK5T7bVpij5n8rJQjWTXyOhRHEGKiIjSuvTYDiAi52HQhogcKz0HbcSX2pQgYWbfPqBoUXPBexLIyZHDXCAiIkojGLQhIidg9ygiIodqI38GDdLndS1bGmN8e0lqGMso4jlzAvv3myuJiIiIiOimYdCGiMjJpBBxw4bGvNS3GTDAmPfC4sXAiBHGvMR7WJiYiIiIiOjmYvcoInKs9N49SujPPzISKFDAXKPxsr6NJOW0aGEEb4QUKR4zhvVuiIgobWD3KCJyAmbaEBE5Xf78wIoV5oKmaVOv+jtJcGbcOGM0KTFtGjB9ujFPRERERESpj0EbIqL0IDzcr/o2Eu/59FNzQdO1KxARYS4QEREREVGqYvcoInIsdo8yu0dZXPo7HdAm78eSkkjNM8asxs+BqIiIiG4ado8iIidgpg0RUXph9XcyFdGmBcasF8K1aZcxq7EKFBMRERERUephpg0RORYzbVwybSzSv6l2bXNBs2MH8Mgj+qx9e9dtJVFHatqUKwdUrWquJCIiClLMtCEiJ2DQhogcy8mNNdfgjK/U2LFGgRohlYaXLwdy5EgyaENERJSWMGhDRE7A7lFEROnRa68ZY3iLLVuA3r29KkxsJzeXpJ2ZM80VREREREQUUMy0ISLH4i9syYiMBJo0MYI2YuxYhFjZN5qk9t3580CdOvGbrlvHLlNERBRc2A4gIidg0IaIHIuNNS/s3GkUqTGN16Yuxmyy+04ybNq0MRc0ttI4REREtxzbAUTkBOweRUSUnkmU5csvzQWgsza1N2aT1bq1npwTp0MHI3mHiIiIiIgCg0EbIqL0TqIvPXuaC8AYbXrcmE2Wa2kc6W3lY2kcIiIiIiLygN2jiMixmBbtA4m0tGgBLF6sLx7XpnzR0UBoqL6cFJdN9SDOmDFebUpERJRq2A4gIidgpg0RERkRlnHjcNVczCd/pk/X55NjbqqPHC6mTQMGDDDmiYiIiIjIf8y0ISLH4i9svhuv7TOpaxNnxQogPNxcSNr+/UCxYkadG9mkaFHzCiIioluA7QAicgIGbYjIsdhY853sswjt8hlj0bBvHyMwRESU5rAdQEROwO5RRESUgOTV7DJmDS1b+j0s1PnzxqjiRERERETkOwZtiIgokY7yxz4s1Icf+jQslARrpM5NzpxAuXLA+vXmFURERERE5DUGbYiIKJFf5M+wYX5XF86Rw5wxde/ud7IOEREREVG6xZo2RORY7MvuO9lnFn3fSaSlQAFzjUaqDHfpYi4kTRJzunUz4j1C4j8LFgD58xvLREREqYntACJyAgZtiNKxtWvX4vLly7h06RKaN29urnUONtZ8lyhoI6RvU7VqxrxYtw6oWtVcSJq7wM3y5YkzcYiIiAKN7QAicgIGbYjSsX79+mHw4MH6vBNPBWyseWYPzngj0YhSO3YAjzxiLiRNAjfVqxulcYSUyhkzBggNNZaJiIhSA9sBROQEDNoQpWPMtEm/fA3aCKklXMWY9bmvk/SyatKEgRsiIrp52A4gIidg0IaIHIuNtQBLYV8nK3Aj+vQB6tZl0CbNkmPh+++By5eBLFmAGjXY542Igg7bAUTkBAzaEDnU0aNHkStXLoSFhZlr0h821lKBfFlv0QJYvNhY9jFlRoYCl5syWJOGSYbV0KHxaVMWORaefx6oUIEBHCIKCmwHEJETMGhD5FDSULH07dtXv6xSxejcUrhwYeTOnRs5c+bUl52KjbVU4trXqWdPYPhwY94PcnccUSoN2LkT+OCD+ICdkGwr1+CNmD8/Pq2KiOgWYTuAiJyAQRsih1q2bBmOHz+OI0eOYN++fdp3KO1LlBudOnVCjhw5MGjQIHONc7CxlopSMBS4xR4D8GNzupnGjQO6djUXNBKsGTgQCA830qe2bgXmzo3vOifMUcbsAWR/8D1MRP5iO4CInIBBG6J0RLpMRUdH49ChQ3qQZuPGjeY1HD2K/OA6FLiPkZcUbk43i3SHatrUXABWatN72vSLvpSQvVj1VW3qpk1T9SX/8T1MRP5iO4CInIBBG6J0bMqUKejYsSPWrFmD6jIms4+2bdumfZ/TvtCZmjRpgvLly5tLniW3nYxqtWXLFly4cMFcIz/oh/v8GNlYuwlcIy9mdoW3GLgJcvv3A8WKmQvATG1qY8x6FKlN+YxZnNemHNHRHosY2bNw+F4lokBjO4CInCCDeUlE6VDLli31yxo1augZOL6Q7lcVKlTQu15ZtXJkec6cOfq8J95sJ8OQ58+fXw/UyG0KFSqkP0bZlm49aQTHTdWqYYO5Xqctj7df72ayk/jOihXmgkZ64EREmAt0a0nRafMcoRs0CK21Lz/yBcia7Kx1+eRcIt2nNHo54gED9HkiIiIi8h0zbYgcSgIcWbJkwQMPPJDkKFIjR45Ez549sXXrVq+yZCwSTClbtiwmTpxoronP3Dl79qzHIsf+bCcBpVq1aiXaLjkSIOApLvBcAy/C3i1G9NYmT6WJ3b0mriVTfEzYodTQqxcwYoQx37AhMHt2oowZ+7GQ4HV1rXn05ZdA69bmQjyP2xMRBQDbAUTkBAzaEDmUuy/WUnRYNGjQAJcuXdK+V0XqARuRVKDFldTGkeyX2dqXuObNm5trjUCR3PeePXtQvHhxc208X7Y7d+4cNm3ahA0bNuD8+fPYtWsXZsyY4fZ+PWFj7eY6oO3vIua81DPJdOyYT8NCMXATRFzq2MDDa5lk0MW179u+fUDRouaCgUEbIkpNbAcQkROwexSRQ0kQRoIgS5cu1YMk1rDfkyZN0gMkLVq0iAvYTJ482a/hv7NmzWrOGWQoceEpq8fizXahoaF6YEmCPJbTp0+bc4lJw8x1opurlTYdN2aRSf7IkM+SceElqWUjNW2EJHZQ4Lh7f3iaemuTPWCzUP74Mya7RNzso9LZR5YiIiIiIq8w04YoHZIsljNnzujzuXPn9jlgI92VMmfOjBEjRuCdd94x10KvSyPBIE+ZNv5uJ6z6N5J54y35AspT3M0j+/tx7VIGl7cK0eq1TZYvB3Lo1U28IrVvXRIyKIXktfHWOW2yXq0D2iQvhaf3kf1+3d5GhgO3n19csm2S3Z6IKAXYDiAiJ2CmDVE6JEEaCY7I5E+GjWTESOaOjAAlIz2JvXv3Yt68eWjatGlc4EXWSdcnCRIJX7azs5Zr1qypX1LwkmGgJUdDukfptmwBevc2itp6yTVgI5tKIIf8J19a3E2u1Lp1cQEbUUR777q7ndckWGelTwlm2xARERH5hEEbIvKLFA7OmzevPqqT/JJVokQJff2oUaP0S3Ho0CG9K5aV1SO82U7WyXXNmjWLu41sI9tS8JPATTeZMUcQ0r+od9PW+BC4sUhpFRnpXUadlhIplMqswsNi/nyfMqQ8euklc0Yj988IHBEREZHX2D2KiFJEigtbChYsaM4lL7nt5HrpTmXVufHlvi1Mi765ZH/bKSleK3VtJNtGtGsHjBmTaASipLgWJ/YwCBH5yf6aLdCmxsasEXCTbLhkXiv79km+1+wvpNTSGm6MLeb19kREfmA7gIicgEEbInIsNtZuLvsXcKHveylEHODAjfS2kaLFlHLWaya1iNZok15AWkiWjbxuyfA66OKhto3X2xMR+YHtACJyAnaPIkrHpK6M1JyRQsBEqUJGHZo1y1zQSFepAQPMBe/YR5USEsCRQA4FTm9tigvYSJZN3brmQoBINytztDoda9sQEREReYWZNkTpWL9+/TB48GB93omnAv7CdnPZsyZEgn0vBWmqVTMXNH6ky8ycCbRpYy5omHGTcvKaJcqyWbfOGK7bCz5lykgtGylOZNm3DyG2Zb5XiSjQ2A4gIidgpg1ROhYeHo6lS5di9uzZ5hqiVCJBAAkGWPxIl5FaNim8C70B7+/kVFICPC5g07Ch1wEbn8mwYMy2ISIiIvIJM22IyLHkizZPcTePa2DD7b4PQMaNdRfy/V8GpZIeWN5KSfDFicdSY21/LDTndT5k2Qj7/vS0f+y36aVNw4xZnRQ+XmTMesT3MBH5i+0AInICBm2IyLHYWLu5XAMiHvd9AAI3Utc2EKNRW7wJPjjRBu15VzHnj2tTPg/P3fW1TYlIbcpnzGKlNoUbsx7xPUxE/mI7gIicgEEbIgfbu3cvdu7ciaxZs+LSpUv6ZeHChfVhtP0ZQjutYWPt5vI6aCMCELixkyDON98Ar73m08BUcdJl0MZlRKfx2tTZw3MPZNBGerR1NmahPQLYxpRyi+9hIvIX2wFE5AQM2hA51LZt21ChQgVzyb2mTZuiWLFiKFSoEDp06GCudQ421lJHSr/Ax70mAQrcLFggx7Ix78eI4rp0GbSx7TgreOLpuafkNU90nzExQFiYuaDZsQN45BFzgYgocNgOICInYCFiIocaMmSIfilFhq9cuRJXbHjy5Mn6JObPn6+PHtWxY0d9meimCkBxYvHYY8Yo1UJq21avDkRKHxzyTAInQ4eaC9p5wrz0RL70+DslIhE1CdBZ7McAERERESXAoA2RAx09elQPyEgmTfPmzfXuUNI1StSpU0fPqpFAzogRI/R1MoIUkbfcfTH3ZUogAIEbKUQsSSMy8JHYsgVo0oSBmyR9/72xozSSZXPTR063Z1jJay5BJCIiIiJKhEEbIgfKlSuXfpk7d279UkhNGxEdHa1fSiDnjTfe0OcbNGgQt57opnMXuOnVy6cv8hK4kWQy6R4lrMDNzp3GcnonXQSsqZI2XbX6k2nWmpfCfjv7FHDSHcqKsomffzZniIiIiMiOQRsiB5KAjGTZTJo0KS4YU6RIEf1SChNb5HZWto1k5xDdMq6BGzkuZTxvHwI30utG6tnYAzflyhmlcyheK23KZMziqjbZh+C+qVq3Nmc0c+eaM0RERERkx0LERA61du1azJkzR/vSWk7vDiXBm1q1amHjxo3o27cvwsPDcfnyZT3LRpw9exY5bSPJOIFkCPAUl8ZIhKV797iuO/5UFpY4z/TpRsKOkHo3y5cnPUS4PZvE8cdMo0bA4sXG/Pz5RkrSreAyehWOHTNSpoiIAoTtACJyAgZtiNIRyaaRGjcSuLGTwsQcPYqChhSjkUBCCgI3YuZMICrKu2HA003Qxj5il0Sz1q71eb8GlHSDM7P98OWXCbNviIhSiO0AInICBm2I0hnJuNmzZw8OHDigd5m6//77HZdhY2FjLQ1zF7gZNizpdBkvSSaOa5wi3QRt7Fk2fg6xHlCuQaTNm415IqIAYDuAiJyAQRsiciw21tI418CNfKmXYaL87EKzf7+R2CH1uV3jP+kiaCM7oFgxc0Fz7lxAgmApIhE0GaPdeo2lrpHUNyIiCgC2A4jICViImIiIglMAx/KW8iktWxpJJtOmydD36XBIcHniFsmyudUBGyEpT/YuUdJdi4iIiIjiMNOGiByLv7A5hGRjyEhSZtBBRjwaoE3D9SVftEe7dlMSxC6sxA7HZ9oEY5aNRaJnBQqYCxoZ8e5W1tkhIsdgO4CInICZNkREFNzkC7xtLG8ZrlqGqR6nL/liKqZNq6RdHjAWNVJOJSRkoblkkEa+uylNs0eqBg0KnoCNkIwqK5tKbN9uzhARERERgzZERBT8rMBNz57mCqCzNqkVK/RfUV1/SbXWuU7AL9pUVJs2yM1MjbVpvTY9ri8lxV0wx9vplpFMFmuEJtGsmTkTROzDjrOLFBEREVEcBm2IiChtkMDN8OFGPRZL7drAOO9zbuIDOFWwYoW5UlcF7dptsl2feEqzFi0yZzQS9CoqQasg89RT5oymXz+jCBERERERsaYNETmXZDfwFBd8UpJ1Evd6zpwJtGljzIuxY1Gpa1c9j0Z4+7rv3Al06ADkzWvEg/yNZ9ifU1AdcxL8sA/pv29fcAZthH04comohYcb80REfmI7gIicgJk2RESU9siIQ1JF2NK1K+ZrF8l3cErokUeA5cuB2bODN5aRIt98Y85ogjXLxmLvIjV3rjlDRERElL4x04aIHIu/sKUtfmWrrF8PdO9uDAeukU41fbRpSgpedxms6tNPgWzZgC5dzJXJCMpMG9csG2uorGDlOopUMI1wRURpEtsBROQEzLQhIqK0S4IQCxYAFSvqi/IVf4zMyBDXfpCATfXqRlmVrl2B9u2NdWnSmjXmjEZGZwrmgI1wHUVq61ZzhoiIiCj9YtCGiIjSNvmyv3w5jpuLMiQ4ihUzsnB8JLWOJcvGjAHpI2VLEEeSQNIUybIZOtRc0NhG3Qpq7CJFRERElACDNkRElPblyIGm2sUuY8lQrZpRsNhHVvKOlfQhPa+k105EhLGcJkgtG7PLWJrIsrE0aGDOaCRixlGkiIiIKJ1j0IaIiBxBRo56RJs26EsmGWFq8GCf+zhJ8o4UJ7YnqMjo4n7c1c0ngQ7p22VJK1k2QmrYtGtnLmjYRYqIiIjSOQZtiIjIUfScEvvIUlKgpls3n/s4SVcpGQZ8vgxLZbLuKqgTQFxHjEorWTaW5583ZzTsIkVERETpHEePIiLH4qgRaUtKR2BKtL0UI27ZMr6bkBSqmTXLr2Gv7XclQRx76RURNKNHuY7AtG9f2hvL3HXUK44iRUR+YjuAiJyAQRsiciw21tKWgAdthAQAevc26qNYVqwAwsPNBe/JXUVHG12nXN2MoI39f3giY2YVMWZxQJuscE2aex/IsF3Wa+bn60VExHYAETkBu0cREVGaIQ1wT5Nd3PqcOVFJ+/KfoECxFKcZN87n4jSS7OEasJHixL16yVx7fflWkodhBWyELUyV9rCLFBEREZGOmTZE5FjypZ2nuLTDHnjx9Lq5Bmd8sUCbGhuzBil4O2CA+9QZL8jAVFLn2HBVm6ZrU5ebfsxZ+8SeZYNBg4C+fc2FNMi1i9SxY36/TkSUfrEdQEROwEwbIiJKM6Tx7e/UWJv0Gi9S20ZI9xspTrNzp7HsBfkCYE1t2kgI6LhxBTJpU2dt2qldVynB7awpNblm2aBTJ3MmjXIdRerHH80ZIiIiovSFQRsiIko/pCjv8uXxAQGpLFyunJE247NF2iTZHwv1JUNZbfpOm/Q+UzfF49rU25g1jB3rjMK99i5SCyRPioiIiCj9YfcoInIsyW7gKS74pCTrJGCvp9SzmT4d6NrVXKGRQM6wYX4FPFwHqhLuRplKDSu1/fmMOa9nEa1da4xXntaxixQRpRDbAUTkBMy0ISKi9EeCGl26AOvWJewuVaeOT92lLJLAI7ESKSVjadrUKlKcivbvjw/YiClTnBGwEewiRURERMSgDRER3Vzyq6e/U8BVrWp0vXHXXcrH0aUkViK1f2WEaokDyV326WNemRrk8dmiQvoIWY88os87BrtIERERUTrH7lFE5Ldt27Zp36Piv0g1adIE5cuXN5c8S267ZcuW4fjx4zhy5Ii+nD17djRo0ADFixfXl73FtGjymqfuUn6OLiU9e9z1spJ/E7BEGNvwVTJ2VQ1t2uS0451dpIgoBdgOICInYKYNEflFAisVKlTAvn37UKVKFX2dLM+ZM0ef98Sb7T7//HP9Uq6X6dChQyhRogT27t2rrycKOKu71I4dCbtLFSgAREQYyz5wDdhI7KF9e6B6db96XyUmRXTixxvHp9r0izHrLOwiRUREROkcM22IyC8STClbtiwmTpxorpFyGlPQsWNHnD17Fjntv47b+LNddHQ0MmfOjL59+2KQvWhIMvgLG/lFIixDhwIjRpgrND17Gn2d/ChSLCRgIzEgixzG3bv7mXUj6TotWgCLF+uL0i3K6hTlyONdgma1axvzDRsCi2TULiKi5LEdQEROwEwbIvLZ0aNHsXHjRlSXtAGbfPny6ZdnzpzRL135u92sWbP0Syszxx1pmLlORH6RwMzw4cbwTxYJ4EiRYj+ybsSYMcCXX5oLmn79/My6kYBNt25xARvJCupozDlXhQrmjEaed2SkuUBERETkfAzaEJHfsmbNas4ZChcurF+GhYXpl554u51k2FhZOLNnz0b9+vXNaxKTX9JcJ6IUkfG6pYaKvUixZHxI8V8fAweSUdO6NbBvn5EsIqyax4MHG7EYr3z6aXzKjnTjWrDAmd2i7NhFioiIiNIxBm2IyGe5cuXSL/fs2aNfWnaaaQMSbHHHl+0kK6dHjx744osvsHXrVjRv3ty8hugmkqK3U6caWTdWrRvJupFaN1JM2+toi5ENVqxYCBYvrqQtrTRWaiTrJizsqnb9kASZYq7TBm3Sb2wav2ULQuRx2LjbTqY0r21bc0bDUaSIiIgoHWHQhoh8JhkxUl9GRoBau3atvk6KBM+bNw9NmzaNG+VJ1knh4XPnzunL3m4n21hBmlWrVnk1IhVRqpKsm+XLjdo2Fu2Y1WvLrF9vrvCW5MaEa1NvbTovKzSZtClht0E7+Q/2zoHjtamLMZs+PPqoOaNhFykiIiJKRxi0ISK/SJelvHnzokaNGvov+TK6kxg1apR+KWTUJxmq216rxpvtZBupfTNp0iS9ALGVLdDPlmVAdNNZtW7WrYvPupEAQrVqRpcpGdEpCYm78A1DdLQUNpasm5naVNXNbbRp7NgEARv5/53d3S6JKc2T/mX2IuQsRkxERETpBEePIqIUkW5MloIFC5pzyfN3O19IoIenOEoV0i3q+++NbBs7ycSR+itFi5orkifHqcU6XiX+88v0SLx08kPc9pVt2CnppiVZP+mRZDRJgExI0GzzZmOeiMgDtgOIyAkYtCEix2JjjVKdDA/+zTdA167mCpNUG5YATtWq5grPXIM2v/wYg6in5+IZtDHXaiRIMXAgEC7dqtIpCZTJkFtSwVns2AE8Yg12TkSUGNsBROQE7B5FRETkL+ky1aULIHWbxo41V2qsblOPPQaMG2dkiSRTtLi9/ImIQIVhLRIEbA6gJ97OtRz770/HARthDcFlkW5qRERERA7HTBsiciz+wkY3nWTerFkDDB0anxFiJ12nsmcHSpcGsmTRV+1q2hTFtEspRWz3b9GKGJdxCrrvjs8mkbjQa68Z8Yt0SUaak3HSLTLiXLrdGUSUHLYDiMgJGLQhIsdiY41uGcmq2bfPyAZZtcrIvPGWBHbq1tWnGIRi+vSEva/SfU8pyV6yAmKyf73ogkZE6RPbAUTkBAzaEJFjsbFGQUOGqP7jD6PCsK0ItzgwYgQOa5dbteldD5kjspkMUGWP/aTbki4zZwJtzO5jUjdIRvQiInKD7QAicgIGbYjIsdhYo7RAjlNLcsfrggVGzELiFD4MUOUsEgArUMBc0Eg9IaktRETkgu0AInICBm2IyLHYWKO0wJegjScSyJESOelmNPBGjeLTjlasSN+jahGRR2wHEJETcPQoIiKiNEwGp5LeQk2bGrEMqdXreG+8Yc5oJkwwZ4iIiIich0EbIiKim0B+8XU32bm73po8kW5SUpxYSPKJDK4k9W+kF5FjVahgzmjkSTv6yRIREVF6xu5RRORY8kWXpzgKFkkFXryR1LEsg1XNnRtfn9ciQ4S/9FLaLvniab/t16YixixWapO7DlJ8/xOlb2wHEJETMNOGiIjoJpAvDimZkiIDTrVubdTklQGVLDJUeJ06RgFjCew4SYR5Kcqbl0REREROw6ANERGRQ0hGjYwstW8f0K6dsW7LFmDoUOcFbb7SpqvGLCSRaJwxS0REROQo7B5FRI7FtGhK79avB9auBbp3N7JxnETe39rTQxVj0UgxkogVEZGJ7QAicgIGbYjIsdhYI0pMMm66dTPmJc4hhYzTInl/t9cupxiLBukflpYL+BBRQLEdQEROwO5RRERE6YgEbKZNM6ZixYyRpvZLVd80aKo2HTBmDd98Y84QEREROQODNkREROnIsGHGqFKWESPSdvDGXpAYM2c6r3gPERERpWvsHkVEjsW0aCLPzp83ElNkhCk76TIl2Tj585srgpS8vy2qYkWj4rJYtw6oWtWYJ6J0je0AInICZtoQERGlQ1L6pUsXowzMoEHmSo1k3hQoYBQxTjPkiVi++MKcISIiIkr7mGlDRI7FX9iIvCddo6TOjQRtZLjwMWOCe8SpBJk2EnnKmdNc0siY52m1wjIRBQzbAUTkBMy0ISIiIj3GISNmHzuWOGATGQkMHhzENW8kbcieLhSRoNINERERUZrFTBsiciz+wkaUchKwadIkvmSM1LyRTJxbnciSINNG3uc7dwLlyplrNNHRwZ0qRESpju0AInICZtoQERGRR2FhQOvW5oLGPtrUzah7I1+63E12+rpy5XDeXBYL5YETERERpXHMtCEix5IvcjzFEQWGp9GmGjY0sm9Sa8Am1wBNUhZoU2NjFle1KROzbYjSNbYDiMgJmGlDREREybKPNjV2rLlSs3gxUK0a0KiREdgJNPnC5e3UWII0Mvy3JpP8+f57fZ6IiIgorWLQhoiIiLxmBW8kPjJ/flyMRK97I9fdUpJV06ePuaAZOhSIiTEXiIiIiNIedo8iIsdiWjRR6pOYiIyw/cgj5gqT1LvZsQMID7/JRYvlAVWvHl85WSJLElEionSH7QAicgIGbYjIsdhYI7o1ZGhwKVZskdGm2rZNvbo3iSxYADRtasxLKtDataxtQ5QOsR1ARE7A7lFEREQUUDJwk73uzbRpRt2bxx4z4impUfsmgbp14/ttScYNa9sQERFRGsVMGyJyLP7CRnRrSXBm6VJg3Lj43koWCeqkatcpZtsQpXtsBxCREzBoQ0SOxcYaUXCQMjPbtwMjRhijTVkklrJ8eSoVMGZtG6J0j+0AInICBm2IyLHYWCMKPlLvJiIC6NrVKFRsL2AscRYZUjx/fnNFSjHbhihdYzuAiJyANW2IiIjoppHuUDJkuHyPch1xavp0oEABoH17Y/QpCeKkCGvbEBERURrHTBsiciz+wkaUduzcCZQrZy6YJN7SujXQqFEKsm8krad2bXNBc+xYAFN5iCiYsR1ARE7ATBsiIiK65STrRrpGffllwuQY6UYl2TcSuJH4i8/ZN1LtuGdPc0EzZow5Q0RERBT8mGlDRI7FX9iI0i7JvPnuO6BfP3OFjWstnGRFRhqRH8uKFUYwh4gcje0AInICZtoQERFR0JGgTN++RvaNxFgaNjTWt2sHFCtmzFtkaPEkSXcoGT3K0r+/FxsRERER3XrMtCEix+IvbETOIiNPhYUlLEkjsZc6dYC8eYE33gAqVEg4hLicByzntMm6apc2JZesw/MHUdrGdgAROQGDNkTkt23btmGBDKlratKkCcqXL28ueZbcdufOncOmTZtw/PhxHDlyBIUKFUKHDh3Ma73HxhqR88lIU9OmmQsmKWEjmTmPPipBnvigTS9tGmbM6oZoU19jNuB47iG69dgOICInYPcoIvLLsmXLUKFCBezbtw9VqlTR18nynDlz9HlPvNnu999/x9KlS/X5wYMH64EbIiJ3hg0zuk9JtynLiBFAtWpGVs6gQQrr1ilERysMky9vUunY1F2bHtcm+VLnbiIiIiK61ZhpQ0R+kYBL2bJlMXHiRHMNMGXKFHTs2BFnz55Fzpw5zbUJ+bqd/ErWt29f7YvXIHON9/gLG1H6IvWGf/wRkES+xYvNlSYZkWrtWiAUMUD16sbQVJrj2pQvOlq7IlRf9oacWyw8xxAFL7YDiMgJmGlDRD47evQoNm7cqH3v0b742OTLl0+/PHPmjH7pyt/tvCENM9eJiNIXqXXTujWwaBFw7FjC4cMHDjTjMvJnwQJcRWZ9vX72mT5dnyciIiIKNgzaEJHfsmbNas4ZChcurF+GSZ+EJPi7XVLklzTXiYjSLyuAs3kzsG+fywjf2pXTYRtLvGtXRA5egJgYczlA3AWTvZ2IiIiIBIM2ROSzXLly6Zd79uzRLy07d+7UL6Olq4Eb/m5HRJQSRYuaMyYJznRBd8zECnMNkL9fU8wIW4/Bg4H1643bEBEREd1qDNoQkc8kI0bqzMgIUGulSIRm7969mDdvHpo2bYrixYvHrZPCwzIalPB2OyKi1GSUrwlFG2zDBrytrxOvoTsO94uMK2IsI1NFRJhX+sFdBqBMdu6ul4mIiIhIMGhDRH6RwsF58+ZFjRo19FT+EiVK6OtHjRqlX4pDhw6hQYMGCWrVeLOdBHLsXQRkBCn7MhFRYPRFVWjnHnPoqUzYgrF3N0F7ROrLMpT4/v36LBEREdEtwdGjiChFpLiwpWDBguZc8vzdzhcS5OEpjih98ybYK8N+z9cmoyS6YTwG40jPd9GnD5Ajh7lSI12nqlW7qs1t16YdiI7u7MvAUzr7Y+I5iij1sB1ARE7AoA0RORYba0TkTdBGSODmK20qoi8ZZmpTG2PWJLf6TptsURzdAW3aqE3rtGmqrEjy3MOgDdHNwXYAETkBu0cRERGRY8kXNm+mTdpURJswdqy5JdBam9YbszaTtWmDNkm2jUVCPXLrKdokNbzW6xk5RERERCnFoA0RERGRpUsXYL50ljJU0SbVrh3UsWNQapM2vatNVbQpE7RV+k3NkjgmycKpgsWLjaW0SLITUjIRERFR4LB7FBE5lnx54CmOiPwiqTLduwNbtpgrNBKhadLEXEhIhgjfvh3YsQOYOROYNQsoVswewGivTWO0aZ827dKm+K5U7tzKc1dKAy8871KwYDuAiJyAQRsiciw21ogoRc6fB4YOBUaMMFdoJK1mwAAgf35zhWcJgx8yDJW9Yo6IL2gMrNKmRdpkCMZzl2swh+dXCnZsBxCREzBoQ0SOxcYaEQVERATQv3/CrJtBg4BmzYCiRc0VSdu5E/j1V+Dnn42hxN1p2BCoVQt46aWEI1YFi7QQtHF9jL7g54XzsB1ARE7AoA0RORYba0QUMJJ1M2kS0K+fucLUs6eRfeNl8EZIV6p9+4B164BVq5Cg/k3FisDatUgwjHhkJBAWdusDOQzaUFrDdgAROQGDNkTkWGysEVHA7d8PzJuXOHgjgZu2bYFHH00YcfGCxIP27DHq4UjsJzzcvEIjAZ7q1Y0kHwnoNGoEVKgAlCzpVQ+tgPI2aBOMgRP7Y+LnQvrBdgAROQGDNkTkWGysEVGqkUjLN98AXbuaK2xk2PBq1YBHHjFX+E96ZtWubS64IYk+lSoBpUsDBQr4HC/yCYM2lNawHUBETsCgDRE5FhtrRJTqJHizdCmwYEHCfk5CUmNatzYCOMWK+R1RkX9x9GjyNXEkViQjlqcWb4M2ntzKwAmDNukT2wFE5AQM2hCRY7GxRkQ3lVQblkI17rJvhKTFSKXhFPZtki5Tx44Bv/8ObNoUP7iVrLPu1ghSjNOm17RJuwLajbFXmySw9Is2pR5P510GbehmYzuAiJyAQRsiciw21ojolrBXGp45M+GoU5ZkCtTYgwzeaa9NU43ZOO6GGRfntUkCOX9q0yZtWqtNgQvkeDrvMmhDNxvbAUTkBAzaEJFjsbFGREFBhn/68cek+zZJEKdGjbgCNSHSnSoF5NwniT9//mlk46xZ4z52ZLFn6aQWBm3oZmM7gIicgEEbInIsNtaIKOhYWTjJFagRMiJV2bJAuXJAoUJ6VCUlwQeJHRUoMF6bk+HJ79cmIwunYUNg0SJ9Ns7gwcDmzcBjjwHFiwem0PHNCJzY/4ev+HnhPGwHEJETMGhDRI7FxhoRBT0riGOlxFgFajw4oE2HtUk6PnX2Iz3GNXAigZywMCBHDnOlRgof58xpLriwJwQ9+CCQK1fih3ArAycM2pAd2wFE5AQM2hCRY7GxRkRp0v79wOHDxuWqVYlHpXIlBY4lFaZw4biMHE9cgzbuSBxp+3bg0CGj2HFScSR3WTohIR20v79qk+91cnjOpkBiO4CInIBBGyJyLDbWiMgRbMNF7WraFAW0VbbEGPesrlV58ybo2+RN0MYdycg5ezZxjZwvvzRGNbfIQ5XMHWFl5ci/v+8+4P77U97FisgXbAcQkRMwaENEjsXGGhE5jRV0eVybNkm3KkmF2bvXKECTTEbOVW2SMaNk8O8T2nRUm4Zrkytvz5sSoBH2IMz69UC1auaCB5KdU7SoMfp5eLi5kigVsB1ARE7AoA0RORYba0SUVlnBGV9IIKe6NpXSpoe0Kbc2uRvw29VxbTqrTTIA+F5tejeFQ0nZs3IknvTXX+7rLbvL0hkwAChYMD5BSGrm2OvtEPmC7QAicgIGbYjIsdhYI6K0yp+gjV2Cc59r3yaplZNcnRxhpcRI1eF77wVy5zaW/eQazJGAjT02lFSWjvT2yp49/qEkU7rnlgjoa0YBwXYAETkBgzZE5FhsrBERJUGCN2fOxFcctgrVJMderCZLloClxMjDiYgAjh5NdhCtRFk6MuKVPHwrtnQraucwaBN82A4gIidg0IaIHIuNNSIiH1lFjyWYc/q0b5k5wp4SIwEdqT7sZ0BHAjGSmSMDaV2+nPChSDkfe9KPpywd+8MRycWXUhJ48fR5Y79PfibdXGwHEJETMGhDRI7FxhoRUQBJxCQ6Or5/0z//JJ8SY+cugiJDTdn6OfkfNPlSmxpoU/LBofnzgSZNzAWNPUunWrXe2poL2jRVv84Xnj5vGLS5ddgOICInYNCGiByLjTUiopvAXUrMhQvuqw97Yna52jBiBE5ri9boVvu1aZE2eUvO+VI7R2JLnh6Ot1k6Vi+wu+8G+vVbqK25pE0Ltf8h895j0ObWYTuAiJyAQRsiciw21oiIbjF3AR3hS4aOaNgQBxYvxhltVoI6jVesMLpeuWTqJEd6f7nWupE6OhMmeNsDTII2jc15o7jymDFG0lCbNhLMscJNvmfr8PMq8NgOICInYNCGiByLjTUioiBm1c+xulydOGFUIfalho5dz57GpdX96sEHjaCODzV1rBiTVdJH4kxSo3nECBkYPZ829dY+V4bptxVJjXgVT7bVniM2alMbWWEjA7X/os/x8yrw2A4gIidg0IaIHIuNNSKiNMwlgrKhaVPk1lbn1Ca/xqmy+jsJa+Qra7gpUbSo/rnhm17a9JI2haFhwyJJxppca+lIlo6MciXcPTSrjrMIwOBcqcb3fZZQan5Osx1ARE7AoA0RORYba0REaYsvAQDJUamuTXdrU3FZoWlsZdt4O3y5G+e16Zwxi9/NS6vTk1irTUZuTELW542VQCQkS0dI3WYZotzek8u7LB3D2LFAly7mgqlXr/ikolsZ4GHQhogodTFoQ0SOxcYaEVHaEvAAgJWtY3XBElZdHX+7YdlZQSKpVlzcDB3Zs3cklca1iI7J3UOzBuVyrePsmqUjD71YMXMhCQ0bGttJwMhOtrekZpDH/nreis9jtgOIyAkYtCEix2JjjYiIvGJFMaxiNiKQwR1hDXkurD5Qwh7kcRNBkW5UOXMmjP1YBZBF8g9vlzY9YszGcf/ZKEEea2QtKw5lDxYJ+d9SKsibQA+DNkREKcegDRE5FhtrREQUUFZwx54eYxVQFinolpWIvdCNsPpCCXugRxMSl3bTXpvMwBBKaVNWbZLg03BZYZLbTDFmkyFxpqkug2C11zZ3Hc3dSjgS9qSjpk0TBm0ku+hmd91iO4CI0joGbYjIsdhYIyKiW0ZSUiS4I6ziNsLK4BGBDPJYbOkyB0aMwGHt8rK+BDSWflbWqFqaM6eAC/cVRbFivbUlK8gj7tUmCQrJ1uGywsaXz1XX7m47tamsMWuSXeShB1mKsR1ARE7AoA0RORYba0RElFZ00D6zrByZgtqU15iFdKIyawzrZMCpTMZsqrAGKLfYgz7iEupiN6yKyhLkeRBrkQu/4A59XkbSMsi9uHbLkkylIsasKTU/ptkOICInYNCGiByLjTUiIkrr5LPMkugzzRyqqrfZPcqeKyNKm5dCQin5jNnU59q1S9x9N6JyF8e/14zF6Cjg4tUsKNXy/lSrhsx2ABE5AYM2RORYbKwREVFal2TQxmS/jbcaaZNZcxjD9u0z+ilZdXrE5cs40KaNuQAUkcI1qdGdS7gOjxUgbAcQkRMwaENEjsXGGhERpRX+BF4sKf2s8/d/S+BnoQR87A4f1gM+Cdjr+FhGjDBnNCtWAOGutXNSju0AInICBm2IyLHYWCMiorQiLQZtRDB/zrIdQEROwKANEflt27ZtWLBggbkkmc1NUL58eXPJM2+28/e+7dhYIyIiSr/YDiAiJ8hgXhIR+WTZsmWoUKEC9u3bhypVqujrZHnOnDn6vCfebOfvfRMRERERETkJM22IyC8STClbtiwmTpxorgGmTJmCjh074uzZs8iZM6e5NiFvtvP3vl3xFzYiIqL0i+0AInICZtoQkc+OHj2KjRs3onr16uYaQ758xmCiZ86c0S9debOdv/ctDTPXydN6Tpw4ceLEiZPzJyIiJ2DQhoj8ljVrVnPOULhwYf0yLCxMv/TEm+18vW/5Je1mT7fq/6blifvMv4n7zb+J+82/ifvNv4n7zffpZuwzIqK0jkEbIvJZrly59Ms9e/bol5adO3fql9HR0fqlK2+28/e+iYiIiIiInIZBGyLymWS79O3bVx/dae3atfq6vXv3Yt68eWjatCmKFy8et06KCp87d05f9mY7b++biIiIiIjI6Ri0ISK/SFHgvHnzokaNGnq/8RIlSujrR40apV+KQ4cOoUGDBgnq0HiznTe3ISIiIiIicjqOHkVEKSKFgy0FCxY055LnzXb+3jcREREREZETMGhDRERERERERBSE2D2KiIiIiIiIiCgIMdOGiEgjxZI3bdqE48eP48iRIyhUqBA6dOhgXhtv27ZtepFkS5MmTVC+fHlzyeDNbZzCm/0WyH3rFN7sEynibV0vsmfPrteIci3GnV72m7fHkRQw37JlCy5cuGCuAcLDw1G9enVzycD95p7c3qofNmjQIP3SjvstnhxrERER5lI8qctm79LLc1vi401uN3/+/Ljzm3B9n6an/UZElBRm2hARaX7//XcsXbpUnx88eHCChqRFvkRXqFAB+/btQ5UqVfR1sjxnzhx9XnhzGyfxZr8Fat86iTf75PPPP9cvZX/IJIW9pSi3jKZmSU/7zZt9Ji5fvoz8+fPrXwBln8iXRilqLvvKwv3mntQRy5Url347mVxxvyUkx5pcJ/uiTJkycZeZM2c2b8Fzm7v9JsfZs88+iy+++EIPRkswRvab7E9LettvRERJkkwbIiKKJ6fGvn37mkvxKleurDp16mQuGSZPnqzf/uzZs/qyN7dxKk/7zS4l+9apvNlv4sqVK4lum173m7f7TMh+c91P3G+JyfOW/SL7QW4jt3XF/ZbQ7Nmz3e4nu/S6z4Sn/Sb7I7nnn573GxGRK2baEBF5QX4Z3LhxY6IuFvny5dMvZVhzb25DiXG/eWfWrFn6pfWrM/ebZ9L1Qn6p79evH3r06KGve/PNN/VL7rfEoqOj9S49NWvW9Nh1ivstsaxZs+qXISEhcdPIkSP1/Sm4z9ybNGmSfinZNtZ+k/OalUXI/UZElBCDNkREPrAa6ZbChQvrl2FhYfql8OY2lBj3m3vyBXDKlCn6l+rZs2ejfv365jUG7rfEQkNDcenSJb1rlOX06dPmnIH7zSDHlwS2cufOrQe5ksP9Fq9SpUo4e/aspNro3YAmT56Mnj17YsmSJeYtDNxn7nXr1g1XrlzR913evHnRv39/8xoD9xsRkYFBGyIiL0idB7Fnzx790rJz5079Ur74eHMbSoz7zTP5xVm+UEvth61bt6J58+bmNdxvSZEvdbKvJGtk4sSJ+rp3331Xv+R+S0gCDJL5INkLUnj49ddfx+rVq/XrJIgjxXYF91tiOXPm1CchhYfleKtcuTLGjBmjr+M+S5q8R+W9KvuuWbNmemFiybbhfiMiSohBGyIiL0jDsm/fvvpIFtaXGGlczps3D02bNtVH9PHmNpQY95t70r3HCtKsWrUq0agp3G/uyT6ws5al64/gfkvoueee078cy4hRrVq10oNbZcuW1a+T5YoVK+rz3G+JuR5rsl+kW0/btm31Ze4z90aMGKFfyuhQQoIwv/32mx7wkgAO9xsRkQujtA0RUfqmfWnRCxy6myxHjhxRWoMxwXWyLOst3tzGSbzZb4Hat07izT5xd51M2pcZ8xbpa795s8+Etc6+X1z3CfebMXkix5i767nfjMliLUvRXGte9ocUv7akp30mvNlvsn+sYsT2fbdmzRrzFulvvxERJSVE/mgnQiIi8pJ0WbHIr4LueHMbSoz7zT/cbwnJ/pBf7+UXe8H3aWBxv8WzH2sy1LfVXcoV91liUjBcatrI/pN9Yr1f7bjfiIgABm2IiIiIiIiIiIIQa9oQEREREREREQUhBm2IiIiIiIiIiIIQgzZEREREREREREGIQRsiIiIiIiIioiDEQsRERETp3N69e3Ho0CFcunQJWbNmRf369c1rEpPRXDZs2KDfTm7/3HPPJRr1Ze3atahRowYmT56MDh06mGsN9v/VvHlzc21ich+XL19GlixZUL16dX3dtm3bUKFCBXTq1AmffPJJov8r912iRAlzybB06dIkn4+MXLNlyxb9fx0/flxfly1bNv35FS5cGMWLF9fXpYS3z9kiz/PUqVNx+1dGJbLr27cvBg0aZC4RERGRkzHThoiIKJ376quv0KBBA7Ro0UK/tA+zayfrCxUqFHe7MWPGuA2cSMCmcuXKaNmypbk2nvW/IiMjzTXujR07Vr/dyZMnzTVA+fLl9UDQpEmTMGHCBHOte7Nnz9YDNhJ4cUce55QpU/SAiDxe+V9ffPEFOnbsGPf8JAAUEhKCZcuWmVv5T+5P7leGOU6K7OOuXbvqt4+KitL3r/VcJFglzp8/r18SERGR8zFoQ0RElM4NHjxYv5RAi/jtt9/0SzvJSBkyZIi5ZGjSpIk5Z5Db9O/fX5+X27oGdIT1v1wzYuzkfubPn6/PFylSRL+0SCBIHmfPnj31jBRPJKNFMmzcZcrMmTNH//8SoGnatCm2bt0KSTyWDCK5lOnIkSN6sET+l5WB4y/7Yzh8+LA5l5g877fffhsbN27UAzRWlpL1XCSQI3LkyKFfEhERkfMxaENERJSOScaJpVu3bvrlnj179Es76Y4jGS7SNccK7lSsWFG/tKxevVoPtsj1VpcmO/v/KlOmjDmXmNyPxTW4I4Ggfv366fOuQSRvSHaNZLwIyV6ZOXOmnsHjqmDBgnqwZNWqVXpgxx3JmpEsnJEjR+qP6fXXX9fnpWuXK+s+kgo0yT629p90/3Il3aUEM22IiIjSDwZtiIiI0rGdO3fql5LZUaVKFX1+wYIF+qVFMlMkQ0Zu06pVKz0TRDzwwAP6peXzzz/XLz0FU6z/JUEJCYp4YgWNJEDkLlunZs2a+qUEODx15XJHgkaSXSOkm5Vkr7i7fzu5PmfOnOZSPAn+5MqVS89+sfbXmTNn9Awg6W4l+8yuWbNm+uWOHTv0S1cS/JF9LPtGtnX3uKTOjmCmDRERUfrBoA0REVE6Nm/ePP2yXLlyeiBFggYSlLFqr0hmiJWZ8u6773oMvMjtrS5N9957r37pyvpfcv9WZoq7Swl8CE/ZOBLQsDJXpEuTt6SejpBt3dXb8ZZk01jBHwkwyWOQLBl5flbASer9SHcni9XNS7KV7OuF7GOr65MEvDwFtJhpQ0RElP4waENERJRO2WvHPPnkk/qlVadGaq9YRXGFBCMkmGB1/Wnbtq1+aZEsE4u7OjL2/2UV1LUyRuyX9oDEM888Y84lVqxYMf3SXf0dT6x6OuHh4W4zWSRoJIWHXSd7kEUyYiSoJEErqXvj+lxlWZ6fBKZkVCqLvZuXvfuZfR9L9o+7bmUWZtoQERGlPwzaEBERpVP2oIIVfLCCC9LlR7I+JPggtV/kegleSKaIsIIm3rL/r4EDB+qZKe4mK+NEgiLuuiVZsmfPrl96m3Vir6fj6bHL/7ZGarIyeeTSHuCxMntkv8hIWu6CPNY+kuHKLXIfVrBKhvMWsj/dFR72hJk2RERE6Q+DNkREROmUFUiR2jGWSpUq6ZeSlSLBhxEjRui1X4Q9Q8S1CLE9sOGuzoz1vyQ4kVQwxgqKWHVrPLlw4YJ+mVRmil3u3LnNOeDy5cvmXELyPK2RmiyvvPKKOWcEWaxsnTVr1uiZNrJPPF26FlGWLmjCeo6zZs3Ss48kMOSu8LArZtoQERGlPwzaEBERpVObNm3SL60CxEICKpLlIiTA8sYbb+jz4sCBA/qlrHftXmSvw/LXX3+Zc/Gs/5VUkMUeFLE/Jnes27kOCe6JPC8re0YKJtu7PLmy1+cpXLiwfulKAj/ynCUDydOl6z6yRqmSxy7drKQujuzrUaNGJbqtO8y0ISIiSn8YtCEiIkqH7IEJ14K/kgmilMLEiRMTBBPsRYvdka5FIiIiQr+02P9XUkEWe4aOlfHjjlVXRwIe7obr9kS6Zck28lhat26tB07kf0rXKetS1vXv31+/vdxWgi8W2RdWVpJ05ZICwrKdBICs+5BRpaSYsjv2zBurG9jYsWMTBLySwkwbIiKi9IdBGyIionTIynyRwIQ3QQN74MUqWuxKCgfL/Ukmib2GjPW/RFJBlp9++km/lPtIqguVFRTyFBzxRAIwMpy2dPmS5yKBE6lLI8EU61LWSVFluc2MGTPMLePJ/5TrpA5NhQoV9O0yZ84cdx+SPSOX7kjQx8r2ERLk8iXoxEwbIiKi9CdEyU9pRERERAEgmSoS+JCMFMlGCTTJsqlRo4beRUsygewkUGRls0hdGcmAkVo2ngJAcnsJpMjtrEsJYNmzizyR2549ezbBtkn9r5SwsnkkqCVBodTat0RERBR8GLQhIiKigBo5cqQ+LLZkkkhh30CRbJ9nn31Wn//2228TBUjsQRtLoB/DrSAjUtm5C1gRERGRMzFoQ0RERAElWSGSHRLozBMJ2ly5ckXvjuTuft1lv3ibORPMrEyb1M7oISIiouDDoA0RERERERERURBiIWIiIiIiIiIioiDEoA0RERERERERURBi0IaIiIiIiIiIKAgxaENEREREREREFIQYtCEiIiIiIiIiCkIM2hARERERERERBSEGbYiIiIiIiIiIghCDNkREREREREREQYhBGyIiIiIiIiKiIMSgDRERERERERFREGLQhoiIiIiIiIgoCDFoQ0REREREREQUhBi0ISIiIiIiIiIKQgzaEBEREREREREFIQZtiIiIiIiIiIiCEIM2RERERERERERBiEEbIiIiIiIiIqIgxKANEREREREREVEQYtCGiIiIiIiIiCgIMWhDRERERERERBSEGLQhIiIiIiIiIgpCDNoQEREREREREQUhBm2IiIiIiIiIiIIQgzZEREREREREREGIQRsiIiIiIiIioiDEoA0RERERERERURBi0IaIiIiIiIiIKAgxaENEREREREREFIQYtCEiIiIiIiIiCkIM2hARERERERERBSEGbYiIiIiIiIiIghCDNkREREREREREQYhBGyIiIiIiIiKiIMSgDRERERERERFREGLQhoiIiIiIiIgoCDFoQ0REREREREQUhLwL2qgtWNypLMLDC6PGgxkQEhKiTXlxV82mKFWqVILpiSeKo+7DGc3bhCBjrx9x0rwbXcwqfPNaLtxWvRcG7LlsrkyvFP49vxoRo+uhQqMuePvtOmhUoSPaLd6PM8q8ic9icGH3BIx/vRKqdOyNfh2rosKrozH6QJT231KPOjIUb2ivf9Pa9+Ah87XP8MxYLI72/r+q44PxRhHz+MpaAQUaPIdST4/D3Cup+chvgvRyzPO97Zn6DWver4bK5nskX8Z3MeFirHmlr2IR/Ws/vF6vjH6+rV0yE/JO3Yt/zWsDjq/rTaGOT8bHL5ZFhQol0aRSaOLPzpsmBid/aIOXK5fSP/OrZCqNmhFnzeuC0L9/4bf/exV12w3D9FGNULXjFMw6ftW8ksgH0cvxVbsKelv2xZp3IUPt6Vjj72naL5dwYkUz1AutgDKjf8HRNN70CYw0dj7yWixi9vRBh1KhuOeNuVgT492LHTyfExT0Atp2u8ntTnJP+SRWXdvWSlXRNkOed9X4f/4z17uI/Uf9vfNj1f+JjArh09Vq281iD/dRLbJI/KCwKjrrkPJwD+nAdXVp/xDV+75qqs6KoyrGXKuu71Cret2v7vvgJ3Uk1lznrdiT6uD8uuq++95X4yKte4xV1yM/U+/e96Rq+PPf2lJq+1vtGFpW1a2bXXuNq6iaEae9/J+X1eFvnlftX8isbVdalV8UeRMe682RXo55vreTEqMuRv6hIne/r94qGpL0+dMLsdHH1NHDG9T6EYVVFuRReabsUTfM6wKNr+tNcuNvdeLgTrVnzhOquPYZe3vPH9QJ86qbK1bduHhIHTv6nZrXWc7j5VWNFWfM64KM9nm5snd+Fdphntp6/Zo6sbCqKoIsKvNHG9Q58yZEXou9qM4e+k0d+amVek7OeS7t19R3UP3QI5v2ntP+d+nB6qsrTmkFpUQaOh/55LI68tXD2ue39lpneVX1OXzNXJ+MoPmcoGAX6LbbzWx3kns+do8Kwe1hWaGdZJIWchdyl+2H9yd3QI1tUYj6Vz6DDCEF38THs3vitZET8MVzhdJt/yx1fhY+a/0Rvuw5Gt+EF0Amcz0yPoKnurXHc0PfxEvfHYf3P/Jcx4X1XdHu+TtQa1kPdM5n3WMIMuZrj64T/8OKxiMw+nRqx0XvRFjovXik8TMID9mIjUu34WD8y+/ZjY1YElEDNfLdpi3ciayhd2qP3BnSyzEffM/zX0RFNEGtlcHwq1wmZMtXAvmKP4kyBeQYT5mQ0PwoUKgiSpe9H1nNdaklsK9rML0mQeb23MhTuCyKli2DguaqW0P7nM/2IPIXqIoyZXKY64LRdZxf3Rtdhz2EZ1o9jfIZMyJXhVfR4YW30KthCWQ3b+WXixNQq9ZK/oKd3oRkQ84HS6Pgw5VQPLVPrG49iCe7j8fYVh/iwxmvolnYLWwFBc17IK2cj3yVGQUbTsD/hnRC9zl98HbBO8z1yQiazwkKdoFuk9/Mdie5l4rfq0KQsXgHvFk4EpH2tL+Q+1C4wXBM6xGOyllT/uUlbTqP/XOHYeimp1CrZrFEjcuQvA3QoNV+bJi6AmtveBPx0NxYg/nDlmBNpafxfGnXt1Mo8lRugDbnv8Fni/cjxlybWpT22l987G08Xz8jrn71Lb4+fsO8xhOF63+sxu5Xn8J9ToxopJdjPuie5zVcOHXGh8AnuRXQ15WvCQXKRRz77Q/sRW7kzyU/Umhtjvyv4p3/+xjvP3y3tuQ/9c8xnCjqxA8jCm4huD1fS3SZ+T7er3hv/I95twDfAzdB1qqo22ciRtUvgtxO+ZWSgge/bztO6p6RQwqjXMc/8cfJ6+YK0l3/CSu+PIDL2R9CqbxuPpZD8qBgsexQP/yAeYeizZVJUbj+2yx8vvQ6MpR5AMUzujn7Zy+Oko+fxNHvNmGTt4GglLizOMJfLI4sFyIwe+2xZL6kncT2iXlQ7/G7zWWiAFCROLgtEuomHO7kJb4mFDBROHcyypwPpOu4sG87Im9llgPRLcX3ABFRsAlw0OYqLkZG4Zq5JN1csufNhBPnWBQwgQt7sWdvLJApDNkyuXsJwpD93hzIcvlX/LLvH+mQmAztA/boQezR5jJkC0NWd5+zGe/FPfkzQv2k3ef5/8yVqelOFKjRGM9nP4QDc9cknTF05Wd8U7gm6t5xxVxBlFIKN47Mxv9NCTOX6dbja0JpwI1tWPO/TYhhkgGlV3wPEBEFncCekmPX45uG/4eNcWkVtyG0XBe8+VCouZxSCv9G/YlD2/fjz5i0m2Afe+EY/rxgLrh1J+6+Nzey4jD2/noUSd5Udw0XT/+d9O1C7sE9Be8ELuzCxgM3ZwSYkHzN8MJLd0H98B2+3uspIHMd59eux50NHkBGcw1RysiobAvwZf9RmHo1UOceShm+JpQG/Psndkx9A32mp0YGD1EawPcAEVFQCmzQ5t9LuJQgqSYEGe+tgur33qnNy3BhA/D2i2WTGS7sBi4fmIxJ7eqh0SfT8fmQZ1Gz22RM/H0HVr7XCp2/O4Cjm15G6XqTsfz6Rfz+RT08V6oUnmtQAOUzPI/Oe60HkMzwZDIE76Cn9W1lGMF7ak7Dmv8u4uDC19GlT2O0Kfo8XlweiQRPR53H8Q0f44O6TfDCiKn48rNWaFynN95ZeRgXfUj3DwnNhpzJVnMWl3HtUowtc8mT25Apc+bkC0TrLiEq2rbX1Z/YMqIkQkNboPUvZ7WvVgEUUhSPPfc4il/+EQu+2+M+qKT24+e5T6B5cW9/fVe4cXoRZvdrgkYDJ2DG+E7oVvNFvDB+JTZecp9BpGK24efJbdCo6yd4d+xYzBj3Ol54YTy+j+iNGu+6Dpfo+/17lswxH70Cc7pU0YeBluM35zs/4KSKwpGI/mg/4DP9f79TtxLqjFmH3XGZSldwdEH9BEOr68OjN5loGxr9OLaOLokKWc3rH6qJ4mO24LxcdWMfts98DY0afYS3J47AmC5P46k+0zDR3ZDwXr9HlJfv7cv4e8tAvNeoA177ZBpmjGyMmvX64u1lB9wMcR+/72T41QYFCuCpldrxGbMVP4x9A52HT8SMTxqhUYVu6PLT8fj3qdqCxZ0eQaXw9/DdQamldALbh3TU78OYemLoEdfumv8iJnIu5rz3LOr0GI1Rk7pjgLzHJ67Bdn+Dw7Kf53RGpzrGc508qA1aDV2GbVHJ1XdKhcfijjqHI2v6491GPdB57FSMG9cHw1/ojG4rvsc3NT7CRH04ci/O2d7cj1+vibZZzK/4ZdYr2jm2l3bfEzGpv+yT6Zhx+Er8seruPaQdDX9veB+dWg3R99+g5tXw1MAlWK2/fxX+Pfc9/te/Fdp9MtX9MZRAIM8Hdtr9nlqCBSOboU7zQfp7cUirzuiycI92hk5GgD6H4sn7cgQ+61gX9YZMxtSxndGq1acY/Ud0/H72RJ3CoRX90E9/T0/XH0vduh/g3Qh372nt5j6diz3Qjyc5JutjRIR0H96JuW++5P5Y8vrxGefVUmWfxcDFxgAA//3wCZ6uYAz/XKrU03h64WF9fQJe37+f5zNXPrz2AdnXNvJYV09orD3GtmjYpQt6vF0XNV8dhwm7z7lvo1zagB8mvWJ+1ozX3791B8zE9P2unzWn8PusxvqQznKeqZazLyZc1M6Dh7/AxPYD8M6EIRj3djVU6DI1RUO5e3U+CQj/zhnq+DQMb2sbbvw+2Q/WEZdMezbZocplf87CjJ7N8KJ23AwdOgDThr6EFz5dhtWzGuGFFWe02/j3Hgj8fvX/fBSIx2J/HRo9lRcPaPv5v0s/Y0n/lzGoX1UUrTMME47LEa8dt/5+/7Ad84m3tUvB54R8l9o/AzP6GsfhJL0t0RatpqxOwWeXN+2T49gyqlLCNmpIXtzVfjG26y+Ctm9+aY6qVvtUrqvZHu1+uehmOPMfcFb7vF4g/6/D29o5pw5eerg1Xpy1DQeSLPPgy3MPxPnHy3abX23+xJI/F3vRdtP5d67ynZvvLdr3koe6LTGPCaF9bxlZOO76DOUb46mFRxKdb5KS1j+jvGKOIuW1//a8ocLllXYdsjb2rDryf0+o0BrTPA6RmPxwYTHq9A8NVcXMb6shx6whq6+rixtfUrVCrOGjY9X1Y9NV166r1G/X/1XRZ/aqyD+nq9H17tD28fPqjT1xg2cn//9u/K1OW0Pwhn+m5n71unpn1wX1nzVMmn3Ixeu/qvXDHlY53liotkTHP8HYqLnq0ydzqtKTdqrT3o7OeG2h+qxyhiSG/b2o9k0qLMeMl0NOxg/F7nH4v/9WqelP367dp8t+uDxTfVxKe/4BGyb1otr7We3418G6fw/DV8YeG67azrWG97aGu/Q0pGOsuhE5UXX4ZKM6csN2X7HH1A7tNc5Q42PbUOem6xvUnAoVVLtfo8z/YTK3yZhgf/lx/8lI7hiMjT4SN7zo7T3nq7UTe6nRf12Of6znxqme+e5Q93zws8sQ8OfU3knFkhh2L1od/7+KKvNL09Sis9eNVdd3qGUdJqr/nTOXdddV1NZXVIMMtRMOPW/x8j2S/Hs7Sh3/9i3VY8Pf6qq5Rsj7Z3R4ZnVP3wjt/ZzgCWpuqJhzm8371I6J+avUjK5L1da49981dW5FuCoaUs/NcPbWeyi54UGj1ImfXlHP53hLfWjf7/KajyyiQlt+rr6P+tdc6Q0ZYn+G+uTZ/Kr8jN8SnhO0/R8xqJpqWs7Te9/Xx3JDXYx4WuXxeAx4clEdmVNdFRuzU51PsNOMY6Fexj5xjy3p19X7+zF4+5oY+3Bk/YKqyv8OqH/i7tu43zqhr6jO2jForXZ9D/089k01zL7/rq9Q0+rfqTK1nqP2HJ2mOo60v7+TOoYCfz4wWK9zR9Vj9z+2/ymfbRPUiFcLq/KezuWB/BwS1v29Okv9kODY0t6v32v7uf5dnl8vGW67R3FVZqLL/4w9qQ7OrKHu77Ui4Xvap3OxN6zPi4Sf+3F8fXwmq42T7FC6Pt9/Ss5nGl9e+4Dua3k/fqbefShX4nOaOqw2D3xKvZDg8Rq3712oZYL3qYiN+kF9/XLpxJ81sRfV+b/Mdlye3mrk6oGq68JD8e/92L1qVY8cKqTmMDXznC/nY+Hb+UT3z3jVK4+37S+7FJwztM/a4/t+U4e3dFcdH9I+b10+I5I8Fyc5VLn2/P8aoJoVm6C+v5LwyejHzhO5Er2/vXsP+LFfk+P3+SiQj0WGGN9rDqmt7eexi9Q3rWdon73R5hDdVlv5vxR8/7iR5LaGFHxOyP5a/pwq1HC6S5vhurq0v79qd//7fnx2+do+iVbnNrY2jscqY9Tia/a9f1CtevsulemlsWqa/b5chjPP0Libeva9ZbZzpPbvopaoaS9lU5k8ts38eO4pOv/4tl/8b/MLOc69Oxcn3yb391zlb7tTnND2yf3a49E+N/93xM0Q5MfVlkH5VGjXhJ9xyfN+vxiM2wfPZ5T3/A/aZCmv8td/VpUsWVKVL19CNX48k3bi8eZDLokXXDtYexXJkDh48N8aNfPZO1SI9ib80U0jK+nGWzIHmBXMqNZIVfhsmzov62Ij1a+fd1Y91kSaL9p5dfCrCurBDJ3UgGP2L7ziP3VlXSNVKqSRarntorkuOdaB66Gxab743gdtNFfmqdE1Mnq+vbZve8sX70T74ZI6/ctA1aHDLLXolP3rtL9cgjbyJhycV/u/VtDN7rI6PPUdNeGsdYAnF7Q5pjYMyK1QuKlq9OPJhG9489jJ1O07tT/unxjBrBwVprrfJ6eGqMfarrR94Pl6/95K5hg0G4gZqjVXzVacSriPYnepJe0zu/+Sf3qkektr3IU0n622JnpM2r79/DnVKu6YNI7T0trJsuAHqxM+B+t4K9JLjTrt5hTs1XtEJPE8L89UA0tmUHfWG6amnbK/h4wvKsVRUVVZdsLl+BDWfd6vclUfYjtWTNpr2Cm7u4aLNwEC7cS9v49qnamA+w8QCTg+eIe675OtxnP2RvQK9aU0KDosUb+5O06s92Gi19Ofx5LMceXJtYXq0xzPeTj37FILH+vh8tg8/B+f78fLoM31NWp2y6wqQ9v56tdE+9B4j4bUGqMW2YPAce+hpqr2Atf997faOTK/9n/LqntemJxwO+HxGEqN88F/KuaPHqplppKqwsKjiV/nuPeDu8cT6M+hv9XeaY+qTJneUkMiXe9PE/c55Ob1iv1DrX03vwrt6OE4j92mlryWU93T7wdz//h6LvZGEp/7Pj++eF59YfX7/v09n/ny2gd2X8de/FqNqH6HCu32vdqX4Llo/+fXdipc+/Jh/wyKPT1R9SuW08PxrV0fOUh1DH1G1XV9T1mvZ/YqqtDHP2pNbbur6tTCyip7cucOd1JwPvE9aBOAc4b1ees2sJ/MOd/t45bz3/0ePiOuqtPza6unXPapV+8Bf/ZrklJwPgr4Y7H2QR6V88lOqsNW45waG/W9+rLdBPVVgi+zKfj+4XHblHxOGD9+Vwrt5n4/qmh1YmFVFVppoJrqrr3nlr9tJeO8VQSVVZWFh+PairEXv1EfPz3VQ9Al/vjz9J1PziGdHtTeS+3nq60Jrk/Jc/fn/OPnfvGzze/ruTjp48/fc1Vyx3RStP31R2fVMCREhfZc5bKPxd9q+/v1VJ/D18xl76T5zygf+N89Kms43v16EXbv3o2tW3fjfxE/Yd3ossh03ZdkJjuF64d/wboD9yLbfdmRzVyry5Af+YpmgvphPSJOJNe9wE/rbqD4E0WN4bdD8qFM23EYWT2fMeTi+W8w9eNtONy+Pl7K51p5JQPCSj+D+vcsxsJlu40uKMm6D6WatkGLTN9i1bYTidNNT3yLn367A3nMZa+EPYPGnSrgoZXrseKYa1eDGJxYuxKHpKZNIllwz2P9MHnyy2iod2MLtDx4uEE9hIdsxMal23BQ+3iKc2MjlqwPR72c3g5FlwnZcmZFlkOHEXnR5Ti4uziKFcyAqz/uxC9xQ8wr/BtzCXm2rcCMnW4KOueujNYJBob19f4DK/ZscdSplDvhULUhmZE5m7Z/Th7EbtdR2HI3QIOGWgt/6beYsc+lZtCN9Vg6owFeKWMN/x6C27PlQt6Qffj7xKWEqYIheVCgiHbkH9iMNfuTqHeU1HskORmzI8d9t+HagVM4kyBH8w7cXfAhFMQe7Np2OIm6TGdxpVoVNHY9VjJlQzbtAfy76zD2+XrqUfvx0+QpmBnaBC89mTdxX9HMVVClcSac+jwCy6K9ec1jcHLFRxj4zaMIb/UESrsrCK4dR0ULuDneA/5YknDjEi5nXYGl2vnqb9e7CnkAZZpdT3gMehKo+0ngOs6vHowPZxVCuUaPu9mH2rmz6sO4b9UCzNh+0VwXL/ZsGTz/dH6X/XcnQrPIue0iwurVQH3XEVE8HkOpcD5QO7Fy1FTMeqgl3gx3fZzCej+4EeDPIXV8KkYP3onb+r6ADonuT2OdFxKJRcz2ofh46F0oWfdRlHL3IoeUwmMNiiJm8Fh8tENqY/h6Lk4Jfx6fLwJx/z6ez3x87QO3r89j/+yP8OHaKnjm+Uoo6rJZSKY8KJg9KwqUKYDc+pqT2PXVMAw+0RJNK+dxc3xr2+RtgPotN2D54Ln41t257EIGFK/2MAqZi4bbEJo5THtHnsC+I2fdpPl7krLzie9ubRvCvWuIvnQFp779AcsSdXm4E7nKVELBWF8fT+D3q//no9R8jU/i3L8lUd9sR4VkrYPWU19Hy3xetXr8l5LPiehlmP3xd9jc+hk0yetmPyIUeSo3QOvN4/DerF1e1MzU+N0+yY7CzSfik857saHXMHx4IFq7r0NY12ktMn7RCnWSGYb6tqL3ux0NNyRfW7zW7j5cnfoJeq45E3+OC8Rz9+X8k8J2m29tfl/Pxcm5FeeqEGQs/jKaN7sDMYsisOBvlzP5Ne1zYfvreLXgHeYKb6T1zyjfuHu8fpAvhBVRtV0PvHPM/6CNNDRuWekzT8Nva7v+0q/fYfH+u7XjOD/yJT5/AFmLoVjp23Bl3R786tXT1w7c+/vhk1864NFu4zA80tYH7sZOfD/sHtTpUEJfzPDAPdoXbX02GdlQ8IW5WDh+J6YMX4Hf4vpDavs18isM/acTWpWVN0JO5L0nq3Z43SwhuKP483i+fkZc/epbfH3cOjkoXP9jNXa/WtHlwE9KLpTqsgN/HvoR6xoVcH/wntOOobjnngGhJZ5D82qL8dULL6JC73H4YNFarPjjJM78q90mQ3V0/vxpW3DM1/sPsIIFUDiLD2/JkCKo/PwzqHz5e8xe/IftA0jbt3uWYUnncFSP+8DTXocyE7Ho1F84Or6B+4CCa70jVx7fI164owE6Lf0Lh7YOQx93DbJk6zdlxd2F7tFeoQC69DPWfqvttRKFUTK7u3dEbuQvop3mf9+BjUc9P7I4WkNr7TdbcSB7WVQu4l2FqTiBfixJCauCp9vmxvl3WqBM2w/wxvRl+HrrARzQ6+1kReGeY/D6XV4ch4G6nwSO4/c127BXOyuUKHiXdtS6uh1ZChRDGezDlj2nEn8wJvkeyon78+TQ7sFbgT8fqKNzMXtOFDJULYPHQr06sZsC/Tl0BcdW/x9m/VkSxR8uaARivXYCO7/9HqtUSTxeLKeb10jcidzFy6GyWmUGEnw9F6eEP4/PF4G4f1/OZ76+9iGB29dqH3b8cBiX3Z7TtHZMkY8w9WgUjvStioLyuK6swtLPj0BVfhiVcnt4p4Xcj2Ll74Py+CU6Dwrfl9mcT6kUnk98dovbEG7dg+K1qqPG0q54sW4nNPzkG0yI0D5HTho/3mQo8gE+r+Pd17x4gd6vKTkfpe5rnKHMA24DB6nJ/8+JWETvmIVpa3Lh3vIP4UFPm+auiMdqnvX+R6CUtE9ur4AGH32Cj++bhmE9JuD/JryLad0Go1f+lPxIfB9KPvkYSuNXbN50yGz7Buq5+3D+SWm7zZc2v6/n4mTdonNVyKN4qk1lFDkwH5NWHtVeNYv2+m1Zgg1dK+IhXw75NP8Z5RsvjxYvheZF3rt82dt2GRBWohbqFTmNqFMXEgZv1N/4WzvgQ56uinC30dMA8Dj8djRO7tunfSAA/x1Yh+FDh+KDDz5IOH30M45W64cPX6+Mkl4//YzI+vBITN1UDHd/0EQvujx9bGe0HvAnQge1QKls8liyIDRfTuTy9j5D8qF0p2XYXO9HjH/2bbwxdiomffwaXt9QDR+3LWIWKs6FfDkzu/lgS0UZtdftxeLIciECs9ceM9+kJ7F9Yh7Ue/wufclrIdmQ+8EwxEYuxXfTuuDD1k/hqS4f4ePJs7Drn8TfVEJytMRb04djVMWt2D+8Kz5sXAN1SuXFPcUbo+a4tYmLu/p4/7eW9p559FW82uAKLnyxBLPPWb+iHcfmwbFoWMv1F5rbEXpPIeS6sRvbFn+A0f3roWa9bmg15HOs3OnFL1Ae3yPeCQnNhwezXsLxXybhq6Evo03NZmjYdxRmfbfDu197Aiz2xA78sl/7QLpxCEu+/jLx+/qDUfjmZEsMGNkGz7sNNLmIPoiDf1z3az8F/LEkJaQwKvf4Bv8bEoZCCz7ExHYN0LJiURS962EU6OZD0cZA3Y9d7J84uFmOxUs4tHqxm/3wAT6akxuVB/TDe1XzpH7wOaDng1jERO7Fb5e1d262MGT16SQc6M+hCzh+8CQu405kDb3Tt88DdQxH/vD255XLiP7jCP7SDgSfz8X+8vPxeS217z8R31/7gO3rqB3YsU77suHlOU2d/QN/HPH2yR7D3iPnbY32VHArzidB14a4A9mrjsXURS+h+eUvsOSdl9G59qOokjcv7qrdG120Lzw+FzAP+H5NwfkolV9j38/VKZWSz4kYnP3rTxw2l5J1+CB2n3HJsnAjpe0TOR+9+WlLPLu6J17a2hzvPJ4jhd9BMiBTTu37pnbExP9IkTrPPSk3td3m47nYK7fkXHUn7qncDE2K/okDc9dgrRUUUgewbtgDeLHaPb4dG2n9M8pXZjcpr8XVtHHb3zZG/XPsYoJCo4kl1R/O6P+YKVdfNT6ur/d/KmZXh2QKiaWgT2mS/YfFZbP4mD/99/xl1X4orcovsor0ppD1PLO/qYacSs1n4VrTxhB7bIB6Jbutj+rlOarr8N9VtHm9wXodPfcJjI1apRb3K67uerq/6rvhWHwRqOReRynUt3eZWjGnn/rsvdqqXWWpwVQgUc0Bv+8/Sckcg0n2n0/q2BbR6vicCiq7vSbM2fGqQY91iYtKxx5Xe+Y1Vs/dVVfV+XKT+i2u0FcytUa8fu5JPc/rKmr3EPVB3dyqYO/Z6n/H4guvJd1/3t995+E5acdBZGS0/r9jrWLKPtct8MB6LEntJw/70r/Hksy+SdYNFXNms9q+dKSaNuQl1btVHlVYex1Carr2907u/3h7P8m/Jip2g5r9/J1JHO8eJPkeSub4TmLbwJ4PrP2YdK0I9++HQH8OJX+u9bjfrOeezGsU11Zw3a9enouT5+HcmMLH537/31DRkX+ri/L4UnT//pzPUvDap3RfXzYHEvDyOPf4midgHVeuzycF7ThPUuV8krQUnzOSvJ0/x0+82Oi/1IEtn6sF499QQ7o+omo+oL22Weomqt2Q7HvA3/3qUQrORwF/LAb3+8CdlBy37rZNyeeEp/eWCy/PYZaAtJW0dmm/Stm0tkHC+jbueLPvE59rUvrcfX8d/d4vSb5PPTwOH8/FhqSPP//OVckd094w6+lkaape+/WSser0Z6rpJzu1TzsfpfXPKB8FKFxnyYS78meD/0lvCjcuFkXL4WHY26wr2k2cgRkjXkCjCeXw3K7RGPvw3Tc3Q0QXilwPPIj7pevIKZcMoNSiDmPftlNAkXp4ufK9gXnOZ7Zgy+b/kKlVbTS9x/sOAoESkq8ZXnjpLqgfvsPXe6Nwfu163NngAW3v+iAmAl+93hgN5zfEgK8HYFDl/Eg6sSsWMVs/Qv9fr+gR5ZzF6iH8xYHo9tFyTP1pN7aPz4lsg6djtFUPxuf7DwahyPtMW3QouhUbv1qL7eoGjq9Yi7ytH0EO8xaGM9g341k81+wUzn09FctaP47SoQF++3sUi6t73kXXZ/thWJGZWDmkOZ7Pf5OzvSxRs9CmzTpo7y6E5CqJkoW0R3HiNCKvaufhlMpWDuWqaWe/q9GIuupbbD7gjyUp0UvQa9RvuILbkSlXRZSr3wOv9fkaQ2cewpatndHq148xcNF+xJg39yhQ92N7TRBSAIVKSkWzM4g8m8pDJyYn4OeD25G1aEXUyKK9I6KiccmnlznQn0P34aFH7kcWXMOlmGvaJ68PMhRDiWrSgUE7zmM8dTZQ+Df6Ei5r/yFztRJ4OIPy7VycEn49PnO1R0ewrs0gzIrS3tepcv9J8fW19/FzLylhD+GhkncAl07j2D/JdyzJUKASnpAiP5evIEq6Yrl1DTGXpatAMVQscZ/2rkhFN/t8EpRtiJPY1utzrLiuEBJ6Px6q0BaN3xiPPmO2I2LrXExtuA7LP/su/hdvj2zvgYDv1xScj4LpMyMgUvI5kQX5S5dBaVzFtSvaZK5N5F/t3BStvY6ly6Gy21qXCaW4ffLvVixodwHFFm3Gp/b6Nn7T2pTnTuBEgvNr6jz3pNzUdpuP5+Jk3dJzVT6Ub9oQ4VcisOC7PbigvVpHlq3DfXWLwOdOR2n9M8pHN+tbm3did2D1jBp4uU0/jFk9AdNefxWv9pyH5ZM64fUi2fz8kvcfYq5Ea29jf2VAWLmWaFfjGqK37cEuTx9sai9+HPgzDnn9vr2KqD/PIsrd7S/8jJ+/u4F7Xn4WTT31uXPn3zP480yMmw+86zi/azV+vFwXtZ+v4Ft/wUAJKYrHnnscxS//iAXLIrBk7hNoXjzMvNIb/+LSL59hyNe3I0fH5uhwbzL75eIE1KoVgTPnN2HOtuOJ+zHf/iDKte2Ddnd/jz+OytdKf+5/pdYcCgI5GqJhi1xGQeJft2LRpFpoXsJl30YtxtfDd+BAlRbo9YybgmkJHMLKWm9hwkXfAg+eHcHmr77Al3/WRdO21RIVCksoFlERTVBr5VlzORVlroUGrxRCyO7fsfGopwbEVfy9cjS+Tlg92b2QYij3tNbwvLALGw8kUdDZnUA/lqTciETMhK3YlejlDUX28n3RtUdOHD94Cv+Yaz0K1P0kkBePPFsXtUL+xK4/TngM+KjTszFw9WnfGvc+SZ3zQUjemniqxh2IXf8bNvtU4C/Qn0NhyFP+CTwdsht7fz3qY/fEe1CsSjkUx15s/uNv7R3rznVcOHoQe/AwHqtUGNm1z+EbXp+LU8qfx+eL1L5/V76/9gHb1yGPoPpLFVDk8mas3Gkr+JlADI7Pn4IVUh8i7DFUrqM92193YuNJD10P1Ekc3acdccWroXYJq1B+armZ55MgaENcjUJUosZuNC6cmowVR10HqAjB7Tka46Wu9VB+2QHs8aa2SZxA79eUnI+C5TPDHf++f6Toc6JELdQv+g8u/LIXez1temEv9vyuEFr3MTzhWpjfnRS1T85g74xJ2DboTbS6t5he32bgvdMx+qMFWO13kdtT+OOnzfg9Sy00rl/K/IEylZ57Um5mu83Xc3GSbvW5yqp1es0o7XByF5Z80xiv+PSd0JTmP6N8E1xBG81t/xzEHxdcK9wnxyz25I7ajc3Ldvv4IeAi7Fm0/rghqn+7CJO2X3BzUMTi6m/T8EnBe70sGnwNfy+riwqFH0XxCb8i4e9d57Fv7lh8UmQgRnat7FJQSuHG6UX4smN/fLTldMIPAvU7lr9VBIUfbIX20hnW7sYaLPh0Pf4Z8C7GVHWpVI7L+HvzIHTs+DUWn/YYmw6AO5Cjaku8XEo7oU4ejakNq+BRn86X2ps7MhKRyIQ7M2uTudaiTvyMddsTnxRDQq7j6MJ1+NldQ/f2O3FHhnCUe1DelP7df3CwotbfYlbfMVjQxV6A2KAuHMLBE9o+yJIZ2W532fFqP35bf8JcSAXqFE4clGMyDNlCXT8cYnBq12ZsMZcCR2sEFiumfbFK+Mud+uc0bnuxkHbGEHlQ9pX38fHjC7Fg0e845eYQQcwqzB6dGw/cncyHmi4HirZ4HwOqb8DKJdtwxFxrp07+gq1H3J3fAv1YkhZ6NAJf73f3S3tG3J4xE/KXym/uo6T5dj/evCYZEPro+/jo/Vgc+78IfBvlbl/9jd9nfouYAllTMVsrlc4HGWvihX7NUGv3UsxY766BEYPTe3fhL3MpgYB+DoUgY4me6DeoIKJnfYc5cfWwbNRB7Nt6xlyw087lTw3C8M7nE/ZJt7uxFkunbcfVru/isxrmZ47X5+KU8vPxmTLkLYfHi4Yk/JVb/Y2Ttz2CR7JKkyll9+8Xn1577dqA7etQ5Kn9Pvq/fATbP1+BNW6f63osmX0P8knB1JCiePKtnuia5WvMXnHQzRdorQ2zdwqmTyuDKkPa4VWvR4701808n9yMNoRVVNedGJzcuBQ/uGnsZsh1CAt+POTm9QjRztN34K8nS5jHtiH590Cg92tKzke3+jMjFb5/pORzIkdrdBv6JIr8n5tRRXXad4xFX2Bynnfwfreq8G4gEH/bJ9dx4efe6BLaC/1LGlU1pb5Nt9Ev45mve+Olzza7vy/Tf/sPY6+bc446/gWmf3YW97zZFe+Xs401nCrPPSk3s93m47k4SUHwfceqdbp3Bb74ZC7Wvlndx++ElrT+GeUbH4M2Vsqvxo8uAMkKyY/CDb/AB+98grcnTrYVcxqLT5f8jBV7PWSmICseeOp5tM60CT//Zv/l6xKOL5uNo3nv195al/DP/j+xx9NjTvL53IHs1Wbg6++Anxp9gmEHomwn0X8Rc3gcOn7yDIa1KKIdPt47f2dRPJgzLP5F+PcI9s1riRofvIgxs7qiVQ7Xg+U4tk7sgLZTBmHAqzMwL1E0NQPuLFsY+eOKMWmv14VVWNSvI94rtwA/uKsqfmUhprz6HqZM6YSXp2z3cRQNV9r/O78Uy5eux9KlO3HUNfUs89Oo83IeINNTePmJ+xJ/eKoruKJ/4LpLkc2MAuGv4+0nziYeulJG3BqeDy+OroyHTh3B7pMxuHH8OO5+o7g+dLzaNhv9v/rNZVjiG4javhBftOmA1wvLKcuf+y+Ge82b3FrxUeuoPx9C00RDHmu3KNgaHbvkQ8jK712GgZX3yDycadoRHXL+jr8O/40bN/7Cwbtr4Em9GLaNv+/5kHJ4qlMd1Az5xWV4aO14kZHNonpifLts5gd0DI7vyY5nSvpYoDoRrXH76Mt4rfp+7P5uO3br/1P7wF64E0Wq5Y9LdwzJ0Ra95g3FK5+9g7YL9+OM7RhRMb9gSaftyDilGap4WUMuJFsLvPn1CLz11QfoFHHMFliV98ZCTBv9MzLcp72vLx3G9oP/aEd6PP8fSzLpwO6o9Zj32SIsdxkCVkWtxLdftUS/ug96lxLq0/1495roBY77fYuICp/hzcHfYYP9vtU5HFn0PkaWHob3HnLzq0wyKa/ep96n1vkgI7JVmoQvv8+JPa3HY8Jxe+g9Bhe2foQpP1xDPm3pv/37sVkficsS6M+hQqj4ziKsbDQLH3/yA363N3b+/RPbJ4zERiX7+Bz+2ncUp+z7VUYEGfI1vsoxFG9O/AUH7Nve2Ist4/vho7wzsHBQXZSxBZC9Oxd7Ke7zwk03JT8fny7bM3i2bUGoH37EghOy/6URNxfTnquIctYpMSX37xdfXnvjmoDt69Bn8NKwERgS+w6af7Ac2+xFjLXjZOunK4HRdc0RCbUv3/l7YNCK7ggfNATdNp1KcA68cXo2JnWPwJkvp2Jhw0LaV4abINXOJ65uThsiQ+EX8ErLyzi94Q/siXtoxmfp/w7cgxpaEwtHD+CXE9Fxx4gKuYFTM6fjvV9dh4A/il1LDuHx/uGoZP+49+Y9kJL96lYKzkcBfyzxku+iFIDvH4mk5HMiK/I2+hoLvjiBpe9qx0SCH2Mv4+9NfdFncDh6z+2L3vm9fwf63D7Rvs/sXdQKHcJPIU/pvLbPpIzI+uhbaN/uIk4N+hCvrLS3kxIKuboen37xa4JzmLr0LWZo3xEXvPQN5vSujiIJTq+p89yTEug2ZJJ8OhcnJRDnKj/anQlkRsFnWqBl9i3YsiwTnkpJKZC0/hnlC7O2TdJiN6tFHR9WzzzzoKouhcvkmclUuIYq/PTTqmTJd9SQw9fMG3vyn7qysYN6zn4fWcqr/PVfUa9t+ifuNtG/dlYv2v9HgimLujO8j+qx4aSbIlZS6HS0GvlaNVXzw0lqwoTu6r0XB6uhu8+pf1bUUpnLP6s9zpLa1FQ1Wh6pYs3n9EKNbCqLef8hj9ZTJcrXUk8t+CtBUbZ419Wl/ZPUlO5VVfk2PVTLls1U+9ptVav/26WO3PCmqp9N7El1cOlbqs8LD5uPS5ue7axazbIXiHV1TZ3X9mGLu+5SRUZuVEdc/2XUOrVifCP1UiXz/kpWUo++Olx9uN5WYMpV7CH1y6ePqOKhzVWrTWf8Lnoce3iI6prg+NBeq8qN1MOjt9gK4saqa7s6qAe7rlSHzTVCtn1de7z218I4NrTX7Kmx6n+XrUcVq66fXKwWfNJQNSzfXrUcPV1NGthau1yhNmgtK3X9V7Xus7rq2ZKNVe3Pfla/X9eOuZ86q6bf/6XO7Z+oRmqv16sjp6lJ2rHxccMuqsPC31xeN1/vP7m9lcwxf/l/anStEqrx41IcUp53HpWtRhNV8vVFalvsObX5k8dVk/DcelHX+OOzp4f3WrQ6vqCGun/kVnXeXJPI9b1aO/4N1aPeY/p7ZMqYN7RjeLyasP+i9syj1PG1b6o3a5dRj3aZqr6K1N5hXr9HvHlvX1KnNw9XY+W988og1X3CcDW45Vuq+9L96u/YWHUjcqaa0LmC9h7ooTqvjdTe37Ee7rOp/r9jk9x35r/U7kO/3zcqqkfb9lSdG7ZX7VYec18Az3zvNCzfRj3XubN6+7U6qs6ABer7s9fNG/gmNnqLWj2+sarR6APtuY5To/u0VO2+3KJOXl2ppj6ewzi2tWO+dMsv1PdXXI6jZB+Lp/1t7JtkS7Fd+UZ91HSZ+uvsz2rF8BdVw4/Hq2Ej+6txA5qp5wcuUcuT/T/m6+r1/dj58JqY50g5Xmt07a06d35O1W40SA3ZcSa+2H2Sx8E1dWR+PfVs/fyqvBQLlOv1z6xWXrz/5M4DfT6wu6Fi/pqhJnd+Sj0V93k1UH24+ZS6uucNVS1bDe19Vl47Rp5SVaf86vKeDuDnkIg9q45E9FBda8hzm6FmjHxNvfjBbLXo1AW1d1IxY5/I50ml11X3XRfNjUw3Dqs9376l3q5SX9Xu/rZ6u3ttVaXKO+qtb/9QxxI8Fl/PxUmJ9HBuLO/yeaPx+vG5MF/bRx9tq70HW6mGg35Qv7l7fX15/ik+nwlvXvtA7ut4sdG71KaZLdTLpevr78e3utVTdXrJceJu6AntfX7uR7VcO49VqdJBNWvZUvXR2mZV3p6ixv9+1mWwCk+vp3zWxaTsXGeX4vOJeZskBeCc4UXB4tioH9XSYXVV5ZcGxn++/N9uFfXPeNUjc3mzXa61//pEqN+19/fPb72qxh07rT3/N7Vz7ofaNpPU56NeUQ07f6JG7XB9PUzevge82a++SMn5KACPRdqjnasVU3XKSLFa2zGQ5PccH79/eDrma42ztXdFSj4notWF3RPU5G5PqCodeqmOHRurDlWeVc+Nj1Crz/nXrtEl1z7R2o2LuxSNf7/Kd4Gao23PK1JtGfFg3PN29x6LL0QcoU5oz39syzfUG2OmqOkjGmltqg9V39WHPX+n0fny3AN0/vGmDZnk+cX7Nn/y5+Jk2m46P75PBepcbIndq1a9nVNl/mhD4oFT/JDmP6O8ECJ/tH8SBC7hxI+vo86oSug16VW8nD/MFnVT+DfqT0QeWY/N/xuMfoMeQfVdUzGtTHD1NSMiIiIi8kvsD5gRXgev/dET4/cMxBt3uebNEjlb7N7OqFtiAn7s+QOODn8KkjxGTnQFRz5/Ae+V/T/MfNToPkdJC5pPA3VkMN5+5j88MfIVtEwQsBEhuD1bYdxfpjVe+GgWhrVcijmLfk9hVx4iIiIiIiIiumnUr/hJChCX8XnMqHQrqEL4ISoKUd5UE4+9DdlyZE5UPImIiIiIKG3wMJLoA3mQP9mCokREaZHUyZqPma2fSjRwCnkWNEGbkEJ98cn3Ydj88TRMO3DRTXEj6SK1AWuGdsa7983A161LgbE5IiIiIkp7YnByUS19JNFin27TRxlSJ37Gz6tLoswbtfHMHfwyQ+lX8kWgKW24jgvrnkfN2+qh0TpzNDS1Hz9+fC/aNywUXNkjQS6IatqIf3H17zVY9+1CLF1yFicefRIl7ryE+zMewC8rr+D808+hdq2n8fwj9yIbP8uIiIiIKI1Sl37AoiGDMDbTy2iZcwt2zrsd//V8Cx/UfQi52c6ldEQdGYquLb/AoYuHsPw3GRGwCHKHl0aeen2x+s0KyGHcjNIchX+Pz8Lk96fi26Jt8bzagp/UM2jR4VnUyRmIYbXSjyAL2hARERERERERkWBWEhERERERERFREGLQhoiIiIiIiIgoCDFoQ0REREREREQUhBi0ISIiIiIiIiIKQgzaEBEREREREREFIQZtiIiIiIiIiIiCEIM2RERERERERERBiEEbIiIiIiIiIqIgxKANEREREREREVEQYtCGiIiIiIiIiCgIMWhDRERERERERBSEGLQhIiIiIiIiIgpCDNoQEREREREREQUhBm2IiIiIiIiIiIIQgzZEREREREREREGIQRsiIiIiIiIioiDEoA0RERERERERURBi0IaIiIiIiIiIKAh5F7SJXo6v2lVAqVKl8GLNu5Ch9nSsiTWvo3QoFjF7+qBDqVDc88ZcrIlR5vpbRP2GNe9XQ2Xt+Gxa+x7ky/guJlz0/wBVxyfj4xfLokKFkmhSKRQZe/2Ik+Z1XolZhW9ey4XbqvfCgD2XzZXJicHJH9rg5cqlEB5eGFUylUbNiLPmdUEoxeeEKzi6oH7cPg4JCTGmrBVQoMFzKPX0OMy9YhxX6shQvGG+tg9ZtwvJi7tqNtX+fwu0++WifrugOy6JiIiIiIhSyLugTWgV1Ov7Bb6fVB5Xt0ZBIcS8gtKnGJzZ9j1m/3EVZ75ajhV/3zDX3yIhRfBox6mYN7cZCh4+ixO5U3Z8htzbBO0Gz8Ssnrmw55er5lrvqb9/wNL/nUPsTwswZ/vf8C6WkQm5Kw7AsP+NRMeiF7DxWiZzfZBK8TkhMwo2WYatW//Agp9m47PKcioqjfKzFuPo0iXY/UMXPJ/ZuM+QQn0wYfduzF+hTSPz6+sydJyCLT/Ox+7dszHt8bv0dUF3XBIREREREaWQd0GbkGzI+WBpFHy4EopnNddROqZ94W44Af8b0gnd5/TB2wXvMNffKpmQLV8J5Cv+JMoUuM1clwK350aewmVRtGwZFDRX+SKk4Jv4eHZPvDZyAr54rpC3bzLcnu1B5C9QFWXK5DDXBbFAnhNuz4osYbKX7kTW0DuTCP/cidAsd+pzGbKFIWuiGwbbcUlERERERJQy3n2fJHKVtSrq9pmIUfWLIIWJLc4Tch8KNxiOaT3CUTlrAIJI5D0el0RERERE5CAM2hARERERERERBSEGbYiIiIiIiIiIghCDNkREOoV/o/7Eoe378WeMD0Nh/XsGJw/uxM5TMdo9EBERERERBU4AgzYKN04vwux+TdBo4ATMGN8J3Wq+iBfGr8TGS/+Zt/FFDE780B4d6pXRhwWufc8L6Lz3Ci4f+AwfvNgFH7YsiYc/XoXfbyT8mqRifsUvs15B4zq90HnsREzq/yzq9JiOGYevJPxCpc7hyJr+eLdRD+12UzFuXB8Mf6Ezuq34Ht/U+AgTEw0ZfQOX98/AjL7G85s0qTsG1G2LVlNWJ35+0Sswp0sVfQjq5xoUQM53fsBJFYUjEf3RfsBn+r55p24l1BmzDrtdHn+8y/h7y0C816gDXvtkGmaMbIya9fri7WUHcCbRJqfw+6zG+nDRTzxRHNVy9sWEi/8i5vAXmNh+AN6ZMATj3q6GCl2mYtbxJEZD0vbJ0ZXv4J36j6Nmtz7o1KkJ2tTsgs7f7UXkv9Y/jf9f8tzKZ3hee13c3OeNfdg+8zU0avQR3p44AmO6PI2n+kzDxAMy0lAKyX3P6YxOdYx9M3lQG7QaugzbopIbLUjbJ5FzMec9OSZGY5T+GjbBCxPXYHuSX9IVMp5fjeUjXsILw6eax3YbtP56Gw4keP1iEf3rALz9Yln9dahdMhPyTt2r/Vd35PUdgc861kW9IZMxdWxntGr1KUb/EZ38/lGncGhFP/TTj43p+PKzVqhb9wO8G+Hu2PBBar5mqc7L41LexwcmY1K7emik7bvPhzyrHeuTMfH3HVj5XivtWD+Ao5teRul6k7H8uu1ZX1qPiHHPo06nT7T3/mt4tWYPdF/2K/as6IIXh/2I3X9OwfgHW6D9b8YQ7ypmG36e3AaNun6Cd8eOxYxxr+OFF8bj+4jeqPGuj0PIExERERFR+qV88c941SuP9v0tfLpa/Z+5TherbkROVB0+2aiO3Ig112lij6kdIwqrDDU+VuMiY8yVvohRl05+r+Z1zq59e2qqXp0/Q7Uet0NF/bdBzX7+Tm1dDfXczxfM28aq65Ez1Mj6BVWV/x1Q/8Q9jOsqausrqk7oK6rzrgvarcRFdWROdVVszE513vZwrdvWy9hHjf/H/gSj1PHlz6lCDaer76P+NdeJ6+rS/v6q3f3vJ3p+sdFH1JGfWqnnskDd3nO+Wjuxlxr912Xz/2vOjVM9892h7vngZ3UkwWMQ2v/79i3VY8Pf6qq5RsRGzVWjwzOre/pGqN+uu2wUe1Gd/2u6Gl3vDoU8vdXI1QNV14WH4vdD7F61qkcOFVJzmJp5zv4cTNd3qJW986vM7b9WP7g8x6hN7VTFAT+Zj/OGij6zV0X+af4vPK/e2OPy2mr3tazDRPW/c9fNFcLYtw0y1FZ1VhzVXll/GK/xJ8/mV+Vn/KZO23eB9j8jBlVTTctl0J7/uy6vn4hSJ356RT2f4y31of11kGN0ZBEV2vJzl9dWqf/2vKHCtbdIhsbd1LPvuezz2Ej124RHVfbmCbeLjT6mjh7eoNZrx30W5FF5puzR9piL67+q9cMeVjleneWyr7XX/XvtOK1/l7Zfy6saK86Y623kdepRXJWZuDPh8489qQ7OrKHu77Ui8bHhDX9fM4/nBB/8t0pNf/p2z885zkW1b1Jh7XbynvpBnTDXGrw4LrVncPqHhqpi5rfVkGPWddfVxY0vqVohVVTNiNPacaEdY8emq65dV8Xtx9jTE1W/+3OrKgsPx+2D2ItfqxHV71ChPVepw7Li+k61sutwNe2Y9o69vkHNqVBBtfs1Kv44E+b5MGOix05ERERERORegII2x9SGAbkVCjdVjX48qRJcdW6c6lUkg8rU7Tu134/vkvFf1Cqrgi0nq0VX5E60L5M7B6l2n/6kfre+oF5fo2a3zKoytJ2vfk30f4zHF1JrjLH9tYXq0xzPuflSp4ndpRY+1sP2pd/4olcptJsaEmn/QmuJVicWVlWhlQaqqaddvp6b+ytDteaq2YpTLl/gdqkl7TO7DzBcnqkGlsyg7qw3TE07Zf+f19S5FeGqOCqqKstOJLw/3UH1Q49sCtmrqEIf/2h8mYxzVZ1aWFlld/vF+LDaPLiQCinaW4065fIcrn2rJjyVUSHLq6rP4WvmSmH+r0Rfjv9TV9Y1UqVRXBX8YHXC19wMHKFILzXKdV95I3qF+vKlbCpThyXqt8RPXj/WehcNcbNPtS/i+/uo1pkKqDL/O5Lw+BTa/v74wTvUfZ9sVefNVcIK2oQ0nK5+dBcIub5CTat/p8rUfr7amuD6G+pixNMqj9ugzd9q77RHVaZMb7k/nqx95O51iv1DrX03vwrt6OH5x25TS17Lqe7p94OP77UUvGYBDdrkUdlqNFElS5Z0O5UvX0I1fjyTdjt3QRuLp+NSY56LMn+0QZ0zV+n+W6NmPnuH+9fZev6lB6uv9HOPJUodmlFChYS8pP2fy+Y6EauubWulclSY6n5/nBqiHmu7kkEbIiIiIiLySoC6R2VCtpxZkeXQYURedOmicndxFCuYAVd/3IlfYuT7lr/24nL5x1ArTMbxzYisZfti6ltPoFRGWb6O86sH48NZhVCu0eMonWio3/tQqurDuG/VAszYfhG4cQmXs67A0mW78bfrQwp5AGWaXUfcXUQvw+yPv8Pm1s+gSd6M5kq7UOSp3ACtN4/De7N24YK51i72bHHUqZQ7/j5FSGZkznYbcPIgdp+8bq40ZcyOHPfdhmsHTuFMgr41d+Dugg+hIPZg17bDbv+X7kIGFK/2MAqZi4bbEJo5THulTmDfkbO2LjsKN/aMwKB+RxHWsiHa3Hu7ud4Uchdy338XMj1RBqWyenO4hOD2bLmQN2Qf/j5xCdfMtbqQPChQJDtwYDPW7De6kXgvBidXfISB3zyK8FZPuHmNNdqxVrSAmyG21X78NHkKZoY2wUtP5k3cJzBzFVRpnAmnPo/AsujEx+htRe9Hcf04c5GxKp5pXgy3T/0EPdec0fZk8tTxqRg9eCdu6/sCOuRzczxZ+yiRWMRsH4qPh96FknUfRSl3zz+kFB5rUBQxg8fiox1R5kpvpNZr5qu8ePTdydi9e7fbaevWTRj6Sj7ztr5SuH74F6w7cC+y3Zcd2cy1ugz5ka9oJqgf1iPihMv568Ye7N7wj/bQ7kX+TPadHopc+fPiPvULVm07rb06FoV/Yy4hz7YVmLHzn8THRO7KaJ3wTEBERERERORRgII2uVCqyw78eehHrGtUwP2dnruEKI/1W7yRDw88kBth5lJCx/H7mm3Yi0IoUfAuN1+JbkeWAsVQBvuwZc8pxIZVwdNtc+P8Oy1Qpu0HeGP6Mny99QAO6DVRsqJwzzF4/S55FrGI3jEL09bkwr3lH8KDnr5r5a6Ix2qe9filHwULoHAWH3b1HQ3QaelfOLR1GPq4+2KPy7h2KSbhl+sE8qDwfZnN+eRE4+S2n/GDKoXiDxdEonBBxifQbPoZxHz3FlrmcAnouBWCO8pMxKJTf+Ho+AbugyvQjoVo95VePFI7sfabrTiQvSwqF8lirvTSpZ+x9tsLQInCKJndTVAHuZG/SG7g9x3YeNTzXk0sDPeVLIuH8Ss2bzrkOYgW5wqOrf4/zPqzpPt9naQT2Pnt91ilSuLxYjk9fO2/E7mLl0NltQoLl+3GeXNt8lLpNQsqRjDFl1CW7oa2TZQv560MCC3xHJpXW4yvXngRFXqPwweL1mLFHydxRupCZaiOzp8/rb1DiYiIiIiIkhegoI0mJBtyPxiG2Mil+G5aF3zY+ik81eUjfDx5Fnb948NILB7diayhd7r/shr7Jw5uvqjNXMKh1YvxwQcfJJo+mpMblQf0w3tV8yAkpDAq9/gG/xsShkILPsTEdg3QsmJRFL3rYRToZi9aHIOzf/2Jw/q8Fw4fxO4zyRXD9U5IaD48mPUSjv8yCV8NfRltajZDw76jMOu7HV4EB3xxCgd3HsblpPavz25H6D2FkOvGbmxb/AFG96+HmvW6odWQz7Fyp7xOfog+iIN/XAcyhSFbJt8O29gTO/DLfu0VvXEIS77+0s3xMQrfnGyJASPb4Hm3QTJPQnB7WFZk0fbelXV78Guyh/kFHD940r99rY7hyB/ehhwuI/qPI/jLl1hDarxmQSUDwkrUQr0ipxF16kLC4I36G38fvYaQp6si3DWbLuwxVK6THThxGpFX7Tv0Gv45fQanQh5HrfL3JjiRhuRoibemD8eoiluxf3hXfNi4BuqUyot7ijdGzXFrkyl6TUREREREFC9gQRt16Qcs6V8Gedr+gvWl+uCtL3/Ej+Pex3sdW6Ls3YGLDbkVEoawHJJBcS/K1Wvq5ku5NXXG6yXNTJysT6Bun6346a/N2L50JKYNeQm9W13EnWPbod2rozH9b8kq+A9Xr1zRvgJ76fIlRAXkC9kNXPpjKD6sXxxVFt6NTC2n4IvV87B48NtoWa+cjxkaybkToVnuNOcDRJ3A3vlN0ChPL/S/WBe1+i3F6u/G4Kt3X8Ezj9xl3shH/17CpfM+RSHihIRmQ05Jzsn+MFq2aevmuDCnHvVRI6u7TJzkheQIQ9ZkozDXEHPZl0weGxWN6PPej8Kmzkfjki+7KzVes2CT4yV0eP9R/DdmKeacs/ZlLK7+9gW+XPoS3vioCWq4doMLKYonO3ZA64PzMWO9rQtczI/4dupxlJrYCwOKuWa1ZUSWIm+h+zd/4fDeZVgxpx8+e6822t2zAmu6tkLdQWtwwL9DmYiIiIiI0pnARFNiIvDV643RcH5DDPh6AAZVzo+7ApOy4Z2QAihUUqpUnEHk2SSGtLZEL0GvUb/hCm5HplwVUa5+D7zW52sMnXkIW7Z2RqtfP8bARfsRg6zIX7oMSuMqrl3RJnPzRP69hMvRsUDpcqhcMKUBEO1L5J530fXZfhhWZCZWDmmO5/NnDlAGjDvZke+hPMiCf3DiTJStNoe/zmDfjGfxXLNTOPf1VCxr/ThKhwbgMMtWDuWqafv2ajSirvr2KENylUTJQtoeTJQtkVIK/0Zrr72298JKFsIDyb5I9+GhR+7Xbn0Nl2KuJa53kpQMxVCimoTrtOcf46mbUvzjyVytBB72eren0msWdBRuXCyKlsPDsLdZV7SbOAMzRryARhPK4bldozH24bvdv89uZEBU/9fx4qKXUG+Yts34TujUeDUO9tqEHzuUxT0JNopFzNaP0P/XK9qBlw05i9VD+IsD0e2j5Zj6025sH58T2QZPx+h92vVERERERETJCMA3s39x6ZfPMOTr25GjY3N0cC1k6+riBNSqtRInzcXAyItHnq2LWiF/YtcfJxBjrnWlTs/GwNWntS9hkYiZsBW7En33D0X28n3RtUdOHD94Cv9oX+GkS0X9ov/gwi97sdfTt+wLe7Hnd4XQuo/hCb1QckocweavvsCXf9ZF07bVUDTJu4tFVEQT1Fp51lz2R2YUqPkiWj30Jw7+/AcOeniO6vg3+GynF91zohbj6+E7cKBKC/R6xk3R3wQOYWWttzDhohdBmJBiKPf0/chyYRc2HvCxIG7mWmjwSiGE7P4dG49GmytdXcXfK0fj64SVn5MRjVN/aI8npBYa1y+FHOZaz8KQp/wTeDpkN/b+etTHbm73oFiVciiOvdj8x98egmvXceHoQezBw3isUmHvM7JS6zULNrE7sHpGDbzcph/GrJ6Aaa+/ild7zsPySZ3wepFsHgKjl/Dnqm3I2/RldBy/Ct/31rbpPAmTlo/Cp/UfQu5EG8XixvlNmLPtuK3Yt+n2B1GubR+0u/t7/HHU01mKiIiIiIgoXgCCNtdwITISkciEOzNrk7nWok78jHXbU7uAaQaEPvo+Pno/Fsf+LwLfRrnrRvI3fp/5LWIKZNWXQo9G4Ov97n7tzojbM2ZC/lL5kVsWc7RGt6FPosj/fYsZbn8dP499i77A5Dzv4P1uVV1GbPKDOoUTByUoEYZsoa4BsBic2rUZW8ylQAnJ1x5v9imHB6fMxmcenuPeeT/gau5Qc9kzdeEQDp5QQJbMyHa7yzdatR+/rT9hLvgqB4q2eB8Dqm/AyiXbcMRca6dO/oKtR9y99nlQ9pX38fHjC7Fg0e845S4wFbMKs0fnxgN3Jw46/rf/MPa6K6IdvRwLph5A7r5d8X65BOMReRCCjCV6ot+ggoie9Z2ti46NOoh9W8+YC3Z3IMdTgzC883kcmLsGa909nhtrsXTadlzt+i4+q+EyWlkSUu81Cz63/XMQf1zwvpuZ7vbz2HMsyvvMqJDrOLpwHX529xrdfifuyBCOcg8a5yHdjX3Y9kVndPxyKw6kqFg7ERERERE5jX9Bm8tXECUjoegyo0D463j7ibM49e0PWHbJ9oXoxk58PzwfXhxdGQ+dOoLdJ2Nw4/hx3P1GMdxr3sR7yXQpkeLC/b5FRIXP8Obg77DB/jjUORxZ9D5Glh6G9x4yx59S6zHvs0VYbr+dRkWtxLdftUS/ug/C+PqeFXkbfY0FX5zA0ne/wv9O2ztJXcbfm/qiz+Bw9J7bF73zZzLXp0BIOTzVqQ5qhvziMiS5wr+RX2FoVE+Mb5fNDCTE4Pj/t3f3UVmWdwDHf0+uF4vDWZhntbm1xTzOp3nqQE0P25RMA3WAiI3aCCE3DB+NF9EwnaBmGMGC5E1AspFWronz5ZCSU6eZwGTzpWloAYbvYAoKDuj57QYe9YEg8MQfz6Hv55wb/uB67pv7un73fc71g+t3Hblbxpu/ac2RwTIsOE9yl5bJG6FJ8tr1QsytGuVCaZpkDo2XiF4U6TX9KFhmzPqBmIoKO215XC8nt7wn5wNmSNigw1JReU6amyvk+Hc9ZbRz78LQ5Py0RKx5VSLz4+W5bZ/LjYVwRt9cKJDclN1yy70DjEtVStnxix2Ws5lcQmTee8slNDVGQgrK5bxdIGljsWx8rkxuzZ4qHp1v0TRVfjdtoBSs3C8nrse8wYjt7Ytj5BW3fHnnhTEytLcZErlfHo3ZIEWT35KlydvlsP0kveUzKctIko+0NUZrpeKTE3LG/prfeUR+k7BG8l2WS0RmcccJfvNRKU1fIEu+nycFyybIiK62KO9Gn4xZh3fCTbq2vLDHZWM3agJZ626yZk8r0xBx9Vst8THJEp250q6e0Qp5beNu2Xq0Rr66UdQdMvind0vJ/EXyTOobdp+JlyVr35e/lhyXE13UsdL9b8vC/EN2z2+rZqkrK5DV08Ik3PVaetsqDSWxEhKaIdkhcyWmuD8UfQYAAADQZ7Q3Lq/TlHHD1X/kHa1TEOO4T509p6g5fIPut7Y2sGrT6b/r+mQ/9XP/owalrNKsl4KN71t1rzGT06aDuid1gvqY/dUrdbcebmr7UA8ua9XfJqrPpCHq7tQ2j1Nxctchk3zsrtsF62k9vjlS50z8hXrOfkEtFl/1mrxME/59Xq/amuiVtbokYItW1OzWrYmB6rc0XV9JWqhpcVP1yZc26vs1TbaG9hr0i48zdOXzv1aPsHk6Y4a/hnn4qG/6Nt1R26n91/ZXrZYkj9QpTwxW17afiZrcJupw97maUPk/2wnq9WxJoq6I+qW6hy7TqIxEfTkoUqM2l+s5q1Wbq/+iGZZH1OwzRy27qrVJq7/mnI165aMw9R3/gI75icmuHwN07PoK/dJ2xTbG71b9YZwuDnxI3ULmtt2jt/cijSs5rY22Jtrdtcal6brLtkFpOmrMWWe2jcFji7M0+/WZGhSUrhnll4xIqdOTuyI0wmuEus3K0fzqG2fuLWtDqe5I91fPyfFG36RpSmyQ/uHNUj19tUhzRrq0x4jZrD8PWq2FVzoFSt0e3Zo+2YjTaeprsWj0dG/1jluvhV2MubV6lT6/6oCeNfq86UyBvrUgSKcnZWtO4m+NmIrTF3dU6sUOp/+ym74O1en7Ltra2FhrtGrbHJ3t2fqc5Gle0nQNjH9bN5z5Qo9mDWuPF+MezKPCNerAJduHbJor9cimSI32mKReUdEaHeWlHh4xGrnpv/p5c2+erS7c7Jj1+E7oSfvz7e5uf45r/WWM39gV1+PJWpmg4UZf2Mfc9euZn7L1bS/i0hifhoMWDbw2Nl85nPT2J2J1zl77eDc0bNEc/7u6aG87XP30sZxiLW97rxkx8E+LBhRWaG15piYFTdVnk3I1KyNKl/rN0rCCQ1rVaYystWs1LXCQDpySpu/WGu9LAAAAALAxtX4xJh4A0I/Vy6l/hIv3n0fJvKxn5fdD7rRbPqbSUveZVFd9KCXrXpYFyx6WMQdyJHeEk7SczJaECXvkRHqCJP2qU4H1lvNytvKgHNuXJqmRhVISVywHZz8k/WSvLQAAAAAOgKQNgH5Pq+bL0w9UyqCPcyX9Z5236Laj/5L10zwleGiRnF0osinAS2K998mRMLN0X9GpUU69O1p+uGSKvFkaK0HfuBg5AAAAALTrg0LEAOD4TFondY29yFFbB4izy13SVt5oQIvUNzR1s1tXR7fc5yL39LB5HgAAAADcDJI2APo90/0vSnLhnVKyNFdyj13qUKS6XesSqb2yc7lF5t+bJ2uCH5TbTKMkIOVVmZmZKOHbP5VzXRVabjkln35gkVmLxsufXn9KvG7jv2wAAAAA9B2WRwH4lmiRq+d2yp5NBbJ5Y42cchstw2+vlx/fekyKi67Ihcd9xWvc4/Lkw98TZ7vci14tl0M735EPtpTJLn1UXB+8R4bJJ3LxP0dkh9MEGTV+rDwzxiyuA8mBAwAAAOhbJG0AAAAAAAAcEH8aBgAAAAAAcEAkbQAAAAAAABwQSRsAAAAAAAAHRNIGAAAAAADAAZG0AQAAAAAAcEAkbQAAAAAAABwQSRsAAAAAAAAHRNIGAAAAAADAAZG0AQAAAAAAcEAkbQAAAAAAABwQSRsAAAAAAAAHRNIGAAAAAADAAZG0AQAAAAAAcDgi/wcv2E+o3j8igAAAAABJRU5ErkJggg==)"
      ],
      "metadata": {
        "id": "7l_AVYz87yLV"
      }
    },
    {
      "cell_type": "code",
      "source": [
        "plt.errorbar(m, HSignalBkg_normalized, yerr=error_normalized, fmt='none', ecolor='k', capsize=5)\n",
        "\n",
        "model_null_vals = HipotesisNula(alpha, m)\n",
        "model_null_vals_normalized = model_null_vals / np.sum(model_null_vals)\n",
        "plt.plot(m, model_null_vals_normalized, 'b--', label='b best-fit')\n",
        "\n",
        "model_alt_vals = HipotesisAlternativa(result_alt.x, m)\n",
        "model_alt_vals_normalized = model_alt_vals / np.sum(model_alt_vals)\n",
        "plt.plot(m, model_alt_vals_normalized, 'r-', label='s+b best-fit')"
      ],
      "metadata": {
        "colab": {
          "base_uri": "https://localhost:8080/",
          "height": 447
        },
        "id": "8GJClaukOp5K",
        "outputId": "2a233711-4b34-4c2d-ebb8-e0890901f0a5"
      },
      "execution_count": 252,
      "outputs": [
        {
          "output_type": "execute_result",
          "data": {
            "text/plain": [
              "[<matplotlib.lines.Line2D at 0x7a3bebb35840>]"
            ]
          },
          "metadata": {},
          "execution_count": 252
        },
        {
          "output_type": "display_data",
          "data": {
            "text/plain": [
              "<Figure size 640x480 with 1 Axes>"
            ],
            "image/png": "[encoded data removed]"
          },
          "metadata": {}
        }
      ]
    },
    {
      "cell_type": "markdown",
      "source": [
        "###(k)\n",
        "¿Cuál es el valor de las constantes físicas? $A,\\mu,\\sigma,\\alpha$"
      ],
      "metadata": {
        "id": "BI6WywMDSmCL"
      }
    },
    {
      "cell_type": "code",
      "source": [
        "A = result_alt.x[0]\n",
        "mu = result_alt.x[1]\n",
        "sigma = result_alt.x[2]\n",
        "alpha_alt = result_alt.x[3]\n",
        "print(f\"A: {A}\")\n",
        "print(f\"mu: {mu}\")\n",
        "print(f\"sigma: {sigma}\")\n",
        "print(f\"alpha: {alpha_alt}\")"
      ],
      "metadata": {
        "colab": {
          "base_uri": "https://localhost:8080/"
        },
        "id": "_xdwaJyESV77",
        "outputId": "c027204f-3261-4a02-dfc5-822ea13fad7d"
      },
      "execution_count": 253,
      "outputs": [
        {
          "output_type": "stream",
          "name": "stdout",
          "text": [
            "A: 0.14211045948101114\n",
            "mu: 125.19835689840639\n",
            "sigma: 2.775367107381082\n",
            "alpha: 16.363303381892813\n"
          ]
        }
      ]
    },
    {
      "cell_type": "markdown",
      "source": [
        "###(l)\n",
        "Estime el número de desviaciones estándar entre la observación y la hipótesis nula:\n",
        "\\begin{equation}\n",
        "    n\\sigma\\approx\\sqrt{-2\\ln\\left(\\frac{\\mathcal{L}(A,\\mu,\\sigma,\\alpha,x)}{\\mathcal{L}(\\alpha,x)}\\right)}\n",
        "\\end{equation}\n",
        "¡Si este valor es mayor a 5 se puede proclamar un descubrimiento! La formula es una aproximación descrita en [Upper limits in HEP](https://arxiv.org/html/2411.00706v1#S4)"
      ],
      "metadata": {
        "id": "VtYNS79cS8gQ"
      }
    },
    {
      "cell_type": "code",
      "source": [
        "log_likelihood_null = -funcion_minimizar(alpha, m)\n",
        "log_likelihood_alt = -funcion_minimizar_alternativa(result_alt.x, m)\n",
        "n_sigma = np.sqrt(-2 * (log_likelihood_alt - log_likelihood_null)) # Se cambio la ecuacion aprovechando las propiedades del logaritmo =)\n",
        "print(f\"Desviaciones estándar (nσ): {n_sigma:.2f}\")"
      ],
      "metadata": {
        "colab": {
          "base_uri": "https://localhost:8080/"
        },
        "id": "68p69nzBS8AD",
        "outputId": "0d11f881-e146-4e33-e77d-83c6d8492883"
      },
      "execution_count": 261,
      "outputs": [
        {
          "output_type": "stream",
          "name": "stdout",
          "text": [
            "Desviaciones estándar (nσ): 2.04\n"
          ]
        }
      ]
    },
    {
      "cell_type": "markdown",
      "source": [
        "###(m)\n",
        "Con el valor de $\\sigma$, encuentre el tiempo de vida de la partícula:\n",
        "\\begin{equation}\n",
        "    \\tau=\\frac{\\hbar}{\\sigma}\n",
        "\\end{equation}\n",
        "donde $\\hbar=1.015\\times10^{-23}J\\cdot s$. Debe convertir la unidad $GeV$ a $J$"
      ],
      "metadata": {
        "id": "B8_EpT6FW5ZJ"
      }
    },
    {
      "cell_type": "code",
      "source": [
        "h_barra = 1.015e-23\n",
        "gev_to_j  = 1.60218e-10\n",
        "lifetime = h_barra / (sigma * gev_to_j)\n",
        "print(f\"Tiempo de vida medio: {lifetime:.2e} s\")"
      ],
      "metadata": {
        "colab": {
          "base_uri": "https://localhost:8080/"
        },
        "id": "Xi5aFpU9X1Ca",
        "outputId": "40bff93c-a820-4d91-8063-f297f3f79572"
      },
      "execution_count": 262,
      "outputs": [
        {
          "output_type": "stream",
          "name": "stdout",
          "text": [
            "Tiempo de vida medio: 2.28e-14 s\n"
          ]
        }
      ]
    },
    {
      "cell_type": "code",
      "source": [
        "!pip install emcee\n",
        "!pip install corner"
      ],
      "metadata": {
        "colab": {
          "base_uri": "https://localhost:8080/"
        },
        "id": "0coia7J-YfoN",
        "outputId": "49bd7402-03ae-46f6-9edd-17ab653b715f"
      },
      "execution_count": 263,
      "outputs": [
        {
          "output_type": "stream",
          "name": "stdout",
          "text": [
            "Collecting emcee\n",
            "  Downloading emcee-3.1.6-py2.py3-none-any.whl.metadata (3.0 kB)\n",
            "Requirement already satisfied: numpy in /usr/local/lib/python3.10/dist-packages (from emcee) (1.26.4)\n",
            "Downloading emcee-3.1.6-py2.py3-none-any.whl (47 kB)\n",
            "\u001b[?25l   \u001b[90m━━━━━━━━━━━━━━━━━━━━━━━━━━━━━━━━━━━━━━━━\u001b[0m \u001b[32m0.0/47.4 kB\u001b[0m \u001b[31m?\u001b[0m eta \u001b[36m-:--:--\u001b[0m\r\u001b[2K   \u001b[90m━━━━━━━━━━━━━━━━━━━━━━━━━━━━━━━━━━━━━━━━\u001b[0m \u001b[32m47.4/47.4 kB\u001b[0m \u001b[31m3.6 MB/s\u001b[0m eta \u001b[36m0:00:00\u001b[0m\n",
            "\u001b[?25hInstalling collected packages: emcee\n",
            "Successfully installed emcee-3.1.6\n",
            "Collecting corner\n",
            "  Downloading corner-2.2.3-py3-none-any.whl.metadata (2.2 kB)\n",
            "Requirement already satisfied: matplotlib>=2.1 in /usr/local/lib/python3.10/dist-packages (from corner) (3.8.0)\n",
            "Requirement already satisfied: contourpy>=1.0.1 in /usr/local/lib/python3.10/dist-packages (from matplotlib>=2.1->corner) (1.3.1)\n",
            "Requirement already satisfied: cycler>=0.10 in /usr/local/lib/python3.10/dist-packages (from matplotlib>=2.1->corner) (0.12.1)\n",
            "Requirement already satisfied: fonttools>=4.22.0 in /usr/local/lib/python3.10/dist-packages (from matplotlib>=2.1->corner) (4.55.0)\n",
            "Requirement already satisfied: kiwisolver>=1.0.1 in /usr/local/lib/python3.10/dist-packages (from matplotlib>=2.1->corner) (1.4.7)\n",
            "Requirement already satisfied: numpy<2,>=1.21 in /usr/local/lib/python3.10/dist-packages (from matplotlib>=2.1->corner) (1.26.4)\n",
            "Requirement already satisfied: packaging>=20.0 in /usr/local/lib/python3.10/dist-packages (from matplotlib>=2.1->corner) (24.2)\n",
            "Requirement already satisfied: pillow>=6.2.0 in /usr/local/lib/python3.10/dist-packages (from matplotlib>=2.1->corner) (11.0.0)\n",
            "Requirement already satisfied: pyparsing>=2.3.1 in /usr/local/lib/python3.10/dist-packages (from matplotlib>=2.1->corner) (3.2.0)\n",
            "Requirement already satisfied: python-dateutil>=2.7 in /usr/local/lib/python3.10/dist-packages (from matplotlib>=2.1->corner) (2.8.2)\n",
            "Requirement already satisfied: six>=1.5 in /usr/local/lib/python3.10/dist-packages (from python-dateutil>=2.7->matplotlib>=2.1->corner) (1.16.0)\n",
            "Downloading corner-2.2.3-py3-none-any.whl (15 kB)\n",
            "Installing collected packages: corner\n",
            "Successfully installed corner-2.2.3\n"
          ]
        }
      ]
    },
    {
      "cell_type": "code",
      "source": [
        "import emcee"
      ],
      "metadata": {
        "id": "7p15pUuzY4dh"
      },
      "execution_count": 264,
      "outputs": []
    },
    {
      "cell_type": "code",
      "source": [
        "def LogPrior(p):\n",
        "    A, mu, sigma, alpha = p\n",
        "    if 0. < A < 1. and 100. <= mu <= 300. and 0.1 <= sigma <= 20. and 1 <= alpha <= 50:\n",
        "        return 0.\n",
        "    else:\n",
        "        return -np.inf"
      ],
      "metadata": {
        "id": "V4HqosIWY9mU"
      },
      "execution_count": 265,
      "outputs": []
    },
    {
      "cell_type": "code",
      "source": [
        "# Paquete\n",
        "n_walkers, n_params = 10,4\n",
        "p0 = np.zeros((n_walkers, n_params))\n",
        "p0[:,0] = 2\n",
        "p0[:,1] = 2\n",
        "p0 += np.random.rand(n_walkers, n_params)"
      ],
      "metadata": {
        "id": "x2UxTxjFZB6a"
      },
      "execution_count": 272,
      "outputs": []
    },
    {
      "cell_type": "code",
      "source": [
        "def LogPosterior(p,x):\n",
        "\n",
        "  LogP = LogPrior(p)\n",
        "  if not np.isfinite(LogP):\n",
        "    return -np.inf\n",
        "  else:\n",
        "    return LogP + funcion_minimizar_alternativa(p,x)"
      ],
      "metadata": {
        "id": "5wRLywjmZX5g"
      },
      "execution_count": 273,
      "outputs": []
    },
    {
      "cell_type": "code",
      "source": [
        "sampler = emcee.EnsembleSampler(n_walkers, n_params, LogPosterior, args=(x_data,))\n",
        "pos,prob,state = sampler.run_mcmc(p0,10000,progress=True)"
      ],
      "metadata": {
        "colab": {
          "base_uri": "https://localhost:8080/"
        },
        "id": "pWefV0qNZMOw",
        "outputId": "b33a7683-eaca-403c-e075-2a336bf928b9"
      },
      "execution_count": 274,
      "outputs": [
        {
          "output_type": "stream",
          "name": "stderr",
          "text": [
            "  0%|          | 0/10000 [00:00<?, ?it/s]/usr/local/lib/python3.10/dist-packages/emcee/moves/red_blue.py:99: RuntimeWarning: invalid value encountered in scalar subtract\n",
            "  lnpdiff = f + nlp - state.log_prob[j]\n",
            "100%|██████████| 10000/10000 [00:06<00:00, 1629.53it/s]\n"
          ]
        }
      ]
    },
    {
      "cell_type": "code",
      "source": [
        "fig, axes = plt.subplots(2, figsize=(10,5), sharex=True)\n",
        "\n",
        "samples = sampler.get_chain()\n",
        "labels = [\"A\", \"mu\", \"sigma\", \"alpha\"]\n",
        "for i in range(2):\n",
        "    ax = axes[i]\n",
        "    ax.plot(samples[:, :, i], \"k\", alpha=0.3)"
      ],
      "metadata": {
        "colab": {
          "base_uri": "https://localhost:8080/",
          "height": 445
        },
        "id": "yuzg2kJxZw4-",
        "outputId": "91662c63-7d23-44a8-98ff-afd45355beec"
      },
      "execution_count": 278,
      "outputs": [
        {
          "output_type": "display_data",
          "data": {
            "text/plain": [
              "<Figure size 1000x500 with 2 Axes>"
            ],
            "image/png": "[encoded data removed]"
          },
          "metadata": {}
        }
      ]
    },
    {
      "cell_type": "markdown",
      "source": [
        "#Ejercicios: Hypothesis testing"
      ],
      "metadata": {
        "id": "xlwdm5Tz1BjR"
      }
    },
    {
      "cell_type": "markdown",
      "source": [
        "##Problema 4: Tiempo de escape de un fotón del sol\n",
        "Un fotón $(\\gamma )$ se crea por procesos de fusión en el centro del sol. Vamos a estimar el tiempo medio que tarda en escapar, usando un modelo de caminata aleatoria en **3D**. Considere el camino libre medio del fotón $\\ell=0.1$ y el radio del sol $R_s=1$ (en algún sistema de unidades). Genere una caminata aleatoria en coordenadas esféricas para estimar el número promedio de pasos que le toma al fotón escapar del sol. Reucerde lo siguiente:\n",
        "\n",
        "\\begin{equation}\n",
        "    x_{i+1}=x_i+\\ell sin\\theta cos\\phi\\\\\n",
        "    y_{i+1}=y_i+\\ell sin\\theta cos\\phi\\\\\n",
        "    z_{i+1}=z_i+\\ell cos\\theta\n",
        "\\end{equation}\n",
        "\n",
        "el dominio de las variables angulares son $\\theta\\in[0,\\pi]$ y $\\phi\\in[0,2\\pi]$."
      ],
      "metadata": {
        "id": "wfWyIdYXARDZ"
      }
    },
    {
      "cell_type": "markdown",
      "source": [
        "###(a)\n",
        "Genere $N=1000$ fotones aleatorios y retorne cuántos pasos le toma salir al fotón desde el centro del sol (i.e, $\\sqrt{x^2+y^2+z^2}>r$ termina el ciclo)."
      ],
      "metadata": {
        "id": "n-qY5Ds6Gh6l"
      }
    },
    {
      "cell_type": "code",
      "source": [
        "def caminata_foton (N, R, l):\n",
        "    X = np.zeros(N, dtype=object)\n",
        "    Y = np.zeros(N, dtype=object)\n",
        "    Z = np.zeros(N, dtype=object)\n",
        "    Pasos = np.zeros(N, dtype=int)\n",
        "    for i in range(N):\n",
        "        x,y,z = 0.,0.,0.\n",
        "        _x = np.array([x])\n",
        "        _y = np.array([y])\n",
        "        _z = np.array([z])\n",
        "        pasos = 0\n",
        "        while np.sqrt(x**2+y**2+z**2)<R:\n",
        "            theta = np.random.uniform(0,np.pi)\n",
        "            phi = np.random.uniform(0,2*np.pi)\n",
        "            x += l*np.sin(theta)*np.cos(phi)\n",
        "            y += l*np.sin(theta)*np.sin(phi)\n",
        "            z += l*np.cos(theta)\n",
        "            _x = np.append(_x,x)\n",
        "            _y = np.append(_y,y)\n",
        "            _z = np.append(_z,z)\n",
        "            pasos += 1\n",
        "        Pasos[i] = pasos\n",
        "        X[i] = _x\n",
        "        Y[i] = _y\n",
        "        Z[i] = _z\n",
        "    return X,Y,Z,Pasos"
      ],
      "metadata": {
        "id": "QFwUdrmSjRKO"
      },
      "execution_count": null,
      "outputs": []
    },
    {
      "cell_type": "code",
      "execution_count": null,
      "metadata": {
        "collapsed": true,
        "id": "z1pWlzIJ08-k"
      },
      "outputs": [],
      "source": [
        "N=1000\n",
        "R=1\n",
        "l=0.1\n",
        "X,Y,Z,Pasos = caminata_foton(N,R,l)"
      ]
    },
    {
      "cell_type": "code",
      "source": [
        "phi = np.linspace(0, np.pi, 50)\n",
        "theta = np.linspace(0, 2 * np.pi, 50)\n",
        "phi, theta = np.meshgrid(phi, theta)\n",
        "\n",
        "\n",
        "x_graf = np.sin(phi) * np.cos(theta)\n",
        "y_graf = np.sin(phi) * np.sin(theta)\n",
        "z_graf = np.cos(phi)\n",
        "\n",
        "\n",
        "fig = plt.figure(figsize=(8, 8))\n",
        "ax = fig.add_subplot(111, projection='3d')\n",
        "\n",
        "\n",
        "ax.plot_surface(x_graf, y_graf, z_graf, alpha=0.1, color='w', edgecolor='gray')\n",
        "\n",
        "trayectorias_a_graficar = random.sample(range(N), 5)\n",
        "colors = plt.cm.viridis(np.linspace(0, 1, 5))\n",
        "for idx, i in enumerate(trayectorias_a_graficar):\n",
        "    _x = X[i]\n",
        "    _y = Y[i]\n",
        "    _z =Z[i]\n",
        "    pasos = Pasos[i]\n",
        "    ax.plot(_x, _y, _z, color=colors[idx], label=f\"Pasos = {pasos}\")\n",
        "\n",
        "ax.set_xlim([-1, 1])\n",
        "ax.set_ylim([-1, 1])\n",
        "ax.set_zlim([-1, 1])\n",
        "ax.set_xlabel(\"X\")\n",
        "ax.set_ylabel(\"Y\")\n",
        "ax.set_zlabel(\"Z\")\n",
        "ax.legend()\n",
        "\n",
        "plt.title(\"Ejemplo de 5 electrones\")\n",
        "plt.show()\n"
      ],
      "metadata": {
        "id": "FdXXP7YKIg0B"
      },
      "execution_count": null,
      "outputs": []
    },
    {
      "cell_type": "markdown",
      "source": [
        "###(b)\n",
        "Elija una distribución de clases que tenga su valor mínimo y su máximo, en el mínimo y máximo de la distribución de pasos. Use $n = 20$ clases."
      ],
      "metadata": {
        "id": "Bh3_oFaYpPKk"
      }
    },
    {
      "cell_type": "code",
      "source": [
        "n_clases = 20\n",
        "bins = np.arange(np.min(Pasos),np.max(Pasos)+n_clases,n_clases)\n"
      ],
      "metadata": {
        "id": "x5UrHCiEvf47"
      },
      "execution_count": null,
      "outputs": []
    },
    {
      "cell_type": "markdown",
      "source": [
        "###(c)\n",
        "Construya la distribución de frecuencias y normalice correctamente a la unidad."
      ],
      "metadata": {
        "id": "3XQa3k9sqcfv"
      }
    },
    {
      "cell_type": "code",
      "source": [
        "plt.hist(Pasos, bins=bins, edgecolor='black', density=True)\n",
        "plt.title(\"Distribución de pasos\")\n",
        "plt.xlabel(\"Número de pasos\")\n",
        "plt.ylabel(\"Frecuencia Normalizada\")\n",
        "plt.show()"
      ],
      "metadata": {
        "id": "oCd44fhqyrLO"
      },
      "execution_count": null,
      "outputs": []
    },
    {
      "cell_type": "markdown",
      "source": [
        "###(d)\n",
        "Dibuje la distribución de frecuencias usando los métodos de clase."
      ],
      "metadata": {
        "id": "-aS9UzunqjxG"
      }
    },
    {
      "cell_type": "code",
      "source": [
        "a,c,d,e = exponweib.fit(Pasos)"
      ],
      "metadata": {
        "id": "dK1eSdsw2TUu"
      },
      "execution_count": null,
      "outputs": []
    },
    {
      "cell_type": "markdown",
      "source": [
        "###(e)\n",
        "Calcule el valor esperado del número de pasos que le toma al fotón escapar.\n",
        "\n",
        "\\begin{equation}\n",
        "    \\mathbb{E}=\\sum_{i=1}^n H_im_i\n",
        "\\end{equation}\n",
        "\n",
        "donde $H_i$ es el valor de la frecuencia relativa y $m_i$ es la marca de clase."
      ],
      "metadata": {
        "id": "_UE2L4-apz5r"
      }
    },
    {
      "cell_type": "code",
      "source": [
        "n_clases = 20\n",
        "hist, bins = np.histogram(Pasos, bins=n_clases, density=True)\n",
        "bins_centers = (bins[:-1] + bins[1:]) / 2\n",
        "\n",
        "valor_esperado = np.sum(hist * bins_centers * np.diff(bins))\n",
        "print(f\"Valor esperado: {valor_esperado:.2f}\")\n",
        "\n",
        "relacion_teorica = (R / l)**2\n",
        "print(f\"Relación teórica: {relacion_teorica:.2f}\")\n",
        "\n",
        "params = exponweib.fit(Pasos, floc=0, f0=1)\n",
        "k, c, loc, scale = params\n",
        "print(f\"Parámetros Weibull ajustados: k={k:.2f}, c={c:.2f}, scale={scale:.2f}\")\n",
        "\n",
        "x = np.linspace(min(Pasos), max(Pasos), 1000)\n",
        "weibull_pdf = exponweib.pdf(x, k, c, loc, scale)\n",
        "\n",
        "plt.figure(figsize=(10, 6))\n",
        "plt.hist(Pasos, bins=n_clases, density=True, alpha=0.75, label=\"Histograma de pasos\", color=\"blue\", edgecolor=\"black\")\n",
        "plt.plot(x, weibull_pdf, 'r--', label=\"Ajuste Weibull\", linewidth=2)\n",
        "plt.xlabel(\"Número de pasos\")\n",
        "plt.ylabel(\"Densidad de probabilidad\")\n",
        "plt.title(\"Distribución\")\n",
        "plt.legend()\n",
        "plt.grid()\n",
        "plt.show()\n",
        "\n",
        "Rs = 700000\n",
        "c = 300000\n",
        "l_real = 0.6 / 100000\n",
        "tiempo_escape = (Rs**2) / (l_real * c)\n",
        "tiempo_escape_anios = tiempo_escape / (3600 * 24 * 365)\n",
        "print(f\"Tiempo promedio: {tiempo_escape_anios:.2f} años\")"
      ],
      "metadata": {
        "id": "75gniFsNohK7"
      },
      "execution_count": null,
      "outputs": []
    }
  ]
}